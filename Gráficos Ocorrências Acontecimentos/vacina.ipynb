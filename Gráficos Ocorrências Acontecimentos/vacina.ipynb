{
 "cells": [
  {
   "cell_type": "code",
   "execution_count": null,
   "metadata": {},
   "outputs": [],
   "source": [
    "import csv ##para ler e escrever csvs"
   ]
  },
  {
   "cell_type": "markdown",
   "metadata": {},
   "source": [
    "## Funções"
   ]
  },
  {
   "cell_type": "code",
   "execution_count": null,
   "metadata": {},
   "outputs": [],
   "source": [
    "# função que retorna o numero de ocorrencia de palavras de cada grupo\n",
    "def agrupar(palavras, lista):\n",
    "    count = 0  \n",
    "    for palavra in palavras:\n",
    "        for item in lista:\n",
    "            if item[0] == palavra:\n",
    "                count += int(item[1])\n",
    "                break\n",
    "    return count"
   ]
  },
  {
   "cell_type": "code",
   "execution_count": null,
   "metadata": {},
   "outputs": [],
   "source": [
    "#função que retorna o nome do arquivo com base na semana e no tipo de arquivo\n",
    "def dinamic_filename(week, artype='word'):\n",
    "    week = str(week)\n",
    "    name = 'tweet_word'\n",
    "    if not artype == 'word':\n",
    "        name = artype\n",
    "    return 'D:\\\\01_databases\\\\CovidDataAnalytics\\\\Tweets\\\\Inweb\\\\Leitura-Pedro\\\\results_weekly\\\\week_' + week + '\\\\'+ name + '_count_' + week + '.csv'"
   ]
  },
  {
   "cell_type": "code",
   "execution_count": null,
   "metadata": {},
   "outputs": [],
   "source": [
    "#le o csv e retorna uma lista com os valores presente nele\n",
    "def csv_to_list(filename, delimiter=',', encoding='utf-8'):\n",
    "    with open(filename, 'r', encoding=encoding) as file:\n",
    "        reader = csv.reader(file, delimiter=delimiter)\n",
    "        data = list(reader)\n",
    "    del data[0]\n",
    "    return data"
   ]
  },
  {
   "cell_type": "code",
   "execution_count": null,
   "metadata": {},
   "outputs": [],
   "source": [
    "## Teste para dataframe\n"
   ]
  },
  {
   "cell_type": "code",
   "execution_count": null,
   "metadata": {},
   "outputs": [],
   "source": [
    "vacina_tt = [['vacina'],[]]\n",
    "vacina_rt = [['vacina'],[]]"
   ]
  },
  {
   "cell_type": "code",
   "execution_count": null,
   "metadata": {},
   "outputs": [],
   "source": [
    "#confere o numero de ocorrencia por semanas\n",
    "\n",
    "\n",
    "for i in range(1, 37): \n",
    "    #nome do arquivo de forma dinamica\n",
    "    file = dinamic_filename(i)\n",
    "    file_rt = dinamic_filename(i, artype='rt_tweet_word')\n",
    "\n",
    "\n",
    "    #cria a lista com a o numero de ocrrencia de cada palavra\n",
    "    lista = sorted(csv_to_list(file, delimiter = ';'))\n",
    "    lista_rt = sorted(csv_to_list(file_rt, delimiter = ';'))\n",
    "\n",
    "    #agrupa o numero de ocorrencia por semana\n",
    "    vacina_tt[1].append(agrupar(vacina_tt[0], lista))\n",
    "    vacina_rt[1].append(agrupar(vacina_rt[0], lista_rt))\n"
   ]
  },
  {
   "cell_type": "code",
   "execution_count": null,
   "metadata": {},
   "outputs": [],
   "source": [
    "#le o numero de tweets por semana \n",
    "n_tweets = csv_to_list('D:\\\\01_databases\\\\CovidDataAnalytics\\\\Tweets\\\\Inweb\\\\Leitura-Pedro\\\\results_weekly\\\\tweets_week.csv', delimiter=';')\n",
    "\n",
    "n_rtweets = csv_to_list('D:\\\\01_databases\\\\CovidDataAnalytics\\\\Tweets\\\\Inweb\\\\Leitura-Pedro\\\\results_weekly\\\\retweets_week.csv', delimiter=';')"
   ]
  },
  {
   "cell_type": "code",
   "execution_count": null,
   "metadata": {},
   "outputs": [],
   "source": [
    "#escreve o csv com a ocorrencia de palavras\n",
    "with open( 'ocorrencia_vacina.csv', 'w') as csv_file:\n",
    "    writer = csv.writer(csv_file, delimiter=';')\n",
    "    writer.writerow(['tweets', 'retweet', 'tweets_relativo', 'retweets_relativos'])\n",
    "    for i, week in enumerate(vacina_tt[1]):\n",
    "        vacina_tt_rel = int(vacina_tt[1][i]) / int(n_tweets[i][1])\n",
    "        vacina_rt_rel = int(vacina_rt[1][i]) / int(n_rtweets[i][1])\n",
    "\n",
    "\n",
    "        writer.writerow([vacina_tt[1][i], vacina_rt[1][i], vacina_tt_rel,vacina_rt_rel])"
   ]
  },
  {
   "cell_type": "markdown",
   "metadata": {},
   "source": [
    "# Plot"
   ]
  },
  {
   "cell_type": "code",
   "execution_count": 2,
   "metadata": {},
   "outputs": [],
   "source": [
    "import pandas as pd\n",
    "import numpy as np\n",
    "import plotly\n",
    "import plotly.graph_objs as go\n",
    "import plotly.offline as py\n",
    "import plotly.express as px"
   ]
  },
  {
   "cell_type": "code",
   "execution_count": 3,
   "metadata": {},
   "outputs": [],
   "source": [
    "vacina = pd.read_csv(\"ocorrencia_vacina.csv\",sep=';')\n",
    "vacina.index = [x+19 for x in vacina.index]\n",
    "vacina[\"label\"] = [str(x) for x in vacina.index if x<54]+[\"1\"]"
   ]
  },
  {
   "cell_type": "code",
   "execution_count": 6,
   "metadata": {},
   "outputs": [],
   "source": [
    "text = [\n",
    "    \"Bolsonaro livra agentes públicos de responsabilidade por erros durante epidemia\",\n",
    "    \"Covid-19 atinge dezenas de povos indígenas\",\n",
    "    \"Nelson Teich pede demissão do Ministério da Saúde\",\n",
    "    \"Sem base científica, governo amplia uso da cloroquina\",\n",
    "    \"Brasil ultrapassa Itália e é terceiro país com mais mortes por covid-19\",\n",
    "    \"Brasil amplia orientações de uso da cloroquina contra a covid-19\",\n",
    "    \"Casos de covid-19 passam de 1 milhão no Brasil\",\n",
    "    \"Vacina de Oxford contra covid-19 começa a ser testada no Brasil\",\n",
    "    \"Juiz manda Bolsonaro usar máscara em público\",\n",
    "    \"UE estende proibição à entrada de viajantes do Brasil\",\n",
    "    \"Bolsonaro diz estar com covid-19\",\n",
    "    \"Casos de covid-19 passam de 2 milhões no Brasil\",\n",
    "    \"Brasil: 100 mil mortos por covid-19\",\n",
    "    \"Mais uma empresa alemã pretende testar vacina contra covid-19 no Brasil\",\n",
    "    \"Brasil autoriza testes de mais uma vacina contra covid-19\",\n",
    "    \"Saldo do coronavírus após seis meses no Brasil\",\n",
    "    \"Índia passa Brasil e é segundo país com mais casos de covid-19\",\n",
    "    \"Pazuello é efetivado como ministro da Saúde\",\n",
    "    \"Brasil adere à iniciativa global por vacinas contra covid-19\",\n",
    "    \"Brasil ultrapassa marca de 5 milhões de casos de covid-19\",\n",
    "    \"Testes no Brasil mostram segurança de vacina chinesa, diz Butantan\",\n",
    "    \"Pandemia deve elevar tanto a fome quanto a obesidade entre brasileiros\",\n",
    "    \"Brasil incluirá vacina chinesa em calendário nacional de vacinação\",\n",
    "    \"Anvisa autoriza importar 6 milhões de doses de vacina chinesa\",\n",
    "]\n",
    "semanas = [20,20,20,21,23,25,25,26,26,27,28,29,32,33,34,35,37,38,38,41,43,43,43,43]\n",
    "dt = [\"14/05\",\"15/05\",\"15/05\",\"20/05\",\"04/06\",\"15/06\",\"19/06\",\"22/06\",\"22/06\",\"30/06\",\"07/07\",\"16/07\",\"08/08\",\"11/08\",\"18/08\",\"26/08\",\"07/09\",\"16,09\",\"19/09\",\"07/10\",\"19/10\",\"20/10\",\"20/10\",\"23/10\"]"
   ]
  },
  {
   "cell_type": "code",
   "execution_count": 7,
   "metadata": {},
   "outputs": [
    {
     "data": {
      "text/html": [
       "<div>\n",
       "<style scoped>\n",
       "    .dataframe tbody tr th:only-of-type {\n",
       "        vertical-align: middle;\n",
       "    }\n",
       "\n",
       "    .dataframe tbody tr th {\n",
       "        vertical-align: top;\n",
       "    }\n",
       "\n",
       "    .dataframe thead th {\n",
       "        text-align: right;\n",
       "    }\n",
       "</style>\n",
       "<table border=\"1\" class=\"dataframe\">\n",
       "  <thead>\n",
       "    <tr style=\"text-align: right;\">\n",
       "      <th></th>\n",
       "      <th>tweets</th>\n",
       "      <th>acontecimentos</th>\n",
       "      <th>retweet</th>\n",
       "      <th>tweets_relativo</th>\n",
       "      <th>retweets_relativos</th>\n",
       "      <th>label</th>\n",
       "    </tr>\n",
       "  </thead>\n",
       "  <tbody>\n",
       "    <tr>\n",
       "      <th>19</th>\n",
       "      <td>7414</td>\n",
       "      <td></td>\n",
       "      <td>26823</td>\n",
       "      <td>0.003038</td>\n",
       "      <td>0.006829</td>\n",
       "      <td>19</td>\n",
       "    </tr>\n",
       "    <tr>\n",
       "      <th>20</th>\n",
       "      <td>10572</td>\n",
       "      <td>Bolsonaro livra agentes públicos de responsabi...</td>\n",
       "      <td>24911</td>\n",
       "      <td>0.004170</td>\n",
       "      <td>0.005647</td>\n",
       "      <td>20</td>\n",
       "    </tr>\n",
       "    <tr>\n",
       "      <th>21</th>\n",
       "      <td>16919</td>\n",
       "      <td>Sem base científica, governo amplia uso da clo...</td>\n",
       "      <td>89574</td>\n",
       "      <td>0.006437</td>\n",
       "      <td>0.016461</td>\n",
       "      <td>21</td>\n",
       "    </tr>\n",
       "    <tr>\n",
       "      <th>22</th>\n",
       "      <td>36948</td>\n",
       "      <td></td>\n",
       "      <td>293442</td>\n",
       "      <td>0.014074</td>\n",
       "      <td>0.054381</td>\n",
       "      <td>22</td>\n",
       "    </tr>\n",
       "    <tr>\n",
       "      <th>23</th>\n",
       "      <td>13080</td>\n",
       "      <td>Brasil ultrapassa Itália e é terceiro país com...</td>\n",
       "      <td>20405</td>\n",
       "      <td>0.006581</td>\n",
       "      <td>0.006205</td>\n",
       "      <td>23</td>\n",
       "    </tr>\n",
       "    <tr>\n",
       "      <th>24</th>\n",
       "      <td>16868</td>\n",
       "      <td></td>\n",
       "      <td>82400</td>\n",
       "      <td>0.010539</td>\n",
       "      <td>0.025438</td>\n",
       "      <td>24</td>\n",
       "    </tr>\n",
       "    <tr>\n",
       "      <th>25</th>\n",
       "      <td>22599</td>\n",
       "      <td>Brasil amplia orientações de uso da cloroquina...</td>\n",
       "      <td>97005</td>\n",
       "      <td>0.013620</td>\n",
       "      <td>0.031237</td>\n",
       "      <td>25</td>\n",
       "    </tr>\n",
       "    <tr>\n",
       "      <th>26</th>\n",
       "      <td>16011</td>\n",
       "      <td>Vacina de Oxford contra covid-19 começa a ser ...</td>\n",
       "      <td>81648</td>\n",
       "      <td>0.010813</td>\n",
       "      <td>0.032336</td>\n",
       "      <td>26</td>\n",
       "    </tr>\n",
       "    <tr>\n",
       "      <th>27</th>\n",
       "      <td>16457</td>\n",
       "      <td>UE estende proibição à entrada de viajantes do...</td>\n",
       "      <td>89266</td>\n",
       "      <td>0.011427</td>\n",
       "      <td>0.038230</td>\n",
       "      <td>27</td>\n",
       "    </tr>\n",
       "    <tr>\n",
       "      <th>28</th>\n",
       "      <td>22766</td>\n",
       "      <td>Bolsonaro diz estar com covid-19</td>\n",
       "      <td>142479</td>\n",
       "      <td>0.018036</td>\n",
       "      <td>0.070852</td>\n",
       "      <td>28</td>\n",
       "    </tr>\n",
       "    <tr>\n",
       "      <th>29</th>\n",
       "      <td>15712</td>\n",
       "      <td>Casos de covid-19 passam de 2 milhões no Brasil</td>\n",
       "      <td>27772</td>\n",
       "      <td>0.009274</td>\n",
       "      <td>0.009318</td>\n",
       "      <td>29</td>\n",
       "    </tr>\n",
       "    <tr>\n",
       "      <th>30</th>\n",
       "      <td>27922</td>\n",
       "      <td></td>\n",
       "      <td>182944</td>\n",
       "      <td>0.022939</td>\n",
       "      <td>0.084942</td>\n",
       "      <td>30</td>\n",
       "    </tr>\n",
       "    <tr>\n",
       "      <th>31</th>\n",
       "      <td>45612</td>\n",
       "      <td></td>\n",
       "      <td>324006</td>\n",
       "      <td>0.033830</td>\n",
       "      <td>0.111266</td>\n",
       "      <td>31</td>\n",
       "    </tr>\n",
       "    <tr>\n",
       "      <th>32</th>\n",
       "      <td>31064</td>\n",
       "      <td>Brasil: 100 mil mortos por covid-19</td>\n",
       "      <td>161939</td>\n",
       "      <td>0.027913</td>\n",
       "      <td>0.076033</td>\n",
       "      <td>32</td>\n",
       "    </tr>\n",
       "    <tr>\n",
       "      <th>33</th>\n",
       "      <td>22715</td>\n",
       "      <td>Mais uma empresa alemã pretende testar vacina ...</td>\n",
       "      <td>98039</td>\n",
       "      <td>0.023984</td>\n",
       "      <td>0.065643</td>\n",
       "      <td>33</td>\n",
       "    </tr>\n",
       "    <tr>\n",
       "      <th>34</th>\n",
       "      <td>38400</td>\n",
       "      <td>Brasil autoriza testes de mais uma vacina cont...</td>\n",
       "      <td>161891</td>\n",
       "      <td>0.037361</td>\n",
       "      <td>0.079377</td>\n",
       "      <td>34</td>\n",
       "    </tr>\n",
       "    <tr>\n",
       "      <th>35</th>\n",
       "      <td>18165</td>\n",
       "      <td>Saldo do coronavírus após seis meses no Brasil</td>\n",
       "      <td>40849</td>\n",
       "      <td>0.023840</td>\n",
       "      <td>0.034143</td>\n",
       "      <td>35</td>\n",
       "    </tr>\n",
       "    <tr>\n",
       "      <th>36</th>\n",
       "      <td>13575</td>\n",
       "      <td></td>\n",
       "      <td>20659</td>\n",
       "      <td>0.022484</td>\n",
       "      <td>0.019901</td>\n",
       "      <td>36</td>\n",
       "    </tr>\n",
       "    <tr>\n",
       "      <th>37</th>\n",
       "      <td>18069</td>\n",
       "      <td>Índia passa Brasil e é segundo país com mais c...</td>\n",
       "      <td>61562</td>\n",
       "      <td>0.039838</td>\n",
       "      <td>0.075494</td>\n",
       "      <td>37</td>\n",
       "    </tr>\n",
       "    <tr>\n",
       "      <th>38</th>\n",
       "      <td>21333</td>\n",
       "      <td>Pazuello é efetivado como ministro da Saúde&lt;br...</td>\n",
       "      <td>48764</td>\n",
       "      <td>0.035725</td>\n",
       "      <td>0.047479</td>\n",
       "      <td>38</td>\n",
       "    </tr>\n",
       "    <tr>\n",
       "      <th>39</th>\n",
       "      <td>13465</td>\n",
       "      <td></td>\n",
       "      <td>64294</td>\n",
       "      <td>0.025557</td>\n",
       "      <td>0.067355</td>\n",
       "      <td>39</td>\n",
       "    </tr>\n",
       "    <tr>\n",
       "      <th>40</th>\n",
       "      <td>15527</td>\n",
       "      <td></td>\n",
       "      <td>36328</td>\n",
       "      <td>0.025803</td>\n",
       "      <td>0.035758</td>\n",
       "      <td>40</td>\n",
       "    </tr>\n",
       "    <tr>\n",
       "      <th>41</th>\n",
       "      <td>13819</td>\n",
       "      <td>Brasil ultrapassa marca de 5 milhões de casos ...</td>\n",
       "      <td>19911</td>\n",
       "      <td>0.027206</td>\n",
       "      <td>0.023224</td>\n",
       "      <td>41</td>\n",
       "    </tr>\n",
       "    <tr>\n",
       "      <th>42</th>\n",
       "      <td>12016</td>\n",
       "      <td></td>\n",
       "      <td>20771</td>\n",
       "      <td>0.028490</td>\n",
       "      <td>0.032925</td>\n",
       "      <td>42</td>\n",
       "    </tr>\n",
       "    <tr>\n",
       "      <th>43</th>\n",
       "      <td>18225</td>\n",
       "      <td>Testes no Brasil mostram segurança de vacina c...</td>\n",
       "      <td>55588</td>\n",
       "      <td>0.040618</td>\n",
       "      <td>0.063830</td>\n",
       "      <td>43</td>\n",
       "    </tr>\n",
       "    <tr>\n",
       "      <th>44</th>\n",
       "      <td>57665</td>\n",
       "      <td></td>\n",
       "      <td>186697</td>\n",
       "      <td>0.103395</td>\n",
       "      <td>0.233920</td>\n",
       "      <td>44</td>\n",
       "    </tr>\n",
       "    <tr>\n",
       "      <th>45</th>\n",
       "      <td>21452</td>\n",
       "      <td></td>\n",
       "      <td>58394</td>\n",
       "      <td>0.046092</td>\n",
       "      <td>0.097198</td>\n",
       "      <td>45</td>\n",
       "    </tr>\n",
       "    <tr>\n",
       "      <th>46</th>\n",
       "      <td>10051</td>\n",
       "      <td></td>\n",
       "      <td>18292</td>\n",
       "      <td>0.027097</td>\n",
       "      <td>0.042449</td>\n",
       "      <td>46</td>\n",
       "    </tr>\n",
       "    <tr>\n",
       "      <th>47</th>\n",
       "      <td>20313</td>\n",
       "      <td></td>\n",
       "      <td>53952</td>\n",
       "      <td>0.040358</td>\n",
       "      <td>0.092192</td>\n",
       "      <td>47</td>\n",
       "    </tr>\n",
       "    <tr>\n",
       "      <th>48</th>\n",
       "      <td>17578</td>\n",
       "      <td></td>\n",
       "      <td>33964</td>\n",
       "      <td>0.034096</td>\n",
       "      <td>0.051793</td>\n",
       "      <td>48</td>\n",
       "    </tr>\n",
       "    <tr>\n",
       "      <th>49</th>\n",
       "      <td>24859</td>\n",
       "      <td></td>\n",
       "      <td>36388</td>\n",
       "      <td>0.045891</td>\n",
       "      <td>0.063046</td>\n",
       "      <td>49</td>\n",
       "    </tr>\n",
       "    <tr>\n",
       "      <th>50</th>\n",
       "      <td>29881</td>\n",
       "      <td></td>\n",
       "      <td>83856</td>\n",
       "      <td>0.048927</td>\n",
       "      <td>0.105844</td>\n",
       "      <td>50</td>\n",
       "    </tr>\n",
       "    <tr>\n",
       "      <th>51</th>\n",
       "      <td>57094</td>\n",
       "      <td></td>\n",
       "      <td>162003</td>\n",
       "      <td>0.083387</td>\n",
       "      <td>0.180432</td>\n",
       "      <td>51</td>\n",
       "    </tr>\n",
       "    <tr>\n",
       "      <th>52</th>\n",
       "      <td>57246</td>\n",
       "      <td></td>\n",
       "      <td>197257</td>\n",
       "      <td>0.087206</td>\n",
       "      <td>0.194369</td>\n",
       "      <td>52</td>\n",
       "    </tr>\n",
       "    <tr>\n",
       "      <th>53</th>\n",
       "      <td>36616</td>\n",
       "      <td></td>\n",
       "      <td>90680</td>\n",
       "      <td>0.067763</td>\n",
       "      <td>0.102551</td>\n",
       "      <td>53</td>\n",
       "    </tr>\n",
       "    <tr>\n",
       "      <th>54</th>\n",
       "      <td>40882</td>\n",
       "      <td></td>\n",
       "      <td>86534</td>\n",
       "      <td>0.058756</td>\n",
       "      <td>0.076224</td>\n",
       "      <td>1</td>\n",
       "    </tr>\n",
       "  </tbody>\n",
       "</table>\n",
       "</div>"
      ],
      "text/plain": [
       "    tweets                                     acontecimentos  retweet  \\\n",
       "19    7414                                                       26823   \n",
       "20   10572  Bolsonaro livra agentes públicos de responsabi...    24911   \n",
       "21   16919  Sem base científica, governo amplia uso da clo...    89574   \n",
       "22   36948                                                      293442   \n",
       "23   13080  Brasil ultrapassa Itália e é terceiro país com...    20405   \n",
       "24   16868                                                       82400   \n",
       "25   22599  Brasil amplia orientações de uso da cloroquina...    97005   \n",
       "26   16011  Vacina de Oxford contra covid-19 começa a ser ...    81648   \n",
       "27   16457  UE estende proibição à entrada de viajantes do...    89266   \n",
       "28   22766                   Bolsonaro diz estar com covid-19   142479   \n",
       "29   15712    Casos de covid-19 passam de 2 milhões no Brasil    27772   \n",
       "30   27922                                                      182944   \n",
       "31   45612                                                      324006   \n",
       "32   31064                Brasil: 100 mil mortos por covid-19   161939   \n",
       "33   22715  Mais uma empresa alemã pretende testar vacina ...    98039   \n",
       "34   38400  Brasil autoriza testes de mais uma vacina cont...   161891   \n",
       "35   18165     Saldo do coronavírus após seis meses no Brasil    40849   \n",
       "36   13575                                                       20659   \n",
       "37   18069  Índia passa Brasil e é segundo país com mais c...    61562   \n",
       "38   21333  Pazuello é efetivado como ministro da Saúde<br...    48764   \n",
       "39   13465                                                       64294   \n",
       "40   15527                                                       36328   \n",
       "41   13819  Brasil ultrapassa marca de 5 milhões de casos ...    19911   \n",
       "42   12016                                                       20771   \n",
       "43   18225  Testes no Brasil mostram segurança de vacina c...    55588   \n",
       "44   57665                                                      186697   \n",
       "45   21452                                                       58394   \n",
       "46   10051                                                       18292   \n",
       "47   20313                                                       53952   \n",
       "48   17578                                                       33964   \n",
       "49   24859                                                       36388   \n",
       "50   29881                                                       83856   \n",
       "51   57094                                                      162003   \n",
       "52   57246                                                      197257   \n",
       "53   36616                                                       90680   \n",
       "54   40882                                                       86534   \n",
       "\n",
       "    tweets_relativo  retweets_relativos label  \n",
       "19         0.003038            0.006829    19  \n",
       "20         0.004170            0.005647    20  \n",
       "21         0.006437            0.016461    21  \n",
       "22         0.014074            0.054381    22  \n",
       "23         0.006581            0.006205    23  \n",
       "24         0.010539            0.025438    24  \n",
       "25         0.013620            0.031237    25  \n",
       "26         0.010813            0.032336    26  \n",
       "27         0.011427            0.038230    27  \n",
       "28         0.018036            0.070852    28  \n",
       "29         0.009274            0.009318    29  \n",
       "30         0.022939            0.084942    30  \n",
       "31         0.033830            0.111266    31  \n",
       "32         0.027913            0.076033    32  \n",
       "33         0.023984            0.065643    33  \n",
       "34         0.037361            0.079377    34  \n",
       "35         0.023840            0.034143    35  \n",
       "36         0.022484            0.019901    36  \n",
       "37         0.039838            0.075494    37  \n",
       "38         0.035725            0.047479    38  \n",
       "39         0.025557            0.067355    39  \n",
       "40         0.025803            0.035758    40  \n",
       "41         0.027206            0.023224    41  \n",
       "42         0.028490            0.032925    42  \n",
       "43         0.040618            0.063830    43  \n",
       "44         0.103395            0.233920    44  \n",
       "45         0.046092            0.097198    45  \n",
       "46         0.027097            0.042449    46  \n",
       "47         0.040358            0.092192    47  \n",
       "48         0.034096            0.051793    48  \n",
       "49         0.045891            0.063046    49  \n",
       "50         0.048927            0.105844    50  \n",
       "51         0.083387            0.180432    51  \n",
       "52         0.087206            0.194369    52  \n",
       "53         0.067763            0.102551    53  \n",
       "54         0.058756            0.076224     1  "
      ]
     },
     "execution_count": 7,
     "metadata": {},
     "output_type": "execute_result"
    }
   ],
   "source": [
    "acont = dict()\n",
    "for i,val in enumerate(semanas):\n",
    "    if val in acont.keys():\n",
    "        #acont[val].append(text[i])\n",
    "        acont[val] = acont[val]+\"<br>\"+text[i]\n",
    "    else:\n",
    "        acont[val] = text[i]\n",
    "        #acont[val] = list()\n",
    "        #acont[val].append(text[i])\n",
    "df_ac = pd.Series(acont) \n",
    "vacina.insert(1,\"acontecimentos\",df_ac)\n",
    "vacina = vacina.fillna(\"\")\n",
    "vacina.acontecimentos = vacina.acontecimentos.convert_dtypes(str)\n",
    "vacina"
   ]
  },
  {
   "cell_type": "code",
   "execution_count": 8,
   "metadata": {},
   "outputs": [],
   "source": [
    "from datetime import date\n",
    "from datetime import datetime\n",
    "from datetime import timedelta\n",
    "from datetime import timezone\n",
    "\n",
    "dia = timedelta(days=7)\n",
    "d1 = datetime.fromisoformat('2020-05-03')\n",
    "d2 = date.fromisoformat('2020-02-01')\n",
    "\n",
    "diferenca = timedelta(hours=-3)\n",
    "fuso_horario = timezone(diferenca)\n",
    "\n",
    "d1.astimezone(fuso_horario)\n",
    "datas = []\n",
    "for i in range(len(vacina[\"label\"])):\n",
    "    datas.append(d1.strftime(\"%b/%y\"))\n",
    "    d1 = d1+dia"
   ]
  },
  {
   "cell_type": "code",
   "execution_count": 17,
   "metadata": {},
   "outputs": [
    {
     "data": {
      "application/vnd.plotly.v1+json": {
       "config": {
        "plotlyServerURL": "https://plot.ly"
       },
       "data": [
        {
         "hoverinfo": "none",
         "marker": {
          "color": "dodgerblue"
         },
         "name": "tweets",
         "type": "scatter",
         "x": [
          19,
          20,
          21,
          22,
          23,
          24,
          25,
          26,
          27,
          28,
          29,
          30,
          31,
          32,
          33,
          34,
          35,
          36,
          37,
          38,
          39,
          40,
          41,
          42,
          43,
          44,
          45,
          46,
          47,
          48,
          49,
          50,
          51,
          52,
          53,
          54
         ],
         "y": [
          7414,
          10572,
          16919,
          36948,
          13080,
          16868,
          22599,
          16011,
          16457,
          22766,
          15712,
          27922,
          45612,
          31064,
          22715,
          38400,
          18165,
          13575,
          18069,
          21333,
          13465,
          15527,
          13819,
          12016,
          18225,
          57665,
          21452,
          10051,
          20313,
          17578,
          24859,
          29881,
          57094,
          57246,
          36616,
          40882
         ]
        },
        {
         "hoverinfo": "none",
         "marker": {
          "color": "#ff8000"
         },
         "name": "retweets",
         "type": "scatter",
         "x": [
          19,
          20,
          21,
          22,
          23,
          24,
          25,
          26,
          27,
          28,
          29,
          30,
          31,
          32,
          33,
          34,
          35,
          36,
          37,
          38,
          39,
          40,
          41,
          42,
          43,
          44,
          45,
          46,
          47,
          48,
          49,
          50,
          51,
          52,
          53,
          54
         ],
         "y": [
          26823,
          24911,
          89574,
          293442,
          20405,
          82400,
          97005,
          81648,
          89266,
          142479,
          27772,
          182944,
          324006,
          161939,
          98039,
          161891,
          40849,
          20659,
          61562,
          48764,
          64294,
          36328,
          19911,
          20771,
          55588,
          186697,
          58394,
          18292,
          53952,
          33964,
          36388,
          83856,
          162003,
          197257,
          90680,
          86534
         ]
        },
        {
         "customdata": [
          "Bolsonaro livra agentes públicos de responsabilidade por erros durante epidemia<br>Covid-19 atinge dezenas de povos indígenas<br>Nelson Teich pede demissão do Ministério da Saúde",
          "Sem base científica, governo amplia uso da cloroquina",
          "Brasil ultrapassa Itália e é terceiro país com mais mortes por covid-19",
          "Brasil amplia orientações de uso da cloroquina contra a covid-19<br>Casos de covid-19 passam de 1 milhão no Brasil",
          "Vacina de Oxford contra covid-19 começa a ser testada no Brasil<br>Juiz manda Bolsonaro usar máscara em público",
          "UE estende proibição à entrada de viajantes do Brasil",
          "Bolsonaro diz estar com covid-19",
          "Casos de covid-19 passam de 2 milhões no Brasil",
          "Brasil: 100 mil mortos por covid-19",
          "Mais uma empresa alemã pretende testar vacina contra covid-19 no Brasil",
          "Brasil autoriza testes de mais uma vacina contra covid-19",
          "Saldo do coronavírus após seis meses no Brasil",
          "Índia passa Brasil e é segundo país com mais casos de covid-19",
          "Pazuello é efetivado como ministro da Saúde<br>Brasil adere à iniciativa global por vacinas contra covid-19",
          "Brasil ultrapassa marca de 5 milhões de casos de covid-19",
          "Testes no Brasil mostram segurança de vacina chinesa, diz Butantan<br>Pandemia deve elevar tanto a fome quanto a obesidade entre brasileiros<br>Brasil incluirá vacina chinesa em calendário nacional de vacinação<br>Anvisa autoriza importar 6 milhões de doses de vacina chinesa"
         ],
         "hovertemplate": "%{customdata}",
         "marker": {
          "color": "#2F4F4F",
          "size": 4,
          "symbol": "0"
         },
         "mode": "markers",
         "name": "Acontecimento",
         "showlegend": false,
         "type": "scatter",
         "x": [
          20,
          21,
          23,
          25,
          26,
          27,
          28,
          29,
          32,
          33,
          34,
          35,
          37,
          38,
          41,
          43
         ],
         "y": [
          10572,
          16919,
          13080,
          22599,
          16011,
          16457,
          22766,
          15712,
          31064,
          22715,
          38400,
          18165,
          18069,
          21333,
          13819,
          18225
         ]
        },
        {
         "customdata": [
          "Bolsonaro livra agentes públicos de responsabilidade por erros durante epidemia<br>Covid-19 atinge dezenas de povos indígenas<br>Nelson Teich pede demissão do Ministério da Saúde",
          "Sem base científica, governo amplia uso da cloroquina",
          "Brasil ultrapassa Itália e é terceiro país com mais mortes por covid-19",
          "Brasil amplia orientações de uso da cloroquina contra a covid-19<br>Casos de covid-19 passam de 1 milhão no Brasil",
          "Vacina de Oxford contra covid-19 começa a ser testada no Brasil<br>Juiz manda Bolsonaro usar máscara em público",
          "UE estende proibição à entrada de viajantes do Brasil",
          "Bolsonaro diz estar com covid-19",
          "Casos de covid-19 passam de 2 milhões no Brasil",
          "Brasil: 100 mil mortos por covid-19",
          "Mais uma empresa alemã pretende testar vacina contra covid-19 no Brasil",
          "Brasil autoriza testes de mais uma vacina contra covid-19",
          "Saldo do coronavírus após seis meses no Brasil",
          "Índia passa Brasil e é segundo país com mais casos de covid-19",
          "Pazuello é efetivado como ministro da Saúde<br>Brasil adere à iniciativa global por vacinas contra covid-19",
          "Brasil ultrapassa marca de 5 milhões de casos de covid-19",
          "Testes no Brasil mostram segurança de vacina chinesa, diz Butantan<br>Pandemia deve elevar tanto a fome quanto a obesidade entre brasileiros<br>Brasil incluirá vacina chinesa em calendário nacional de vacinação<br>Anvisa autoriza importar 6 milhões de doses de vacina chinesa"
         ],
         "hovertemplate": "%{customdata}",
         "marker": {
          "color": "#2F4F4F",
          "size": 4,
          "symbol": "0"
         },
         "mode": "markers",
         "name": "Acontecimento",
         "showlegend": false,
         "type": "scatter",
         "x": [
          20,
          21,
          23,
          25,
          26,
          27,
          28,
          29,
          32,
          33,
          34,
          35,
          37,
          38,
          41,
          43
         ],
         "y": [
          24911,
          89574,
          20405,
          97005,
          81648,
          89266,
          142479,
          27772,
          161939,
          98039,
          161891,
          40849,
          61562,
          48764,
          19911,
          55588
         ]
        }
       ],
       "layout": {
        "template": {
         "data": {
          "bar": [
           {
            "error_x": {
             "color": "#2a3f5f"
            },
            "error_y": {
             "color": "#2a3f5f"
            },
            "marker": {
             "line": {
              "color": "#E5ECF6",
              "width": 0.5
             }
            },
            "type": "bar"
           }
          ],
          "barpolar": [
           {
            "marker": {
             "line": {
              "color": "#E5ECF6",
              "width": 0.5
             }
            },
            "type": "barpolar"
           }
          ],
          "carpet": [
           {
            "aaxis": {
             "endlinecolor": "#2a3f5f",
             "gridcolor": "white",
             "linecolor": "white",
             "minorgridcolor": "white",
             "startlinecolor": "#2a3f5f"
            },
            "baxis": {
             "endlinecolor": "#2a3f5f",
             "gridcolor": "white",
             "linecolor": "white",
             "minorgridcolor": "white",
             "startlinecolor": "#2a3f5f"
            },
            "type": "carpet"
           }
          ],
          "choropleth": [
           {
            "colorbar": {
             "outlinewidth": 0,
             "ticks": ""
            },
            "type": "choropleth"
           }
          ],
          "contour": [
           {
            "colorbar": {
             "outlinewidth": 0,
             "ticks": ""
            },
            "colorscale": [
             [
              0,
              "#0d0887"
             ],
             [
              0.1111111111111111,
              "#46039f"
             ],
             [
              0.2222222222222222,
              "#7201a8"
             ],
             [
              0.3333333333333333,
              "#9c179e"
             ],
             [
              0.4444444444444444,
              "#bd3786"
             ],
             [
              0.5555555555555556,
              "#d8576b"
             ],
             [
              0.6666666666666666,
              "#ed7953"
             ],
             [
              0.7777777777777778,
              "#fb9f3a"
             ],
             [
              0.8888888888888888,
              "#fdca26"
             ],
             [
              1,
              "#f0f921"
             ]
            ],
            "type": "contour"
           }
          ],
          "contourcarpet": [
           {
            "colorbar": {
             "outlinewidth": 0,
             "ticks": ""
            },
            "type": "contourcarpet"
           }
          ],
          "heatmap": [
           {
            "colorbar": {
             "outlinewidth": 0,
             "ticks": ""
            },
            "colorscale": [
             [
              0,
              "#0d0887"
             ],
             [
              0.1111111111111111,
              "#46039f"
             ],
             [
              0.2222222222222222,
              "#7201a8"
             ],
             [
              0.3333333333333333,
              "#9c179e"
             ],
             [
              0.4444444444444444,
              "#bd3786"
             ],
             [
              0.5555555555555556,
              "#d8576b"
             ],
             [
              0.6666666666666666,
              "#ed7953"
             ],
             [
              0.7777777777777778,
              "#fb9f3a"
             ],
             [
              0.8888888888888888,
              "#fdca26"
             ],
             [
              1,
              "#f0f921"
             ]
            ],
            "type": "heatmap"
           }
          ],
          "heatmapgl": [
           {
            "colorbar": {
             "outlinewidth": 0,
             "ticks": ""
            },
            "colorscale": [
             [
              0,
              "#0d0887"
             ],
             [
              0.1111111111111111,
              "#46039f"
             ],
             [
              0.2222222222222222,
              "#7201a8"
             ],
             [
              0.3333333333333333,
              "#9c179e"
             ],
             [
              0.4444444444444444,
              "#bd3786"
             ],
             [
              0.5555555555555556,
              "#d8576b"
             ],
             [
              0.6666666666666666,
              "#ed7953"
             ],
             [
              0.7777777777777778,
              "#fb9f3a"
             ],
             [
              0.8888888888888888,
              "#fdca26"
             ],
             [
              1,
              "#f0f921"
             ]
            ],
            "type": "heatmapgl"
           }
          ],
          "histogram": [
           {
            "marker": {
             "colorbar": {
              "outlinewidth": 0,
              "ticks": ""
             }
            },
            "type": "histogram"
           }
          ],
          "histogram2d": [
           {
            "colorbar": {
             "outlinewidth": 0,
             "ticks": ""
            },
            "colorscale": [
             [
              0,
              "#0d0887"
             ],
             [
              0.1111111111111111,
              "#46039f"
             ],
             [
              0.2222222222222222,
              "#7201a8"
             ],
             [
              0.3333333333333333,
              "#9c179e"
             ],
             [
              0.4444444444444444,
              "#bd3786"
             ],
             [
              0.5555555555555556,
              "#d8576b"
             ],
             [
              0.6666666666666666,
              "#ed7953"
             ],
             [
              0.7777777777777778,
              "#fb9f3a"
             ],
             [
              0.8888888888888888,
              "#fdca26"
             ],
             [
              1,
              "#f0f921"
             ]
            ],
            "type": "histogram2d"
           }
          ],
          "histogram2dcontour": [
           {
            "colorbar": {
             "outlinewidth": 0,
             "ticks": ""
            },
            "colorscale": [
             [
              0,
              "#0d0887"
             ],
             [
              0.1111111111111111,
              "#46039f"
             ],
             [
              0.2222222222222222,
              "#7201a8"
             ],
             [
              0.3333333333333333,
              "#9c179e"
             ],
             [
              0.4444444444444444,
              "#bd3786"
             ],
             [
              0.5555555555555556,
              "#d8576b"
             ],
             [
              0.6666666666666666,
              "#ed7953"
             ],
             [
              0.7777777777777778,
              "#fb9f3a"
             ],
             [
              0.8888888888888888,
              "#fdca26"
             ],
             [
              1,
              "#f0f921"
             ]
            ],
            "type": "histogram2dcontour"
           }
          ],
          "mesh3d": [
           {
            "colorbar": {
             "outlinewidth": 0,
             "ticks": ""
            },
            "type": "mesh3d"
           }
          ],
          "parcoords": [
           {
            "line": {
             "colorbar": {
              "outlinewidth": 0,
              "ticks": ""
             }
            },
            "type": "parcoords"
           }
          ],
          "pie": [
           {
            "automargin": true,
            "type": "pie"
           }
          ],
          "scatter": [
           {
            "marker": {
             "colorbar": {
              "outlinewidth": 0,
              "ticks": ""
             }
            },
            "type": "scatter"
           }
          ],
          "scatter3d": [
           {
            "line": {
             "colorbar": {
              "outlinewidth": 0,
              "ticks": ""
             }
            },
            "marker": {
             "colorbar": {
              "outlinewidth": 0,
              "ticks": ""
             }
            },
            "type": "scatter3d"
           }
          ],
          "scattercarpet": [
           {
            "marker": {
             "colorbar": {
              "outlinewidth": 0,
              "ticks": ""
             }
            },
            "type": "scattercarpet"
           }
          ],
          "scattergeo": [
           {
            "marker": {
             "colorbar": {
              "outlinewidth": 0,
              "ticks": ""
             }
            },
            "type": "scattergeo"
           }
          ],
          "scattergl": [
           {
            "marker": {
             "colorbar": {
              "outlinewidth": 0,
              "ticks": ""
             }
            },
            "type": "scattergl"
           }
          ],
          "scattermapbox": [
           {
            "marker": {
             "colorbar": {
              "outlinewidth": 0,
              "ticks": ""
             }
            },
            "type": "scattermapbox"
           }
          ],
          "scatterpolar": [
           {
            "marker": {
             "colorbar": {
              "outlinewidth": 0,
              "ticks": ""
             }
            },
            "type": "scatterpolar"
           }
          ],
          "scatterpolargl": [
           {
            "marker": {
             "colorbar": {
              "outlinewidth": 0,
              "ticks": ""
             }
            },
            "type": "scatterpolargl"
           }
          ],
          "scatterternary": [
           {
            "marker": {
             "colorbar": {
              "outlinewidth": 0,
              "ticks": ""
             }
            },
            "type": "scatterternary"
           }
          ],
          "surface": [
           {
            "colorbar": {
             "outlinewidth": 0,
             "ticks": ""
            },
            "colorscale": [
             [
              0,
              "#0d0887"
             ],
             [
              0.1111111111111111,
              "#46039f"
             ],
             [
              0.2222222222222222,
              "#7201a8"
             ],
             [
              0.3333333333333333,
              "#9c179e"
             ],
             [
              0.4444444444444444,
              "#bd3786"
             ],
             [
              0.5555555555555556,
              "#d8576b"
             ],
             [
              0.6666666666666666,
              "#ed7953"
             ],
             [
              0.7777777777777778,
              "#fb9f3a"
             ],
             [
              0.8888888888888888,
              "#fdca26"
             ],
             [
              1,
              "#f0f921"
             ]
            ],
            "type": "surface"
           }
          ],
          "table": [
           {
            "cells": {
             "fill": {
              "color": "#EBF0F8"
             },
             "line": {
              "color": "white"
             }
            },
            "header": {
             "fill": {
              "color": "#C8D4E3"
             },
             "line": {
              "color": "white"
             }
            },
            "type": "table"
           }
          ]
         },
         "layout": {
          "annotationdefaults": {
           "arrowcolor": "#2a3f5f",
           "arrowhead": 0,
           "arrowwidth": 1
          },
          "coloraxis": {
           "colorbar": {
            "outlinewidth": 0,
            "ticks": ""
           }
          },
          "colorscale": {
           "diverging": [
            [
             0,
             "#8e0152"
            ],
            [
             0.1,
             "#c51b7d"
            ],
            [
             0.2,
             "#de77ae"
            ],
            [
             0.3,
             "#f1b6da"
            ],
            [
             0.4,
             "#fde0ef"
            ],
            [
             0.5,
             "#f7f7f7"
            ],
            [
             0.6,
             "#e6f5d0"
            ],
            [
             0.7,
             "#b8e186"
            ],
            [
             0.8,
             "#7fbc41"
            ],
            [
             0.9,
             "#4d9221"
            ],
            [
             1,
             "#276419"
            ]
           ],
           "sequential": [
            [
             0,
             "#0d0887"
            ],
            [
             0.1111111111111111,
             "#46039f"
            ],
            [
             0.2222222222222222,
             "#7201a8"
            ],
            [
             0.3333333333333333,
             "#9c179e"
            ],
            [
             0.4444444444444444,
             "#bd3786"
            ],
            [
             0.5555555555555556,
             "#d8576b"
            ],
            [
             0.6666666666666666,
             "#ed7953"
            ],
            [
             0.7777777777777778,
             "#fb9f3a"
            ],
            [
             0.8888888888888888,
             "#fdca26"
            ],
            [
             1,
             "#f0f921"
            ]
           ],
           "sequentialminus": [
            [
             0,
             "#0d0887"
            ],
            [
             0.1111111111111111,
             "#46039f"
            ],
            [
             0.2222222222222222,
             "#7201a8"
            ],
            [
             0.3333333333333333,
             "#9c179e"
            ],
            [
             0.4444444444444444,
             "#bd3786"
            ],
            [
             0.5555555555555556,
             "#d8576b"
            ],
            [
             0.6666666666666666,
             "#ed7953"
            ],
            [
             0.7777777777777778,
             "#fb9f3a"
            ],
            [
             0.8888888888888888,
             "#fdca26"
            ],
            [
             1,
             "#f0f921"
            ]
           ]
          },
          "colorway": [
           "#636efa",
           "#EF553B",
           "#00cc96",
           "#ab63fa",
           "#FFA15A",
           "#19d3f3",
           "#FF6692",
           "#B6E880",
           "#FF97FF",
           "#FECB52"
          ],
          "font": {
           "color": "#2a3f5f"
          },
          "geo": {
           "bgcolor": "white",
           "lakecolor": "white",
           "landcolor": "#E5ECF6",
           "showlakes": true,
           "showland": true,
           "subunitcolor": "white"
          },
          "hoverlabel": {
           "align": "left"
          },
          "hovermode": "closest",
          "mapbox": {
           "style": "light"
          },
          "paper_bgcolor": "white",
          "plot_bgcolor": "#E5ECF6",
          "polar": {
           "angularaxis": {
            "gridcolor": "white",
            "linecolor": "white",
            "ticks": ""
           },
           "bgcolor": "#E5ECF6",
           "radialaxis": {
            "gridcolor": "white",
            "linecolor": "white",
            "ticks": ""
           }
          },
          "scene": {
           "xaxis": {
            "backgroundcolor": "#E5ECF6",
            "gridcolor": "white",
            "gridwidth": 2,
            "linecolor": "white",
            "showbackground": true,
            "ticks": "",
            "zerolinecolor": "white"
           },
           "yaxis": {
            "backgroundcolor": "#E5ECF6",
            "gridcolor": "white",
            "gridwidth": 2,
            "linecolor": "white",
            "showbackground": true,
            "ticks": "",
            "zerolinecolor": "white"
           },
           "zaxis": {
            "backgroundcolor": "#E5ECF6",
            "gridcolor": "white",
            "gridwidth": 2,
            "linecolor": "white",
            "showbackground": true,
            "ticks": "",
            "zerolinecolor": "white"
           }
          },
          "shapedefaults": {
           "line": {
            "color": "#2a3f5f"
           }
          },
          "ternary": {
           "aaxis": {
            "gridcolor": "white",
            "linecolor": "white",
            "ticks": ""
           },
           "baxis": {
            "gridcolor": "white",
            "linecolor": "white",
            "ticks": ""
           },
           "bgcolor": "#E5ECF6",
           "caxis": {
            "gridcolor": "white",
            "linecolor": "white",
            "ticks": ""
           }
          },
          "title": {
           "x": 0.05
          },
          "xaxis": {
           "automargin": true,
           "gridcolor": "white",
           "linecolor": "white",
           "ticks": "",
           "title": {
            "standoff": 15
           },
           "zerolinecolor": "white",
           "zerolinewidth": 2
          },
          "yaxis": {
           "automargin": true,
           "gridcolor": "white",
           "linecolor": "white",
           "ticks": "",
           "title": {
            "standoff": 15
           },
           "zerolinecolor": "white",
           "zerolinewidth": 2
          }
         }
        },
        "title": {
         "text": "Ocorrência da palavra vacina por semana",
         "x": 0.4,
         "xanchor": "center",
         "y": 0.95,
         "yanchor": "top"
        },
        "xaxis": {
         "tickangle": 0,
         "tickmode": "array",
         "ticktext": [
          "May/20",
          "Jun/20",
          "Jul/20",
          "Aug/20",
          "Sep/20",
          "Oct/20",
          "Nov/20",
          "Dec/20",
          "Jan/21"
         ],
         "tickvals": [
          19,
          24,
          28,
          32,
          37,
          41,
          45,
          50,
          54
         ],
         "title": {
          "text": "Semana Epidemiológica"
         }
        },
        "yaxis": {
         "title": {
          "text": "Número de Ocorrências"
         }
        }
       }
      },
      "text/html": [
       "<div>                            <div id=\"38540ed4-1a99-4717-a465-8ecaad688432\" class=\"plotly-graph-div\" style=\"height:525px; width:100%;\"></div>            <script type=\"text/javascript\">                require([\"plotly\"], function(Plotly) {                    window.PLOTLYENV=window.PLOTLYENV || {};                                    if (document.getElementById(\"38540ed4-1a99-4717-a465-8ecaad688432\")) {                    Plotly.newPlot(                        \"38540ed4-1a99-4717-a465-8ecaad688432\",                        [{\"hoverinfo\": \"none\", \"marker\": {\"color\": \"dodgerblue\"}, \"name\": \"tweets\", \"type\": \"scatter\", \"x\": [19, 20, 21, 22, 23, 24, 25, 26, 27, 28, 29, 30, 31, 32, 33, 34, 35, 36, 37, 38, 39, 40, 41, 42, 43, 44, 45, 46, 47, 48, 49, 50, 51, 52, 53, 54], \"y\": [7414, 10572, 16919, 36948, 13080, 16868, 22599, 16011, 16457, 22766, 15712, 27922, 45612, 31064, 22715, 38400, 18165, 13575, 18069, 21333, 13465, 15527, 13819, 12016, 18225, 57665, 21452, 10051, 20313, 17578, 24859, 29881, 57094, 57246, 36616, 40882]}, {\"hoverinfo\": \"none\", \"marker\": {\"color\": \"#ff8000\"}, \"name\": \"retweets\", \"type\": \"scatter\", \"x\": [19, 20, 21, 22, 23, 24, 25, 26, 27, 28, 29, 30, 31, 32, 33, 34, 35, 36, 37, 38, 39, 40, 41, 42, 43, 44, 45, 46, 47, 48, 49, 50, 51, 52, 53, 54], \"y\": [26823, 24911, 89574, 293442, 20405, 82400, 97005, 81648, 89266, 142479, 27772, 182944, 324006, 161939, 98039, 161891, 40849, 20659, 61562, 48764, 64294, 36328, 19911, 20771, 55588, 186697, 58394, 18292, 53952, 33964, 36388, 83856, 162003, 197257, 90680, 86534]}, {\"customdata\": [\"Bolsonaro livra agentes p\\u00fablicos de responsabilidade por erros durante epidemia<br>Covid-19 atinge dezenas de povos ind\\u00edgenas<br>Nelson Teich pede demiss\\u00e3o do Minist\\u00e9rio da Sa\\u00fade\", \"Sem base cient\\u00edfica, governo amplia uso da cloroquina\", \"Brasil ultrapassa It\\u00e1lia e \\u00e9 terceiro pa\\u00eds com mais mortes por covid-19\", \"Brasil amplia orienta\\u00e7\\u00f5es de uso da cloroquina contra a covid-19<br>Casos de covid-19 passam de 1 milh\\u00e3o no Brasil\", \"Vacina de Oxford contra covid-19 come\\u00e7a a ser testada no Brasil<br>Juiz manda Bolsonaro usar m\\u00e1scara em p\\u00fablico\", \"UE estende proibi\\u00e7\\u00e3o \\u00e0 entrada de viajantes do Brasil\", \"Bolsonaro diz estar com covid-19\", \"Casos de covid-19 passam de 2 milh\\u00f5es no Brasil\", \"Brasil: 100 mil mortos por covid-19\", \"Mais uma empresa alem\\u00e3 pretende testar vacina contra covid-19 no Brasil\", \"Brasil autoriza testes de mais uma vacina contra covid-19\", \"Saldo do coronav\\u00edrus ap\\u00f3s seis meses no Brasil\", \"\\u00cdndia passa Brasil e \\u00e9 segundo pa\\u00eds com mais casos de covid-19\", \"Pazuello \\u00e9 efetivado como ministro da Sa\\u00fade<br>Brasil adere \\u00e0 iniciativa global por vacinas contra covid-19\", \"Brasil ultrapassa marca de 5 milh\\u00f5es de casos de covid-19\", \"Testes no Brasil mostram seguran\\u00e7a de vacina chinesa, diz Butantan<br>Pandemia deve elevar tanto a fome quanto a obesidade entre brasileiros<br>Brasil incluir\\u00e1 vacina chinesa em calend\\u00e1rio nacional de vacina\\u00e7\\u00e3o<br>Anvisa autoriza importar 6 milh\\u00f5es de doses de vacina chinesa\"], \"hovertemplate\": \"%{customdata}\", \"marker\": {\"color\": \"#2F4F4F\", \"size\": 4, \"symbol\": \"0\"}, \"mode\": \"markers\", \"name\": \"Acontecimento\", \"showlegend\": false, \"type\": \"scatter\", \"x\": [20, 21, 23, 25, 26, 27, 28, 29, 32, 33, 34, 35, 37, 38, 41, 43], \"y\": [10572, 16919, 13080, 22599, 16011, 16457, 22766, 15712, 31064, 22715, 38400, 18165, 18069, 21333, 13819, 18225]}, {\"customdata\": [\"Bolsonaro livra agentes p\\u00fablicos de responsabilidade por erros durante epidemia<br>Covid-19 atinge dezenas de povos ind\\u00edgenas<br>Nelson Teich pede demiss\\u00e3o do Minist\\u00e9rio da Sa\\u00fade\", \"Sem base cient\\u00edfica, governo amplia uso da cloroquina\", \"Brasil ultrapassa It\\u00e1lia e \\u00e9 terceiro pa\\u00eds com mais mortes por covid-19\", \"Brasil amplia orienta\\u00e7\\u00f5es de uso da cloroquina contra a covid-19<br>Casos de covid-19 passam de 1 milh\\u00e3o no Brasil\", \"Vacina de Oxford contra covid-19 come\\u00e7a a ser testada no Brasil<br>Juiz manda Bolsonaro usar m\\u00e1scara em p\\u00fablico\", \"UE estende proibi\\u00e7\\u00e3o \\u00e0 entrada de viajantes do Brasil\", \"Bolsonaro diz estar com covid-19\", \"Casos de covid-19 passam de 2 milh\\u00f5es no Brasil\", \"Brasil: 100 mil mortos por covid-19\", \"Mais uma empresa alem\\u00e3 pretende testar vacina contra covid-19 no Brasil\", \"Brasil autoriza testes de mais uma vacina contra covid-19\", \"Saldo do coronav\\u00edrus ap\\u00f3s seis meses no Brasil\", \"\\u00cdndia passa Brasil e \\u00e9 segundo pa\\u00eds com mais casos de covid-19\", \"Pazuello \\u00e9 efetivado como ministro da Sa\\u00fade<br>Brasil adere \\u00e0 iniciativa global por vacinas contra covid-19\", \"Brasil ultrapassa marca de 5 milh\\u00f5es de casos de covid-19\", \"Testes no Brasil mostram seguran\\u00e7a de vacina chinesa, diz Butantan<br>Pandemia deve elevar tanto a fome quanto a obesidade entre brasileiros<br>Brasil incluir\\u00e1 vacina chinesa em calend\\u00e1rio nacional de vacina\\u00e7\\u00e3o<br>Anvisa autoriza importar 6 milh\\u00f5es de doses de vacina chinesa\"], \"hovertemplate\": \"%{customdata}\", \"marker\": {\"color\": \"#2F4F4F\", \"size\": 4, \"symbol\": \"0\"}, \"mode\": \"markers\", \"name\": \"Acontecimento\", \"showlegend\": false, \"type\": \"scatter\", \"x\": [20, 21, 23, 25, 26, 27, 28, 29, 32, 33, 34, 35, 37, 38, 41, 43], \"y\": [24911, 89574, 20405, 97005, 81648, 89266, 142479, 27772, 161939, 98039, 161891, 40849, 61562, 48764, 19911, 55588]}],                        {\"template\": {\"data\": {\"bar\": [{\"error_x\": {\"color\": \"#2a3f5f\"}, \"error_y\": {\"color\": \"#2a3f5f\"}, \"marker\": {\"line\": {\"color\": \"#E5ECF6\", \"width\": 0.5}}, \"type\": \"bar\"}], \"barpolar\": [{\"marker\": {\"line\": {\"color\": \"#E5ECF6\", \"width\": 0.5}}, \"type\": \"barpolar\"}], \"carpet\": [{\"aaxis\": {\"endlinecolor\": \"#2a3f5f\", \"gridcolor\": \"white\", \"linecolor\": \"white\", \"minorgridcolor\": \"white\", \"startlinecolor\": \"#2a3f5f\"}, \"baxis\": {\"endlinecolor\": \"#2a3f5f\", \"gridcolor\": \"white\", \"linecolor\": \"white\", \"minorgridcolor\": \"white\", \"startlinecolor\": \"#2a3f5f\"}, \"type\": \"carpet\"}], \"choropleth\": [{\"colorbar\": {\"outlinewidth\": 0, \"ticks\": \"\"}, \"type\": \"choropleth\"}], \"contour\": [{\"colorbar\": {\"outlinewidth\": 0, \"ticks\": \"\"}, \"colorscale\": [[0.0, \"#0d0887\"], [0.1111111111111111, \"#46039f\"], [0.2222222222222222, \"#7201a8\"], [0.3333333333333333, \"#9c179e\"], [0.4444444444444444, \"#bd3786\"], [0.5555555555555556, \"#d8576b\"], [0.6666666666666666, \"#ed7953\"], [0.7777777777777778, \"#fb9f3a\"], [0.8888888888888888, \"#fdca26\"], [1.0, \"#f0f921\"]], \"type\": \"contour\"}], \"contourcarpet\": [{\"colorbar\": {\"outlinewidth\": 0, \"ticks\": \"\"}, \"type\": \"contourcarpet\"}], \"heatmap\": [{\"colorbar\": {\"outlinewidth\": 0, \"ticks\": \"\"}, \"colorscale\": [[0.0, \"#0d0887\"], [0.1111111111111111, \"#46039f\"], [0.2222222222222222, \"#7201a8\"], [0.3333333333333333, \"#9c179e\"], [0.4444444444444444, \"#bd3786\"], [0.5555555555555556, \"#d8576b\"], [0.6666666666666666, \"#ed7953\"], [0.7777777777777778, \"#fb9f3a\"], [0.8888888888888888, \"#fdca26\"], [1.0, \"#f0f921\"]], \"type\": \"heatmap\"}], \"heatmapgl\": [{\"colorbar\": {\"outlinewidth\": 0, \"ticks\": \"\"}, \"colorscale\": [[0.0, \"#0d0887\"], [0.1111111111111111, \"#46039f\"], [0.2222222222222222, \"#7201a8\"], [0.3333333333333333, \"#9c179e\"], [0.4444444444444444, \"#bd3786\"], [0.5555555555555556, \"#d8576b\"], [0.6666666666666666, \"#ed7953\"], [0.7777777777777778, \"#fb9f3a\"], [0.8888888888888888, \"#fdca26\"], [1.0, \"#f0f921\"]], \"type\": \"heatmapgl\"}], \"histogram\": [{\"marker\": {\"colorbar\": {\"outlinewidth\": 0, \"ticks\": \"\"}}, \"type\": \"histogram\"}], \"histogram2d\": [{\"colorbar\": {\"outlinewidth\": 0, \"ticks\": \"\"}, \"colorscale\": [[0.0, \"#0d0887\"], [0.1111111111111111, \"#46039f\"], [0.2222222222222222, \"#7201a8\"], [0.3333333333333333, \"#9c179e\"], [0.4444444444444444, \"#bd3786\"], [0.5555555555555556, \"#d8576b\"], [0.6666666666666666, \"#ed7953\"], [0.7777777777777778, \"#fb9f3a\"], [0.8888888888888888, \"#fdca26\"], [1.0, \"#f0f921\"]], \"type\": \"histogram2d\"}], \"histogram2dcontour\": [{\"colorbar\": {\"outlinewidth\": 0, \"ticks\": \"\"}, \"colorscale\": [[0.0, \"#0d0887\"], [0.1111111111111111, \"#46039f\"], [0.2222222222222222, \"#7201a8\"], [0.3333333333333333, \"#9c179e\"], [0.4444444444444444, \"#bd3786\"], [0.5555555555555556, \"#d8576b\"], [0.6666666666666666, \"#ed7953\"], [0.7777777777777778, \"#fb9f3a\"], [0.8888888888888888, \"#fdca26\"], [1.0, \"#f0f921\"]], \"type\": \"histogram2dcontour\"}], \"mesh3d\": [{\"colorbar\": {\"outlinewidth\": 0, \"ticks\": \"\"}, \"type\": \"mesh3d\"}], \"parcoords\": [{\"line\": {\"colorbar\": {\"outlinewidth\": 0, \"ticks\": \"\"}}, \"type\": \"parcoords\"}], \"pie\": [{\"automargin\": true, \"type\": \"pie\"}], \"scatter\": [{\"marker\": {\"colorbar\": {\"outlinewidth\": 0, \"ticks\": \"\"}}, \"type\": \"scatter\"}], \"scatter3d\": [{\"line\": {\"colorbar\": {\"outlinewidth\": 0, \"ticks\": \"\"}}, \"marker\": {\"colorbar\": {\"outlinewidth\": 0, \"ticks\": \"\"}}, \"type\": \"scatter3d\"}], \"scattercarpet\": [{\"marker\": {\"colorbar\": {\"outlinewidth\": 0, \"ticks\": \"\"}}, \"type\": \"scattercarpet\"}], \"scattergeo\": [{\"marker\": {\"colorbar\": {\"outlinewidth\": 0, \"ticks\": \"\"}}, \"type\": \"scattergeo\"}], \"scattergl\": [{\"marker\": {\"colorbar\": {\"outlinewidth\": 0, \"ticks\": \"\"}}, \"type\": \"scattergl\"}], \"scattermapbox\": [{\"marker\": {\"colorbar\": {\"outlinewidth\": 0, \"ticks\": \"\"}}, \"type\": \"scattermapbox\"}], \"scatterpolar\": [{\"marker\": {\"colorbar\": {\"outlinewidth\": 0, \"ticks\": \"\"}}, \"type\": \"scatterpolar\"}], \"scatterpolargl\": [{\"marker\": {\"colorbar\": {\"outlinewidth\": 0, \"ticks\": \"\"}}, \"type\": \"scatterpolargl\"}], \"scatterternary\": [{\"marker\": {\"colorbar\": {\"outlinewidth\": 0, \"ticks\": \"\"}}, \"type\": \"scatterternary\"}], \"surface\": [{\"colorbar\": {\"outlinewidth\": 0, \"ticks\": \"\"}, \"colorscale\": [[0.0, \"#0d0887\"], [0.1111111111111111, \"#46039f\"], [0.2222222222222222, \"#7201a8\"], [0.3333333333333333, \"#9c179e\"], [0.4444444444444444, \"#bd3786\"], [0.5555555555555556, \"#d8576b\"], [0.6666666666666666, \"#ed7953\"], [0.7777777777777778, \"#fb9f3a\"], [0.8888888888888888, \"#fdca26\"], [1.0, \"#f0f921\"]], \"type\": \"surface\"}], \"table\": [{\"cells\": {\"fill\": {\"color\": \"#EBF0F8\"}, \"line\": {\"color\": \"white\"}}, \"header\": {\"fill\": {\"color\": \"#C8D4E3\"}, \"line\": {\"color\": \"white\"}}, \"type\": \"table\"}]}, \"layout\": {\"annotationdefaults\": {\"arrowcolor\": \"#2a3f5f\", \"arrowhead\": 0, \"arrowwidth\": 1}, \"coloraxis\": {\"colorbar\": {\"outlinewidth\": 0, \"ticks\": \"\"}}, \"colorscale\": {\"diverging\": [[0, \"#8e0152\"], [0.1, \"#c51b7d\"], [0.2, \"#de77ae\"], [0.3, \"#f1b6da\"], [0.4, \"#fde0ef\"], [0.5, \"#f7f7f7\"], [0.6, \"#e6f5d0\"], [0.7, \"#b8e186\"], [0.8, \"#7fbc41\"], [0.9, \"#4d9221\"], [1, \"#276419\"]], \"sequential\": [[0.0, \"#0d0887\"], [0.1111111111111111, \"#46039f\"], [0.2222222222222222, \"#7201a8\"], [0.3333333333333333, \"#9c179e\"], [0.4444444444444444, \"#bd3786\"], [0.5555555555555556, \"#d8576b\"], [0.6666666666666666, \"#ed7953\"], [0.7777777777777778, \"#fb9f3a\"], [0.8888888888888888, \"#fdca26\"], [1.0, \"#f0f921\"]], \"sequentialminus\": [[0.0, \"#0d0887\"], [0.1111111111111111, \"#46039f\"], [0.2222222222222222, \"#7201a8\"], [0.3333333333333333, \"#9c179e\"], [0.4444444444444444, \"#bd3786\"], [0.5555555555555556, \"#d8576b\"], [0.6666666666666666, \"#ed7953\"], [0.7777777777777778, \"#fb9f3a\"], [0.8888888888888888, \"#fdca26\"], [1.0, \"#f0f921\"]]}, \"colorway\": [\"#636efa\", \"#EF553B\", \"#00cc96\", \"#ab63fa\", \"#FFA15A\", \"#19d3f3\", \"#FF6692\", \"#B6E880\", \"#FF97FF\", \"#FECB52\"], \"font\": {\"color\": \"#2a3f5f\"}, \"geo\": {\"bgcolor\": \"white\", \"lakecolor\": \"white\", \"landcolor\": \"#E5ECF6\", \"showlakes\": true, \"showland\": true, \"subunitcolor\": \"white\"}, \"hoverlabel\": {\"align\": \"left\"}, \"hovermode\": \"closest\", \"mapbox\": {\"style\": \"light\"}, \"paper_bgcolor\": \"white\", \"plot_bgcolor\": \"#E5ECF6\", \"polar\": {\"angularaxis\": {\"gridcolor\": \"white\", \"linecolor\": \"white\", \"ticks\": \"\"}, \"bgcolor\": \"#E5ECF6\", \"radialaxis\": {\"gridcolor\": \"white\", \"linecolor\": \"white\", \"ticks\": \"\"}}, \"scene\": {\"xaxis\": {\"backgroundcolor\": \"#E5ECF6\", \"gridcolor\": \"white\", \"gridwidth\": 2, \"linecolor\": \"white\", \"showbackground\": true, \"ticks\": \"\", \"zerolinecolor\": \"white\"}, \"yaxis\": {\"backgroundcolor\": \"#E5ECF6\", \"gridcolor\": \"white\", \"gridwidth\": 2, \"linecolor\": \"white\", \"showbackground\": true, \"ticks\": \"\", \"zerolinecolor\": \"white\"}, \"zaxis\": {\"backgroundcolor\": \"#E5ECF6\", \"gridcolor\": \"white\", \"gridwidth\": 2, \"linecolor\": \"white\", \"showbackground\": true, \"ticks\": \"\", \"zerolinecolor\": \"white\"}}, \"shapedefaults\": {\"line\": {\"color\": \"#2a3f5f\"}}, \"ternary\": {\"aaxis\": {\"gridcolor\": \"white\", \"linecolor\": \"white\", \"ticks\": \"\"}, \"baxis\": {\"gridcolor\": \"white\", \"linecolor\": \"white\", \"ticks\": \"\"}, \"bgcolor\": \"#E5ECF6\", \"caxis\": {\"gridcolor\": \"white\", \"linecolor\": \"white\", \"ticks\": \"\"}}, \"title\": {\"x\": 0.05}, \"xaxis\": {\"automargin\": true, \"gridcolor\": \"white\", \"linecolor\": \"white\", \"ticks\": \"\", \"title\": {\"standoff\": 15}, \"zerolinecolor\": \"white\", \"zerolinewidth\": 2}, \"yaxis\": {\"automargin\": true, \"gridcolor\": \"white\", \"linecolor\": \"white\", \"ticks\": \"\", \"title\": {\"standoff\": 15}, \"zerolinecolor\": \"white\", \"zerolinewidth\": 2}}}, \"title\": {\"text\": \"Ocorr\\u00eancia da palavra vacina por semana\", \"x\": 0.4, \"xanchor\": \"center\", \"y\": 0.95, \"yanchor\": \"top\"}, \"xaxis\": {\"tickangle\": 0, \"tickmode\": \"array\", \"ticktext\": [\"May/20\", \"Jun/20\", \"Jul/20\", \"Aug/20\", \"Sep/20\", \"Oct/20\", \"Nov/20\", \"Dec/20\", \"Jan/21\"], \"tickvals\": [19, 24, 28, 32, 37, 41, 45, 50, 54], \"title\": {\"text\": \"Semana Epidemiol\\u00f3gica\"}}, \"yaxis\": {\"title\": {\"text\": \"N\\u00famero de Ocorr\\u00eancias\"}}},                        {\"responsive\": true}                    ).then(function(){\n",
       "                            \n",
       "var gd = document.getElementById('38540ed4-1a99-4717-a465-8ecaad688432');\n",
       "var x = new MutationObserver(function (mutations, observer) {{\n",
       "        var display = window.getComputedStyle(gd).display;\n",
       "        if (!display || display === 'none') {{\n",
       "            console.log([gd, 'removed!']);\n",
       "            Plotly.purge(gd);\n",
       "            observer.disconnect();\n",
       "        }}\n",
       "}});\n",
       "\n",
       "// Listen for the removal of the full notebook cells\n",
       "var notebookContainer = gd.closest('#notebook-container');\n",
       "if (notebookContainer) {{\n",
       "    x.observe(notebookContainer, {childList: true});\n",
       "}}\n",
       "\n",
       "// Listen for the clearing of the current output cell\n",
       "var outputEl = gd.closest('.output');\n",
       "if (outputEl) {{\n",
       "    x.observe(outputEl, {childList: true});\n",
       "}}\n",
       "\n",
       "                        })                };                });            </script>        </div>"
      ]
     },
     "metadata": {},
     "output_type": "display_data"
    },
    {
     "data": {
      "text/plain": [
       "'ocorrencias.html'"
      ]
     },
     "execution_count": 17,
     "metadata": {},
     "output_type": "execute_result"
    }
   ],
   "source": [
    "fig = go.Figure()#['seagreen','dodgerblue','darkviolet','#ff8000','red']\n",
    "fig.add_trace(go.Scatter(x = vacina.index,y =vacina[\"tweets\"], marker = dict(color = \"dodgerblue\"),name = \"tweets\",hoverinfo=\"none\"))\n",
    "fig.add_trace(go.Scatter(x = vacina.index,y = vacina[\"retweet\"], marker = dict(color = \"#ff8000\"),name = \"retweets\",hoverinfo=\"none\"))\n",
    "\n",
    "fig.add_trace(go.Scatter(x = vacina[vacina.acontecimentos!=\"\"].index,y = vacina[vacina.acontecimentos!=\"\"][\"tweets\"],name = \"Acontecimento\", mode=\"markers\",marker = dict(symbol = \"0\",size=4,color = \"#2F4F4F\"),showlegend=False, customdata=vacina[vacina.acontecimentos!=\"\"][\"acontecimentos\"],hovertemplate='%{customdata}'))\n",
    "fig.add_trace(go.Scatter(x = vacina[vacina.acontecimentos!=\"\"].index,y = vacina[vacina.acontecimentos!=\"\"][\"retweet\"], name = \"Acontecimento\", mode=\"markers\",marker = dict(symbol = \"0\",size=4,color = \"#2F4F4F\"),showlegend=False,customdata=vacina[vacina.acontecimentos!=\"\"][\"acontecimentos\"],hovertemplate='%{customdata}'))\n",
    "\n",
    "#fig = px.line(ocor_rel,template=\"seaborn\")\n",
    "\n",
    "fig.update_layout(\n",
    "    title={\n",
    "        \"text\":\"Ocorrência da palavra vacina por semana\",\n",
    "        \"y\" : 0.95,\n",
    "        \"x\" : 0.4,\n",
    "        'xanchor': 'center',\n",
    "        'yanchor': 'top'},\n",
    "    xaxis_title=\"Semana Epidemiológica\",\n",
    "    yaxis_title=\"Número de Ocorrências\",\n",
    ")\n",
    "fig.update_layout(    \n",
    "    { \"xaxis\" : {\n",
    "        \"tickmode\" : \"array\",\n",
    "        \"tickvals\" :pd.DataFrame(np.unique(datas,return_index=True)).T.sort_values(1)[1].values+19,# [x for n,x in enumerate(ocor_rel.index) if n%4==0],\n",
    "        #\"ticktext\" : [y for n,y in enumerate(ocor_rel[\"label\"]) if n%2==0],\n",
    "        \"ticktext\" : pd.DataFrame(np.unique(datas,return_index=True)).T.sort_values(1)[0].values,\n",
    "        \"tickangle\" : 0,\n",
    "    }})\n",
    "#fig.update_layout(legend_title_text='Grupo de palavras')\n",
    "fig.show()\n",
    "py.plot(fig,filename=\"ocorrencias_vacina.html\", auto_open=False)"
   ]
  },
  {
   "cell_type": "code",
   "execution_count": 18,
   "metadata": {},
   "outputs": [
    {
     "data": {
      "application/vnd.plotly.v1+json": {
       "config": {
        "plotlyServerURL": "https://plot.ly"
       },
       "data": [
        {
         "hoverinfo": "none",
         "legendgroup": "A",
         "marker": {
          "color": "dodgerblue"
         },
         "name": "tweets",
         "type": "scatter",
         "x": [
          19,
          20,
          21,
          22,
          23,
          24,
          25,
          26,
          27,
          28,
          29,
          30,
          31,
          32,
          33,
          34,
          35,
          36,
          37,
          38,
          39,
          40,
          41,
          42,
          43,
          44,
          45,
          46,
          47,
          48,
          49,
          50,
          51,
          52,
          53,
          54
         ],
         "y": [
          0.003037802489572151,
          0.004170052303153178,
          0.006436787731335732,
          0.01407382013484173,
          0.006580526170420535,
          0.010539166988439905,
          0.013620304553842964,
          0.010813355314388292,
          0.011427448513292906,
          0.01803604674192909,
          0.0092739826773903,
          0.02293947681693193,
          0.0338302701259401,
          0.027913362902472164,
          0.0239838664547907,
          0.037360845444798375,
          0.02383983411202688,
          0.0224840251622328,
          0.03983799348269917,
          0.035725290551629436,
          0.02555741354799157,
          0.025803074366431242,
          0.027206183456183457,
          0.028489866370766587,
          0.040618334748567485,
          0.1033947324539148,
          0.046091801151220725,
          0.027096537649656402,
          0.0403575416330569,
          0.034096155114423266,
          0.045890544985988616,
          0.048927415300931185,
          0.08338725107166069,
          0.08720568879789413,
          0.06776298500612561,
          0.05875623392115437
         ]
        },
        {
         "hoverinfo": "none",
         "legendgroup": "B",
         "marker": {
          "color": "#ff8000"
         },
         "name": "retweets",
         "type": "scatter",
         "x": [
          19,
          20,
          21,
          22,
          23,
          24,
          25,
          26,
          27,
          28,
          29,
          30,
          31,
          32,
          33,
          34,
          35,
          36,
          37,
          38,
          39,
          40,
          41,
          42,
          43,
          44,
          45,
          46,
          47,
          48,
          49,
          50,
          51,
          52,
          53,
          54
         ],
         "y": [
          0.006828652080138329,
          0.005646527513646549,
          0.016460549919896917,
          0.05438117190774982,
          0.006204849117713331,
          0.025437578836428342,
          0.031237350732606924,
          0.032335982453784946,
          0.038230188855402726,
          0.07085222175588235,
          0.009318009102606472,
          0.08494184113706474,
          0.1112660641697971,
          0.07603308966973715,
          0.06564348208612347,
          0.07937658216521347,
          0.034142521142134986,
          0.019901202029134608,
          0.07549377159829201,
          0.04747902759711177,
          0.06735452213111577,
          0.03575780602512338,
          0.023223535421985787,
          0.03292484398306442,
          0.06382961621622242,
          0.2339197919120337,
          0.0971984333464831,
          0.0424488128859484,
          0.09219175858445187,
          0.051792786157278434,
          0.06304598676983744,
          0.10584430829351044,
          0.18043155756328352,
          0.19436868139447805,
          0.10255099559736408,
          0.07622381441464614
         ]
        },
        {
         "customdata": [
          "Bolsonaro livra agentes públicos de responsabilidade por erros durante epidemia<br>Covid-19 atinge dezenas de povos indígenas<br>Nelson Teich pede demissão do Ministério da Saúde",
          "Sem base científica, governo amplia uso da cloroquina",
          "Brasil ultrapassa Itália e é terceiro país com mais mortes por covid-19",
          "Brasil amplia orientações de uso da cloroquina contra a covid-19<br>Casos de covid-19 passam de 1 milhão no Brasil",
          "Vacina de Oxford contra covid-19 começa a ser testada no Brasil<br>Juiz manda Bolsonaro usar máscara em público",
          "UE estende proibição à entrada de viajantes do Brasil",
          "Bolsonaro diz estar com covid-19",
          "Casos de covid-19 passam de 2 milhões no Brasil",
          "Brasil: 100 mil mortos por covid-19",
          "Mais uma empresa alemã pretende testar vacina contra covid-19 no Brasil",
          "Brasil autoriza testes de mais uma vacina contra covid-19",
          "Saldo do coronavírus após seis meses no Brasil",
          "Índia passa Brasil e é segundo país com mais casos de covid-19",
          "Pazuello é efetivado como ministro da Saúde<br>Brasil adere à iniciativa global por vacinas contra covid-19",
          "Brasil ultrapassa marca de 5 milhões de casos de covid-19",
          "Testes no Brasil mostram segurança de vacina chinesa, diz Butantan<br>Pandemia deve elevar tanto a fome quanto a obesidade entre brasileiros<br>Brasil incluirá vacina chinesa em calendário nacional de vacinação<br>Anvisa autoriza importar 6 milhões de doses de vacina chinesa"
         ],
         "hovertemplate": "%{customdata}",
         "legendgroup": "A",
         "marker": {
          "color": "#2F4F4F",
          "size": 4,
          "symbol": "0"
         },
         "mode": "markers",
         "name": "Acontecimento",
         "showlegend": false,
         "type": "scatter",
         "x": [
          20,
          21,
          23,
          25,
          26,
          27,
          28,
          29,
          32,
          33,
          34,
          35,
          37,
          38,
          41,
          43
         ],
         "y": [
          0.004170052303153178,
          0.006436787731335732,
          0.006580526170420535,
          0.013620304553842964,
          0.010813355314388292,
          0.011427448513292906,
          0.01803604674192909,
          0.0092739826773903,
          0.027913362902472164,
          0.0239838664547907,
          0.037360845444798375,
          0.02383983411202688,
          0.03983799348269917,
          0.035725290551629436,
          0.027206183456183457,
          0.040618334748567485
         ]
        },
        {
         "customdata": [
          "Bolsonaro livra agentes públicos de responsabilidade por erros durante epidemia<br>Covid-19 atinge dezenas de povos indígenas<br>Nelson Teich pede demissão do Ministério da Saúde",
          "Sem base científica, governo amplia uso da cloroquina",
          "Brasil ultrapassa Itália e é terceiro país com mais mortes por covid-19",
          "Brasil amplia orientações de uso da cloroquina contra a covid-19<br>Casos de covid-19 passam de 1 milhão no Brasil",
          "Vacina de Oxford contra covid-19 começa a ser testada no Brasil<br>Juiz manda Bolsonaro usar máscara em público",
          "UE estende proibição à entrada de viajantes do Brasil",
          "Bolsonaro diz estar com covid-19",
          "Casos de covid-19 passam de 2 milhões no Brasil",
          "Brasil: 100 mil mortos por covid-19",
          "Mais uma empresa alemã pretende testar vacina contra covid-19 no Brasil",
          "Brasil autoriza testes de mais uma vacina contra covid-19",
          "Saldo do coronavírus após seis meses no Brasil",
          "Índia passa Brasil e é segundo país com mais casos de covid-19",
          "Pazuello é efetivado como ministro da Saúde<br>Brasil adere à iniciativa global por vacinas contra covid-19",
          "Brasil ultrapassa marca de 5 milhões de casos de covid-19",
          "Testes no Brasil mostram segurança de vacina chinesa, diz Butantan<br>Pandemia deve elevar tanto a fome quanto a obesidade entre brasileiros<br>Brasil incluirá vacina chinesa em calendário nacional de vacinação<br>Anvisa autoriza importar 6 milhões de doses de vacina chinesa"
         ],
         "hovertemplate": "%{customdata}",
         "legendgroup": "B",
         "marker": {
          "color": "#2F4F4F",
          "size": 4,
          "symbol": "0"
         },
         "mode": "markers",
         "name": "Acontecimento",
         "showlegend": false,
         "type": "scatter",
         "x": [
          20,
          21,
          23,
          25,
          26,
          27,
          28,
          29,
          32,
          33,
          34,
          35,
          37,
          38,
          41,
          43
         ],
         "y": [
          0.005646527513646549,
          0.016460549919896917,
          0.006204849117713331,
          0.031237350732606924,
          0.032335982453784946,
          0.038230188855402726,
          0.07085222175588235,
          0.009318009102606472,
          0.07603308966973715,
          0.06564348208612347,
          0.07937658216521347,
          0.034142521142134986,
          0.07549377159829201,
          0.04747902759711177,
          0.023223535421985787,
          0.06382961621622242
         ]
        }
       ],
       "layout": {
        "template": {
         "data": {
          "bar": [
           {
            "error_x": {
             "color": "#2a3f5f"
            },
            "error_y": {
             "color": "#2a3f5f"
            },
            "marker": {
             "line": {
              "color": "#E5ECF6",
              "width": 0.5
             }
            },
            "type": "bar"
           }
          ],
          "barpolar": [
           {
            "marker": {
             "line": {
              "color": "#E5ECF6",
              "width": 0.5
             }
            },
            "type": "barpolar"
           }
          ],
          "carpet": [
           {
            "aaxis": {
             "endlinecolor": "#2a3f5f",
             "gridcolor": "white",
             "linecolor": "white",
             "minorgridcolor": "white",
             "startlinecolor": "#2a3f5f"
            },
            "baxis": {
             "endlinecolor": "#2a3f5f",
             "gridcolor": "white",
             "linecolor": "white",
             "minorgridcolor": "white",
             "startlinecolor": "#2a3f5f"
            },
            "type": "carpet"
           }
          ],
          "choropleth": [
           {
            "colorbar": {
             "outlinewidth": 0,
             "ticks": ""
            },
            "type": "choropleth"
           }
          ],
          "contour": [
           {
            "colorbar": {
             "outlinewidth": 0,
             "ticks": ""
            },
            "colorscale": [
             [
              0,
              "#0d0887"
             ],
             [
              0.1111111111111111,
              "#46039f"
             ],
             [
              0.2222222222222222,
              "#7201a8"
             ],
             [
              0.3333333333333333,
              "#9c179e"
             ],
             [
              0.4444444444444444,
              "#bd3786"
             ],
             [
              0.5555555555555556,
              "#d8576b"
             ],
             [
              0.6666666666666666,
              "#ed7953"
             ],
             [
              0.7777777777777778,
              "#fb9f3a"
             ],
             [
              0.8888888888888888,
              "#fdca26"
             ],
             [
              1,
              "#f0f921"
             ]
            ],
            "type": "contour"
           }
          ],
          "contourcarpet": [
           {
            "colorbar": {
             "outlinewidth": 0,
             "ticks": ""
            },
            "type": "contourcarpet"
           }
          ],
          "heatmap": [
           {
            "colorbar": {
             "outlinewidth": 0,
             "ticks": ""
            },
            "colorscale": [
             [
              0,
              "#0d0887"
             ],
             [
              0.1111111111111111,
              "#46039f"
             ],
             [
              0.2222222222222222,
              "#7201a8"
             ],
             [
              0.3333333333333333,
              "#9c179e"
             ],
             [
              0.4444444444444444,
              "#bd3786"
             ],
             [
              0.5555555555555556,
              "#d8576b"
             ],
             [
              0.6666666666666666,
              "#ed7953"
             ],
             [
              0.7777777777777778,
              "#fb9f3a"
             ],
             [
              0.8888888888888888,
              "#fdca26"
             ],
             [
              1,
              "#f0f921"
             ]
            ],
            "type": "heatmap"
           }
          ],
          "heatmapgl": [
           {
            "colorbar": {
             "outlinewidth": 0,
             "ticks": ""
            },
            "colorscale": [
             [
              0,
              "#0d0887"
             ],
             [
              0.1111111111111111,
              "#46039f"
             ],
             [
              0.2222222222222222,
              "#7201a8"
             ],
             [
              0.3333333333333333,
              "#9c179e"
             ],
             [
              0.4444444444444444,
              "#bd3786"
             ],
             [
              0.5555555555555556,
              "#d8576b"
             ],
             [
              0.6666666666666666,
              "#ed7953"
             ],
             [
              0.7777777777777778,
              "#fb9f3a"
             ],
             [
              0.8888888888888888,
              "#fdca26"
             ],
             [
              1,
              "#f0f921"
             ]
            ],
            "type": "heatmapgl"
           }
          ],
          "histogram": [
           {
            "marker": {
             "colorbar": {
              "outlinewidth": 0,
              "ticks": ""
             }
            },
            "type": "histogram"
           }
          ],
          "histogram2d": [
           {
            "colorbar": {
             "outlinewidth": 0,
             "ticks": ""
            },
            "colorscale": [
             [
              0,
              "#0d0887"
             ],
             [
              0.1111111111111111,
              "#46039f"
             ],
             [
              0.2222222222222222,
              "#7201a8"
             ],
             [
              0.3333333333333333,
              "#9c179e"
             ],
             [
              0.4444444444444444,
              "#bd3786"
             ],
             [
              0.5555555555555556,
              "#d8576b"
             ],
             [
              0.6666666666666666,
              "#ed7953"
             ],
             [
              0.7777777777777778,
              "#fb9f3a"
             ],
             [
              0.8888888888888888,
              "#fdca26"
             ],
             [
              1,
              "#f0f921"
             ]
            ],
            "type": "histogram2d"
           }
          ],
          "histogram2dcontour": [
           {
            "colorbar": {
             "outlinewidth": 0,
             "ticks": ""
            },
            "colorscale": [
             [
              0,
              "#0d0887"
             ],
             [
              0.1111111111111111,
              "#46039f"
             ],
             [
              0.2222222222222222,
              "#7201a8"
             ],
             [
              0.3333333333333333,
              "#9c179e"
             ],
             [
              0.4444444444444444,
              "#bd3786"
             ],
             [
              0.5555555555555556,
              "#d8576b"
             ],
             [
              0.6666666666666666,
              "#ed7953"
             ],
             [
              0.7777777777777778,
              "#fb9f3a"
             ],
             [
              0.8888888888888888,
              "#fdca26"
             ],
             [
              1,
              "#f0f921"
             ]
            ],
            "type": "histogram2dcontour"
           }
          ],
          "mesh3d": [
           {
            "colorbar": {
             "outlinewidth": 0,
             "ticks": ""
            },
            "type": "mesh3d"
           }
          ],
          "parcoords": [
           {
            "line": {
             "colorbar": {
              "outlinewidth": 0,
              "ticks": ""
             }
            },
            "type": "parcoords"
           }
          ],
          "pie": [
           {
            "automargin": true,
            "type": "pie"
           }
          ],
          "scatter": [
           {
            "marker": {
             "colorbar": {
              "outlinewidth": 0,
              "ticks": ""
             }
            },
            "type": "scatter"
           }
          ],
          "scatter3d": [
           {
            "line": {
             "colorbar": {
              "outlinewidth": 0,
              "ticks": ""
             }
            },
            "marker": {
             "colorbar": {
              "outlinewidth": 0,
              "ticks": ""
             }
            },
            "type": "scatter3d"
           }
          ],
          "scattercarpet": [
           {
            "marker": {
             "colorbar": {
              "outlinewidth": 0,
              "ticks": ""
             }
            },
            "type": "scattercarpet"
           }
          ],
          "scattergeo": [
           {
            "marker": {
             "colorbar": {
              "outlinewidth": 0,
              "ticks": ""
             }
            },
            "type": "scattergeo"
           }
          ],
          "scattergl": [
           {
            "marker": {
             "colorbar": {
              "outlinewidth": 0,
              "ticks": ""
             }
            },
            "type": "scattergl"
           }
          ],
          "scattermapbox": [
           {
            "marker": {
             "colorbar": {
              "outlinewidth": 0,
              "ticks": ""
             }
            },
            "type": "scattermapbox"
           }
          ],
          "scatterpolar": [
           {
            "marker": {
             "colorbar": {
              "outlinewidth": 0,
              "ticks": ""
             }
            },
            "type": "scatterpolar"
           }
          ],
          "scatterpolargl": [
           {
            "marker": {
             "colorbar": {
              "outlinewidth": 0,
              "ticks": ""
             }
            },
            "type": "scatterpolargl"
           }
          ],
          "scatterternary": [
           {
            "marker": {
             "colorbar": {
              "outlinewidth": 0,
              "ticks": ""
             }
            },
            "type": "scatterternary"
           }
          ],
          "surface": [
           {
            "colorbar": {
             "outlinewidth": 0,
             "ticks": ""
            },
            "colorscale": [
             [
              0,
              "#0d0887"
             ],
             [
              0.1111111111111111,
              "#46039f"
             ],
             [
              0.2222222222222222,
              "#7201a8"
             ],
             [
              0.3333333333333333,
              "#9c179e"
             ],
             [
              0.4444444444444444,
              "#bd3786"
             ],
             [
              0.5555555555555556,
              "#d8576b"
             ],
             [
              0.6666666666666666,
              "#ed7953"
             ],
             [
              0.7777777777777778,
              "#fb9f3a"
             ],
             [
              0.8888888888888888,
              "#fdca26"
             ],
             [
              1,
              "#f0f921"
             ]
            ],
            "type": "surface"
           }
          ],
          "table": [
           {
            "cells": {
             "fill": {
              "color": "#EBF0F8"
             },
             "line": {
              "color": "white"
             }
            },
            "header": {
             "fill": {
              "color": "#C8D4E3"
             },
             "line": {
              "color": "white"
             }
            },
            "type": "table"
           }
          ]
         },
         "layout": {
          "annotationdefaults": {
           "arrowcolor": "#2a3f5f",
           "arrowhead": 0,
           "arrowwidth": 1
          },
          "coloraxis": {
           "colorbar": {
            "outlinewidth": 0,
            "ticks": ""
           }
          },
          "colorscale": {
           "diverging": [
            [
             0,
             "#8e0152"
            ],
            [
             0.1,
             "#c51b7d"
            ],
            [
             0.2,
             "#de77ae"
            ],
            [
             0.3,
             "#f1b6da"
            ],
            [
             0.4,
             "#fde0ef"
            ],
            [
             0.5,
             "#f7f7f7"
            ],
            [
             0.6,
             "#e6f5d0"
            ],
            [
             0.7,
             "#b8e186"
            ],
            [
             0.8,
             "#7fbc41"
            ],
            [
             0.9,
             "#4d9221"
            ],
            [
             1,
             "#276419"
            ]
           ],
           "sequential": [
            [
             0,
             "#0d0887"
            ],
            [
             0.1111111111111111,
             "#46039f"
            ],
            [
             0.2222222222222222,
             "#7201a8"
            ],
            [
             0.3333333333333333,
             "#9c179e"
            ],
            [
             0.4444444444444444,
             "#bd3786"
            ],
            [
             0.5555555555555556,
             "#d8576b"
            ],
            [
             0.6666666666666666,
             "#ed7953"
            ],
            [
             0.7777777777777778,
             "#fb9f3a"
            ],
            [
             0.8888888888888888,
             "#fdca26"
            ],
            [
             1,
             "#f0f921"
            ]
           ],
           "sequentialminus": [
            [
             0,
             "#0d0887"
            ],
            [
             0.1111111111111111,
             "#46039f"
            ],
            [
             0.2222222222222222,
             "#7201a8"
            ],
            [
             0.3333333333333333,
             "#9c179e"
            ],
            [
             0.4444444444444444,
             "#bd3786"
            ],
            [
             0.5555555555555556,
             "#d8576b"
            ],
            [
             0.6666666666666666,
             "#ed7953"
            ],
            [
             0.7777777777777778,
             "#fb9f3a"
            ],
            [
             0.8888888888888888,
             "#fdca26"
            ],
            [
             1,
             "#f0f921"
            ]
           ]
          },
          "colorway": [
           "#636efa",
           "#EF553B",
           "#00cc96",
           "#ab63fa",
           "#FFA15A",
           "#19d3f3",
           "#FF6692",
           "#B6E880",
           "#FF97FF",
           "#FECB52"
          ],
          "font": {
           "color": "#2a3f5f"
          },
          "geo": {
           "bgcolor": "white",
           "lakecolor": "white",
           "landcolor": "#E5ECF6",
           "showlakes": true,
           "showland": true,
           "subunitcolor": "white"
          },
          "hoverlabel": {
           "align": "left"
          },
          "hovermode": "closest",
          "mapbox": {
           "style": "light"
          },
          "paper_bgcolor": "white",
          "plot_bgcolor": "#E5ECF6",
          "polar": {
           "angularaxis": {
            "gridcolor": "white",
            "linecolor": "white",
            "ticks": ""
           },
           "bgcolor": "#E5ECF6",
           "radialaxis": {
            "gridcolor": "white",
            "linecolor": "white",
            "ticks": ""
           }
          },
          "scene": {
           "xaxis": {
            "backgroundcolor": "#E5ECF6",
            "gridcolor": "white",
            "gridwidth": 2,
            "linecolor": "white",
            "showbackground": true,
            "ticks": "",
            "zerolinecolor": "white"
           },
           "yaxis": {
            "backgroundcolor": "#E5ECF6",
            "gridcolor": "white",
            "gridwidth": 2,
            "linecolor": "white",
            "showbackground": true,
            "ticks": "",
            "zerolinecolor": "white"
           },
           "zaxis": {
            "backgroundcolor": "#E5ECF6",
            "gridcolor": "white",
            "gridwidth": 2,
            "linecolor": "white",
            "showbackground": true,
            "ticks": "",
            "zerolinecolor": "white"
           }
          },
          "shapedefaults": {
           "line": {
            "color": "#2a3f5f"
           }
          },
          "ternary": {
           "aaxis": {
            "gridcolor": "white",
            "linecolor": "white",
            "ticks": ""
           },
           "baxis": {
            "gridcolor": "white",
            "linecolor": "white",
            "ticks": ""
           },
           "bgcolor": "#E5ECF6",
           "caxis": {
            "gridcolor": "white",
            "linecolor": "white",
            "ticks": ""
           }
          },
          "title": {
           "x": 0.05
          },
          "xaxis": {
           "automargin": true,
           "gridcolor": "white",
           "linecolor": "white",
           "ticks": "",
           "title": {
            "standoff": 15
           },
           "zerolinecolor": "white",
           "zerolinewidth": 2
          },
          "yaxis": {
           "automargin": true,
           "gridcolor": "white",
           "linecolor": "white",
           "ticks": "",
           "title": {
            "standoff": 15
           },
           "zerolinecolor": "white",
           "zerolinewidth": 2
          }
         }
        },
        "title": {
         "text": "Ocorrência relativa da palavra vacina por semana",
         "x": 0.4,
         "xanchor": "center",
         "y": 0.95,
         "yanchor": "top"
        },
        "xaxis": {
         "tickangle": 0,
         "tickmode": "array",
         "ticktext": [
          "May/20",
          "Jun/20",
          "Jul/20",
          "Aug/20",
          "Sep/20",
          "Oct/20",
          "Nov/20",
          "Dec/20",
          "Jan/21"
         ],
         "tickvals": [
          19,
          24,
          28,
          32,
          37,
          41,
          45,
          50,
          54
         ],
         "title": {
          "text": "Semana Epidemiológica"
         }
        },
        "yaxis": {
         "title": {
          "text": "Número de Ocorrências/ Total de tweets"
         }
        }
       }
      },
      "text/html": [
       "<div>                            <div id=\"3b2e6d98-e3da-48bb-a695-4c2803df60d2\" class=\"plotly-graph-div\" style=\"height:525px; width:100%;\"></div>            <script type=\"text/javascript\">                require([\"plotly\"], function(Plotly) {                    window.PLOTLYENV=window.PLOTLYENV || {};                                    if (document.getElementById(\"3b2e6d98-e3da-48bb-a695-4c2803df60d2\")) {                    Plotly.newPlot(                        \"3b2e6d98-e3da-48bb-a695-4c2803df60d2\",                        [{\"hoverinfo\": \"none\", \"legendgroup\": \"A\", \"marker\": {\"color\": \"dodgerblue\"}, \"name\": \"tweets\", \"type\": \"scatter\", \"x\": [19, 20, 21, 22, 23, 24, 25, 26, 27, 28, 29, 30, 31, 32, 33, 34, 35, 36, 37, 38, 39, 40, 41, 42, 43, 44, 45, 46, 47, 48, 49, 50, 51, 52, 53, 54], \"y\": [0.003037802489572151, 0.004170052303153178, 0.006436787731335732, 0.01407382013484173, 0.006580526170420535, 0.010539166988439905, 0.013620304553842964, 0.010813355314388292, 0.011427448513292906, 0.01803604674192909, 0.0092739826773903, 0.02293947681693193, 0.0338302701259401, 0.027913362902472164, 0.0239838664547907, 0.037360845444798375, 0.02383983411202688, 0.0224840251622328, 0.03983799348269917, 0.035725290551629436, 0.02555741354799157, 0.025803074366431242, 0.027206183456183457, 0.028489866370766587, 0.040618334748567485, 0.1033947324539148, 0.046091801151220725, 0.027096537649656402, 0.0403575416330569, 0.034096155114423266, 0.045890544985988616, 0.048927415300931185, 0.08338725107166069, 0.08720568879789413, 0.06776298500612561, 0.05875623392115437]}, {\"hoverinfo\": \"none\", \"legendgroup\": \"B\", \"marker\": {\"color\": \"#ff8000\"}, \"name\": \"retweets\", \"type\": \"scatter\", \"x\": [19, 20, 21, 22, 23, 24, 25, 26, 27, 28, 29, 30, 31, 32, 33, 34, 35, 36, 37, 38, 39, 40, 41, 42, 43, 44, 45, 46, 47, 48, 49, 50, 51, 52, 53, 54], \"y\": [0.006828652080138329, 0.005646527513646549, 0.016460549919896917, 0.05438117190774982, 0.006204849117713331, 0.025437578836428342, 0.031237350732606924, 0.032335982453784946, 0.038230188855402726, 0.07085222175588235, 0.009318009102606472, 0.08494184113706474, 0.1112660641697971, 0.07603308966973715, 0.06564348208612347, 0.07937658216521347, 0.034142521142134986, 0.019901202029134608, 0.07549377159829201, 0.04747902759711177, 0.06735452213111577, 0.03575780602512338, 0.023223535421985787, 0.03292484398306442, 0.06382961621622242, 0.2339197919120337, 0.0971984333464831, 0.0424488128859484, 0.09219175858445187, 0.051792786157278434, 0.06304598676983744, 0.10584430829351044, 0.18043155756328352, 0.19436868139447805, 0.10255099559736408, 0.07622381441464614]}, {\"customdata\": [\"Bolsonaro livra agentes p\\u00fablicos de responsabilidade por erros durante epidemia<br>Covid-19 atinge dezenas de povos ind\\u00edgenas<br>Nelson Teich pede demiss\\u00e3o do Minist\\u00e9rio da Sa\\u00fade\", \"Sem base cient\\u00edfica, governo amplia uso da cloroquina\", \"Brasil ultrapassa It\\u00e1lia e \\u00e9 terceiro pa\\u00eds com mais mortes por covid-19\", \"Brasil amplia orienta\\u00e7\\u00f5es de uso da cloroquina contra a covid-19<br>Casos de covid-19 passam de 1 milh\\u00e3o no Brasil\", \"Vacina de Oxford contra covid-19 come\\u00e7a a ser testada no Brasil<br>Juiz manda Bolsonaro usar m\\u00e1scara em p\\u00fablico\", \"UE estende proibi\\u00e7\\u00e3o \\u00e0 entrada de viajantes do Brasil\", \"Bolsonaro diz estar com covid-19\", \"Casos de covid-19 passam de 2 milh\\u00f5es no Brasil\", \"Brasil: 100 mil mortos por covid-19\", \"Mais uma empresa alem\\u00e3 pretende testar vacina contra covid-19 no Brasil\", \"Brasil autoriza testes de mais uma vacina contra covid-19\", \"Saldo do coronav\\u00edrus ap\\u00f3s seis meses no Brasil\", \"\\u00cdndia passa Brasil e \\u00e9 segundo pa\\u00eds com mais casos de covid-19\", \"Pazuello \\u00e9 efetivado como ministro da Sa\\u00fade<br>Brasil adere \\u00e0 iniciativa global por vacinas contra covid-19\", \"Brasil ultrapassa marca de 5 milh\\u00f5es de casos de covid-19\", \"Testes no Brasil mostram seguran\\u00e7a de vacina chinesa, diz Butantan<br>Pandemia deve elevar tanto a fome quanto a obesidade entre brasileiros<br>Brasil incluir\\u00e1 vacina chinesa em calend\\u00e1rio nacional de vacina\\u00e7\\u00e3o<br>Anvisa autoriza importar 6 milh\\u00f5es de doses de vacina chinesa\"], \"hovertemplate\": \"%{customdata}\", \"legendgroup\": \"A\", \"marker\": {\"color\": \"#2F4F4F\", \"size\": 4, \"symbol\": \"0\"}, \"mode\": \"markers\", \"name\": \"Acontecimento\", \"showlegend\": false, \"type\": \"scatter\", \"x\": [20, 21, 23, 25, 26, 27, 28, 29, 32, 33, 34, 35, 37, 38, 41, 43], \"y\": [0.004170052303153178, 0.006436787731335732, 0.006580526170420535, 0.013620304553842964, 0.010813355314388292, 0.011427448513292906, 0.01803604674192909, 0.0092739826773903, 0.027913362902472164, 0.0239838664547907, 0.037360845444798375, 0.02383983411202688, 0.03983799348269917, 0.035725290551629436, 0.027206183456183457, 0.040618334748567485]}, {\"customdata\": [\"Bolsonaro livra agentes p\\u00fablicos de responsabilidade por erros durante epidemia<br>Covid-19 atinge dezenas de povos ind\\u00edgenas<br>Nelson Teich pede demiss\\u00e3o do Minist\\u00e9rio da Sa\\u00fade\", \"Sem base cient\\u00edfica, governo amplia uso da cloroquina\", \"Brasil ultrapassa It\\u00e1lia e \\u00e9 terceiro pa\\u00eds com mais mortes por covid-19\", \"Brasil amplia orienta\\u00e7\\u00f5es de uso da cloroquina contra a covid-19<br>Casos de covid-19 passam de 1 milh\\u00e3o no Brasil\", \"Vacina de Oxford contra covid-19 come\\u00e7a a ser testada no Brasil<br>Juiz manda Bolsonaro usar m\\u00e1scara em p\\u00fablico\", \"UE estende proibi\\u00e7\\u00e3o \\u00e0 entrada de viajantes do Brasil\", \"Bolsonaro diz estar com covid-19\", \"Casos de covid-19 passam de 2 milh\\u00f5es no Brasil\", \"Brasil: 100 mil mortos por covid-19\", \"Mais uma empresa alem\\u00e3 pretende testar vacina contra covid-19 no Brasil\", \"Brasil autoriza testes de mais uma vacina contra covid-19\", \"Saldo do coronav\\u00edrus ap\\u00f3s seis meses no Brasil\", \"\\u00cdndia passa Brasil e \\u00e9 segundo pa\\u00eds com mais casos de covid-19\", \"Pazuello \\u00e9 efetivado como ministro da Sa\\u00fade<br>Brasil adere \\u00e0 iniciativa global por vacinas contra covid-19\", \"Brasil ultrapassa marca de 5 milh\\u00f5es de casos de covid-19\", \"Testes no Brasil mostram seguran\\u00e7a de vacina chinesa, diz Butantan<br>Pandemia deve elevar tanto a fome quanto a obesidade entre brasileiros<br>Brasil incluir\\u00e1 vacina chinesa em calend\\u00e1rio nacional de vacina\\u00e7\\u00e3o<br>Anvisa autoriza importar 6 milh\\u00f5es de doses de vacina chinesa\"], \"hovertemplate\": \"%{customdata}\", \"legendgroup\": \"B\", \"marker\": {\"color\": \"#2F4F4F\", \"size\": 4, \"symbol\": \"0\"}, \"mode\": \"markers\", \"name\": \"Acontecimento\", \"showlegend\": false, \"type\": \"scatter\", \"x\": [20, 21, 23, 25, 26, 27, 28, 29, 32, 33, 34, 35, 37, 38, 41, 43], \"y\": [0.005646527513646549, 0.016460549919896917, 0.006204849117713331, 0.031237350732606924, 0.032335982453784946, 0.038230188855402726, 0.07085222175588235, 0.009318009102606472, 0.07603308966973715, 0.06564348208612347, 0.07937658216521347, 0.034142521142134986, 0.07549377159829201, 0.04747902759711177, 0.023223535421985787, 0.06382961621622242]}],                        {\"template\": {\"data\": {\"bar\": [{\"error_x\": {\"color\": \"#2a3f5f\"}, \"error_y\": {\"color\": \"#2a3f5f\"}, \"marker\": {\"line\": {\"color\": \"#E5ECF6\", \"width\": 0.5}}, \"type\": \"bar\"}], \"barpolar\": [{\"marker\": {\"line\": {\"color\": \"#E5ECF6\", \"width\": 0.5}}, \"type\": \"barpolar\"}], \"carpet\": [{\"aaxis\": {\"endlinecolor\": \"#2a3f5f\", \"gridcolor\": \"white\", \"linecolor\": \"white\", \"minorgridcolor\": \"white\", \"startlinecolor\": \"#2a3f5f\"}, \"baxis\": {\"endlinecolor\": \"#2a3f5f\", \"gridcolor\": \"white\", \"linecolor\": \"white\", \"minorgridcolor\": \"white\", \"startlinecolor\": \"#2a3f5f\"}, \"type\": \"carpet\"}], \"choropleth\": [{\"colorbar\": {\"outlinewidth\": 0, \"ticks\": \"\"}, \"type\": \"choropleth\"}], \"contour\": [{\"colorbar\": {\"outlinewidth\": 0, \"ticks\": \"\"}, \"colorscale\": [[0.0, \"#0d0887\"], [0.1111111111111111, \"#46039f\"], [0.2222222222222222, \"#7201a8\"], [0.3333333333333333, \"#9c179e\"], [0.4444444444444444, \"#bd3786\"], [0.5555555555555556, \"#d8576b\"], [0.6666666666666666, \"#ed7953\"], [0.7777777777777778, \"#fb9f3a\"], [0.8888888888888888, \"#fdca26\"], [1.0, \"#f0f921\"]], \"type\": \"contour\"}], \"contourcarpet\": [{\"colorbar\": {\"outlinewidth\": 0, \"ticks\": \"\"}, \"type\": \"contourcarpet\"}], \"heatmap\": [{\"colorbar\": {\"outlinewidth\": 0, \"ticks\": \"\"}, \"colorscale\": [[0.0, \"#0d0887\"], [0.1111111111111111, \"#46039f\"], [0.2222222222222222, \"#7201a8\"], [0.3333333333333333, \"#9c179e\"], [0.4444444444444444, \"#bd3786\"], [0.5555555555555556, \"#d8576b\"], [0.6666666666666666, \"#ed7953\"], [0.7777777777777778, \"#fb9f3a\"], [0.8888888888888888, \"#fdca26\"], [1.0, \"#f0f921\"]], \"type\": \"heatmap\"}], \"heatmapgl\": [{\"colorbar\": {\"outlinewidth\": 0, \"ticks\": \"\"}, \"colorscale\": [[0.0, \"#0d0887\"], [0.1111111111111111, \"#46039f\"], [0.2222222222222222, \"#7201a8\"], [0.3333333333333333, \"#9c179e\"], [0.4444444444444444, \"#bd3786\"], [0.5555555555555556, \"#d8576b\"], [0.6666666666666666, \"#ed7953\"], [0.7777777777777778, \"#fb9f3a\"], [0.8888888888888888, \"#fdca26\"], [1.0, \"#f0f921\"]], \"type\": \"heatmapgl\"}], \"histogram\": [{\"marker\": {\"colorbar\": {\"outlinewidth\": 0, \"ticks\": \"\"}}, \"type\": \"histogram\"}], \"histogram2d\": [{\"colorbar\": {\"outlinewidth\": 0, \"ticks\": \"\"}, \"colorscale\": [[0.0, \"#0d0887\"], [0.1111111111111111, \"#46039f\"], [0.2222222222222222, \"#7201a8\"], [0.3333333333333333, \"#9c179e\"], [0.4444444444444444, \"#bd3786\"], [0.5555555555555556, \"#d8576b\"], [0.6666666666666666, \"#ed7953\"], [0.7777777777777778, \"#fb9f3a\"], [0.8888888888888888, \"#fdca26\"], [1.0, \"#f0f921\"]], \"type\": \"histogram2d\"}], \"histogram2dcontour\": [{\"colorbar\": {\"outlinewidth\": 0, \"ticks\": \"\"}, \"colorscale\": [[0.0, \"#0d0887\"], [0.1111111111111111, \"#46039f\"], [0.2222222222222222, \"#7201a8\"], [0.3333333333333333, \"#9c179e\"], [0.4444444444444444, \"#bd3786\"], [0.5555555555555556, \"#d8576b\"], [0.6666666666666666, \"#ed7953\"], [0.7777777777777778, \"#fb9f3a\"], [0.8888888888888888, \"#fdca26\"], [1.0, \"#f0f921\"]], \"type\": \"histogram2dcontour\"}], \"mesh3d\": [{\"colorbar\": {\"outlinewidth\": 0, \"ticks\": \"\"}, \"type\": \"mesh3d\"}], \"parcoords\": [{\"line\": {\"colorbar\": {\"outlinewidth\": 0, \"ticks\": \"\"}}, \"type\": \"parcoords\"}], \"pie\": [{\"automargin\": true, \"type\": \"pie\"}], \"scatter\": [{\"marker\": {\"colorbar\": {\"outlinewidth\": 0, \"ticks\": \"\"}}, \"type\": \"scatter\"}], \"scatter3d\": [{\"line\": {\"colorbar\": {\"outlinewidth\": 0, \"ticks\": \"\"}}, \"marker\": {\"colorbar\": {\"outlinewidth\": 0, \"ticks\": \"\"}}, \"type\": \"scatter3d\"}], \"scattercarpet\": [{\"marker\": {\"colorbar\": {\"outlinewidth\": 0, \"ticks\": \"\"}}, \"type\": \"scattercarpet\"}], \"scattergeo\": [{\"marker\": {\"colorbar\": {\"outlinewidth\": 0, \"ticks\": \"\"}}, \"type\": \"scattergeo\"}], \"scattergl\": [{\"marker\": {\"colorbar\": {\"outlinewidth\": 0, \"ticks\": \"\"}}, \"type\": \"scattergl\"}], \"scattermapbox\": [{\"marker\": {\"colorbar\": {\"outlinewidth\": 0, \"ticks\": \"\"}}, \"type\": \"scattermapbox\"}], \"scatterpolar\": [{\"marker\": {\"colorbar\": {\"outlinewidth\": 0, \"ticks\": \"\"}}, \"type\": \"scatterpolar\"}], \"scatterpolargl\": [{\"marker\": {\"colorbar\": {\"outlinewidth\": 0, \"ticks\": \"\"}}, \"type\": \"scatterpolargl\"}], \"scatterternary\": [{\"marker\": {\"colorbar\": {\"outlinewidth\": 0, \"ticks\": \"\"}}, \"type\": \"scatterternary\"}], \"surface\": [{\"colorbar\": {\"outlinewidth\": 0, \"ticks\": \"\"}, \"colorscale\": [[0.0, \"#0d0887\"], [0.1111111111111111, \"#46039f\"], [0.2222222222222222, \"#7201a8\"], [0.3333333333333333, \"#9c179e\"], [0.4444444444444444, \"#bd3786\"], [0.5555555555555556, \"#d8576b\"], [0.6666666666666666, \"#ed7953\"], [0.7777777777777778, \"#fb9f3a\"], [0.8888888888888888, \"#fdca26\"], [1.0, \"#f0f921\"]], \"type\": \"surface\"}], \"table\": [{\"cells\": {\"fill\": {\"color\": \"#EBF0F8\"}, \"line\": {\"color\": \"white\"}}, \"header\": {\"fill\": {\"color\": \"#C8D4E3\"}, \"line\": {\"color\": \"white\"}}, \"type\": \"table\"}]}, \"layout\": {\"annotationdefaults\": {\"arrowcolor\": \"#2a3f5f\", \"arrowhead\": 0, \"arrowwidth\": 1}, \"coloraxis\": {\"colorbar\": {\"outlinewidth\": 0, \"ticks\": \"\"}}, \"colorscale\": {\"diverging\": [[0, \"#8e0152\"], [0.1, \"#c51b7d\"], [0.2, \"#de77ae\"], [0.3, \"#f1b6da\"], [0.4, \"#fde0ef\"], [0.5, \"#f7f7f7\"], [0.6, \"#e6f5d0\"], [0.7, \"#b8e186\"], [0.8, \"#7fbc41\"], [0.9, \"#4d9221\"], [1, \"#276419\"]], \"sequential\": [[0.0, \"#0d0887\"], [0.1111111111111111, \"#46039f\"], [0.2222222222222222, \"#7201a8\"], [0.3333333333333333, \"#9c179e\"], [0.4444444444444444, \"#bd3786\"], [0.5555555555555556, \"#d8576b\"], [0.6666666666666666, \"#ed7953\"], [0.7777777777777778, \"#fb9f3a\"], [0.8888888888888888, \"#fdca26\"], [1.0, \"#f0f921\"]], \"sequentialminus\": [[0.0, \"#0d0887\"], [0.1111111111111111, \"#46039f\"], [0.2222222222222222, \"#7201a8\"], [0.3333333333333333, \"#9c179e\"], [0.4444444444444444, \"#bd3786\"], [0.5555555555555556, \"#d8576b\"], [0.6666666666666666, \"#ed7953\"], [0.7777777777777778, \"#fb9f3a\"], [0.8888888888888888, \"#fdca26\"], [1.0, \"#f0f921\"]]}, \"colorway\": [\"#636efa\", \"#EF553B\", \"#00cc96\", \"#ab63fa\", \"#FFA15A\", \"#19d3f3\", \"#FF6692\", \"#B6E880\", \"#FF97FF\", \"#FECB52\"], \"font\": {\"color\": \"#2a3f5f\"}, \"geo\": {\"bgcolor\": \"white\", \"lakecolor\": \"white\", \"landcolor\": \"#E5ECF6\", \"showlakes\": true, \"showland\": true, \"subunitcolor\": \"white\"}, \"hoverlabel\": {\"align\": \"left\"}, \"hovermode\": \"closest\", \"mapbox\": {\"style\": \"light\"}, \"paper_bgcolor\": \"white\", \"plot_bgcolor\": \"#E5ECF6\", \"polar\": {\"angularaxis\": {\"gridcolor\": \"white\", \"linecolor\": \"white\", \"ticks\": \"\"}, \"bgcolor\": \"#E5ECF6\", \"radialaxis\": {\"gridcolor\": \"white\", \"linecolor\": \"white\", \"ticks\": \"\"}}, \"scene\": {\"xaxis\": {\"backgroundcolor\": \"#E5ECF6\", \"gridcolor\": \"white\", \"gridwidth\": 2, \"linecolor\": \"white\", \"showbackground\": true, \"ticks\": \"\", \"zerolinecolor\": \"white\"}, \"yaxis\": {\"backgroundcolor\": \"#E5ECF6\", \"gridcolor\": \"white\", \"gridwidth\": 2, \"linecolor\": \"white\", \"showbackground\": true, \"ticks\": \"\", \"zerolinecolor\": \"white\"}, \"zaxis\": {\"backgroundcolor\": \"#E5ECF6\", \"gridcolor\": \"white\", \"gridwidth\": 2, \"linecolor\": \"white\", \"showbackground\": true, \"ticks\": \"\", \"zerolinecolor\": \"white\"}}, \"shapedefaults\": {\"line\": {\"color\": \"#2a3f5f\"}}, \"ternary\": {\"aaxis\": {\"gridcolor\": \"white\", \"linecolor\": \"white\", \"ticks\": \"\"}, \"baxis\": {\"gridcolor\": \"white\", \"linecolor\": \"white\", \"ticks\": \"\"}, \"bgcolor\": \"#E5ECF6\", \"caxis\": {\"gridcolor\": \"white\", \"linecolor\": \"white\", \"ticks\": \"\"}}, \"title\": {\"x\": 0.05}, \"xaxis\": {\"automargin\": true, \"gridcolor\": \"white\", \"linecolor\": \"white\", \"ticks\": \"\", \"title\": {\"standoff\": 15}, \"zerolinecolor\": \"white\", \"zerolinewidth\": 2}, \"yaxis\": {\"automargin\": true, \"gridcolor\": \"white\", \"linecolor\": \"white\", \"ticks\": \"\", \"title\": {\"standoff\": 15}, \"zerolinecolor\": \"white\", \"zerolinewidth\": 2}}}, \"title\": {\"text\": \"Ocorr\\u00eancia relativa da palavra vacina por semana\", \"x\": 0.4, \"xanchor\": \"center\", \"y\": 0.95, \"yanchor\": \"top\"}, \"xaxis\": {\"tickangle\": 0, \"tickmode\": \"array\", \"ticktext\": [\"May/20\", \"Jun/20\", \"Jul/20\", \"Aug/20\", \"Sep/20\", \"Oct/20\", \"Nov/20\", \"Dec/20\", \"Jan/21\"], \"tickvals\": [19, 24, 28, 32, 37, 41, 45, 50, 54], \"title\": {\"text\": \"Semana Epidemiol\\u00f3gica\"}}, \"yaxis\": {\"title\": {\"text\": \"N\\u00famero de Ocorr\\u00eancias/ Total de tweets\"}}},                        {\"responsive\": true}                    ).then(function(){\n",
       "                            \n",
       "var gd = document.getElementById('3b2e6d98-e3da-48bb-a695-4c2803df60d2');\n",
       "var x = new MutationObserver(function (mutations, observer) {{\n",
       "        var display = window.getComputedStyle(gd).display;\n",
       "        if (!display || display === 'none') {{\n",
       "            console.log([gd, 'removed!']);\n",
       "            Plotly.purge(gd);\n",
       "            observer.disconnect();\n",
       "        }}\n",
       "}});\n",
       "\n",
       "// Listen for the removal of the full notebook cells\n",
       "var notebookContainer = gd.closest('#notebook-container');\n",
       "if (notebookContainer) {{\n",
       "    x.observe(notebookContainer, {childList: true});\n",
       "}}\n",
       "\n",
       "// Listen for the clearing of the current output cell\n",
       "var outputEl = gd.closest('.output');\n",
       "if (outputEl) {{\n",
       "    x.observe(outputEl, {childList: true});\n",
       "}}\n",
       "\n",
       "                        })                };                });            </script>        </div>"
      ]
     },
     "metadata": {},
     "output_type": "display_data"
    },
    {
     "data": {
      "text/plain": [
       "'ocorrencias_relativas.html'"
      ]
     },
     "execution_count": 18,
     "metadata": {},
     "output_type": "execute_result"
    }
   ],
   "source": [
    "fig = go.Figure()#['seagreen','dodgerblue','darkviolet','#ff8000','red']\n",
    "fig.add_trace(go.Scatter(x = vacina.index,y =vacina[\"tweets_relativo\"], marker = dict(color = \"dodgerblue\"),legendgroup=\"A\",name = \"tweets\",hoverinfo=\"none\"))\n",
    "fig.add_trace(go.Scatter(x = vacina.index,y = vacina[\"retweets_relativos\"], marker = dict(color = \"#ff8000\"),legendgroup=\"B\",name = \"retweets\",hoverinfo=\"none\"))\n",
    "\n",
    "fig.add_trace(go.Scatter(x = vacina[vacina.acontecimentos!=\"\"].index,y = vacina[vacina.acontecimentos!=\"\"][\"tweets_relativo\"],legendgroup=\"A\",name = \"Acontecimento\", mode=\"markers\",marker = dict(symbol = \"0\",size=4,color = \"#2F4F4F\"),showlegend=False, customdata=vacina[vacina.acontecimentos!=\"\"][\"acontecimentos\"],hovertemplate='%{customdata}'))\n",
    "fig.add_trace(go.Scatter(x = vacina[vacina.acontecimentos!=\"\"].index,y = vacina[vacina.acontecimentos!=\"\"][\"retweets_relativos\"],legendgroup=\"B\", name = \"Acontecimento\", mode=\"markers\",marker = dict(symbol = \"0\",size=4,color = \"#2F4F4F\"),showlegend=False,customdata=vacina[vacina.acontecimentos!=\"\"][\"acontecimentos\"],hovertemplate='%{customdata}'))\n",
    "\n",
    "#fig = px.line(ocor_rel,template=\"seaborn\")\n",
    "\n",
    "fig.update_layout(\n",
    "    title={\n",
    "        \"text\":\"Ocorrência relativa da palavra vacina por semana\",\n",
    "        \"y\" : 0.95,\n",
    "        \"x\" : 0.4,\n",
    "        'xanchor': 'center',\n",
    "        'yanchor': 'top'},\n",
    "    xaxis_title=\"Semana Epidemiológica\",\n",
    "    yaxis_title=\"Número de Ocorrências/ Total de tweets\",\n",
    ")\n",
    "fig.update_layout(    \n",
    "    { \"xaxis\" : {\n",
    "        \"tickmode\" : \"array\",\n",
    "        \"tickvals\" :pd.DataFrame(np.unique(datas,return_index=True)).T.sort_values(1)[1].values+19,# [x for n,x in enumerate(ocor_rel.index) if n%4==0],\n",
    "        #\"ticktext\" : [y for n,y in enumerate(ocor_rel[\"label\"]) if n%2==0],\n",
    "        \"ticktext\" : pd.DataFrame(np.unique(datas,return_index=True)).T.sort_values(1)[0].values,\n",
    "        \"tickangle\" : 0,\n",
    "    }})\n",
    "#fig.update_layout(legend_title_text='Grupo de palavras')\n",
    "fig.show()\n",
    "py.plot(fig,filename=\"ocorrencias_vacina_relativa.html\", auto_open=False)"
   ]
  },
  {
   "cell_type": "code",
   "execution_count": 19,
   "metadata": {},
   "outputs": [
    {
     "data": {
      "application/vnd.plotly.v1+json": {
       "config": {
        "plotlyServerURL": "https://plot.ly"
       },
       "data": [
        {
         "cells": {
          "align": [
           "center",
           "center",
           "left"
          ],
          "values": [
           [
            "14/05",
            "15/05",
            "15/05",
            "20/05",
            "04/06",
            "15/06",
            "19/06",
            "22/06",
            "22/06",
            "30/06",
            "07/07",
            "16/07",
            "08/08",
            "11/08",
            "18/08",
            "26/08",
            "07/09",
            "16,09",
            "19/09",
            "07/10",
            "19/10",
            "20/10",
            "20/10",
            "23/10"
           ],
           [
            20,
            20,
            20,
            21,
            23,
            25,
            25,
            26,
            26,
            27,
            28,
            29,
            32,
            33,
            34,
            35,
            37,
            38,
            38,
            41,
            43,
            43,
            43,
            43
           ],
           [
            "Bolsonaro livra agentes públicos de responsabilidade por erros durante epidemia",
            "Covid-19 atinge dezenas de povos indígenas",
            "Nelson Teich pede demissão do Ministério da Saúde",
            "Sem base científica, governo amplia uso da cloroquina",
            "Brasil ultrapassa Itália e é terceiro país com mais mortes por covid-19",
            "Brasil amplia orientações de uso da cloroquina contra a covid-19",
            "Casos de covid-19 passam de 1 milhão no Brasil",
            "Vacina de Oxford contra covid-19 começa a ser testada no Brasil",
            "Juiz manda Bolsonaro usar máscara em público",
            "UE estende proibição à entrada de viajantes do Brasil",
            "Bolsonaro diz estar com covid-19",
            "Casos de covid-19 passam de 2 milhões no Brasil",
            "Brasil: 100 mil mortos por covid-19",
            "Mais uma empresa alemã pretende testar vacina contra covid-19 no Brasil",
            "Brasil autoriza testes de mais uma vacina contra covid-19",
            "Saldo do coronavírus após seis meses no Brasil",
            "Índia passa Brasil e é segundo país com mais casos de covid-19",
            "Pazuello é efetivado como ministro da Saúde",
            "Brasil adere à iniciativa global por vacinas contra covid-19",
            "Brasil ultrapassa marca de 5 milhões de casos de covid-19",
            "Testes no Brasil mostram segurança de vacina chinesa, diz Butantan",
            "Pandemia deve elevar tanto a fome quanto a obesidade entre brasileiros",
            "Brasil incluirá vacina chinesa em calendário nacional de vacinação",
            "Anvisa autoriza importar 6 milhões de doses de vacina chinesa"
           ]
          ]
         },
         "columnwidth": [
          7,
          20,
          50
         ],
         "header": {
          "values": [
           "Data",
           "Senama Epidemiológica",
           "Acontecimento"
          ]
         },
         "type": "table"
        }
       ],
       "layout": {
        "template": {
         "data": {
          "bar": [
           {
            "error_x": {
             "color": "#2a3f5f"
            },
            "error_y": {
             "color": "#2a3f5f"
            },
            "marker": {
             "line": {
              "color": "#E5ECF6",
              "width": 0.5
             }
            },
            "type": "bar"
           }
          ],
          "barpolar": [
           {
            "marker": {
             "line": {
              "color": "#E5ECF6",
              "width": 0.5
             }
            },
            "type": "barpolar"
           }
          ],
          "carpet": [
           {
            "aaxis": {
             "endlinecolor": "#2a3f5f",
             "gridcolor": "white",
             "linecolor": "white",
             "minorgridcolor": "white",
             "startlinecolor": "#2a3f5f"
            },
            "baxis": {
             "endlinecolor": "#2a3f5f",
             "gridcolor": "white",
             "linecolor": "white",
             "minorgridcolor": "white",
             "startlinecolor": "#2a3f5f"
            },
            "type": "carpet"
           }
          ],
          "choropleth": [
           {
            "colorbar": {
             "outlinewidth": 0,
             "ticks": ""
            },
            "type": "choropleth"
           }
          ],
          "contour": [
           {
            "colorbar": {
             "outlinewidth": 0,
             "ticks": ""
            },
            "colorscale": [
             [
              0,
              "#0d0887"
             ],
             [
              0.1111111111111111,
              "#46039f"
             ],
             [
              0.2222222222222222,
              "#7201a8"
             ],
             [
              0.3333333333333333,
              "#9c179e"
             ],
             [
              0.4444444444444444,
              "#bd3786"
             ],
             [
              0.5555555555555556,
              "#d8576b"
             ],
             [
              0.6666666666666666,
              "#ed7953"
             ],
             [
              0.7777777777777778,
              "#fb9f3a"
             ],
             [
              0.8888888888888888,
              "#fdca26"
             ],
             [
              1,
              "#f0f921"
             ]
            ],
            "type": "contour"
           }
          ],
          "contourcarpet": [
           {
            "colorbar": {
             "outlinewidth": 0,
             "ticks": ""
            },
            "type": "contourcarpet"
           }
          ],
          "heatmap": [
           {
            "colorbar": {
             "outlinewidth": 0,
             "ticks": ""
            },
            "colorscale": [
             [
              0,
              "#0d0887"
             ],
             [
              0.1111111111111111,
              "#46039f"
             ],
             [
              0.2222222222222222,
              "#7201a8"
             ],
             [
              0.3333333333333333,
              "#9c179e"
             ],
             [
              0.4444444444444444,
              "#bd3786"
             ],
             [
              0.5555555555555556,
              "#d8576b"
             ],
             [
              0.6666666666666666,
              "#ed7953"
             ],
             [
              0.7777777777777778,
              "#fb9f3a"
             ],
             [
              0.8888888888888888,
              "#fdca26"
             ],
             [
              1,
              "#f0f921"
             ]
            ],
            "type": "heatmap"
           }
          ],
          "heatmapgl": [
           {
            "colorbar": {
             "outlinewidth": 0,
             "ticks": ""
            },
            "colorscale": [
             [
              0,
              "#0d0887"
             ],
             [
              0.1111111111111111,
              "#46039f"
             ],
             [
              0.2222222222222222,
              "#7201a8"
             ],
             [
              0.3333333333333333,
              "#9c179e"
             ],
             [
              0.4444444444444444,
              "#bd3786"
             ],
             [
              0.5555555555555556,
              "#d8576b"
             ],
             [
              0.6666666666666666,
              "#ed7953"
             ],
             [
              0.7777777777777778,
              "#fb9f3a"
             ],
             [
              0.8888888888888888,
              "#fdca26"
             ],
             [
              1,
              "#f0f921"
             ]
            ],
            "type": "heatmapgl"
           }
          ],
          "histogram": [
           {
            "marker": {
             "colorbar": {
              "outlinewidth": 0,
              "ticks": ""
             }
            },
            "type": "histogram"
           }
          ],
          "histogram2d": [
           {
            "colorbar": {
             "outlinewidth": 0,
             "ticks": ""
            },
            "colorscale": [
             [
              0,
              "#0d0887"
             ],
             [
              0.1111111111111111,
              "#46039f"
             ],
             [
              0.2222222222222222,
              "#7201a8"
             ],
             [
              0.3333333333333333,
              "#9c179e"
             ],
             [
              0.4444444444444444,
              "#bd3786"
             ],
             [
              0.5555555555555556,
              "#d8576b"
             ],
             [
              0.6666666666666666,
              "#ed7953"
             ],
             [
              0.7777777777777778,
              "#fb9f3a"
             ],
             [
              0.8888888888888888,
              "#fdca26"
             ],
             [
              1,
              "#f0f921"
             ]
            ],
            "type": "histogram2d"
           }
          ],
          "histogram2dcontour": [
           {
            "colorbar": {
             "outlinewidth": 0,
             "ticks": ""
            },
            "colorscale": [
             [
              0,
              "#0d0887"
             ],
             [
              0.1111111111111111,
              "#46039f"
             ],
             [
              0.2222222222222222,
              "#7201a8"
             ],
             [
              0.3333333333333333,
              "#9c179e"
             ],
             [
              0.4444444444444444,
              "#bd3786"
             ],
             [
              0.5555555555555556,
              "#d8576b"
             ],
             [
              0.6666666666666666,
              "#ed7953"
             ],
             [
              0.7777777777777778,
              "#fb9f3a"
             ],
             [
              0.8888888888888888,
              "#fdca26"
             ],
             [
              1,
              "#f0f921"
             ]
            ],
            "type": "histogram2dcontour"
           }
          ],
          "mesh3d": [
           {
            "colorbar": {
             "outlinewidth": 0,
             "ticks": ""
            },
            "type": "mesh3d"
           }
          ],
          "parcoords": [
           {
            "line": {
             "colorbar": {
              "outlinewidth": 0,
              "ticks": ""
             }
            },
            "type": "parcoords"
           }
          ],
          "pie": [
           {
            "automargin": true,
            "type": "pie"
           }
          ],
          "scatter": [
           {
            "marker": {
             "colorbar": {
              "outlinewidth": 0,
              "ticks": ""
             }
            },
            "type": "scatter"
           }
          ],
          "scatter3d": [
           {
            "line": {
             "colorbar": {
              "outlinewidth": 0,
              "ticks": ""
             }
            },
            "marker": {
             "colorbar": {
              "outlinewidth": 0,
              "ticks": ""
             }
            },
            "type": "scatter3d"
           }
          ],
          "scattercarpet": [
           {
            "marker": {
             "colorbar": {
              "outlinewidth": 0,
              "ticks": ""
             }
            },
            "type": "scattercarpet"
           }
          ],
          "scattergeo": [
           {
            "marker": {
             "colorbar": {
              "outlinewidth": 0,
              "ticks": ""
             }
            },
            "type": "scattergeo"
           }
          ],
          "scattergl": [
           {
            "marker": {
             "colorbar": {
              "outlinewidth": 0,
              "ticks": ""
             }
            },
            "type": "scattergl"
           }
          ],
          "scattermapbox": [
           {
            "marker": {
             "colorbar": {
              "outlinewidth": 0,
              "ticks": ""
             }
            },
            "type": "scattermapbox"
           }
          ],
          "scatterpolar": [
           {
            "marker": {
             "colorbar": {
              "outlinewidth": 0,
              "ticks": ""
             }
            },
            "type": "scatterpolar"
           }
          ],
          "scatterpolargl": [
           {
            "marker": {
             "colorbar": {
              "outlinewidth": 0,
              "ticks": ""
             }
            },
            "type": "scatterpolargl"
           }
          ],
          "scatterternary": [
           {
            "marker": {
             "colorbar": {
              "outlinewidth": 0,
              "ticks": ""
             }
            },
            "type": "scatterternary"
           }
          ],
          "surface": [
           {
            "colorbar": {
             "outlinewidth": 0,
             "ticks": ""
            },
            "colorscale": [
             [
              0,
              "#0d0887"
             ],
             [
              0.1111111111111111,
              "#46039f"
             ],
             [
              0.2222222222222222,
              "#7201a8"
             ],
             [
              0.3333333333333333,
              "#9c179e"
             ],
             [
              0.4444444444444444,
              "#bd3786"
             ],
             [
              0.5555555555555556,
              "#d8576b"
             ],
             [
              0.6666666666666666,
              "#ed7953"
             ],
             [
              0.7777777777777778,
              "#fb9f3a"
             ],
             [
              0.8888888888888888,
              "#fdca26"
             ],
             [
              1,
              "#f0f921"
             ]
            ],
            "type": "surface"
           }
          ],
          "table": [
           {
            "cells": {
             "fill": {
              "color": "#EBF0F8"
             },
             "line": {
              "color": "white"
             }
            },
            "header": {
             "fill": {
              "color": "#C8D4E3"
             },
             "line": {
              "color": "white"
             }
            },
            "type": "table"
           }
          ]
         },
         "layout": {
          "annotationdefaults": {
           "arrowcolor": "#2a3f5f",
           "arrowhead": 0,
           "arrowwidth": 1
          },
          "coloraxis": {
           "colorbar": {
            "outlinewidth": 0,
            "ticks": ""
           }
          },
          "colorscale": {
           "diverging": [
            [
             0,
             "#8e0152"
            ],
            [
             0.1,
             "#c51b7d"
            ],
            [
             0.2,
             "#de77ae"
            ],
            [
             0.3,
             "#f1b6da"
            ],
            [
             0.4,
             "#fde0ef"
            ],
            [
             0.5,
             "#f7f7f7"
            ],
            [
             0.6,
             "#e6f5d0"
            ],
            [
             0.7,
             "#b8e186"
            ],
            [
             0.8,
             "#7fbc41"
            ],
            [
             0.9,
             "#4d9221"
            ],
            [
             1,
             "#276419"
            ]
           ],
           "sequential": [
            [
             0,
             "#0d0887"
            ],
            [
             0.1111111111111111,
             "#46039f"
            ],
            [
             0.2222222222222222,
             "#7201a8"
            ],
            [
             0.3333333333333333,
             "#9c179e"
            ],
            [
             0.4444444444444444,
             "#bd3786"
            ],
            [
             0.5555555555555556,
             "#d8576b"
            ],
            [
             0.6666666666666666,
             "#ed7953"
            ],
            [
             0.7777777777777778,
             "#fb9f3a"
            ],
            [
             0.8888888888888888,
             "#fdca26"
            ],
            [
             1,
             "#f0f921"
            ]
           ],
           "sequentialminus": [
            [
             0,
             "#0d0887"
            ],
            [
             0.1111111111111111,
             "#46039f"
            ],
            [
             0.2222222222222222,
             "#7201a8"
            ],
            [
             0.3333333333333333,
             "#9c179e"
            ],
            [
             0.4444444444444444,
             "#bd3786"
            ],
            [
             0.5555555555555556,
             "#d8576b"
            ],
            [
             0.6666666666666666,
             "#ed7953"
            ],
            [
             0.7777777777777778,
             "#fb9f3a"
            ],
            [
             0.8888888888888888,
             "#fdca26"
            ],
            [
             1,
             "#f0f921"
            ]
           ]
          },
          "colorway": [
           "#636efa",
           "#EF553B",
           "#00cc96",
           "#ab63fa",
           "#FFA15A",
           "#19d3f3",
           "#FF6692",
           "#B6E880",
           "#FF97FF",
           "#FECB52"
          ],
          "font": {
           "color": "#2a3f5f"
          },
          "geo": {
           "bgcolor": "white",
           "lakecolor": "white",
           "landcolor": "#E5ECF6",
           "showlakes": true,
           "showland": true,
           "subunitcolor": "white"
          },
          "hoverlabel": {
           "align": "left"
          },
          "hovermode": "closest",
          "mapbox": {
           "style": "light"
          },
          "paper_bgcolor": "white",
          "plot_bgcolor": "#E5ECF6",
          "polar": {
           "angularaxis": {
            "gridcolor": "white",
            "linecolor": "white",
            "ticks": ""
           },
           "bgcolor": "#E5ECF6",
           "radialaxis": {
            "gridcolor": "white",
            "linecolor": "white",
            "ticks": ""
           }
          },
          "scene": {
           "xaxis": {
            "backgroundcolor": "#E5ECF6",
            "gridcolor": "white",
            "gridwidth": 2,
            "linecolor": "white",
            "showbackground": true,
            "ticks": "",
            "zerolinecolor": "white"
           },
           "yaxis": {
            "backgroundcolor": "#E5ECF6",
            "gridcolor": "white",
            "gridwidth": 2,
            "linecolor": "white",
            "showbackground": true,
            "ticks": "",
            "zerolinecolor": "white"
           },
           "zaxis": {
            "backgroundcolor": "#E5ECF6",
            "gridcolor": "white",
            "gridwidth": 2,
            "linecolor": "white",
            "showbackground": true,
            "ticks": "",
            "zerolinecolor": "white"
           }
          },
          "shapedefaults": {
           "line": {
            "color": "#2a3f5f"
           }
          },
          "ternary": {
           "aaxis": {
            "gridcolor": "white",
            "linecolor": "white",
            "ticks": ""
           },
           "baxis": {
            "gridcolor": "white",
            "linecolor": "white",
            "ticks": ""
           },
           "bgcolor": "#E5ECF6",
           "caxis": {
            "gridcolor": "white",
            "linecolor": "white",
            "ticks": ""
           }
          },
          "title": {
           "x": 0.05
          },
          "xaxis": {
           "automargin": true,
           "gridcolor": "white",
           "linecolor": "white",
           "ticks": "",
           "title": {
            "standoff": 15
           },
           "zerolinecolor": "white",
           "zerolinewidth": 2
          },
          "yaxis": {
           "automargin": true,
           "gridcolor": "white",
           "linecolor": "white",
           "ticks": "",
           "title": {
            "standoff": 15
           },
           "zerolinecolor": "white",
           "zerolinewidth": 2
          }
         }
        }
       }
      },
      "text/html": [
       "<div>                            <div id=\"f507c360-e0a7-4c37-ac78-9d14688c8466\" class=\"plotly-graph-div\" style=\"height:525px; width:100%;\"></div>            <script type=\"text/javascript\">                require([\"plotly\"], function(Plotly) {                    window.PLOTLYENV=window.PLOTLYENV || {};                                    if (document.getElementById(\"f507c360-e0a7-4c37-ac78-9d14688c8466\")) {                    Plotly.newPlot(                        \"f507c360-e0a7-4c37-ac78-9d14688c8466\",                        [{\"cells\": {\"align\": [\"center\", \"center\", \"left\"], \"values\": [[\"14/05\", \"15/05\", \"15/05\", \"20/05\", \"04/06\", \"15/06\", \"19/06\", \"22/06\", \"22/06\", \"30/06\", \"07/07\", \"16/07\", \"08/08\", \"11/08\", \"18/08\", \"26/08\", \"07/09\", \"16,09\", \"19/09\", \"07/10\", \"19/10\", \"20/10\", \"20/10\", \"23/10\"], [20, 20, 20, 21, 23, 25, 25, 26, 26, 27, 28, 29, 32, 33, 34, 35, 37, 38, 38, 41, 43, 43, 43, 43], [\"Bolsonaro livra agentes p\\u00fablicos de responsabilidade por erros durante epidemia\", \"Covid-19 atinge dezenas de povos ind\\u00edgenas\", \"Nelson Teich pede demiss\\u00e3o do Minist\\u00e9rio da Sa\\u00fade\", \"Sem base cient\\u00edfica, governo amplia uso da cloroquina\", \"Brasil ultrapassa It\\u00e1lia e \\u00e9 terceiro pa\\u00eds com mais mortes por covid-19\", \"Brasil amplia orienta\\u00e7\\u00f5es de uso da cloroquina contra a covid-19\", \"Casos de covid-19 passam de 1 milh\\u00e3o no Brasil\", \"Vacina de Oxford contra covid-19 come\\u00e7a a ser testada no Brasil\", \"Juiz manda Bolsonaro usar m\\u00e1scara em p\\u00fablico\", \"UE estende proibi\\u00e7\\u00e3o \\u00e0 entrada de viajantes do Brasil\", \"Bolsonaro diz estar com covid-19\", \"Casos de covid-19 passam de 2 milh\\u00f5es no Brasil\", \"Brasil: 100 mil mortos por covid-19\", \"Mais uma empresa alem\\u00e3 pretende testar vacina contra covid-19 no Brasil\", \"Brasil autoriza testes de mais uma vacina contra covid-19\", \"Saldo do coronav\\u00edrus ap\\u00f3s seis meses no Brasil\", \"\\u00cdndia passa Brasil e \\u00e9 segundo pa\\u00eds com mais casos de covid-19\", \"Pazuello \\u00e9 efetivado como ministro da Sa\\u00fade\", \"Brasil adere \\u00e0 iniciativa global por vacinas contra covid-19\", \"Brasil ultrapassa marca de 5 milh\\u00f5es de casos de covid-19\", \"Testes no Brasil mostram seguran\\u00e7a de vacina chinesa, diz Butantan\", \"Pandemia deve elevar tanto a fome quanto a obesidade entre brasileiros\", \"Brasil incluir\\u00e1 vacina chinesa em calend\\u00e1rio nacional de vacina\\u00e7\\u00e3o\", \"Anvisa autoriza importar 6 milh\\u00f5es de doses de vacina chinesa\"]]}, \"columnwidth\": [7, 20, 50], \"header\": {\"values\": [\"Data\", \"Senama Epidemiol\\u00f3gica\", \"Acontecimento\"]}, \"type\": \"table\"}],                        {\"template\": {\"data\": {\"bar\": [{\"error_x\": {\"color\": \"#2a3f5f\"}, \"error_y\": {\"color\": \"#2a3f5f\"}, \"marker\": {\"line\": {\"color\": \"#E5ECF6\", \"width\": 0.5}}, \"type\": \"bar\"}], \"barpolar\": [{\"marker\": {\"line\": {\"color\": \"#E5ECF6\", \"width\": 0.5}}, \"type\": \"barpolar\"}], \"carpet\": [{\"aaxis\": {\"endlinecolor\": \"#2a3f5f\", \"gridcolor\": \"white\", \"linecolor\": \"white\", \"minorgridcolor\": \"white\", \"startlinecolor\": \"#2a3f5f\"}, \"baxis\": {\"endlinecolor\": \"#2a3f5f\", \"gridcolor\": \"white\", \"linecolor\": \"white\", \"minorgridcolor\": \"white\", \"startlinecolor\": \"#2a3f5f\"}, \"type\": \"carpet\"}], \"choropleth\": [{\"colorbar\": {\"outlinewidth\": 0, \"ticks\": \"\"}, \"type\": \"choropleth\"}], \"contour\": [{\"colorbar\": {\"outlinewidth\": 0, \"ticks\": \"\"}, \"colorscale\": [[0.0, \"#0d0887\"], [0.1111111111111111, \"#46039f\"], [0.2222222222222222, \"#7201a8\"], [0.3333333333333333, \"#9c179e\"], [0.4444444444444444, \"#bd3786\"], [0.5555555555555556, \"#d8576b\"], [0.6666666666666666, \"#ed7953\"], [0.7777777777777778, \"#fb9f3a\"], [0.8888888888888888, \"#fdca26\"], [1.0, \"#f0f921\"]], \"type\": \"contour\"}], \"contourcarpet\": [{\"colorbar\": {\"outlinewidth\": 0, \"ticks\": \"\"}, \"type\": \"contourcarpet\"}], \"heatmap\": [{\"colorbar\": {\"outlinewidth\": 0, \"ticks\": \"\"}, \"colorscale\": [[0.0, \"#0d0887\"], [0.1111111111111111, \"#46039f\"], [0.2222222222222222, \"#7201a8\"], [0.3333333333333333, \"#9c179e\"], [0.4444444444444444, \"#bd3786\"], [0.5555555555555556, \"#d8576b\"], [0.6666666666666666, \"#ed7953\"], [0.7777777777777778, \"#fb9f3a\"], [0.8888888888888888, \"#fdca26\"], [1.0, \"#f0f921\"]], \"type\": \"heatmap\"}], \"heatmapgl\": [{\"colorbar\": {\"outlinewidth\": 0, \"ticks\": \"\"}, \"colorscale\": [[0.0, \"#0d0887\"], [0.1111111111111111, \"#46039f\"], [0.2222222222222222, \"#7201a8\"], [0.3333333333333333, \"#9c179e\"], [0.4444444444444444, \"#bd3786\"], [0.5555555555555556, \"#d8576b\"], [0.6666666666666666, \"#ed7953\"], [0.7777777777777778, \"#fb9f3a\"], [0.8888888888888888, \"#fdca26\"], [1.0, \"#f0f921\"]], \"type\": \"heatmapgl\"}], \"histogram\": [{\"marker\": {\"colorbar\": {\"outlinewidth\": 0, \"ticks\": \"\"}}, \"type\": \"histogram\"}], \"histogram2d\": [{\"colorbar\": {\"outlinewidth\": 0, \"ticks\": \"\"}, \"colorscale\": [[0.0, \"#0d0887\"], [0.1111111111111111, \"#46039f\"], [0.2222222222222222, \"#7201a8\"], [0.3333333333333333, \"#9c179e\"], [0.4444444444444444, \"#bd3786\"], [0.5555555555555556, \"#d8576b\"], [0.6666666666666666, \"#ed7953\"], [0.7777777777777778, \"#fb9f3a\"], [0.8888888888888888, \"#fdca26\"], [1.0, \"#f0f921\"]], \"type\": \"histogram2d\"}], \"histogram2dcontour\": [{\"colorbar\": {\"outlinewidth\": 0, \"ticks\": \"\"}, \"colorscale\": [[0.0, \"#0d0887\"], [0.1111111111111111, \"#46039f\"], [0.2222222222222222, \"#7201a8\"], [0.3333333333333333, \"#9c179e\"], [0.4444444444444444, \"#bd3786\"], [0.5555555555555556, \"#d8576b\"], [0.6666666666666666, \"#ed7953\"], [0.7777777777777778, \"#fb9f3a\"], [0.8888888888888888, \"#fdca26\"], [1.0, \"#f0f921\"]], \"type\": \"histogram2dcontour\"}], \"mesh3d\": [{\"colorbar\": {\"outlinewidth\": 0, \"ticks\": \"\"}, \"type\": \"mesh3d\"}], \"parcoords\": [{\"line\": {\"colorbar\": {\"outlinewidth\": 0, \"ticks\": \"\"}}, \"type\": \"parcoords\"}], \"pie\": [{\"automargin\": true, \"type\": \"pie\"}], \"scatter\": [{\"marker\": {\"colorbar\": {\"outlinewidth\": 0, \"ticks\": \"\"}}, \"type\": \"scatter\"}], \"scatter3d\": [{\"line\": {\"colorbar\": {\"outlinewidth\": 0, \"ticks\": \"\"}}, \"marker\": {\"colorbar\": {\"outlinewidth\": 0, \"ticks\": \"\"}}, \"type\": \"scatter3d\"}], \"scattercarpet\": [{\"marker\": {\"colorbar\": {\"outlinewidth\": 0, \"ticks\": \"\"}}, \"type\": \"scattercarpet\"}], \"scattergeo\": [{\"marker\": {\"colorbar\": {\"outlinewidth\": 0, \"ticks\": \"\"}}, \"type\": \"scattergeo\"}], \"scattergl\": [{\"marker\": {\"colorbar\": {\"outlinewidth\": 0, \"ticks\": \"\"}}, \"type\": \"scattergl\"}], \"scattermapbox\": [{\"marker\": {\"colorbar\": {\"outlinewidth\": 0, \"ticks\": \"\"}}, \"type\": \"scattermapbox\"}], \"scatterpolar\": [{\"marker\": {\"colorbar\": {\"outlinewidth\": 0, \"ticks\": \"\"}}, \"type\": \"scatterpolar\"}], \"scatterpolargl\": [{\"marker\": {\"colorbar\": {\"outlinewidth\": 0, \"ticks\": \"\"}}, \"type\": \"scatterpolargl\"}], \"scatterternary\": [{\"marker\": {\"colorbar\": {\"outlinewidth\": 0, \"ticks\": \"\"}}, \"type\": \"scatterternary\"}], \"surface\": [{\"colorbar\": {\"outlinewidth\": 0, \"ticks\": \"\"}, \"colorscale\": [[0.0, \"#0d0887\"], [0.1111111111111111, \"#46039f\"], [0.2222222222222222, \"#7201a8\"], [0.3333333333333333, \"#9c179e\"], [0.4444444444444444, \"#bd3786\"], [0.5555555555555556, \"#d8576b\"], [0.6666666666666666, \"#ed7953\"], [0.7777777777777778, \"#fb9f3a\"], [0.8888888888888888, \"#fdca26\"], [1.0, \"#f0f921\"]], \"type\": \"surface\"}], \"table\": [{\"cells\": {\"fill\": {\"color\": \"#EBF0F8\"}, \"line\": {\"color\": \"white\"}}, \"header\": {\"fill\": {\"color\": \"#C8D4E3\"}, \"line\": {\"color\": \"white\"}}, \"type\": \"table\"}]}, \"layout\": {\"annotationdefaults\": {\"arrowcolor\": \"#2a3f5f\", \"arrowhead\": 0, \"arrowwidth\": 1}, \"coloraxis\": {\"colorbar\": {\"outlinewidth\": 0, \"ticks\": \"\"}}, \"colorscale\": {\"diverging\": [[0, \"#8e0152\"], [0.1, \"#c51b7d\"], [0.2, \"#de77ae\"], [0.3, \"#f1b6da\"], [0.4, \"#fde0ef\"], [0.5, \"#f7f7f7\"], [0.6, \"#e6f5d0\"], [0.7, \"#b8e186\"], [0.8, \"#7fbc41\"], [0.9, \"#4d9221\"], [1, \"#276419\"]], \"sequential\": [[0.0, \"#0d0887\"], [0.1111111111111111, \"#46039f\"], [0.2222222222222222, \"#7201a8\"], [0.3333333333333333, \"#9c179e\"], [0.4444444444444444, \"#bd3786\"], [0.5555555555555556, \"#d8576b\"], [0.6666666666666666, \"#ed7953\"], [0.7777777777777778, \"#fb9f3a\"], [0.8888888888888888, \"#fdca26\"], [1.0, \"#f0f921\"]], \"sequentialminus\": [[0.0, \"#0d0887\"], [0.1111111111111111, \"#46039f\"], [0.2222222222222222, \"#7201a8\"], [0.3333333333333333, \"#9c179e\"], [0.4444444444444444, \"#bd3786\"], [0.5555555555555556, \"#d8576b\"], [0.6666666666666666, \"#ed7953\"], [0.7777777777777778, \"#fb9f3a\"], [0.8888888888888888, \"#fdca26\"], [1.0, \"#f0f921\"]]}, \"colorway\": [\"#636efa\", \"#EF553B\", \"#00cc96\", \"#ab63fa\", \"#FFA15A\", \"#19d3f3\", \"#FF6692\", \"#B6E880\", \"#FF97FF\", \"#FECB52\"], \"font\": {\"color\": \"#2a3f5f\"}, \"geo\": {\"bgcolor\": \"white\", \"lakecolor\": \"white\", \"landcolor\": \"#E5ECF6\", \"showlakes\": true, \"showland\": true, \"subunitcolor\": \"white\"}, \"hoverlabel\": {\"align\": \"left\"}, \"hovermode\": \"closest\", \"mapbox\": {\"style\": \"light\"}, \"paper_bgcolor\": \"white\", \"plot_bgcolor\": \"#E5ECF6\", \"polar\": {\"angularaxis\": {\"gridcolor\": \"white\", \"linecolor\": \"white\", \"ticks\": \"\"}, \"bgcolor\": \"#E5ECF6\", \"radialaxis\": {\"gridcolor\": \"white\", \"linecolor\": \"white\", \"ticks\": \"\"}}, \"scene\": {\"xaxis\": {\"backgroundcolor\": \"#E5ECF6\", \"gridcolor\": \"white\", \"gridwidth\": 2, \"linecolor\": \"white\", \"showbackground\": true, \"ticks\": \"\", \"zerolinecolor\": \"white\"}, \"yaxis\": {\"backgroundcolor\": \"#E5ECF6\", \"gridcolor\": \"white\", \"gridwidth\": 2, \"linecolor\": \"white\", \"showbackground\": true, \"ticks\": \"\", \"zerolinecolor\": \"white\"}, \"zaxis\": {\"backgroundcolor\": \"#E5ECF6\", \"gridcolor\": \"white\", \"gridwidth\": 2, \"linecolor\": \"white\", \"showbackground\": true, \"ticks\": \"\", \"zerolinecolor\": \"white\"}}, \"shapedefaults\": {\"line\": {\"color\": \"#2a3f5f\"}}, \"ternary\": {\"aaxis\": {\"gridcolor\": \"white\", \"linecolor\": \"white\", \"ticks\": \"\"}, \"baxis\": {\"gridcolor\": \"white\", \"linecolor\": \"white\", \"ticks\": \"\"}, \"bgcolor\": \"#E5ECF6\", \"caxis\": {\"gridcolor\": \"white\", \"linecolor\": \"white\", \"ticks\": \"\"}}, \"title\": {\"x\": 0.05}, \"xaxis\": {\"automargin\": true, \"gridcolor\": \"white\", \"linecolor\": \"white\", \"ticks\": \"\", \"title\": {\"standoff\": 15}, \"zerolinecolor\": \"white\", \"zerolinewidth\": 2}, \"yaxis\": {\"automargin\": true, \"gridcolor\": \"white\", \"linecolor\": \"white\", \"ticks\": \"\", \"title\": {\"standoff\": 15}, \"zerolinecolor\": \"white\", \"zerolinewidth\": 2}}}},                        {\"responsive\": true}                    ).then(function(){\n",
       "                            \n",
       "var gd = document.getElementById('f507c360-e0a7-4c37-ac78-9d14688c8466');\n",
       "var x = new MutationObserver(function (mutations, observer) {{\n",
       "        var display = window.getComputedStyle(gd).display;\n",
       "        if (!display || display === 'none') {{\n",
       "            console.log([gd, 'removed!']);\n",
       "            Plotly.purge(gd);\n",
       "            observer.disconnect();\n",
       "        }}\n",
       "}});\n",
       "\n",
       "// Listen for the removal of the full notebook cells\n",
       "var notebookContainer = gd.closest('#notebook-container');\n",
       "if (notebookContainer) {{\n",
       "    x.observe(notebookContainer, {childList: true});\n",
       "}}\n",
       "\n",
       "// Listen for the clearing of the current output cell\n",
       "var outputEl = gd.closest('.output');\n",
       "if (outputEl) {{\n",
       "    x.observe(outputEl, {childList: true});\n",
       "}}\n",
       "\n",
       "                        })                };                });            </script>        </div>"
      ]
     },
     "metadata": {},
     "output_type": "display_data"
    },
    {
     "data": {
      "text/plain": [
       "'tabela_acontecimentos.html'"
      ]
     },
     "execution_count": 19,
     "metadata": {},
     "output_type": "execute_result"
    }
   ],
   "source": [
    "import plotly.graph_objects as go\n",
    "\n",
    "fig = go.Figure(data=[go.Table(header=dict(values=[\"Data\",'Senama Epidemiológica','Acontecimento']),\n",
    "                 cells=dict(values=[dt,semanas, text],align=[\"center\",\"center\",'left']),columnwidth = [7,20,50])\n",
    "                     ])\n",
    "fig.show()\n",
    "py.plot(fig,filename=\"tabela_acontecimentos.html\", auto_open=False)"
   ]
  },
  {
   "cell_type": "code",
   "execution_count": null,
   "metadata": {},
   "outputs": [],
   "source": []
  }
 ],
 "metadata": {
  "kernelspec": {
   "display_name": "Python 3",
   "language": "python",
   "name": "python3"
  },
  "language_info": {
   "codemirror_mode": {
    "name": "ipython",
    "version": 3
   },
   "file_extension": ".py",
   "mimetype": "text/x-python",
   "name": "python",
   "nbconvert_exporter": "python",
   "pygments_lexer": "ipython3",
   "version": "3.7.3"
  }
 },
 "nbformat": 4,
 "nbformat_minor": 2
}
