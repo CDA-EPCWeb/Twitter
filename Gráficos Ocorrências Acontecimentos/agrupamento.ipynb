{
 "cells": [
  {
   "cell_type": "code",
   "execution_count": null,
   "metadata": {},
   "outputs": [],
   "source": [
    "import csv ##para ler e escrever csvs"
   ]
  },
  {
   "cell_type": "markdown",
   "metadata": {},
   "source": [
    "## Funções"
   ]
  },
  {
   "cell_type": "code",
   "execution_count": null,
   "metadata": {},
   "outputs": [],
   "source": [
    "# função que retorna o numero de ocorrencia de palavras de cada grupo\n",
    "def agrupar(palavras, lista):\n",
    "    count = 0  \n",
    "    for palavra in palavras:\n",
    "        for item in lista:\n",
    "            if item[0] == palavra:\n",
    "                count += int(item[1])\n",
    "                break\n",
    "    return count"
   ]
  },
  {
   "cell_type": "code",
   "execution_count": null,
   "metadata": {},
   "outputs": [],
   "source": [
    "#função que retorna o nome do arquivo com base na semana e no tipo de arquivo\n",
    "def dinamic_filename(week, artype='word'):\n",
    "    week = str(week)\n",
    "    name = 'tweet_word'\n",
    "    if not artype == 'word':\n",
    "        name = artype\n",
    "    return 'D:\\\\01_databases\\\\CovidDataAnalytics\\\\Tweets\\\\Inweb\\\\Leitura-Pedro\\\\results_weekly\\\\week_' + week + '\\\\'+ name + '_count_' + week + '.csv'\n"
   ]
  },
  {
   "cell_type": "code",
   "execution_count": null,
   "metadata": {},
   "outputs": [],
   "source": [
    "#le o csv e retorna uma lista com os valores presente nele\n",
    "def csv_to_list(filename, delimiter=',', encoding='utf-8'):\n",
    "    with open(filename, 'r', encoding=encoding) as file:\n",
    "        reader = csv.reader(file, delimiter=delimiter)\n",
    "        data = list(reader)\n",
    "    del data[0]\n",
    "    return data"
   ]
  },
  {
   "cell_type": "markdown",
   "metadata": {},
   "source": [
    "## Teste para dataframe"
   ]
  },
  {
   "cell_type": "code",
   "execution_count": null,
   "metadata": {},
   "outputs": [],
   "source": [
    "week36 = 'D:\\\\01_databases\\\\CovidDataAnalytics\\\\Tweets\\\\Inweb\\\\Leitura-Pedro\\\\results_v2\\\\week_36\\\\'\n",
    "\n",
    "tokenfile = week36 + 'token_count_36.csv'\n",
    "wordfile = week36 + 'tweet_word_count_36.csv'"
   ]
  },
  {
   "cell_type": "code",
   "execution_count": null,
   "metadata": {},
   "outputs": [],
   "source": [
    "#confere se ambos arquivos token e word te mo mesmo numero de entradas\n",
    "\n",
    "token = sorted(csv_to_list(tokenfile, delimiter=';'))\n",
    "word = sorted(csv_to_list(wordfile, delimiter=';'))\n",
    "print(len(token))\n",
    "print(len(word))"
   ]
  },
  {
   "cell_type": "code",
   "execution_count": null,
   "metadata": {
    "tags": []
   },
   "outputs": [],
   "source": [
    "# testa se as entradas são sempre as mesmas e se o número de ocorrencia é sempre maior em um que o outro (não é o caso)\n",
    "\n",
    "maior = 0\n",
    "menor = 0\n",
    "\n",
    "for i in range(len(token)):\n",
    "    if not token[i][0] == word[i][0]:\n",
    "        print(\"!\")\n",
    "    if token[i][1] > word[i][1]:\n",
    "       #print(token[i], word[i])\n",
    "        menor += 1    \n",
    "    if token[i][1] < word[i][1]:\n",
    "       #print(token[i], word[i])\n",
    "        maior += 1\n",
    "    if token[i][0] == 'distanciamento social':\n",
    "        print(\"!!\")\n",
    "    if word[i][0] == 'distanciamento social':\n",
    "        print(\"!!\")\n",
    "print(maior,menor)"
   ]
  },
  {
   "cell_type": "code",
   "execution_count": null,
   "metadata": {},
   "outputs": [],
   "source": [
    "#define uma lista com os grupos de palavras e e o futuro numero de palavras por  semana \n",
    "\n",
    "covid_w = ['corona', 'covid', 'coronavirus', 'covid19', 'sars', 'covid-19']\n",
    "covid =[covid_w,[]]\n",
    "\n",
    "quarentena_w = ['quarentena', 'confinamento']\n",
    "quarentena = [quarentena_w,[]]\n",
    "\n",
    "cloroquina_w = ['cloroquina', 'hidroxicloroquina']\n",
    "cloroquina = [cloroquina_w,[]]\n",
    "\n",
    "dist_w2 = ['distanciamento']\n",
    "dist2 = [dist_w2,[]]\n",
    "\n",
    "aglomeracao_w = ['aglomeracao', 'aglomeracoes']\n",
    "aglomeracao = [[aglomeracao_w],]"
   ]
  },
  {
   "cell_type": "code",
   "execution_count": null,
   "metadata": {
    "tags": []
   },
   "outputs": [],
   "source": [
    "#confere o numero de ocorrencia por semanas\n",
    "\n",
    "for i in range(1, 37): \n",
    "    #nome do arquivo de forma dinamica\n",
    "    file = dinamic_filename(i)\n",
    "\n",
    "    #cria a lista com a o numero de ocrrencia de cada palavra\n",
    "    lista = sorted(csv_to_list(file, delimiter = ';'))\n",
    "\n",
    "    #agrupa o numero de ocorrencia por semana\n",
    "    covid[1].append(agrupar(covid[0], lista))\n",
    "    quarentena[1].append(agrupar(quarentena[0], lista))\n",
    "    cloroquina[1].append(agrupar(cloroquina[0], lista))\n",
    "    aglomeracao[1].append(agrupar(aglomeracao[0],lista))\n",
    "    dist2[1].append(agrupar(dist2[0], lista))"
   ]
  },
  {
   "cell_type": "code",
   "execution_count": null,
   "metadata": {},
   "outputs": [],
   "source": [
    "#escreve o csv com a ocorrencia de palavras\n",
    "with open( 'ocorrencia.csv', 'w') as csv_file:\n",
    "    writer = csv.writer(csv_file, delimiter=';')\n",
    "    writer.writerow(['covid', 'quarentena', 'cloroquina', 'distanciamento', 'distanciamento_social'])\n",
    "    for i, week in enumerate(covid[1]):\n",
    "        writer.writerow([covid[1][i], quarentena[1][i], cloroquina[1][i], aglomeracao[1][i], dist2[1][i]])"
   ]
  },
  {
   "cell_type": "code",
   "execution_count": null,
   "metadata": {},
   "outputs": [],
   "source": [
    "#escreve o csv com a frequencia relativa de\n",
    "\n",
    "#le o numero de tweets por semana \n",
    "n_tweets = csv_to_list('D:\\\\01_databases\\\\CovidDataAnalytics\\\\Tweets\\\\Inweb\\\\Leitura-Pedro\\\\results_weekly\\\\tweets_week.csv', delimiter=';')\n",
    "\n",
    "#escreve o arquivo com a frequencia relativa\n",
    "with open('ocorrencia_relativa.csv', 'w', newline='') as csv_file:\n",
    "    writer = csv.writer(csv_file, delimiter=';')\n",
    "    writer.writerow(['covid', 'quarentena', 'cloroquina', 'distanciamento', 'distanciamento_social'])\n",
    "\n",
    "    for i, week in enumerate(covid[1]):\n",
    "\n",
    "        #calcula a frequencia relativa por semana para cada agrupamento\n",
    "        r_covid = int(covid[1][i])/int(n_tweets[i][1]) \n",
    "        r_quarentena = int(quarentena[1][i])/int(n_tweets[i][1])\n",
    "        r_cloroquina = int(cloroquina[1][i])/int(n_tweets[i][1])\n",
    "        r_aglomeracao = int(aglomeracao[1][i])/int(n_tweets[i][1])\n",
    "        r_dist2 = int(dist2[1][i])/int(n_tweets[i][1])\n",
    "       \n",
    "        #escreve a frequencia\n",
    "        writer.writerow([r_covid, r_quarentena, r_cloroquina,r_aglomeracao, r_dist2])"
   ]
  },
  {
   "cell_type": "code",
   "execution_count": null,
   "metadata": {},
   "outputs": [],
   "source": []
  },
  {
   "cell_type": "markdown",
   "metadata": {},
   "source": [
    "# Plot"
   ]
  },
  {
   "cell_type": "code",
   "execution_count": 1,
   "metadata": {},
   "outputs": [],
   "source": [
    "import pandas as pd\n",
    "import plotly\n",
    "import plotly.graph_objs as go\n",
    "import plotly.offline as py\n",
    "import numpy as np\n",
    "\n",
    "import plotly.express as px"
   ]
  },
  {
   "cell_type": "code",
   "execution_count": 2,
   "metadata": {},
   "outputs": [],
   "source": [
    "ocor = pd.read_csv(\"ocorrencias.csv\",sep=';')\n",
    "ocor_rel = ocor[['covid_rel', 'quarentena_rel', 'cloroquina_rel', 'aglomeracao_rel', 'distanciamento_rel']].rename({'covid_rel':\"corona, covid, coronavírus, covid19, sars, covid-19\", 'quarentena_rel':\"quarentena, confinamento\", 'cloroquina_rel':'hidroxicloroquina, cloroquina',\n",
    "       \"aglomeracao_rel\":\"aglomeracao, aglomeracoes\", \"distanciamento_rel\":\"distanciamento social\"},axis=1)\n",
    "ocor_rel.index = [x+19 for x in ocor_rel.index]\n",
    "ocor_rel[\"label\"] = [str(x) for x in ocor_rel.index if x<54]+[str(1)]"
   ]
  },
  {
   "cell_type": "code",
   "execution_count": 3,
   "metadata": {},
   "outputs": [],
   "source": [
    "text = [\n",
    "    \"Bolsonaro livra agentes públicos de responsabilidade por erros durante epidemia\",\n",
    "    \"Covid-19 atinge dezenas de povos indígenas\",\n",
    "    \"Nelson Teich pede demissão do Ministério da Saúde\",\n",
    "    \"Sem base científica, governo amplia uso da cloroquina\",\n",
    "    \"Brasil ultrapassa Itália e é terceiro país com mais mortes por covid-19\",\n",
    "    \"Brasil amplia orientações de uso da cloroquina contra a covid-19\",\n",
    "    \"Casos de covid-19 passam de 1 milhão no Brasil\",\n",
    "    \"Vacina de Oxford contra covid-19 começa a ser testada no Brasil\",\n",
    "    \"Juiz manda Bolsonaro usar máscara em público\",\n",
    "    \"UE estende proibição à entrada de viajantes do Brasil\",\n",
    "    \"Bolsonaro diz estar com covid-19\",\n",
    "    \"Casos de covid-19 passam de 2 milhões no Brasil\",\n",
    "    \"Brasil: 100 mil mortos por covid-19\",\n",
    "    \"Mais uma empresa alemã pretende testar vacina contra covid-19 no Brasil\",\n",
    "    \"Brasil autoriza testes de mais uma vacina contra covid-19\",\n",
    "    \"Saldo do coronavírus após seis meses no Brasil\",\n",
    "    \"Índia passa Brasil e é segundo país com mais casos de covid-19\",\n",
    "    \"Pazuello é efetivado como ministro da Saúde\",\n",
    "    \"Brasil adere à iniciativa global por vacinas contra covid-19\",\n",
    "    \"Brasil ultrapassa marca de 5 milhões de casos de covid-19\",\n",
    "    \"Testes no Brasil mostram segurança de vacina chinesa, diz Butantan\",\n",
    "    \"Pandemia deve elevar tanto a fome quanto a obesidade entre brasileiros\",\n",
    "    \"Brasil incluirá vacina chinesa em calendário nacional de vacinação\",\n",
    "    \"Anvisa autoriza importar 6 milhões de doses de vacina chinesa\",\n",
    "]\n",
    "semanas = [20,20,20,21,23,25,25,26,26,27,28,29,32,33,34,35,37,38,38,41,43,43,43,43]\n",
    "dt = [\"14/05\",\"15/05\",\"15/05\",\"20/05\",\"04/06\",\"15/06\",\"19/06\",\"22/06\",\"22/06\",\"30/06\",\"07/07\",\"16/07\",\"08/08\",\"11/08\",\"18/08\",\"26/08\",\"07/09\",\"16,09\",\"19/09\",\"07/10\",\"19/10\",\"20/10\",\"20/10\",\"23/10\"]"
   ]
  },
  {
   "cell_type": "code",
   "execution_count": 4,
   "metadata": {},
   "outputs": [
    {
     "data": {
      "text/html": [
       "<div>\n",
       "<style scoped>\n",
       "    .dataframe tbody tr th:only-of-type {\n",
       "        vertical-align: middle;\n",
       "    }\n",
       "\n",
       "    .dataframe tbody tr th {\n",
       "        vertical-align: top;\n",
       "    }\n",
       "\n",
       "    .dataframe thead th {\n",
       "        text-align: right;\n",
       "    }\n",
       "</style>\n",
       "<table border=\"1\" class=\"dataframe\">\n",
       "  <thead>\n",
       "    <tr style=\"text-align: right;\">\n",
       "      <th></th>\n",
       "      <th>corona, covid, coronavírus, covid19, sars, covid-19</th>\n",
       "      <th>acontecimentos</th>\n",
       "      <th>quarentena, confinamento</th>\n",
       "      <th>hidroxicloroquina, cloroquina</th>\n",
       "      <th>aglomeracao, aglomeracoes</th>\n",
       "      <th>distanciamento social</th>\n",
       "      <th>label</th>\n",
       "    </tr>\n",
       "  </thead>\n",
       "  <tbody>\n",
       "    <tr>\n",
       "      <th>19</th>\n",
       "      <td>0.320421</td>\n",
       "      <td></td>\n",
       "      <td>0.496602</td>\n",
       "      <td>0.008524</td>\n",
       "      <td>0.017424</td>\n",
       "      <td>0.005238</td>\n",
       "      <td>19</td>\n",
       "    </tr>\n",
       "    <tr>\n",
       "      <th>20</th>\n",
       "      <td>0.316453</td>\n",
       "      <td>Bolsonaro livra agentes públicos de responsabi...</td>\n",
       "      <td>0.476518</td>\n",
       "      <td>0.014174</td>\n",
       "      <td>0.018915</td>\n",
       "      <td>0.005090</td>\n",
       "      <td>20</td>\n",
       "    </tr>\n",
       "    <tr>\n",
       "      <th>21</th>\n",
       "      <td>0.307653</td>\n",
       "      <td>Sem base científica, governo amplia uso da clo...</td>\n",
       "      <td>0.416893</td>\n",
       "      <td>0.076408</td>\n",
       "      <td>0.016652</td>\n",
       "      <td>0.005165</td>\n",
       "      <td>21</td>\n",
       "    </tr>\n",
       "    <tr>\n",
       "      <th>22</th>\n",
       "      <td>0.304764</td>\n",
       "      <td></td>\n",
       "      <td>0.396715</td>\n",
       "      <td>0.102426</td>\n",
       "      <td>0.015558</td>\n",
       "      <td>0.004796</td>\n",
       "      <td>22</td>\n",
       "    </tr>\n",
       "    <tr>\n",
       "      <th>23</th>\n",
       "      <td>0.289805</td>\n",
       "      <td>Brasil ultrapassa Itália e é terceiro país com...</td>\n",
       "      <td>0.462816</td>\n",
       "      <td>0.041897</td>\n",
       "      <td>0.017505</td>\n",
       "      <td>0.004699</td>\n",
       "      <td>23</td>\n",
       "    </tr>\n",
       "    <tr>\n",
       "      <th>24</th>\n",
       "      <td>0.373457</td>\n",
       "      <td></td>\n",
       "      <td>0.389693</td>\n",
       "      <td>0.034830</td>\n",
       "      <td>0.026160</td>\n",
       "      <td>0.005705</td>\n",
       "      <td>24</td>\n",
       "    </tr>\n",
       "    <tr>\n",
       "      <th>25</th>\n",
       "      <td>0.358051</td>\n",
       "      <td>Brasil amplia orientações de uso da cloroquina...</td>\n",
       "      <td>0.399797</td>\n",
       "      <td>0.030603</td>\n",
       "      <td>0.021675</td>\n",
       "      <td>0.005372</td>\n",
       "      <td>25</td>\n",
       "    </tr>\n",
       "    <tr>\n",
       "      <th>26</th>\n",
       "      <td>0.345907</td>\n",
       "      <td>Vacina de Oxford contra covid-19 começa a ser ...</td>\n",
       "      <td>0.449065</td>\n",
       "      <td>0.027900</td>\n",
       "      <td>0.020645</td>\n",
       "      <td>0.004809</td>\n",
       "      <td>26</td>\n",
       "    </tr>\n",
       "    <tr>\n",
       "      <th>27</th>\n",
       "      <td>0.353906</td>\n",
       "      <td>UE estende proibição à entrada de viajantes do...</td>\n",
       "      <td>0.431150</td>\n",
       "      <td>0.018948</td>\n",
       "      <td>0.023090</td>\n",
       "      <td>0.005470</td>\n",
       "      <td>27</td>\n",
       "    </tr>\n",
       "    <tr>\n",
       "      <th>28</th>\n",
       "      <td>0.361940</td>\n",
       "      <td>Bolsonaro diz estar com covid-19</td>\n",
       "      <td>0.403688</td>\n",
       "      <td>0.022423</td>\n",
       "      <td>0.035761</td>\n",
       "      <td>0.005578</td>\n",
       "      <td>28</td>\n",
       "    </tr>\n",
       "    <tr>\n",
       "      <th>29</th>\n",
       "      <td>0.419102</td>\n",
       "      <td>Casos de covid-19 passam de 2 milhões no Brasil</td>\n",
       "      <td>0.281615</td>\n",
       "      <td>0.122866</td>\n",
       "      <td>0.015572</td>\n",
       "      <td>0.004506</td>\n",
       "      <td>29</td>\n",
       "    </tr>\n",
       "    <tr>\n",
       "      <th>30</th>\n",
       "      <td>0.397585</td>\n",
       "      <td></td>\n",
       "      <td>0.371540</td>\n",
       "      <td>0.052399</td>\n",
       "      <td>0.021081</td>\n",
       "      <td>0.005834</td>\n",
       "      <td>30</td>\n",
       "    </tr>\n",
       "    <tr>\n",
       "      <th>31</th>\n",
       "      <td>0.351634</td>\n",
       "      <td></td>\n",
       "      <td>0.344263</td>\n",
       "      <td>0.082881</td>\n",
       "      <td>0.020733</td>\n",
       "      <td>0.005609</td>\n",
       "      <td>31</td>\n",
       "    </tr>\n",
       "    <tr>\n",
       "      <th>32</th>\n",
       "      <td>0.362153</td>\n",
       "      <td>Brasil: 100 mil mortos por covid-19</td>\n",
       "      <td>0.356307</td>\n",
       "      <td>0.069223</td>\n",
       "      <td>0.022360</td>\n",
       "      <td>0.005844</td>\n",
       "      <td>32</td>\n",
       "    </tr>\n",
       "    <tr>\n",
       "      <th>33</th>\n",
       "      <td>0.386673</td>\n",
       "      <td>Mais uma empresa alemã pretende testar vacina ...</td>\n",
       "      <td>0.346163</td>\n",
       "      <td>0.046956</td>\n",
       "      <td>0.023284</td>\n",
       "      <td>0.006481</td>\n",
       "      <td>33</td>\n",
       "    </tr>\n",
       "    <tr>\n",
       "      <th>34</th>\n",
       "      <td>0.408282</td>\n",
       "      <td>Brasil autoriza testes de mais uma vacina cont...</td>\n",
       "      <td>0.315862</td>\n",
       "      <td>0.071693</td>\n",
       "      <td>0.023778</td>\n",
       "      <td>0.007095</td>\n",
       "      <td>34</td>\n",
       "    </tr>\n",
       "    <tr>\n",
       "      <th>35</th>\n",
       "      <td>0.393857</td>\n",
       "      <td>Saldo do coronavírus após seis meses no Brasil</td>\n",
       "      <td>0.383414</td>\n",
       "      <td>0.054647</td>\n",
       "      <td>0.027642</td>\n",
       "      <td>0.006477</td>\n",
       "      <td>35</td>\n",
       "    </tr>\n",
       "    <tr>\n",
       "      <th>36</th>\n",
       "      <td>0.430380</td>\n",
       "      <td></td>\n",
       "      <td>0.323252</td>\n",
       "      <td>0.047867</td>\n",
       "      <td>0.022588</td>\n",
       "      <td>0.006132</td>\n",
       "      <td>36</td>\n",
       "    </tr>\n",
       "    <tr>\n",
       "      <th>37</th>\n",
       "      <td>0.429553</td>\n",
       "      <td>Índia passa Brasil e é segundo país com mais c...</td>\n",
       "      <td>0.328652</td>\n",
       "      <td>0.026814</td>\n",
       "      <td>0.040634</td>\n",
       "      <td>0.008074</td>\n",
       "      <td>37</td>\n",
       "    </tr>\n",
       "    <tr>\n",
       "      <th>38</th>\n",
       "      <td>0.436085</td>\n",
       "      <td>Pazuello é efetivado como ministro da Saúde&lt;br...</td>\n",
       "      <td>0.323328</td>\n",
       "      <td>0.024395</td>\n",
       "      <td>0.038159</td>\n",
       "      <td>0.008273</td>\n",
       "      <td>38</td>\n",
       "    </tr>\n",
       "    <tr>\n",
       "      <th>39</th>\n",
       "      <td>0.470253</td>\n",
       "      <td></td>\n",
       "      <td>0.297206</td>\n",
       "      <td>0.023158</td>\n",
       "      <td>0.033730</td>\n",
       "      <td>0.009058</td>\n",
       "      <td>39</td>\n",
       "    </tr>\n",
       "    <tr>\n",
       "      <th>40</th>\n",
       "      <td>0.497123</td>\n",
       "      <td></td>\n",
       "      <td>0.229575</td>\n",
       "      <td>0.018165</td>\n",
       "      <td>0.028484</td>\n",
       "      <td>0.007555</td>\n",
       "      <td>40</td>\n",
       "    </tr>\n",
       "    <tr>\n",
       "      <th>41</th>\n",
       "      <td>0.506670</td>\n",
       "      <td>Brasil ultrapassa marca de 5 milhões de casos ...</td>\n",
       "      <td>0.239656</td>\n",
       "      <td>0.039229</td>\n",
       "      <td>0.025639</td>\n",
       "      <td>0.007316</td>\n",
       "      <td>41</td>\n",
       "    </tr>\n",
       "    <tr>\n",
       "      <th>42</th>\n",
       "      <td>0.517607</td>\n",
       "      <td></td>\n",
       "      <td>0.262426</td>\n",
       "      <td>0.018992</td>\n",
       "      <td>0.032049</td>\n",
       "      <td>0.009207</td>\n",
       "      <td>42</td>\n",
       "    </tr>\n",
       "    <tr>\n",
       "      <th>43</th>\n",
       "      <td>0.510452</td>\n",
       "      <td>Testes no Brasil mostram segurança de vacina c...</td>\n",
       "      <td>0.217701</td>\n",
       "      <td>0.025352</td>\n",
       "      <td>0.026918</td>\n",
       "      <td>0.009374</td>\n",
       "      <td>43</td>\n",
       "    </tr>\n",
       "    <tr>\n",
       "      <th>44</th>\n",
       "      <td>0.468858</td>\n",
       "      <td></td>\n",
       "      <td>0.169446</td>\n",
       "      <td>0.147265</td>\n",
       "      <td>0.021102</td>\n",
       "      <td>0.007662</td>\n",
       "      <td>44</td>\n",
       "    </tr>\n",
       "    <tr>\n",
       "      <th>45</th>\n",
       "      <td>0.528760</td>\n",
       "      <td></td>\n",
       "      <td>0.186709</td>\n",
       "      <td>0.030884</td>\n",
       "      <td>0.032977</td>\n",
       "      <td>0.010586</td>\n",
       "      <td>45</td>\n",
       "    </tr>\n",
       "    <tr>\n",
       "      <th>46</th>\n",
       "      <td>0.555704</td>\n",
       "      <td></td>\n",
       "      <td>0.198923</td>\n",
       "      <td>0.021761</td>\n",
       "      <td>0.035295</td>\n",
       "      <td>0.009740</td>\n",
       "      <td>46</td>\n",
       "    </tr>\n",
       "    <tr>\n",
       "      <th>47</th>\n",
       "      <td>0.554418</td>\n",
       "      <td></td>\n",
       "      <td>0.155148</td>\n",
       "      <td>0.027135</td>\n",
       "      <td>0.043948</td>\n",
       "      <td>0.008994</td>\n",
       "      <td>47</td>\n",
       "    </tr>\n",
       "    <tr>\n",
       "      <th>48</th>\n",
       "      <td>0.586071</td>\n",
       "      <td></td>\n",
       "      <td>0.147346</td>\n",
       "      <td>0.017903</td>\n",
       "      <td>0.030519</td>\n",
       "      <td>0.008587</td>\n",
       "      <td>48</td>\n",
       "    </tr>\n",
       "    <tr>\n",
       "      <th>49</th>\n",
       "      <td>0.603199</td>\n",
       "      <td></td>\n",
       "      <td>0.124580</td>\n",
       "      <td>0.021857</td>\n",
       "      <td>0.034491</td>\n",
       "      <td>0.007979</td>\n",
       "      <td>49</td>\n",
       "    </tr>\n",
       "    <tr>\n",
       "      <th>50</th>\n",
       "      <td>0.555480</td>\n",
       "      <td></td>\n",
       "      <td>0.129105</td>\n",
       "      <td>0.019236</td>\n",
       "      <td>0.032969</td>\n",
       "      <td>0.008488</td>\n",
       "      <td>50</td>\n",
       "    </tr>\n",
       "    <tr>\n",
       "      <th>51</th>\n",
       "      <td>0.523518</td>\n",
       "      <td></td>\n",
       "      <td>0.104298</td>\n",
       "      <td>0.061602</td>\n",
       "      <td>0.025937</td>\n",
       "      <td>0.007178</td>\n",
       "      <td>51</td>\n",
       "    </tr>\n",
       "    <tr>\n",
       "      <th>52</th>\n",
       "      <td>0.554448</td>\n",
       "      <td></td>\n",
       "      <td>0.101694</td>\n",
       "      <td>0.034962</td>\n",
       "      <td>0.029652</td>\n",
       "      <td>0.008362</td>\n",
       "      <td>52</td>\n",
       "    </tr>\n",
       "    <tr>\n",
       "      <th>53</th>\n",
       "      <td>0.593050</td>\n",
       "      <td></td>\n",
       "      <td>0.102616</td>\n",
       "      <td>0.037440</td>\n",
       "      <td>0.039069</td>\n",
       "      <td>0.008726</td>\n",
       "      <td>53</td>\n",
       "    </tr>\n",
       "    <tr>\n",
       "      <th>54</th>\n",
       "      <td>0.641659</td>\n",
       "      <td></td>\n",
       "      <td>0.095650</td>\n",
       "      <td>0.025673</td>\n",
       "      <td>0.066258</td>\n",
       "      <td>0.008120</td>\n",
       "      <td>1</td>\n",
       "    </tr>\n",
       "  </tbody>\n",
       "</table>\n",
       "</div>"
      ],
      "text/plain": [
       "    corona, covid, coronavírus, covid19, sars, covid-19  \\\n",
       "19                                           0.320421     \n",
       "20                                           0.316453     \n",
       "21                                           0.307653     \n",
       "22                                           0.304764     \n",
       "23                                           0.289805     \n",
       "24                                           0.373457     \n",
       "25                                           0.358051     \n",
       "26                                           0.345907     \n",
       "27                                           0.353906     \n",
       "28                                           0.361940     \n",
       "29                                           0.419102     \n",
       "30                                           0.397585     \n",
       "31                                           0.351634     \n",
       "32                                           0.362153     \n",
       "33                                           0.386673     \n",
       "34                                           0.408282     \n",
       "35                                           0.393857     \n",
       "36                                           0.430380     \n",
       "37                                           0.429553     \n",
       "38                                           0.436085     \n",
       "39                                           0.470253     \n",
       "40                                           0.497123     \n",
       "41                                           0.506670     \n",
       "42                                           0.517607     \n",
       "43                                           0.510452     \n",
       "44                                           0.468858     \n",
       "45                                           0.528760     \n",
       "46                                           0.555704     \n",
       "47                                           0.554418     \n",
       "48                                           0.586071     \n",
       "49                                           0.603199     \n",
       "50                                           0.555480     \n",
       "51                                           0.523518     \n",
       "52                                           0.554448     \n",
       "53                                           0.593050     \n",
       "54                                           0.641659     \n",
       "\n",
       "                                       acontecimentos  \\\n",
       "19                                                      \n",
       "20  Bolsonaro livra agentes públicos de responsabi...   \n",
       "21  Sem base científica, governo amplia uso da clo...   \n",
       "22                                                      \n",
       "23  Brasil ultrapassa Itália e é terceiro país com...   \n",
       "24                                                      \n",
       "25  Brasil amplia orientações de uso da cloroquina...   \n",
       "26  Vacina de Oxford contra covid-19 começa a ser ...   \n",
       "27  UE estende proibição à entrada de viajantes do...   \n",
       "28                   Bolsonaro diz estar com covid-19   \n",
       "29    Casos de covid-19 passam de 2 milhões no Brasil   \n",
       "30                                                      \n",
       "31                                                      \n",
       "32                Brasil: 100 mil mortos por covid-19   \n",
       "33  Mais uma empresa alemã pretende testar vacina ...   \n",
       "34  Brasil autoriza testes de mais uma vacina cont...   \n",
       "35     Saldo do coronavírus após seis meses no Brasil   \n",
       "36                                                      \n",
       "37  Índia passa Brasil e é segundo país com mais c...   \n",
       "38  Pazuello é efetivado como ministro da Saúde<br...   \n",
       "39                                                      \n",
       "40                                                      \n",
       "41  Brasil ultrapassa marca de 5 milhões de casos ...   \n",
       "42                                                      \n",
       "43  Testes no Brasil mostram segurança de vacina c...   \n",
       "44                                                      \n",
       "45                                                      \n",
       "46                                                      \n",
       "47                                                      \n",
       "48                                                      \n",
       "49                                                      \n",
       "50                                                      \n",
       "51                                                      \n",
       "52                                                      \n",
       "53                                                      \n",
       "54                                                      \n",
       "\n",
       "    quarentena, confinamento  hidroxicloroquina, cloroquina  \\\n",
       "19                  0.496602                       0.008524   \n",
       "20                  0.476518                       0.014174   \n",
       "21                  0.416893                       0.076408   \n",
       "22                  0.396715                       0.102426   \n",
       "23                  0.462816                       0.041897   \n",
       "24                  0.389693                       0.034830   \n",
       "25                  0.399797                       0.030603   \n",
       "26                  0.449065                       0.027900   \n",
       "27                  0.431150                       0.018948   \n",
       "28                  0.403688                       0.022423   \n",
       "29                  0.281615                       0.122866   \n",
       "30                  0.371540                       0.052399   \n",
       "31                  0.344263                       0.082881   \n",
       "32                  0.356307                       0.069223   \n",
       "33                  0.346163                       0.046956   \n",
       "34                  0.315862                       0.071693   \n",
       "35                  0.383414                       0.054647   \n",
       "36                  0.323252                       0.047867   \n",
       "37                  0.328652                       0.026814   \n",
       "38                  0.323328                       0.024395   \n",
       "39                  0.297206                       0.023158   \n",
       "40                  0.229575                       0.018165   \n",
       "41                  0.239656                       0.039229   \n",
       "42                  0.262426                       0.018992   \n",
       "43                  0.217701                       0.025352   \n",
       "44                  0.169446                       0.147265   \n",
       "45                  0.186709                       0.030884   \n",
       "46                  0.198923                       0.021761   \n",
       "47                  0.155148                       0.027135   \n",
       "48                  0.147346                       0.017903   \n",
       "49                  0.124580                       0.021857   \n",
       "50                  0.129105                       0.019236   \n",
       "51                  0.104298                       0.061602   \n",
       "52                  0.101694                       0.034962   \n",
       "53                  0.102616                       0.037440   \n",
       "54                  0.095650                       0.025673   \n",
       "\n",
       "    aglomeracao, aglomeracoes  distanciamento social label  \n",
       "19                   0.017424               0.005238    19  \n",
       "20                   0.018915               0.005090    20  \n",
       "21                   0.016652               0.005165    21  \n",
       "22                   0.015558               0.004796    22  \n",
       "23                   0.017505               0.004699    23  \n",
       "24                   0.026160               0.005705    24  \n",
       "25                   0.021675               0.005372    25  \n",
       "26                   0.020645               0.004809    26  \n",
       "27                   0.023090               0.005470    27  \n",
       "28                   0.035761               0.005578    28  \n",
       "29                   0.015572               0.004506    29  \n",
       "30                   0.021081               0.005834    30  \n",
       "31                   0.020733               0.005609    31  \n",
       "32                   0.022360               0.005844    32  \n",
       "33                   0.023284               0.006481    33  \n",
       "34                   0.023778               0.007095    34  \n",
       "35                   0.027642               0.006477    35  \n",
       "36                   0.022588               0.006132    36  \n",
       "37                   0.040634               0.008074    37  \n",
       "38                   0.038159               0.008273    38  \n",
       "39                   0.033730               0.009058    39  \n",
       "40                   0.028484               0.007555    40  \n",
       "41                   0.025639               0.007316    41  \n",
       "42                   0.032049               0.009207    42  \n",
       "43                   0.026918               0.009374    43  \n",
       "44                   0.021102               0.007662    44  \n",
       "45                   0.032977               0.010586    45  \n",
       "46                   0.035295               0.009740    46  \n",
       "47                   0.043948               0.008994    47  \n",
       "48                   0.030519               0.008587    48  \n",
       "49                   0.034491               0.007979    49  \n",
       "50                   0.032969               0.008488    50  \n",
       "51                   0.025937               0.007178    51  \n",
       "52                   0.029652               0.008362    52  \n",
       "53                   0.039069               0.008726    53  \n",
       "54                   0.066258               0.008120     1  "
      ]
     },
     "execution_count": 4,
     "metadata": {},
     "output_type": "execute_result"
    }
   ],
   "source": [
    "acont = dict()\n",
    "for i,val in enumerate(semanas):\n",
    "    if val in acont.keys():\n",
    "        #acont[val].append(text[i])\n",
    "        acont[val] = acont[val]+\"<br>\"+text[i]\n",
    "    else:\n",
    "        acont[val] = text[i]\n",
    "        #acont[val] = list()\n",
    "        #acont[val].append(text[i])\n",
    "df_ac = pd.Series(acont) \n",
    "ocor_rel.insert(1,\"acontecimentos\",df_ac)\n",
    "ocor_rel = ocor_rel.fillna(\"\")\n",
    "ocor_rel.acontecimentos = ocor_rel.acontecimentos.convert_dtypes(str)\n",
    "ocor_rel"
   ]
  },
  {
   "cell_type": "code",
   "execution_count": 5,
   "metadata": {},
   "outputs": [
    {
     "data": {
      "text/plain": [
       "datetime.datetime(2020, 5, 3, 0, 0, tzinfo=datetime.timezone(datetime.timedelta(days=-1, seconds=75600)))"
      ]
     },
     "execution_count": 5,
     "metadata": {},
     "output_type": "execute_result"
    }
   ],
   "source": [
    "from datetime import date\n",
    "from datetime import datetime\n",
    "from datetime import timedelta\n",
    "from datetime import timezone\n",
    "\n",
    "dia = timedelta(days=7)\n",
    "d1 = datetime.fromisoformat('2020-05-03')\n",
    "d2 = date.fromisoformat('2020-02-01')\n",
    "\n",
    "diferenca = timedelta(hours=-3)\n",
    "fuso_horario = timezone(diferenca)\n",
    "\n",
    "d1.astimezone(fuso_horario)\n",
    "datas = []\n",
    "for i in range(len(ocor_rel[\"label\"])):\n",
    "    datas.append(d1.strftime(\"%b/%y\"))\n",
    "    d1 = d1+dia"
   ]
  },
  {
   "cell_type": "code",
   "execution_count": 8,
   "metadata": {},
   "outputs": [
    {
     "data": {
      "application/vnd.plotly.v1+json": {
       "config": {
        "plotlyServerURL": "https://plot.ly"
       },
       "data": [
        {
         "hoverinfo": "none",
         "legendgroup": "A",
         "marker": {
          "color": "dodgerblue"
         },
         "name": "corona, covid, coronavírus, covid19, sars, covid-19",
         "type": "scatter",
         "x": [
          19,
          20,
          21,
          22,
          23,
          24,
          25,
          26,
          27,
          28,
          29,
          30,
          31,
          32,
          33,
          34,
          35,
          36,
          37,
          38,
          39,
          40,
          41,
          42,
          43,
          44,
          45,
          46,
          47,
          48,
          49,
          50,
          51,
          52,
          53,
          54
         ],
         "y": [
          0.32042137524686753,
          0.3164530099951878,
          0.3076525070525417,
          0.3047640269683465,
          0.2898047626306609,
          0.3734568942571912,
          0.3580508602265892,
          0.3459071541310043,
          0.3539057959391138,
          0.3619401861754803,
          0.4191023266410971,
          0.3975852836379799,
          0.3516339578419593,
          0.36215305983078017,
          0.38667293143771214,
          0.4082820432490704,
          0.3938566328941152,
          0.4303798516634038,
          0.4295531812629806,
          0.4360853401212446,
          0.4702526131577499,
          0.4971233901121728,
          0.5066701316701316,
          0.5176070029684847,
          0.510451559989213,
          0.4688578616036448,
          0.5287601064846944,
          0.5557041298563352,
          0.5544180113882454,
          0.5860705820282344,
          0.6031988067239922,
          0.5554795070089288,
          0.5235181141692895,
          0.5544475723895876,
          0.593050111593511,
          0.6416591212865951
         ]
        },
        {
         "hoverinfo": "none",
         "legendgroup": "B",
         "marker": {
          "color": "red"
         },
         "name": "quarentena, confinamento",
         "type": "scatter",
         "x": [
          19,
          20,
          21,
          22,
          23,
          24,
          25,
          26,
          27,
          28,
          29,
          30,
          31,
          32,
          33,
          34,
          35,
          36,
          37,
          38,
          39,
          40,
          41,
          42,
          43,
          44,
          45,
          46,
          47,
          48,
          49,
          50,
          51,
          52,
          53,
          54
         ],
         "y": [
          0.4966016274819921,
          0.4765180142157288,
          0.4168933815486868,
          0.3967150420904277,
          0.4628157508013099,
          0.3896930095857185,
          0.3997971328592936,
          0.449065253611712,
          0.4311502650109816,
          0.4036878589819766,
          0.2816151792997529,
          0.3715403264697836,
          0.3442629759838607,
          0.3563069247855998,
          0.3461627397462768,
          0.31586162476868385,
          0.3834138274975064,
          0.3232515461390416,
          0.3286518711885034,
          0.32332786281274073,
          0.2972062415892099,
          0.2295754050685501,
          0.23965617715617715,
          0.2624263806299257,
          0.21770090196104647,
          0.16944615279792438,
          0.18670918032998224,
          0.1989227165013628,
          0.1551479557980315,
          0.14734590004306147,
          0.12457956588677907,
          0.1291047794328343,
          0.10429759670505416,
          0.1016942697669884,
          0.1026160628032734,
          0.09564954943301858
         ]
        },
        {
         "hoverinfo": "none",
         "legendgroup": "C",
         "marker": {
          "color": "seagreen"
         },
         "name": "aglomeracao, aglomeracoes",
         "type": "scatter",
         "x": [
          19,
          20,
          21,
          22,
          23,
          24,
          25,
          26,
          27,
          28,
          29,
          30,
          31,
          32,
          33,
          34,
          35,
          36,
          37,
          38,
          39,
          40,
          41,
          42,
          43,
          44,
          45,
          46,
          47,
          48,
          49,
          50,
          51,
          52,
          53,
          54
         ],
         "y": [
          0.017423727146825753,
          0.01891472929371021,
          0.016652177965634198,
          0.015557841008646631,
          0.017505306429646983,
          0.026159851946821817,
          0.021674720680997142,
          0.020645397452097668,
          0.02308959822349248,
          0.03576074470192117,
          0.015571932980836997,
          0.021081117940064228,
          0.02073338970228294,
          0.022360163612706586,
          0.02328383108347104,
          0.023777648485037176,
          0.027641870964355084,
          0.02258837091436692,
          0.04063391553966162,
          0.03815855578256355,
          0.03373047130793599,
          0.028483589530535938,
          0.025639056889056887,
          0.032048728672907124,
          0.026918422337075348,
          0.021102100169082167,
          0.032976737090664544,
          0.03529478369409031,
          0.04394766016458518,
          0.030519336930841717,
          0.03449128856825339,
          0.03296922817456744,
          0.02593747489721551,
          0.029652005947158038,
          0.03906883265414895,
          0.06625849753517585
         ]
        },
        {
         "hoverinfo": "none",
         "legendgroup": "D",
         "marker": {
          "color": "darkviolet"
         },
         "name": "distanciamento social",
         "type": "scatter",
         "x": [
          19,
          20,
          21,
          22,
          23,
          24,
          25,
          26,
          27,
          28,
          29,
          30,
          31,
          32,
          33,
          34,
          35,
          36,
          37,
          38,
          39,
          40,
          41,
          42,
          43,
          44,
          45,
          46,
          47,
          48,
          49,
          50,
          51,
          52,
          53,
          54
         ],
         "y": [
          0.005238099140368273,
          0.005089893579255449,
          0.005165332881869214,
          0.004796023311621529,
          0.004699441510542677,
          0.005705070771368554,
          0.005372423328154174,
          0.004809312547233714,
          0.005469648899508308,
          0.005578134284016637,
          0.004505956196486606,
          0.00583386665987514,
          0.005609452182813404,
          0.005844337893306688,
          0.006480870451221896,
          0.0070946688797778575,
          0.0064767179379494975,
          0.006131555149214426,
          0.008073868622150886,
          0.008272766855343805,
          0.0090575549536588,
          0.007554632322393021,
          0.007315882315882315,
          0.0092065704991417,
          0.00937397618394924,
          0.00766159181090051,
          0.010586159997765457,
          0.009740303504945638,
          0.00899417077599806,
          0.008587079229238355,
          0.007978556475700662,
          0.008488327730665886,
          0.007178483536224687,
          0.008361667641610608,
          0.008725761260210898,
          0.00812026617226462
         ]
        },
        {
         "hoverinfo": "none",
         "legendgroup": "E",
         "marker": {
          "color": "#ff8000"
         },
         "name": "hidroxicloroquina, cloroquina",
         "type": "scatter",
         "x": [
          19,
          20,
          21,
          22,
          23,
          24,
          25,
          26,
          27,
          28,
          29,
          30,
          31,
          32,
          33,
          34,
          35,
          36,
          37,
          38,
          39,
          40,
          41,
          42,
          43,
          44,
          45,
          46,
          47,
          48,
          49,
          50,
          51,
          52,
          53,
          54
         ],
         "y": [
          0.00852379352449008,
          0.014174312288479898,
          0.07640789275951737,
          0.10242562754732792,
          0.04189702281500621,
          0.0348302349382008,
          0.030603044574117624,
          0.027900226181543614,
          0.01894760816565738,
          0.02242265795206972,
          0.1228655142657133,
          0.052398819260221996,
          0.08288089834304957,
          0.06922269587158271,
          0.04695621875313458,
          0.0716929327679911,
          0.05464722557614573,
          0.04786654343930225,
          0.026814415669743057,
          0.02439461432829822,
          0.02315826236160751,
          0.018165351059410053,
          0.039229351729351734,
          0.0189916635843742,
          0.025351635542658724,
          0.14726465214436713,
          0.030883999149153775,
          0.021761342344843948,
          0.0271354946893266,
          0.017903487979640843,
          0.021857035787204042,
          0.01923627974148588,
          0.06160205057800304,
          0.034962403724285857,
          0.037440270637396966,
          0.025672976041621755
         ]
        },
        {
         "customdata": [
          "Bolsonaro livra agentes públicos de responsabilidade por erros durante epidemia<br>Covid-19 atinge dezenas de povos indígenas<br>Nelson Teich pede demissão do Ministério da Saúde",
          "Sem base científica, governo amplia uso da cloroquina",
          "Brasil ultrapassa Itália e é terceiro país com mais mortes por covid-19",
          "Brasil amplia orientações de uso da cloroquina contra a covid-19<br>Casos de covid-19 passam de 1 milhão no Brasil",
          "Vacina de Oxford contra covid-19 começa a ser testada no Brasil<br>Juiz manda Bolsonaro usar máscara em público",
          "UE estende proibição à entrada de viajantes do Brasil",
          "Bolsonaro diz estar com covid-19",
          "Casos de covid-19 passam de 2 milhões no Brasil",
          "Brasil: 100 mil mortos por covid-19",
          "Mais uma empresa alemã pretende testar vacina contra covid-19 no Brasil",
          "Brasil autoriza testes de mais uma vacina contra covid-19",
          "Saldo do coronavírus após seis meses no Brasil",
          "Índia passa Brasil e é segundo país com mais casos de covid-19",
          "Pazuello é efetivado como ministro da Saúde<br>Brasil adere à iniciativa global por vacinas contra covid-19",
          "Brasil ultrapassa marca de 5 milhões de casos de covid-19",
          "Testes no Brasil mostram segurança de vacina chinesa, diz Butantan<br>Pandemia deve elevar tanto a fome quanto a obesidade entre brasileiros<br>Brasil incluirá vacina chinesa em calendário nacional de vacinação<br>Anvisa autoriza importar 6 milhões de doses de vacina chinesa"
         ],
         "hovertemplate": "%{customdata}",
         "legendgroup": "A",
         "marker": {
          "color": "#6d8484",
          "size": 5,
          "symbol": "0"
         },
         "mode": "markers",
         "name": "corona, covid, coronavírus, covid19, sars, covid-19",
         "showlegend": false,
         "type": "scatter",
         "x": [
          20,
          21,
          23,
          25,
          26,
          27,
          28,
          29,
          32,
          33,
          34,
          35,
          37,
          38,
          41,
          43
         ],
         "y": [
          0.3164530099951878,
          0.3076525070525417,
          0.2898047626306609,
          0.3580508602265892,
          0.3459071541310043,
          0.3539057959391138,
          0.3619401861754803,
          0.4191023266410971,
          0.36215305983078017,
          0.38667293143771214,
          0.4082820432490704,
          0.3938566328941152,
          0.4295531812629806,
          0.4360853401212446,
          0.5066701316701316,
          0.510451559989213
         ]
        },
        {
         "customdata": [
          "Bolsonaro livra agentes públicos de responsabilidade por erros durante epidemia<br>Covid-19 atinge dezenas de povos indígenas<br>Nelson Teich pede demissão do Ministério da Saúde",
          "Sem base científica, governo amplia uso da cloroquina",
          "Brasil ultrapassa Itália e é terceiro país com mais mortes por covid-19",
          "Brasil amplia orientações de uso da cloroquina contra a covid-19<br>Casos de covid-19 passam de 1 milhão no Brasil",
          "Vacina de Oxford contra covid-19 começa a ser testada no Brasil<br>Juiz manda Bolsonaro usar máscara em público",
          "UE estende proibição à entrada de viajantes do Brasil",
          "Bolsonaro diz estar com covid-19",
          "Casos de covid-19 passam de 2 milhões no Brasil",
          "Brasil: 100 mil mortos por covid-19",
          "Mais uma empresa alemã pretende testar vacina contra covid-19 no Brasil",
          "Brasil autoriza testes de mais uma vacina contra covid-19",
          "Saldo do coronavírus após seis meses no Brasil",
          "Índia passa Brasil e é segundo país com mais casos de covid-19",
          "Pazuello é efetivado como ministro da Saúde<br>Brasil adere à iniciativa global por vacinas contra covid-19",
          "Brasil ultrapassa marca de 5 milhões de casos de covid-19",
          "Testes no Brasil mostram segurança de vacina chinesa, diz Butantan<br>Pandemia deve elevar tanto a fome quanto a obesidade entre brasileiros<br>Brasil incluirá vacina chinesa em calendário nacional de vacinação<br>Anvisa autoriza importar 6 milhões de doses de vacina chinesa"
         ],
         "hovertemplate": "%{customdata}",
         "legendgroup": "B",
         "marker": {
          "color": "#6d8484",
          "size": 5,
          "symbol": "0"
         },
         "mode": "markers",
         "name": "quarentena, confinamento",
         "showlegend": false,
         "type": "scatter",
         "x": [
          20,
          21,
          23,
          25,
          26,
          27,
          28,
          29,
          32,
          33,
          34,
          35,
          37,
          38,
          41,
          43
         ],
         "y": [
          0.4765180142157288,
          0.4168933815486868,
          0.4628157508013099,
          0.3997971328592936,
          0.449065253611712,
          0.4311502650109816,
          0.4036878589819766,
          0.2816151792997529,
          0.3563069247855998,
          0.3461627397462768,
          0.31586162476868385,
          0.3834138274975064,
          0.3286518711885034,
          0.32332786281274073,
          0.23965617715617715,
          0.21770090196104647
         ]
        },
        {
         "customdata": [
          "Bolsonaro livra agentes públicos de responsabilidade por erros durante epidemia<br>Covid-19 atinge dezenas de povos indígenas<br>Nelson Teich pede demissão do Ministério da Saúde",
          "Sem base científica, governo amplia uso da cloroquina",
          "Brasil ultrapassa Itália e é terceiro país com mais mortes por covid-19",
          "Brasil amplia orientações de uso da cloroquina contra a covid-19<br>Casos de covid-19 passam de 1 milhão no Brasil",
          "Vacina de Oxford contra covid-19 começa a ser testada no Brasil<br>Juiz manda Bolsonaro usar máscara em público",
          "UE estende proibição à entrada de viajantes do Brasil",
          "Bolsonaro diz estar com covid-19",
          "Casos de covid-19 passam de 2 milhões no Brasil",
          "Brasil: 100 mil mortos por covid-19",
          "Mais uma empresa alemã pretende testar vacina contra covid-19 no Brasil",
          "Brasil autoriza testes de mais uma vacina contra covid-19",
          "Saldo do coronavírus após seis meses no Brasil",
          "Índia passa Brasil e é segundo país com mais casos de covid-19",
          "Pazuello é efetivado como ministro da Saúde<br>Brasil adere à iniciativa global por vacinas contra covid-19",
          "Brasil ultrapassa marca de 5 milhões de casos de covid-19",
          "Testes no Brasil mostram segurança de vacina chinesa, diz Butantan<br>Pandemia deve elevar tanto a fome quanto a obesidade entre brasileiros<br>Brasil incluirá vacina chinesa em calendário nacional de vacinação<br>Anvisa autoriza importar 6 milhões de doses de vacina chinesa"
         ],
         "hovertemplate": "%{customdata}",
         "legendgroup": "C",
         "marker": {
          "color": "#6d8484",
          "size": 5,
          "symbol": "0"
         },
         "mode": "markers",
         "name": "aglomeracao, aglomeracoes",
         "showlegend": false,
         "type": "scatter",
         "x": [
          20,
          21,
          23,
          25,
          26,
          27,
          28,
          29,
          32,
          33,
          34,
          35,
          37,
          38,
          41,
          43
         ],
         "y": [
          0.01891472929371021,
          0.016652177965634198,
          0.017505306429646983,
          0.021674720680997142,
          0.020645397452097668,
          0.02308959822349248,
          0.03576074470192117,
          0.015571932980836997,
          0.022360163612706586,
          0.02328383108347104,
          0.023777648485037176,
          0.027641870964355084,
          0.04063391553966162,
          0.03815855578256355,
          0.025639056889056887,
          0.026918422337075348
         ]
        },
        {
         "customdata": [
          "Bolsonaro livra agentes públicos de responsabilidade por erros durante epidemia<br>Covid-19 atinge dezenas de povos indígenas<br>Nelson Teich pede demissão do Ministério da Saúde",
          "Sem base científica, governo amplia uso da cloroquina",
          "Brasil ultrapassa Itália e é terceiro país com mais mortes por covid-19",
          "Brasil amplia orientações de uso da cloroquina contra a covid-19<br>Casos de covid-19 passam de 1 milhão no Brasil",
          "Vacina de Oxford contra covid-19 começa a ser testada no Brasil<br>Juiz manda Bolsonaro usar máscara em público",
          "UE estende proibição à entrada de viajantes do Brasil",
          "Bolsonaro diz estar com covid-19",
          "Casos de covid-19 passam de 2 milhões no Brasil",
          "Brasil: 100 mil mortos por covid-19",
          "Mais uma empresa alemã pretende testar vacina contra covid-19 no Brasil",
          "Brasil autoriza testes de mais uma vacina contra covid-19",
          "Saldo do coronavírus após seis meses no Brasil",
          "Índia passa Brasil e é segundo país com mais casos de covid-19",
          "Pazuello é efetivado como ministro da Saúde<br>Brasil adere à iniciativa global por vacinas contra covid-19",
          "Brasil ultrapassa marca de 5 milhões de casos de covid-19",
          "Testes no Brasil mostram segurança de vacina chinesa, diz Butantan<br>Pandemia deve elevar tanto a fome quanto a obesidade entre brasileiros<br>Brasil incluirá vacina chinesa em calendário nacional de vacinação<br>Anvisa autoriza importar 6 milhões de doses de vacina chinesa"
         ],
         "hovertemplate": "%{customdata}",
         "legendgroup": "D",
         "marker": {
          "color": "#6d8484",
          "size": 5,
          "symbol": "0"
         },
         "mode": "markers",
         "name": "distanciamento social",
         "showlegend": false,
         "type": "scatter",
         "x": [
          20,
          21,
          23,
          25,
          26,
          27,
          28,
          29,
          32,
          33,
          34,
          35,
          37,
          38,
          41,
          43
         ],
         "y": [
          0.005089893579255449,
          0.005165332881869214,
          0.004699441510542677,
          0.005372423328154174,
          0.004809312547233714,
          0.005469648899508308,
          0.005578134284016637,
          0.004505956196486606,
          0.005844337893306688,
          0.006480870451221896,
          0.0070946688797778575,
          0.0064767179379494975,
          0.008073868622150886,
          0.008272766855343805,
          0.007315882315882315,
          0.00937397618394924
         ]
        },
        {
         "customdata": [
          "Bolsonaro livra agentes públicos de responsabilidade por erros durante epidemia<br>Covid-19 atinge dezenas de povos indígenas<br>Nelson Teich pede demissão do Ministério da Saúde",
          "Sem base científica, governo amplia uso da cloroquina",
          "Brasil ultrapassa Itália e é terceiro país com mais mortes por covid-19",
          "Brasil amplia orientações de uso da cloroquina contra a covid-19<br>Casos de covid-19 passam de 1 milhão no Brasil",
          "Vacina de Oxford contra covid-19 começa a ser testada no Brasil<br>Juiz manda Bolsonaro usar máscara em público",
          "UE estende proibição à entrada de viajantes do Brasil",
          "Bolsonaro diz estar com covid-19",
          "Casos de covid-19 passam de 2 milhões no Brasil",
          "Brasil: 100 mil mortos por covid-19",
          "Mais uma empresa alemã pretende testar vacina contra covid-19 no Brasil",
          "Brasil autoriza testes de mais uma vacina contra covid-19",
          "Saldo do coronavírus após seis meses no Brasil",
          "Índia passa Brasil e é segundo país com mais casos de covid-19",
          "Pazuello é efetivado como ministro da Saúde<br>Brasil adere à iniciativa global por vacinas contra covid-19",
          "Brasil ultrapassa marca de 5 milhões de casos de covid-19",
          "Testes no Brasil mostram segurança de vacina chinesa, diz Butantan<br>Pandemia deve elevar tanto a fome quanto a obesidade entre brasileiros<br>Brasil incluirá vacina chinesa em calendário nacional de vacinação<br>Anvisa autoriza importar 6 milhões de doses de vacina chinesa"
         ],
         "hovertemplate": "%{customdata}",
         "legendgroup": "E",
         "marker": {
          "color": "#6d8484",
          "size": 5,
          "symbol": "0"
         },
         "mode": "markers",
         "name": "hidroxicloroquina, cloroquina",
         "showlegend": false,
         "type": "scatter",
         "x": [
          20,
          21,
          23,
          25,
          26,
          27,
          28,
          29,
          32,
          33,
          34,
          35,
          37,
          38,
          41,
          43
         ],
         "y": [
          0.014174312288479898,
          0.07640789275951737,
          0.04189702281500621,
          0.030603044574117624,
          0.027900226181543614,
          0.01894760816565738,
          0.02242265795206972,
          0.1228655142657133,
          0.06922269587158271,
          0.04695621875313458,
          0.0716929327679911,
          0.05464722557614573,
          0.026814415669743057,
          0.02439461432829822,
          0.039229351729351734,
          0.025351635542658724
         ]
        }
       ],
       "layout": {
        "legend": {
         "title": {
          "text": "Grupo de palavras"
         }
        },
        "template": {
         "data": {
          "bar": [
           {
            "error_x": {
             "color": "#2a3f5f"
            },
            "error_y": {
             "color": "#2a3f5f"
            },
            "marker": {
             "line": {
              "color": "#E5ECF6",
              "width": 0.5
             }
            },
            "type": "bar"
           }
          ],
          "barpolar": [
           {
            "marker": {
             "line": {
              "color": "#E5ECF6",
              "width": 0.5
             }
            },
            "type": "barpolar"
           }
          ],
          "carpet": [
           {
            "aaxis": {
             "endlinecolor": "#2a3f5f",
             "gridcolor": "white",
             "linecolor": "white",
             "minorgridcolor": "white",
             "startlinecolor": "#2a3f5f"
            },
            "baxis": {
             "endlinecolor": "#2a3f5f",
             "gridcolor": "white",
             "linecolor": "white",
             "minorgridcolor": "white",
             "startlinecolor": "#2a3f5f"
            },
            "type": "carpet"
           }
          ],
          "choropleth": [
           {
            "colorbar": {
             "outlinewidth": 0,
             "ticks": ""
            },
            "type": "choropleth"
           }
          ],
          "contour": [
           {
            "colorbar": {
             "outlinewidth": 0,
             "ticks": ""
            },
            "colorscale": [
             [
              0,
              "#0d0887"
             ],
             [
              0.1111111111111111,
              "#46039f"
             ],
             [
              0.2222222222222222,
              "#7201a8"
             ],
             [
              0.3333333333333333,
              "#9c179e"
             ],
             [
              0.4444444444444444,
              "#bd3786"
             ],
             [
              0.5555555555555556,
              "#d8576b"
             ],
             [
              0.6666666666666666,
              "#ed7953"
             ],
             [
              0.7777777777777778,
              "#fb9f3a"
             ],
             [
              0.8888888888888888,
              "#fdca26"
             ],
             [
              1,
              "#f0f921"
             ]
            ],
            "type": "contour"
           }
          ],
          "contourcarpet": [
           {
            "colorbar": {
             "outlinewidth": 0,
             "ticks": ""
            },
            "type": "contourcarpet"
           }
          ],
          "heatmap": [
           {
            "colorbar": {
             "outlinewidth": 0,
             "ticks": ""
            },
            "colorscale": [
             [
              0,
              "#0d0887"
             ],
             [
              0.1111111111111111,
              "#46039f"
             ],
             [
              0.2222222222222222,
              "#7201a8"
             ],
             [
              0.3333333333333333,
              "#9c179e"
             ],
             [
              0.4444444444444444,
              "#bd3786"
             ],
             [
              0.5555555555555556,
              "#d8576b"
             ],
             [
              0.6666666666666666,
              "#ed7953"
             ],
             [
              0.7777777777777778,
              "#fb9f3a"
             ],
             [
              0.8888888888888888,
              "#fdca26"
             ],
             [
              1,
              "#f0f921"
             ]
            ],
            "type": "heatmap"
           }
          ],
          "heatmapgl": [
           {
            "colorbar": {
             "outlinewidth": 0,
             "ticks": ""
            },
            "colorscale": [
             [
              0,
              "#0d0887"
             ],
             [
              0.1111111111111111,
              "#46039f"
             ],
             [
              0.2222222222222222,
              "#7201a8"
             ],
             [
              0.3333333333333333,
              "#9c179e"
             ],
             [
              0.4444444444444444,
              "#bd3786"
             ],
             [
              0.5555555555555556,
              "#d8576b"
             ],
             [
              0.6666666666666666,
              "#ed7953"
             ],
             [
              0.7777777777777778,
              "#fb9f3a"
             ],
             [
              0.8888888888888888,
              "#fdca26"
             ],
             [
              1,
              "#f0f921"
             ]
            ],
            "type": "heatmapgl"
           }
          ],
          "histogram": [
           {
            "marker": {
             "colorbar": {
              "outlinewidth": 0,
              "ticks": ""
             }
            },
            "type": "histogram"
           }
          ],
          "histogram2d": [
           {
            "colorbar": {
             "outlinewidth": 0,
             "ticks": ""
            },
            "colorscale": [
             [
              0,
              "#0d0887"
             ],
             [
              0.1111111111111111,
              "#46039f"
             ],
             [
              0.2222222222222222,
              "#7201a8"
             ],
             [
              0.3333333333333333,
              "#9c179e"
             ],
             [
              0.4444444444444444,
              "#bd3786"
             ],
             [
              0.5555555555555556,
              "#d8576b"
             ],
             [
              0.6666666666666666,
              "#ed7953"
             ],
             [
              0.7777777777777778,
              "#fb9f3a"
             ],
             [
              0.8888888888888888,
              "#fdca26"
             ],
             [
              1,
              "#f0f921"
             ]
            ],
            "type": "histogram2d"
           }
          ],
          "histogram2dcontour": [
           {
            "colorbar": {
             "outlinewidth": 0,
             "ticks": ""
            },
            "colorscale": [
             [
              0,
              "#0d0887"
             ],
             [
              0.1111111111111111,
              "#46039f"
             ],
             [
              0.2222222222222222,
              "#7201a8"
             ],
             [
              0.3333333333333333,
              "#9c179e"
             ],
             [
              0.4444444444444444,
              "#bd3786"
             ],
             [
              0.5555555555555556,
              "#d8576b"
             ],
             [
              0.6666666666666666,
              "#ed7953"
             ],
             [
              0.7777777777777778,
              "#fb9f3a"
             ],
             [
              0.8888888888888888,
              "#fdca26"
             ],
             [
              1,
              "#f0f921"
             ]
            ],
            "type": "histogram2dcontour"
           }
          ],
          "mesh3d": [
           {
            "colorbar": {
             "outlinewidth": 0,
             "ticks": ""
            },
            "type": "mesh3d"
           }
          ],
          "parcoords": [
           {
            "line": {
             "colorbar": {
              "outlinewidth": 0,
              "ticks": ""
             }
            },
            "type": "parcoords"
           }
          ],
          "pie": [
           {
            "automargin": true,
            "type": "pie"
           }
          ],
          "scatter": [
           {
            "marker": {
             "colorbar": {
              "outlinewidth": 0,
              "ticks": ""
             }
            },
            "type": "scatter"
           }
          ],
          "scatter3d": [
           {
            "line": {
             "colorbar": {
              "outlinewidth": 0,
              "ticks": ""
             }
            },
            "marker": {
             "colorbar": {
              "outlinewidth": 0,
              "ticks": ""
             }
            },
            "type": "scatter3d"
           }
          ],
          "scattercarpet": [
           {
            "marker": {
             "colorbar": {
              "outlinewidth": 0,
              "ticks": ""
             }
            },
            "type": "scattercarpet"
           }
          ],
          "scattergeo": [
           {
            "marker": {
             "colorbar": {
              "outlinewidth": 0,
              "ticks": ""
             }
            },
            "type": "scattergeo"
           }
          ],
          "scattergl": [
           {
            "marker": {
             "colorbar": {
              "outlinewidth": 0,
              "ticks": ""
             }
            },
            "type": "scattergl"
           }
          ],
          "scattermapbox": [
           {
            "marker": {
             "colorbar": {
              "outlinewidth": 0,
              "ticks": ""
             }
            },
            "type": "scattermapbox"
           }
          ],
          "scatterpolar": [
           {
            "marker": {
             "colorbar": {
              "outlinewidth": 0,
              "ticks": ""
             }
            },
            "type": "scatterpolar"
           }
          ],
          "scatterpolargl": [
           {
            "marker": {
             "colorbar": {
              "outlinewidth": 0,
              "ticks": ""
             }
            },
            "type": "scatterpolargl"
           }
          ],
          "scatterternary": [
           {
            "marker": {
             "colorbar": {
              "outlinewidth": 0,
              "ticks": ""
             }
            },
            "type": "scatterternary"
           }
          ],
          "surface": [
           {
            "colorbar": {
             "outlinewidth": 0,
             "ticks": ""
            },
            "colorscale": [
             [
              0,
              "#0d0887"
             ],
             [
              0.1111111111111111,
              "#46039f"
             ],
             [
              0.2222222222222222,
              "#7201a8"
             ],
             [
              0.3333333333333333,
              "#9c179e"
             ],
             [
              0.4444444444444444,
              "#bd3786"
             ],
             [
              0.5555555555555556,
              "#d8576b"
             ],
             [
              0.6666666666666666,
              "#ed7953"
             ],
             [
              0.7777777777777778,
              "#fb9f3a"
             ],
             [
              0.8888888888888888,
              "#fdca26"
             ],
             [
              1,
              "#f0f921"
             ]
            ],
            "type": "surface"
           }
          ],
          "table": [
           {
            "cells": {
             "fill": {
              "color": "#EBF0F8"
             },
             "line": {
              "color": "white"
             }
            },
            "header": {
             "fill": {
              "color": "#C8D4E3"
             },
             "line": {
              "color": "white"
             }
            },
            "type": "table"
           }
          ]
         },
         "layout": {
          "annotationdefaults": {
           "arrowcolor": "#2a3f5f",
           "arrowhead": 0,
           "arrowwidth": 1
          },
          "coloraxis": {
           "colorbar": {
            "outlinewidth": 0,
            "ticks": ""
           }
          },
          "colorscale": {
           "diverging": [
            [
             0,
             "#8e0152"
            ],
            [
             0.1,
             "#c51b7d"
            ],
            [
             0.2,
             "#de77ae"
            ],
            [
             0.3,
             "#f1b6da"
            ],
            [
             0.4,
             "#fde0ef"
            ],
            [
             0.5,
             "#f7f7f7"
            ],
            [
             0.6,
             "#e6f5d0"
            ],
            [
             0.7,
             "#b8e186"
            ],
            [
             0.8,
             "#7fbc41"
            ],
            [
             0.9,
             "#4d9221"
            ],
            [
             1,
             "#276419"
            ]
           ],
           "sequential": [
            [
             0,
             "#0d0887"
            ],
            [
             0.1111111111111111,
             "#46039f"
            ],
            [
             0.2222222222222222,
             "#7201a8"
            ],
            [
             0.3333333333333333,
             "#9c179e"
            ],
            [
             0.4444444444444444,
             "#bd3786"
            ],
            [
             0.5555555555555556,
             "#d8576b"
            ],
            [
             0.6666666666666666,
             "#ed7953"
            ],
            [
             0.7777777777777778,
             "#fb9f3a"
            ],
            [
             0.8888888888888888,
             "#fdca26"
            ],
            [
             1,
             "#f0f921"
            ]
           ],
           "sequentialminus": [
            [
             0,
             "#0d0887"
            ],
            [
             0.1111111111111111,
             "#46039f"
            ],
            [
             0.2222222222222222,
             "#7201a8"
            ],
            [
             0.3333333333333333,
             "#9c179e"
            ],
            [
             0.4444444444444444,
             "#bd3786"
            ],
            [
             0.5555555555555556,
             "#d8576b"
            ],
            [
             0.6666666666666666,
             "#ed7953"
            ],
            [
             0.7777777777777778,
             "#fb9f3a"
            ],
            [
             0.8888888888888888,
             "#fdca26"
            ],
            [
             1,
             "#f0f921"
            ]
           ]
          },
          "colorway": [
           "#636efa",
           "#EF553B",
           "#00cc96",
           "#ab63fa",
           "#FFA15A",
           "#19d3f3",
           "#FF6692",
           "#B6E880",
           "#FF97FF",
           "#FECB52"
          ],
          "font": {
           "color": "#2a3f5f"
          },
          "geo": {
           "bgcolor": "white",
           "lakecolor": "white",
           "landcolor": "#E5ECF6",
           "showlakes": true,
           "showland": true,
           "subunitcolor": "white"
          },
          "hoverlabel": {
           "align": "left"
          },
          "hovermode": "closest",
          "mapbox": {
           "style": "light"
          },
          "paper_bgcolor": "white",
          "plot_bgcolor": "#E5ECF6",
          "polar": {
           "angularaxis": {
            "gridcolor": "white",
            "linecolor": "white",
            "ticks": ""
           },
           "bgcolor": "#E5ECF6",
           "radialaxis": {
            "gridcolor": "white",
            "linecolor": "white",
            "ticks": ""
           }
          },
          "scene": {
           "xaxis": {
            "backgroundcolor": "#E5ECF6",
            "gridcolor": "white",
            "gridwidth": 2,
            "linecolor": "white",
            "showbackground": true,
            "ticks": "",
            "zerolinecolor": "white"
           },
           "yaxis": {
            "backgroundcolor": "#E5ECF6",
            "gridcolor": "white",
            "gridwidth": 2,
            "linecolor": "white",
            "showbackground": true,
            "ticks": "",
            "zerolinecolor": "white"
           },
           "zaxis": {
            "backgroundcolor": "#E5ECF6",
            "gridcolor": "white",
            "gridwidth": 2,
            "linecolor": "white",
            "showbackground": true,
            "ticks": "",
            "zerolinecolor": "white"
           }
          },
          "shapedefaults": {
           "line": {
            "color": "#2a3f5f"
           }
          },
          "ternary": {
           "aaxis": {
            "gridcolor": "white",
            "linecolor": "white",
            "ticks": ""
           },
           "baxis": {
            "gridcolor": "white",
            "linecolor": "white",
            "ticks": ""
           },
           "bgcolor": "#E5ECF6",
           "caxis": {
            "gridcolor": "white",
            "linecolor": "white",
            "ticks": ""
           }
          },
          "title": {
           "x": 0.05
          },
          "xaxis": {
           "automargin": true,
           "gridcolor": "white",
           "linecolor": "white",
           "ticks": "",
           "title": {
            "standoff": 15
           },
           "zerolinecolor": "white",
           "zerolinewidth": 2
          },
          "yaxis": {
           "automargin": true,
           "gridcolor": "white",
           "linecolor": "white",
           "ticks": "",
           "title": {
            "standoff": 15
           },
           "zerolinecolor": "white",
           "zerolinewidth": 2
          }
         }
        },
        "title": {
         "text": "Ocorrência das palavras chave em tweets por semana",
         "x": 0.4,
         "xanchor": "center",
         "y": 0.95,
         "yanchor": "top"
        },
        "xaxis": {
         "tickangle": 0,
         "tickmode": "array",
         "ticktext": [
          "May/20",
          "Jun/20",
          "Jul/20",
          "Aug/20",
          "Sep/20",
          "Oct/20",
          "Nov/20",
          "Dec/20",
          "Jan/21"
         ],
         "tickvals": [
          19,
          24,
          28,
          32,
          37,
          41,
          45,
          50,
          54
         ],
         "title": {
          "text": "Semana Epidemiológica"
         }
        },
        "yaxis": {
         "title": {
          "text": "Número de Ocorrências/ Total de tweets"
         }
        }
       }
      },
      "text/html": [
       "<div>                            <div id=\"e0ffa35a-fe04-4779-9d43-89129c8542e3\" class=\"plotly-graph-div\" style=\"height:525px; width:100%;\"></div>            <script type=\"text/javascript\">                require([\"plotly\"], function(Plotly) {                    window.PLOTLYENV=window.PLOTLYENV || {};                                    if (document.getElementById(\"e0ffa35a-fe04-4779-9d43-89129c8542e3\")) {                    Plotly.newPlot(                        \"e0ffa35a-fe04-4779-9d43-89129c8542e3\",                        [{\"hoverinfo\": \"none\", \"legendgroup\": \"A\", \"marker\": {\"color\": \"dodgerblue\"}, \"name\": \"corona, covid, coronav\\u00edrus, covid19, sars, covid-19\", \"type\": \"scatter\", \"x\": [19, 20, 21, 22, 23, 24, 25, 26, 27, 28, 29, 30, 31, 32, 33, 34, 35, 36, 37, 38, 39, 40, 41, 42, 43, 44, 45, 46, 47, 48, 49, 50, 51, 52, 53, 54], \"y\": [0.32042137524686753, 0.3164530099951878, 0.3076525070525417, 0.3047640269683465, 0.2898047626306609, 0.3734568942571912, 0.3580508602265892, 0.3459071541310043, 0.3539057959391138, 0.3619401861754803, 0.4191023266410971, 0.3975852836379799, 0.3516339578419593, 0.36215305983078017, 0.38667293143771214, 0.4082820432490704, 0.3938566328941152, 0.4303798516634038, 0.4295531812629806, 0.4360853401212446, 0.4702526131577499, 0.4971233901121728, 0.5066701316701316, 0.5176070029684847, 0.510451559989213, 0.4688578616036448, 0.5287601064846944, 0.5557041298563352, 0.5544180113882454, 0.5860705820282344, 0.6031988067239922, 0.5554795070089288, 0.5235181141692895, 0.5544475723895876, 0.593050111593511, 0.6416591212865951]}, {\"hoverinfo\": \"none\", \"legendgroup\": \"B\", \"marker\": {\"color\": \"red\"}, \"name\": \"quarentena, confinamento\", \"type\": \"scatter\", \"x\": [19, 20, 21, 22, 23, 24, 25, 26, 27, 28, 29, 30, 31, 32, 33, 34, 35, 36, 37, 38, 39, 40, 41, 42, 43, 44, 45, 46, 47, 48, 49, 50, 51, 52, 53, 54], \"y\": [0.4966016274819921, 0.4765180142157288, 0.4168933815486868, 0.3967150420904277, 0.4628157508013099, 0.3896930095857185, 0.3997971328592936, 0.449065253611712, 0.4311502650109816, 0.4036878589819766, 0.2816151792997529, 0.3715403264697836, 0.3442629759838607, 0.3563069247855998, 0.3461627397462768, 0.31586162476868385, 0.3834138274975064, 0.3232515461390416, 0.3286518711885034, 0.32332786281274073, 0.2972062415892099, 0.2295754050685501, 0.23965617715617715, 0.2624263806299257, 0.21770090196104647, 0.16944615279792438, 0.18670918032998224, 0.1989227165013628, 0.1551479557980315, 0.14734590004306147, 0.12457956588677907, 0.1291047794328343, 0.10429759670505416, 0.1016942697669884, 0.1026160628032734, 0.09564954943301858]}, {\"hoverinfo\": \"none\", \"legendgroup\": \"C\", \"marker\": {\"color\": \"seagreen\"}, \"name\": \"aglomeracao, aglomeracoes\", \"type\": \"scatter\", \"x\": [19, 20, 21, 22, 23, 24, 25, 26, 27, 28, 29, 30, 31, 32, 33, 34, 35, 36, 37, 38, 39, 40, 41, 42, 43, 44, 45, 46, 47, 48, 49, 50, 51, 52, 53, 54], \"y\": [0.017423727146825753, 0.01891472929371021, 0.016652177965634198, 0.015557841008646631, 0.017505306429646983, 0.026159851946821817, 0.021674720680997142, 0.020645397452097668, 0.02308959822349248, 0.03576074470192117, 0.015571932980836997, 0.021081117940064228, 0.02073338970228294, 0.022360163612706586, 0.02328383108347104, 0.023777648485037176, 0.027641870964355084, 0.02258837091436692, 0.04063391553966162, 0.03815855578256355, 0.03373047130793599, 0.028483589530535938, 0.025639056889056887, 0.032048728672907124, 0.026918422337075348, 0.021102100169082167, 0.032976737090664544, 0.03529478369409031, 0.04394766016458518, 0.030519336930841717, 0.03449128856825339, 0.03296922817456744, 0.02593747489721551, 0.029652005947158038, 0.03906883265414895, 0.06625849753517585]}, {\"hoverinfo\": \"none\", \"legendgroup\": \"D\", \"marker\": {\"color\": \"darkviolet\"}, \"name\": \"distanciamento social\", \"type\": \"scatter\", \"x\": [19, 20, 21, 22, 23, 24, 25, 26, 27, 28, 29, 30, 31, 32, 33, 34, 35, 36, 37, 38, 39, 40, 41, 42, 43, 44, 45, 46, 47, 48, 49, 50, 51, 52, 53, 54], \"y\": [0.005238099140368273, 0.005089893579255449, 0.005165332881869214, 0.004796023311621529, 0.004699441510542677, 0.005705070771368554, 0.005372423328154174, 0.004809312547233714, 0.005469648899508308, 0.005578134284016637, 0.004505956196486606, 0.00583386665987514, 0.005609452182813404, 0.005844337893306688, 0.006480870451221896, 0.0070946688797778575, 0.0064767179379494975, 0.006131555149214426, 0.008073868622150886, 0.008272766855343805, 0.0090575549536588, 0.007554632322393021, 0.007315882315882315, 0.0092065704991417, 0.00937397618394924, 0.00766159181090051, 0.010586159997765457, 0.009740303504945638, 0.00899417077599806, 0.008587079229238355, 0.007978556475700662, 0.008488327730665886, 0.007178483536224687, 0.008361667641610608, 0.008725761260210898, 0.00812026617226462]}, {\"hoverinfo\": \"none\", \"legendgroup\": \"E\", \"marker\": {\"color\": \"#ff8000\"}, \"name\": \"hidroxicloroquina, cloroquina\", \"type\": \"scatter\", \"x\": [19, 20, 21, 22, 23, 24, 25, 26, 27, 28, 29, 30, 31, 32, 33, 34, 35, 36, 37, 38, 39, 40, 41, 42, 43, 44, 45, 46, 47, 48, 49, 50, 51, 52, 53, 54], \"y\": [0.00852379352449008, 0.014174312288479898, 0.07640789275951737, 0.10242562754732792, 0.04189702281500621, 0.0348302349382008, 0.030603044574117624, 0.027900226181543614, 0.01894760816565738, 0.02242265795206972, 0.1228655142657133, 0.052398819260221996, 0.08288089834304957, 0.06922269587158271, 0.04695621875313458, 0.0716929327679911, 0.05464722557614573, 0.04786654343930225, 0.026814415669743057, 0.02439461432829822, 0.02315826236160751, 0.018165351059410053, 0.039229351729351734, 0.0189916635843742, 0.025351635542658724, 0.14726465214436713, 0.030883999149153775, 0.021761342344843948, 0.0271354946893266, 0.017903487979640843, 0.021857035787204042, 0.01923627974148588, 0.06160205057800304, 0.034962403724285857, 0.037440270637396966, 0.025672976041621755]}, {\"customdata\": [\"Bolsonaro livra agentes p\\u00fablicos de responsabilidade por erros durante epidemia<br>Covid-19 atinge dezenas de povos ind\\u00edgenas<br>Nelson Teich pede demiss\\u00e3o do Minist\\u00e9rio da Sa\\u00fade\", \"Sem base cient\\u00edfica, governo amplia uso da cloroquina\", \"Brasil ultrapassa It\\u00e1lia e \\u00e9 terceiro pa\\u00eds com mais mortes por covid-19\", \"Brasil amplia orienta\\u00e7\\u00f5es de uso da cloroquina contra a covid-19<br>Casos de covid-19 passam de 1 milh\\u00e3o no Brasil\", \"Vacina de Oxford contra covid-19 come\\u00e7a a ser testada no Brasil<br>Juiz manda Bolsonaro usar m\\u00e1scara em p\\u00fablico\", \"UE estende proibi\\u00e7\\u00e3o \\u00e0 entrada de viajantes do Brasil\", \"Bolsonaro diz estar com covid-19\", \"Casos de covid-19 passam de 2 milh\\u00f5es no Brasil\", \"Brasil: 100 mil mortos por covid-19\", \"Mais uma empresa alem\\u00e3 pretende testar vacina contra covid-19 no Brasil\", \"Brasil autoriza testes de mais uma vacina contra covid-19\", \"Saldo do coronav\\u00edrus ap\\u00f3s seis meses no Brasil\", \"\\u00cdndia passa Brasil e \\u00e9 segundo pa\\u00eds com mais casos de covid-19\", \"Pazuello \\u00e9 efetivado como ministro da Sa\\u00fade<br>Brasil adere \\u00e0 iniciativa global por vacinas contra covid-19\", \"Brasil ultrapassa marca de 5 milh\\u00f5es de casos de covid-19\", \"Testes no Brasil mostram seguran\\u00e7a de vacina chinesa, diz Butantan<br>Pandemia deve elevar tanto a fome quanto a obesidade entre brasileiros<br>Brasil incluir\\u00e1 vacina chinesa em calend\\u00e1rio nacional de vacina\\u00e7\\u00e3o<br>Anvisa autoriza importar 6 milh\\u00f5es de doses de vacina chinesa\"], \"hovertemplate\": \"%{customdata}\", \"legendgroup\": \"A\", \"marker\": {\"color\": \"#6d8484\", \"size\": 5, \"symbol\": \"0\"}, \"mode\": \"markers\", \"name\": \"corona, covid, coronav\\u00edrus, covid19, sars, covid-19\", \"showlegend\": false, \"type\": \"scatter\", \"x\": [20, 21, 23, 25, 26, 27, 28, 29, 32, 33, 34, 35, 37, 38, 41, 43], \"y\": [0.3164530099951878, 0.3076525070525417, 0.2898047626306609, 0.3580508602265892, 0.3459071541310043, 0.3539057959391138, 0.3619401861754803, 0.4191023266410971, 0.36215305983078017, 0.38667293143771214, 0.4082820432490704, 0.3938566328941152, 0.4295531812629806, 0.4360853401212446, 0.5066701316701316, 0.510451559989213]}, {\"customdata\": [\"Bolsonaro livra agentes p\\u00fablicos de responsabilidade por erros durante epidemia<br>Covid-19 atinge dezenas de povos ind\\u00edgenas<br>Nelson Teich pede demiss\\u00e3o do Minist\\u00e9rio da Sa\\u00fade\", \"Sem base cient\\u00edfica, governo amplia uso da cloroquina\", \"Brasil ultrapassa It\\u00e1lia e \\u00e9 terceiro pa\\u00eds com mais mortes por covid-19\", \"Brasil amplia orienta\\u00e7\\u00f5es de uso da cloroquina contra a covid-19<br>Casos de covid-19 passam de 1 milh\\u00e3o no Brasil\", \"Vacina de Oxford contra covid-19 come\\u00e7a a ser testada no Brasil<br>Juiz manda Bolsonaro usar m\\u00e1scara em p\\u00fablico\", \"UE estende proibi\\u00e7\\u00e3o \\u00e0 entrada de viajantes do Brasil\", \"Bolsonaro diz estar com covid-19\", \"Casos de covid-19 passam de 2 milh\\u00f5es no Brasil\", \"Brasil: 100 mil mortos por covid-19\", \"Mais uma empresa alem\\u00e3 pretende testar vacina contra covid-19 no Brasil\", \"Brasil autoriza testes de mais uma vacina contra covid-19\", \"Saldo do coronav\\u00edrus ap\\u00f3s seis meses no Brasil\", \"\\u00cdndia passa Brasil e \\u00e9 segundo pa\\u00eds com mais casos de covid-19\", \"Pazuello \\u00e9 efetivado como ministro da Sa\\u00fade<br>Brasil adere \\u00e0 iniciativa global por vacinas contra covid-19\", \"Brasil ultrapassa marca de 5 milh\\u00f5es de casos de covid-19\", \"Testes no Brasil mostram seguran\\u00e7a de vacina chinesa, diz Butantan<br>Pandemia deve elevar tanto a fome quanto a obesidade entre brasileiros<br>Brasil incluir\\u00e1 vacina chinesa em calend\\u00e1rio nacional de vacina\\u00e7\\u00e3o<br>Anvisa autoriza importar 6 milh\\u00f5es de doses de vacina chinesa\"], \"hovertemplate\": \"%{customdata}\", \"legendgroup\": \"B\", \"marker\": {\"color\": \"#6d8484\", \"size\": 5, \"symbol\": \"0\"}, \"mode\": \"markers\", \"name\": \"quarentena, confinamento\", \"showlegend\": false, \"type\": \"scatter\", \"x\": [20, 21, 23, 25, 26, 27, 28, 29, 32, 33, 34, 35, 37, 38, 41, 43], \"y\": [0.4765180142157288, 0.4168933815486868, 0.4628157508013099, 0.3997971328592936, 0.449065253611712, 0.4311502650109816, 0.4036878589819766, 0.2816151792997529, 0.3563069247855998, 0.3461627397462768, 0.31586162476868385, 0.3834138274975064, 0.3286518711885034, 0.32332786281274073, 0.23965617715617715, 0.21770090196104647]}, {\"customdata\": [\"Bolsonaro livra agentes p\\u00fablicos de responsabilidade por erros durante epidemia<br>Covid-19 atinge dezenas de povos ind\\u00edgenas<br>Nelson Teich pede demiss\\u00e3o do Minist\\u00e9rio da Sa\\u00fade\", \"Sem base cient\\u00edfica, governo amplia uso da cloroquina\", \"Brasil ultrapassa It\\u00e1lia e \\u00e9 terceiro pa\\u00eds com mais mortes por covid-19\", \"Brasil amplia orienta\\u00e7\\u00f5es de uso da cloroquina contra a covid-19<br>Casos de covid-19 passam de 1 milh\\u00e3o no Brasil\", \"Vacina de Oxford contra covid-19 come\\u00e7a a ser testada no Brasil<br>Juiz manda Bolsonaro usar m\\u00e1scara em p\\u00fablico\", \"UE estende proibi\\u00e7\\u00e3o \\u00e0 entrada de viajantes do Brasil\", \"Bolsonaro diz estar com covid-19\", \"Casos de covid-19 passam de 2 milh\\u00f5es no Brasil\", \"Brasil: 100 mil mortos por covid-19\", \"Mais uma empresa alem\\u00e3 pretende testar vacina contra covid-19 no Brasil\", \"Brasil autoriza testes de mais uma vacina contra covid-19\", \"Saldo do coronav\\u00edrus ap\\u00f3s seis meses no Brasil\", \"\\u00cdndia passa Brasil e \\u00e9 segundo pa\\u00eds com mais casos de covid-19\", \"Pazuello \\u00e9 efetivado como ministro da Sa\\u00fade<br>Brasil adere \\u00e0 iniciativa global por vacinas contra covid-19\", \"Brasil ultrapassa marca de 5 milh\\u00f5es de casos de covid-19\", \"Testes no Brasil mostram seguran\\u00e7a de vacina chinesa, diz Butantan<br>Pandemia deve elevar tanto a fome quanto a obesidade entre brasileiros<br>Brasil incluir\\u00e1 vacina chinesa em calend\\u00e1rio nacional de vacina\\u00e7\\u00e3o<br>Anvisa autoriza importar 6 milh\\u00f5es de doses de vacina chinesa\"], \"hovertemplate\": \"%{customdata}\", \"legendgroup\": \"C\", \"marker\": {\"color\": \"#6d8484\", \"size\": 5, \"symbol\": \"0\"}, \"mode\": \"markers\", \"name\": \"aglomeracao, aglomeracoes\", \"showlegend\": false, \"type\": \"scatter\", \"x\": [20, 21, 23, 25, 26, 27, 28, 29, 32, 33, 34, 35, 37, 38, 41, 43], \"y\": [0.01891472929371021, 0.016652177965634198, 0.017505306429646983, 0.021674720680997142, 0.020645397452097668, 0.02308959822349248, 0.03576074470192117, 0.015571932980836997, 0.022360163612706586, 0.02328383108347104, 0.023777648485037176, 0.027641870964355084, 0.04063391553966162, 0.03815855578256355, 0.025639056889056887, 0.026918422337075348]}, {\"customdata\": [\"Bolsonaro livra agentes p\\u00fablicos de responsabilidade por erros durante epidemia<br>Covid-19 atinge dezenas de povos ind\\u00edgenas<br>Nelson Teich pede demiss\\u00e3o do Minist\\u00e9rio da Sa\\u00fade\", \"Sem base cient\\u00edfica, governo amplia uso da cloroquina\", \"Brasil ultrapassa It\\u00e1lia e \\u00e9 terceiro pa\\u00eds com mais mortes por covid-19\", \"Brasil amplia orienta\\u00e7\\u00f5es de uso da cloroquina contra a covid-19<br>Casos de covid-19 passam de 1 milh\\u00e3o no Brasil\", \"Vacina de Oxford contra covid-19 come\\u00e7a a ser testada no Brasil<br>Juiz manda Bolsonaro usar m\\u00e1scara em p\\u00fablico\", \"UE estende proibi\\u00e7\\u00e3o \\u00e0 entrada de viajantes do Brasil\", \"Bolsonaro diz estar com covid-19\", \"Casos de covid-19 passam de 2 milh\\u00f5es no Brasil\", \"Brasil: 100 mil mortos por covid-19\", \"Mais uma empresa alem\\u00e3 pretende testar vacina contra covid-19 no Brasil\", \"Brasil autoriza testes de mais uma vacina contra covid-19\", \"Saldo do coronav\\u00edrus ap\\u00f3s seis meses no Brasil\", \"\\u00cdndia passa Brasil e \\u00e9 segundo pa\\u00eds com mais casos de covid-19\", \"Pazuello \\u00e9 efetivado como ministro da Sa\\u00fade<br>Brasil adere \\u00e0 iniciativa global por vacinas contra covid-19\", \"Brasil ultrapassa marca de 5 milh\\u00f5es de casos de covid-19\", \"Testes no Brasil mostram seguran\\u00e7a de vacina chinesa, diz Butantan<br>Pandemia deve elevar tanto a fome quanto a obesidade entre brasileiros<br>Brasil incluir\\u00e1 vacina chinesa em calend\\u00e1rio nacional de vacina\\u00e7\\u00e3o<br>Anvisa autoriza importar 6 milh\\u00f5es de doses de vacina chinesa\"], \"hovertemplate\": \"%{customdata}\", \"legendgroup\": \"D\", \"marker\": {\"color\": \"#6d8484\", \"size\": 5, \"symbol\": \"0\"}, \"mode\": \"markers\", \"name\": \"distanciamento social\", \"showlegend\": false, \"type\": \"scatter\", \"x\": [20, 21, 23, 25, 26, 27, 28, 29, 32, 33, 34, 35, 37, 38, 41, 43], \"y\": [0.005089893579255449, 0.005165332881869214, 0.004699441510542677, 0.005372423328154174, 0.004809312547233714, 0.005469648899508308, 0.005578134284016637, 0.004505956196486606, 0.005844337893306688, 0.006480870451221896, 0.0070946688797778575, 0.0064767179379494975, 0.008073868622150886, 0.008272766855343805, 0.007315882315882315, 0.00937397618394924]}, {\"customdata\": [\"Bolsonaro livra agentes p\\u00fablicos de responsabilidade por erros durante epidemia<br>Covid-19 atinge dezenas de povos ind\\u00edgenas<br>Nelson Teich pede demiss\\u00e3o do Minist\\u00e9rio da Sa\\u00fade\", \"Sem base cient\\u00edfica, governo amplia uso da cloroquina\", \"Brasil ultrapassa It\\u00e1lia e \\u00e9 terceiro pa\\u00eds com mais mortes por covid-19\", \"Brasil amplia orienta\\u00e7\\u00f5es de uso da cloroquina contra a covid-19<br>Casos de covid-19 passam de 1 milh\\u00e3o no Brasil\", \"Vacina de Oxford contra covid-19 come\\u00e7a a ser testada no Brasil<br>Juiz manda Bolsonaro usar m\\u00e1scara em p\\u00fablico\", \"UE estende proibi\\u00e7\\u00e3o \\u00e0 entrada de viajantes do Brasil\", \"Bolsonaro diz estar com covid-19\", \"Casos de covid-19 passam de 2 milh\\u00f5es no Brasil\", \"Brasil: 100 mil mortos por covid-19\", \"Mais uma empresa alem\\u00e3 pretende testar vacina contra covid-19 no Brasil\", \"Brasil autoriza testes de mais uma vacina contra covid-19\", \"Saldo do coronav\\u00edrus ap\\u00f3s seis meses no Brasil\", \"\\u00cdndia passa Brasil e \\u00e9 segundo pa\\u00eds com mais casos de covid-19\", \"Pazuello \\u00e9 efetivado como ministro da Sa\\u00fade<br>Brasil adere \\u00e0 iniciativa global por vacinas contra covid-19\", \"Brasil ultrapassa marca de 5 milh\\u00f5es de casos de covid-19\", \"Testes no Brasil mostram seguran\\u00e7a de vacina chinesa, diz Butantan<br>Pandemia deve elevar tanto a fome quanto a obesidade entre brasileiros<br>Brasil incluir\\u00e1 vacina chinesa em calend\\u00e1rio nacional de vacina\\u00e7\\u00e3o<br>Anvisa autoriza importar 6 milh\\u00f5es de doses de vacina chinesa\"], \"hovertemplate\": \"%{customdata}\", \"legendgroup\": \"E\", \"marker\": {\"color\": \"#6d8484\", \"size\": 5, \"symbol\": \"0\"}, \"mode\": \"markers\", \"name\": \"hidroxicloroquina, cloroquina\", \"showlegend\": false, \"type\": \"scatter\", \"x\": [20, 21, 23, 25, 26, 27, 28, 29, 32, 33, 34, 35, 37, 38, 41, 43], \"y\": [0.014174312288479898, 0.07640789275951737, 0.04189702281500621, 0.030603044574117624, 0.027900226181543614, 0.01894760816565738, 0.02242265795206972, 0.1228655142657133, 0.06922269587158271, 0.04695621875313458, 0.0716929327679911, 0.05464722557614573, 0.026814415669743057, 0.02439461432829822, 0.039229351729351734, 0.025351635542658724]}],                        {\"legend\": {\"title\": {\"text\": \"Grupo de palavras\"}}, \"template\": {\"data\": {\"bar\": [{\"error_x\": {\"color\": \"#2a3f5f\"}, \"error_y\": {\"color\": \"#2a3f5f\"}, \"marker\": {\"line\": {\"color\": \"#E5ECF6\", \"width\": 0.5}}, \"type\": \"bar\"}], \"barpolar\": [{\"marker\": {\"line\": {\"color\": \"#E5ECF6\", \"width\": 0.5}}, \"type\": \"barpolar\"}], \"carpet\": [{\"aaxis\": {\"endlinecolor\": \"#2a3f5f\", \"gridcolor\": \"white\", \"linecolor\": \"white\", \"minorgridcolor\": \"white\", \"startlinecolor\": \"#2a3f5f\"}, \"baxis\": {\"endlinecolor\": \"#2a3f5f\", \"gridcolor\": \"white\", \"linecolor\": \"white\", \"minorgridcolor\": \"white\", \"startlinecolor\": \"#2a3f5f\"}, \"type\": \"carpet\"}], \"choropleth\": [{\"colorbar\": {\"outlinewidth\": 0, \"ticks\": \"\"}, \"type\": \"choropleth\"}], \"contour\": [{\"colorbar\": {\"outlinewidth\": 0, \"ticks\": \"\"}, \"colorscale\": [[0.0, \"#0d0887\"], [0.1111111111111111, \"#46039f\"], [0.2222222222222222, \"#7201a8\"], [0.3333333333333333, \"#9c179e\"], [0.4444444444444444, \"#bd3786\"], [0.5555555555555556, \"#d8576b\"], [0.6666666666666666, \"#ed7953\"], [0.7777777777777778, \"#fb9f3a\"], [0.8888888888888888, \"#fdca26\"], [1.0, \"#f0f921\"]], \"type\": \"contour\"}], \"contourcarpet\": [{\"colorbar\": {\"outlinewidth\": 0, \"ticks\": \"\"}, \"type\": \"contourcarpet\"}], \"heatmap\": [{\"colorbar\": {\"outlinewidth\": 0, \"ticks\": \"\"}, \"colorscale\": [[0.0, \"#0d0887\"], [0.1111111111111111, \"#46039f\"], [0.2222222222222222, \"#7201a8\"], [0.3333333333333333, \"#9c179e\"], [0.4444444444444444, \"#bd3786\"], [0.5555555555555556, \"#d8576b\"], [0.6666666666666666, \"#ed7953\"], [0.7777777777777778, \"#fb9f3a\"], [0.8888888888888888, \"#fdca26\"], [1.0, \"#f0f921\"]], \"type\": \"heatmap\"}], \"heatmapgl\": [{\"colorbar\": {\"outlinewidth\": 0, \"ticks\": \"\"}, \"colorscale\": [[0.0, \"#0d0887\"], [0.1111111111111111, \"#46039f\"], [0.2222222222222222, \"#7201a8\"], [0.3333333333333333, \"#9c179e\"], [0.4444444444444444, \"#bd3786\"], [0.5555555555555556, \"#d8576b\"], [0.6666666666666666, \"#ed7953\"], [0.7777777777777778, \"#fb9f3a\"], [0.8888888888888888, \"#fdca26\"], [1.0, \"#f0f921\"]], \"type\": \"heatmapgl\"}], \"histogram\": [{\"marker\": {\"colorbar\": {\"outlinewidth\": 0, \"ticks\": \"\"}}, \"type\": \"histogram\"}], \"histogram2d\": [{\"colorbar\": {\"outlinewidth\": 0, \"ticks\": \"\"}, \"colorscale\": [[0.0, \"#0d0887\"], [0.1111111111111111, \"#46039f\"], [0.2222222222222222, \"#7201a8\"], [0.3333333333333333, \"#9c179e\"], [0.4444444444444444, \"#bd3786\"], [0.5555555555555556, \"#d8576b\"], [0.6666666666666666, \"#ed7953\"], [0.7777777777777778, \"#fb9f3a\"], [0.8888888888888888, \"#fdca26\"], [1.0, \"#f0f921\"]], \"type\": \"histogram2d\"}], \"histogram2dcontour\": [{\"colorbar\": {\"outlinewidth\": 0, \"ticks\": \"\"}, \"colorscale\": [[0.0, \"#0d0887\"], [0.1111111111111111, \"#46039f\"], [0.2222222222222222, \"#7201a8\"], [0.3333333333333333, \"#9c179e\"], [0.4444444444444444, \"#bd3786\"], [0.5555555555555556, \"#d8576b\"], [0.6666666666666666, \"#ed7953\"], [0.7777777777777778, \"#fb9f3a\"], [0.8888888888888888, \"#fdca26\"], [1.0, \"#f0f921\"]], \"type\": \"histogram2dcontour\"}], \"mesh3d\": [{\"colorbar\": {\"outlinewidth\": 0, \"ticks\": \"\"}, \"type\": \"mesh3d\"}], \"parcoords\": [{\"line\": {\"colorbar\": {\"outlinewidth\": 0, \"ticks\": \"\"}}, \"type\": \"parcoords\"}], \"pie\": [{\"automargin\": true, \"type\": \"pie\"}], \"scatter\": [{\"marker\": {\"colorbar\": {\"outlinewidth\": 0, \"ticks\": \"\"}}, \"type\": \"scatter\"}], \"scatter3d\": [{\"line\": {\"colorbar\": {\"outlinewidth\": 0, \"ticks\": \"\"}}, \"marker\": {\"colorbar\": {\"outlinewidth\": 0, \"ticks\": \"\"}}, \"type\": \"scatter3d\"}], \"scattercarpet\": [{\"marker\": {\"colorbar\": {\"outlinewidth\": 0, \"ticks\": \"\"}}, \"type\": \"scattercarpet\"}], \"scattergeo\": [{\"marker\": {\"colorbar\": {\"outlinewidth\": 0, \"ticks\": \"\"}}, \"type\": \"scattergeo\"}], \"scattergl\": [{\"marker\": {\"colorbar\": {\"outlinewidth\": 0, \"ticks\": \"\"}}, \"type\": \"scattergl\"}], \"scattermapbox\": [{\"marker\": {\"colorbar\": {\"outlinewidth\": 0, \"ticks\": \"\"}}, \"type\": \"scattermapbox\"}], \"scatterpolar\": [{\"marker\": {\"colorbar\": {\"outlinewidth\": 0, \"ticks\": \"\"}}, \"type\": \"scatterpolar\"}], \"scatterpolargl\": [{\"marker\": {\"colorbar\": {\"outlinewidth\": 0, \"ticks\": \"\"}}, \"type\": \"scatterpolargl\"}], \"scatterternary\": [{\"marker\": {\"colorbar\": {\"outlinewidth\": 0, \"ticks\": \"\"}}, \"type\": \"scatterternary\"}], \"surface\": [{\"colorbar\": {\"outlinewidth\": 0, \"ticks\": \"\"}, \"colorscale\": [[0.0, \"#0d0887\"], [0.1111111111111111, \"#46039f\"], [0.2222222222222222, \"#7201a8\"], [0.3333333333333333, \"#9c179e\"], [0.4444444444444444, \"#bd3786\"], [0.5555555555555556, \"#d8576b\"], [0.6666666666666666, \"#ed7953\"], [0.7777777777777778, \"#fb9f3a\"], [0.8888888888888888, \"#fdca26\"], [1.0, \"#f0f921\"]], \"type\": \"surface\"}], \"table\": [{\"cells\": {\"fill\": {\"color\": \"#EBF0F8\"}, \"line\": {\"color\": \"white\"}}, \"header\": {\"fill\": {\"color\": \"#C8D4E3\"}, \"line\": {\"color\": \"white\"}}, \"type\": \"table\"}]}, \"layout\": {\"annotationdefaults\": {\"arrowcolor\": \"#2a3f5f\", \"arrowhead\": 0, \"arrowwidth\": 1}, \"coloraxis\": {\"colorbar\": {\"outlinewidth\": 0, \"ticks\": \"\"}}, \"colorscale\": {\"diverging\": [[0, \"#8e0152\"], [0.1, \"#c51b7d\"], [0.2, \"#de77ae\"], [0.3, \"#f1b6da\"], [0.4, \"#fde0ef\"], [0.5, \"#f7f7f7\"], [0.6, \"#e6f5d0\"], [0.7, \"#b8e186\"], [0.8, \"#7fbc41\"], [0.9, \"#4d9221\"], [1, \"#276419\"]], \"sequential\": [[0.0, \"#0d0887\"], [0.1111111111111111, \"#46039f\"], [0.2222222222222222, \"#7201a8\"], [0.3333333333333333, \"#9c179e\"], [0.4444444444444444, \"#bd3786\"], [0.5555555555555556, \"#d8576b\"], [0.6666666666666666, \"#ed7953\"], [0.7777777777777778, \"#fb9f3a\"], [0.8888888888888888, \"#fdca26\"], [1.0, \"#f0f921\"]], \"sequentialminus\": [[0.0, \"#0d0887\"], [0.1111111111111111, \"#46039f\"], [0.2222222222222222, \"#7201a8\"], [0.3333333333333333, \"#9c179e\"], [0.4444444444444444, \"#bd3786\"], [0.5555555555555556, \"#d8576b\"], [0.6666666666666666, \"#ed7953\"], [0.7777777777777778, \"#fb9f3a\"], [0.8888888888888888, \"#fdca26\"], [1.0, \"#f0f921\"]]}, \"colorway\": [\"#636efa\", \"#EF553B\", \"#00cc96\", \"#ab63fa\", \"#FFA15A\", \"#19d3f3\", \"#FF6692\", \"#B6E880\", \"#FF97FF\", \"#FECB52\"], \"font\": {\"color\": \"#2a3f5f\"}, \"geo\": {\"bgcolor\": \"white\", \"lakecolor\": \"white\", \"landcolor\": \"#E5ECF6\", \"showlakes\": true, \"showland\": true, \"subunitcolor\": \"white\"}, \"hoverlabel\": {\"align\": \"left\"}, \"hovermode\": \"closest\", \"mapbox\": {\"style\": \"light\"}, \"paper_bgcolor\": \"white\", \"plot_bgcolor\": \"#E5ECF6\", \"polar\": {\"angularaxis\": {\"gridcolor\": \"white\", \"linecolor\": \"white\", \"ticks\": \"\"}, \"bgcolor\": \"#E5ECF6\", \"radialaxis\": {\"gridcolor\": \"white\", \"linecolor\": \"white\", \"ticks\": \"\"}}, \"scene\": {\"xaxis\": {\"backgroundcolor\": \"#E5ECF6\", \"gridcolor\": \"white\", \"gridwidth\": 2, \"linecolor\": \"white\", \"showbackground\": true, \"ticks\": \"\", \"zerolinecolor\": \"white\"}, \"yaxis\": {\"backgroundcolor\": \"#E5ECF6\", \"gridcolor\": \"white\", \"gridwidth\": 2, \"linecolor\": \"white\", \"showbackground\": true, \"ticks\": \"\", \"zerolinecolor\": \"white\"}, \"zaxis\": {\"backgroundcolor\": \"#E5ECF6\", \"gridcolor\": \"white\", \"gridwidth\": 2, \"linecolor\": \"white\", \"showbackground\": true, \"ticks\": \"\", \"zerolinecolor\": \"white\"}}, \"shapedefaults\": {\"line\": {\"color\": \"#2a3f5f\"}}, \"ternary\": {\"aaxis\": {\"gridcolor\": \"white\", \"linecolor\": \"white\", \"ticks\": \"\"}, \"baxis\": {\"gridcolor\": \"white\", \"linecolor\": \"white\", \"ticks\": \"\"}, \"bgcolor\": \"#E5ECF6\", \"caxis\": {\"gridcolor\": \"white\", \"linecolor\": \"white\", \"ticks\": \"\"}}, \"title\": {\"x\": 0.05}, \"xaxis\": {\"automargin\": true, \"gridcolor\": \"white\", \"linecolor\": \"white\", \"ticks\": \"\", \"title\": {\"standoff\": 15}, \"zerolinecolor\": \"white\", \"zerolinewidth\": 2}, \"yaxis\": {\"automargin\": true, \"gridcolor\": \"white\", \"linecolor\": \"white\", \"ticks\": \"\", \"title\": {\"standoff\": 15}, \"zerolinecolor\": \"white\", \"zerolinewidth\": 2}}}, \"title\": {\"text\": \"Ocorr\\u00eancia das palavras chave em tweets por semana\", \"x\": 0.4, \"xanchor\": \"center\", \"y\": 0.95, \"yanchor\": \"top\"}, \"xaxis\": {\"tickangle\": 0, \"tickmode\": \"array\", \"ticktext\": [\"May/20\", \"Jun/20\", \"Jul/20\", \"Aug/20\", \"Sep/20\", \"Oct/20\", \"Nov/20\", \"Dec/20\", \"Jan/21\"], \"tickvals\": [19, 24, 28, 32, 37, 41, 45, 50, 54], \"title\": {\"text\": \"Semana Epidemiol\\u00f3gica\"}}, \"yaxis\": {\"title\": {\"text\": \"N\\u00famero de Ocorr\\u00eancias/ Total de tweets\"}}},                        {\"responsive\": true}                    ).then(function(){\n",
       "                            \n",
       "var gd = document.getElementById('e0ffa35a-fe04-4779-9d43-89129c8542e3');\n",
       "var x = new MutationObserver(function (mutations, observer) {{\n",
       "        var display = window.getComputedStyle(gd).display;\n",
       "        if (!display || display === 'none') {{\n",
       "            console.log([gd, 'removed!']);\n",
       "            Plotly.purge(gd);\n",
       "            observer.disconnect();\n",
       "        }}\n",
       "}});\n",
       "\n",
       "// Listen for the removal of the full notebook cells\n",
       "var notebookContainer = gd.closest('#notebook-container');\n",
       "if (notebookContainer) {{\n",
       "    x.observe(notebookContainer, {childList: true});\n",
       "}}\n",
       "\n",
       "// Listen for the clearing of the current output cell\n",
       "var outputEl = gd.closest('.output');\n",
       "if (outputEl) {{\n",
       "    x.observe(outputEl, {childList: true});\n",
       "}}\n",
       "\n",
       "                        })                };                });            </script>        </div>"
      ]
     },
     "metadata": {},
     "output_type": "display_data"
    },
    {
     "data": {
      "text/plain": [
       "'ocorrencias_palavras.html'"
      ]
     },
     "execution_count": 8,
     "metadata": {},
     "output_type": "execute_result"
    }
   ],
   "source": [
    "fig = go.Figure()#['seagreen','dodgerblue','darkviolet','#ff8000','red']\n",
    "fig.add_trace(go.Scatter(x = ocor_rel.index,y = ocor_rel[\"corona, covid, coronavírus, covid19, sars, covid-19\"],legendgroup=\"A\", marker = dict(color = \"dodgerblue\"),name = \"corona, covid, coronavírus, covid19, sars, covid-19\",hoverinfo=\"none\"))\n",
    "fig.add_trace(go.Scatter(x = ocor_rel.index,y = ocor_rel[\"quarentena, confinamento\"], marker = dict(color = \"red\"),legendgroup=\"B\",name = \"quarentena, confinamento\",hoverinfo=\"none\"))\n",
    "fig.add_trace(go.Scatter(x = ocor_rel.index,y = ocor_rel[\"aglomeracao, aglomeracoes\"], marker = dict(color = \"seagreen\"),legendgroup=\"C\",name = \"aglomeracao, aglomeracoes\",hoverinfo=\"none\"))\n",
    "fig.add_trace(go.Scatter(x = ocor_rel.index,y = ocor_rel[\"distanciamento social\"], marker = dict(color = \"darkviolet\"),legendgroup=\"D\",name = \"distanciamento social\",hoverinfo=\"none\"))\n",
    "fig.add_trace(go.Scatter(x = ocor_rel.index,y = ocor_rel[\"hidroxicloroquina, cloroquina\"], marker = dict(color = \"#ff8000\"),legendgroup=\"E\", name = \"hidroxicloroquina, cloroquina\",hoverinfo=\"none\"))\n",
    "\n",
    "fig.add_trace(go.Scatter(x = ocor_rel[ocor_rel.acontecimentos!=\"\"].index,y = ocor_rel[ocor_rel.acontecimentos!=\"\"][\"corona, covid, coronavírus, covid19, sars, covid-19\"],legendgroup=\"A\",name = \"corona, covid, coronavírus, covid19, sars, covid-19\", mode=\"markers\",marker = dict(symbol = \"0\",size=5,color = \"#6d8484\"),showlegend=False,customdata=ocor_rel[ocor_rel.acontecimentos!=\"\"][\"acontecimentos\"],hovertemplate='%{customdata}'))\n",
    "fig.add_trace(go.Scatter(x = ocor_rel[ocor_rel.acontecimentos!=\"\"].index,y = ocor_rel[ocor_rel.acontecimentos!=\"\"][\"quarentena, confinamento\"],legendgroup=\"B\",name = \"quarentena, confinamento\", mode=\"markers\",marker = dict(symbol = \"0\",size=5,color = \"#6d8484\"),showlegend=False, customdata=ocor_rel[ocor_rel.acontecimentos!=\"\"][\"acontecimentos\"],hovertemplate='%{customdata}'))\n",
    "fig.add_trace(go.Scatter(x = ocor_rel[ocor_rel.acontecimentos!=\"\"].index,y = ocor_rel[ocor_rel.acontecimentos!=\"\"][\"aglomeracao, aglomeracoes\"],legendgroup=\"C\",name = \"aglomeracao, aglomeracoes\", mode=\"markers\",marker = dict(symbol = \"0\",size=5,color = \"#6d8484\"),showlegend=False, customdata=ocor_rel[ocor_rel.acontecimentos!=\"\"][\"acontecimentos\"],hovertemplate='%{customdata}'))\n",
    "fig.add_trace(go.Scatter(x = ocor_rel[ocor_rel.acontecimentos!=\"\"].index,y = ocor_rel[ocor_rel.acontecimentos!=\"\"][\"distanciamento social\"],legendgroup=\"D\",name = \"distanciamento social\", mode=\"markers\",marker = dict(symbol = \"0\",size=5,color = \"#6d8484\"),showlegend=False, customdata=ocor_rel[ocor_rel.acontecimentos!=\"\"][\"acontecimentos\"],hovertemplate='%{customdata}'))\n",
    "fig.add_trace(go.Scatter(x = ocor_rel[ocor_rel.acontecimentos!=\"\"].index,y = ocor_rel[ocor_rel.acontecimentos!=\"\"][\"hidroxicloroquina, cloroquina\"],legendgroup=\"E\", name = \"hidroxicloroquina, cloroquina\", mode=\"markers\",marker = dict(symbol = \"0\",size=5,color = \"#6d8484\"),showlegend=False,customdata=ocor_rel[ocor_rel.acontecimentos!=\"\"][\"acontecimentos\"],hovertemplate='%{customdata}'))\n",
    "\n",
    "#fig = px.line(ocor_rel,template=\"seaborn\")\n",
    "\n",
    "fig.update_layout(\n",
    "    title={\n",
    "        \"text\":\"Ocorrência das palavras chave em tweets por semana\",\n",
    "        \"y\" : 0.95,\n",
    "        \"x\" : 0.4,\n",
    "        'xanchor': 'center',\n",
    "        'yanchor': 'top'},\n",
    "    xaxis_title=\"Semana Epidemiológica\",\n",
    "    yaxis_title=\"Número de Ocorrências/ Total de tweets\",\n",
    ")\n",
    "fig.update_layout(    \n",
    "    { \"xaxis\" : {\n",
    "        \"tickmode\" : \"array\",\n",
    "        \"tickvals\" :pd.DataFrame(np.unique(datas,return_index=True)).T.sort_values(1)[1].values+19,# [x for n,x in enumerate(ocor_rel.index) if n%4==0],\n",
    "        #\"ticktext\" : [y for n,y in enumerate(ocor_rel[\"label\"]) if n%2==0],\n",
    "        \"ticktext\" : pd.DataFrame(np.unique(datas,return_index=True)).T.sort_values(1)[0].values,\n",
    "        \"tickangle\" : 0,\n",
    "    }})\n",
    "#fig.update_traces(hovertemplate='%{customdata}')\n",
    "fig.update_layout(legend_title_text='Grupo de palavras')\n",
    "#plot_box(\"quarentena, confinamento\",[22,26,27,27],[1,2,3,4],[0,0,0,0],ayi=[90,-60,-105,-130],axi=[75,-7,60,100])\n",
    "fig.show()\n",
    "py.plot(fig,filename=\"ocorrencias_palavras_chave.html\", auto_open=False)"
   ]
  },
  {
   "cell_type": "code",
   "execution_count": 127,
   "metadata": {
    "scrolled": false
   },
   "outputs": [
    {
     "data": {
      "application/vnd.plotly.v1+json": {
       "config": {
        "plotlyServerURL": "https://plot.ly"
       },
       "data": [
        {
         "cells": {
          "align": [
           "center",
           "center",
           "left"
          ],
          "values": [
           [
            "14/05",
            "15/05",
            "15/05",
            "20/05",
            "04/06",
            "15/06",
            "19/06",
            "22/06",
            "22/06",
            "30/06",
            "07/07",
            "16/07",
            "08/08",
            "11/08",
            "18/08",
            "26/08",
            "07/09",
            "16,09",
            "19/09",
            "07/10",
            "19/10",
            "20/10",
            "20/10",
            "23/10"
           ],
           [
            20,
            20,
            20,
            21,
            23,
            25,
            25,
            26,
            26,
            27,
            28,
            29,
            32,
            33,
            34,
            35,
            37,
            38,
            38,
            41,
            43,
            43,
            43,
            43
           ],
           [
            "Bolsonaro livra agentes públicos de responsabilidade por erros durante epidemia",
            "Covid-19 atinge dezenas de povos indígenas",
            "Nelson Teich pede demissão do Ministério da Saúde",
            "Sem base científica, governo amplia uso da cloroquina",
            "Brasil ultrapassa Itália e é terceiro país com mais mortes por covid-19",
            "Brasil amplia orientações de uso da cloroquina contra a covid-19",
            "Casos de covid-19 passam de 1 milhão no Brasil",
            "Vacina de Oxford contra covid-19 começa a ser testada no Brasil",
            "Juiz manda Bolsonaro usar máscara em público",
            "UE estende proibição à entrada de viajantes do Brasil",
            "Bolsonaro diz estar com covid-19",
            "Casos de covid-19 passam de 2 milhões no Brasil",
            "Brasil: 100 mil mortos por covid-19",
            "Mais uma empresa alemã pretende testar vacina contra covid-19 no Brasil",
            "Brasil autoriza testes de mais uma vacina contra covid-19",
            "Saldo do coronavírus após seis meses no Brasil",
            "Índia passa Brasil e é segundo país com mais casos de covid-19",
            "Pazuello é efetivado como ministro da Saúde",
            "Brasil adere à iniciativa global por vacinas contra covid-19",
            "Brasil ultrapassa marca de 5 milhões de casos de covid-19",
            "Testes no Brasil mostram segurança de vacina chinesa, diz Butantan",
            "Pandemia deve elevar tanto a fome quanto a obesidade entre brasileiros",
            "Brasil incluirá vacina chinesa em calendário nacional de vacinação",
            "Anvisa autoriza importar 6 milhões de doses de vacina chinesa"
           ]
          ]
         },
         "columnwidth": [
          7,
          20,
          50
         ],
         "header": {
          "values": [
           "Data",
           "Senama Epidemiológica",
           "Acontecimento"
          ]
         },
         "type": "table"
        }
       ],
       "layout": {
        "template": {
         "data": {
          "bar": [
           {
            "error_x": {
             "color": "#2a3f5f"
            },
            "error_y": {
             "color": "#2a3f5f"
            },
            "marker": {
             "line": {
              "color": "#E5ECF6",
              "width": 0.5
             }
            },
            "type": "bar"
           }
          ],
          "barpolar": [
           {
            "marker": {
             "line": {
              "color": "#E5ECF6",
              "width": 0.5
             }
            },
            "type": "barpolar"
           }
          ],
          "carpet": [
           {
            "aaxis": {
             "endlinecolor": "#2a3f5f",
             "gridcolor": "white",
             "linecolor": "white",
             "minorgridcolor": "white",
             "startlinecolor": "#2a3f5f"
            },
            "baxis": {
             "endlinecolor": "#2a3f5f",
             "gridcolor": "white",
             "linecolor": "white",
             "minorgridcolor": "white",
             "startlinecolor": "#2a3f5f"
            },
            "type": "carpet"
           }
          ],
          "choropleth": [
           {
            "colorbar": {
             "outlinewidth": 0,
             "ticks": ""
            },
            "type": "choropleth"
           }
          ],
          "contour": [
           {
            "colorbar": {
             "outlinewidth": 0,
             "ticks": ""
            },
            "colorscale": [
             [
              0,
              "#0d0887"
             ],
             [
              0.1111111111111111,
              "#46039f"
             ],
             [
              0.2222222222222222,
              "#7201a8"
             ],
             [
              0.3333333333333333,
              "#9c179e"
             ],
             [
              0.4444444444444444,
              "#bd3786"
             ],
             [
              0.5555555555555556,
              "#d8576b"
             ],
             [
              0.6666666666666666,
              "#ed7953"
             ],
             [
              0.7777777777777778,
              "#fb9f3a"
             ],
             [
              0.8888888888888888,
              "#fdca26"
             ],
             [
              1,
              "#f0f921"
             ]
            ],
            "type": "contour"
           }
          ],
          "contourcarpet": [
           {
            "colorbar": {
             "outlinewidth": 0,
             "ticks": ""
            },
            "type": "contourcarpet"
           }
          ],
          "heatmap": [
           {
            "colorbar": {
             "outlinewidth": 0,
             "ticks": ""
            },
            "colorscale": [
             [
              0,
              "#0d0887"
             ],
             [
              0.1111111111111111,
              "#46039f"
             ],
             [
              0.2222222222222222,
              "#7201a8"
             ],
             [
              0.3333333333333333,
              "#9c179e"
             ],
             [
              0.4444444444444444,
              "#bd3786"
             ],
             [
              0.5555555555555556,
              "#d8576b"
             ],
             [
              0.6666666666666666,
              "#ed7953"
             ],
             [
              0.7777777777777778,
              "#fb9f3a"
             ],
             [
              0.8888888888888888,
              "#fdca26"
             ],
             [
              1,
              "#f0f921"
             ]
            ],
            "type": "heatmap"
           }
          ],
          "heatmapgl": [
           {
            "colorbar": {
             "outlinewidth": 0,
             "ticks": ""
            },
            "colorscale": [
             [
              0,
              "#0d0887"
             ],
             [
              0.1111111111111111,
              "#46039f"
             ],
             [
              0.2222222222222222,
              "#7201a8"
             ],
             [
              0.3333333333333333,
              "#9c179e"
             ],
             [
              0.4444444444444444,
              "#bd3786"
             ],
             [
              0.5555555555555556,
              "#d8576b"
             ],
             [
              0.6666666666666666,
              "#ed7953"
             ],
             [
              0.7777777777777778,
              "#fb9f3a"
             ],
             [
              0.8888888888888888,
              "#fdca26"
             ],
             [
              1,
              "#f0f921"
             ]
            ],
            "type": "heatmapgl"
           }
          ],
          "histogram": [
           {
            "marker": {
             "colorbar": {
              "outlinewidth": 0,
              "ticks": ""
             }
            },
            "type": "histogram"
           }
          ],
          "histogram2d": [
           {
            "colorbar": {
             "outlinewidth": 0,
             "ticks": ""
            },
            "colorscale": [
             [
              0,
              "#0d0887"
             ],
             [
              0.1111111111111111,
              "#46039f"
             ],
             [
              0.2222222222222222,
              "#7201a8"
             ],
             [
              0.3333333333333333,
              "#9c179e"
             ],
             [
              0.4444444444444444,
              "#bd3786"
             ],
             [
              0.5555555555555556,
              "#d8576b"
             ],
             [
              0.6666666666666666,
              "#ed7953"
             ],
             [
              0.7777777777777778,
              "#fb9f3a"
             ],
             [
              0.8888888888888888,
              "#fdca26"
             ],
             [
              1,
              "#f0f921"
             ]
            ],
            "type": "histogram2d"
           }
          ],
          "histogram2dcontour": [
           {
            "colorbar": {
             "outlinewidth": 0,
             "ticks": ""
            },
            "colorscale": [
             [
              0,
              "#0d0887"
             ],
             [
              0.1111111111111111,
              "#46039f"
             ],
             [
              0.2222222222222222,
              "#7201a8"
             ],
             [
              0.3333333333333333,
              "#9c179e"
             ],
             [
              0.4444444444444444,
              "#bd3786"
             ],
             [
              0.5555555555555556,
              "#d8576b"
             ],
             [
              0.6666666666666666,
              "#ed7953"
             ],
             [
              0.7777777777777778,
              "#fb9f3a"
             ],
             [
              0.8888888888888888,
              "#fdca26"
             ],
             [
              1,
              "#f0f921"
             ]
            ],
            "type": "histogram2dcontour"
           }
          ],
          "mesh3d": [
           {
            "colorbar": {
             "outlinewidth": 0,
             "ticks": ""
            },
            "type": "mesh3d"
           }
          ],
          "parcoords": [
           {
            "line": {
             "colorbar": {
              "outlinewidth": 0,
              "ticks": ""
             }
            },
            "type": "parcoords"
           }
          ],
          "pie": [
           {
            "automargin": true,
            "type": "pie"
           }
          ],
          "scatter": [
           {
            "marker": {
             "colorbar": {
              "outlinewidth": 0,
              "ticks": ""
             }
            },
            "type": "scatter"
           }
          ],
          "scatter3d": [
           {
            "line": {
             "colorbar": {
              "outlinewidth": 0,
              "ticks": ""
             }
            },
            "marker": {
             "colorbar": {
              "outlinewidth": 0,
              "ticks": ""
             }
            },
            "type": "scatter3d"
           }
          ],
          "scattercarpet": [
           {
            "marker": {
             "colorbar": {
              "outlinewidth": 0,
              "ticks": ""
             }
            },
            "type": "scattercarpet"
           }
          ],
          "scattergeo": [
           {
            "marker": {
             "colorbar": {
              "outlinewidth": 0,
              "ticks": ""
             }
            },
            "type": "scattergeo"
           }
          ],
          "scattergl": [
           {
            "marker": {
             "colorbar": {
              "outlinewidth": 0,
              "ticks": ""
             }
            },
            "type": "scattergl"
           }
          ],
          "scattermapbox": [
           {
            "marker": {
             "colorbar": {
              "outlinewidth": 0,
              "ticks": ""
             }
            },
            "type": "scattermapbox"
           }
          ],
          "scatterpolar": [
           {
            "marker": {
             "colorbar": {
              "outlinewidth": 0,
              "ticks": ""
             }
            },
            "type": "scatterpolar"
           }
          ],
          "scatterpolargl": [
           {
            "marker": {
             "colorbar": {
              "outlinewidth": 0,
              "ticks": ""
             }
            },
            "type": "scatterpolargl"
           }
          ],
          "scatterternary": [
           {
            "marker": {
             "colorbar": {
              "outlinewidth": 0,
              "ticks": ""
             }
            },
            "type": "scatterternary"
           }
          ],
          "surface": [
           {
            "colorbar": {
             "outlinewidth": 0,
             "ticks": ""
            },
            "colorscale": [
             [
              0,
              "#0d0887"
             ],
             [
              0.1111111111111111,
              "#46039f"
             ],
             [
              0.2222222222222222,
              "#7201a8"
             ],
             [
              0.3333333333333333,
              "#9c179e"
             ],
             [
              0.4444444444444444,
              "#bd3786"
             ],
             [
              0.5555555555555556,
              "#d8576b"
             ],
             [
              0.6666666666666666,
              "#ed7953"
             ],
             [
              0.7777777777777778,
              "#fb9f3a"
             ],
             [
              0.8888888888888888,
              "#fdca26"
             ],
             [
              1,
              "#f0f921"
             ]
            ],
            "type": "surface"
           }
          ],
          "table": [
           {
            "cells": {
             "fill": {
              "color": "#EBF0F8"
             },
             "line": {
              "color": "white"
             }
            },
            "header": {
             "fill": {
              "color": "#C8D4E3"
             },
             "line": {
              "color": "white"
             }
            },
            "type": "table"
           }
          ]
         },
         "layout": {
          "annotationdefaults": {
           "arrowcolor": "#2a3f5f",
           "arrowhead": 0,
           "arrowwidth": 1
          },
          "coloraxis": {
           "colorbar": {
            "outlinewidth": 0,
            "ticks": ""
           }
          },
          "colorscale": {
           "diverging": [
            [
             0,
             "#8e0152"
            ],
            [
             0.1,
             "#c51b7d"
            ],
            [
             0.2,
             "#de77ae"
            ],
            [
             0.3,
             "#f1b6da"
            ],
            [
             0.4,
             "#fde0ef"
            ],
            [
             0.5,
             "#f7f7f7"
            ],
            [
             0.6,
             "#e6f5d0"
            ],
            [
             0.7,
             "#b8e186"
            ],
            [
             0.8,
             "#7fbc41"
            ],
            [
             0.9,
             "#4d9221"
            ],
            [
             1,
             "#276419"
            ]
           ],
           "sequential": [
            [
             0,
             "#0d0887"
            ],
            [
             0.1111111111111111,
             "#46039f"
            ],
            [
             0.2222222222222222,
             "#7201a8"
            ],
            [
             0.3333333333333333,
             "#9c179e"
            ],
            [
             0.4444444444444444,
             "#bd3786"
            ],
            [
             0.5555555555555556,
             "#d8576b"
            ],
            [
             0.6666666666666666,
             "#ed7953"
            ],
            [
             0.7777777777777778,
             "#fb9f3a"
            ],
            [
             0.8888888888888888,
             "#fdca26"
            ],
            [
             1,
             "#f0f921"
            ]
           ],
           "sequentialminus": [
            [
             0,
             "#0d0887"
            ],
            [
             0.1111111111111111,
             "#46039f"
            ],
            [
             0.2222222222222222,
             "#7201a8"
            ],
            [
             0.3333333333333333,
             "#9c179e"
            ],
            [
             0.4444444444444444,
             "#bd3786"
            ],
            [
             0.5555555555555556,
             "#d8576b"
            ],
            [
             0.6666666666666666,
             "#ed7953"
            ],
            [
             0.7777777777777778,
             "#fb9f3a"
            ],
            [
             0.8888888888888888,
             "#fdca26"
            ],
            [
             1,
             "#f0f921"
            ]
           ]
          },
          "colorway": [
           "#636efa",
           "#EF553B",
           "#00cc96",
           "#ab63fa",
           "#FFA15A",
           "#19d3f3",
           "#FF6692",
           "#B6E880",
           "#FF97FF",
           "#FECB52"
          ],
          "font": {
           "color": "#2a3f5f"
          },
          "geo": {
           "bgcolor": "white",
           "lakecolor": "white",
           "landcolor": "#E5ECF6",
           "showlakes": true,
           "showland": true,
           "subunitcolor": "white"
          },
          "hoverlabel": {
           "align": "left"
          },
          "hovermode": "closest",
          "mapbox": {
           "style": "light"
          },
          "paper_bgcolor": "white",
          "plot_bgcolor": "#E5ECF6",
          "polar": {
           "angularaxis": {
            "gridcolor": "white",
            "linecolor": "white",
            "ticks": ""
           },
           "bgcolor": "#E5ECF6",
           "radialaxis": {
            "gridcolor": "white",
            "linecolor": "white",
            "ticks": ""
           }
          },
          "scene": {
           "xaxis": {
            "backgroundcolor": "#E5ECF6",
            "gridcolor": "white",
            "gridwidth": 2,
            "linecolor": "white",
            "showbackground": true,
            "ticks": "",
            "zerolinecolor": "white"
           },
           "yaxis": {
            "backgroundcolor": "#E5ECF6",
            "gridcolor": "white",
            "gridwidth": 2,
            "linecolor": "white",
            "showbackground": true,
            "ticks": "",
            "zerolinecolor": "white"
           },
           "zaxis": {
            "backgroundcolor": "#E5ECF6",
            "gridcolor": "white",
            "gridwidth": 2,
            "linecolor": "white",
            "showbackground": true,
            "ticks": "",
            "zerolinecolor": "white"
           }
          },
          "shapedefaults": {
           "line": {
            "color": "#2a3f5f"
           }
          },
          "ternary": {
           "aaxis": {
            "gridcolor": "white",
            "linecolor": "white",
            "ticks": ""
           },
           "baxis": {
            "gridcolor": "white",
            "linecolor": "white",
            "ticks": ""
           },
           "bgcolor": "#E5ECF6",
           "caxis": {
            "gridcolor": "white",
            "linecolor": "white",
            "ticks": ""
           }
          },
          "title": {
           "x": 0.05
          },
          "xaxis": {
           "automargin": true,
           "gridcolor": "white",
           "linecolor": "white",
           "ticks": "",
           "title": {
            "standoff": 15
           },
           "zerolinecolor": "white",
           "zerolinewidth": 2
          },
          "yaxis": {
           "automargin": true,
           "gridcolor": "white",
           "linecolor": "white",
           "ticks": "",
           "title": {
            "standoff": 15
           },
           "zerolinecolor": "white",
           "zerolinewidth": 2
          }
         }
        }
       }
      },
      "text/html": [
       "<div>                            <div id=\"bab4529c-1840-4908-b318-d01a1d0b6c7b\" class=\"plotly-graph-div\" style=\"height:525px; width:100%;\"></div>            <script type=\"text/javascript\">                require([\"plotly\"], function(Plotly) {                    window.PLOTLYENV=window.PLOTLYENV || {};                                    if (document.getElementById(\"bab4529c-1840-4908-b318-d01a1d0b6c7b\")) {                    Plotly.newPlot(                        \"bab4529c-1840-4908-b318-d01a1d0b6c7b\",                        [{\"cells\": {\"align\": [\"center\", \"center\", \"left\"], \"values\": [[\"14/05\", \"15/05\", \"15/05\", \"20/05\", \"04/06\", \"15/06\", \"19/06\", \"22/06\", \"22/06\", \"30/06\", \"07/07\", \"16/07\", \"08/08\", \"11/08\", \"18/08\", \"26/08\", \"07/09\", \"16,09\", \"19/09\", \"07/10\", \"19/10\", \"20/10\", \"20/10\", \"23/10\"], [20, 20, 20, 21, 23, 25, 25, 26, 26, 27, 28, 29, 32, 33, 34, 35, 37, 38, 38, 41, 43, 43, 43, 43], [\"Bolsonaro livra agentes p\\u00fablicos de responsabilidade por erros durante epidemia\", \"Covid-19 atinge dezenas de povos ind\\u00edgenas\", \"Nelson Teich pede demiss\\u00e3o do Minist\\u00e9rio da Sa\\u00fade\", \"Sem base cient\\u00edfica, governo amplia uso da cloroquina\", \"Brasil ultrapassa It\\u00e1lia e \\u00e9 terceiro pa\\u00eds com mais mortes por covid-19\", \"Brasil amplia orienta\\u00e7\\u00f5es de uso da cloroquina contra a covid-19\", \"Casos de covid-19 passam de 1 milh\\u00e3o no Brasil\", \"Vacina de Oxford contra covid-19 come\\u00e7a a ser testada no Brasil\", \"Juiz manda Bolsonaro usar m\\u00e1scara em p\\u00fablico\", \"UE estende proibi\\u00e7\\u00e3o \\u00e0 entrada de viajantes do Brasil\", \"Bolsonaro diz estar com covid-19\", \"Casos de covid-19 passam de 2 milh\\u00f5es no Brasil\", \"Brasil: 100 mil mortos por covid-19\", \"Mais uma empresa alem\\u00e3 pretende testar vacina contra covid-19 no Brasil\", \"Brasil autoriza testes de mais uma vacina contra covid-19\", \"Saldo do coronav\\u00edrus ap\\u00f3s seis meses no Brasil\", \"\\u00cdndia passa Brasil e \\u00e9 segundo pa\\u00eds com mais casos de covid-19\", \"Pazuello \\u00e9 efetivado como ministro da Sa\\u00fade\", \"Brasil adere \\u00e0 iniciativa global por vacinas contra covid-19\", \"Brasil ultrapassa marca de 5 milh\\u00f5es de casos de covid-19\", \"Testes no Brasil mostram seguran\\u00e7a de vacina chinesa, diz Butantan\", \"Pandemia deve elevar tanto a fome quanto a obesidade entre brasileiros\", \"Brasil incluir\\u00e1 vacina chinesa em calend\\u00e1rio nacional de vacina\\u00e7\\u00e3o\", \"Anvisa autoriza importar 6 milh\\u00f5es de doses de vacina chinesa\"]]}, \"columnwidth\": [7, 20, 50], \"header\": {\"values\": [\"Data\", \"Senama Epidemiol\\u00f3gica\", \"Acontecimento\"]}, \"type\": \"table\"}],                        {\"template\": {\"data\": {\"bar\": [{\"error_x\": {\"color\": \"#2a3f5f\"}, \"error_y\": {\"color\": \"#2a3f5f\"}, \"marker\": {\"line\": {\"color\": \"#E5ECF6\", \"width\": 0.5}}, \"type\": \"bar\"}], \"barpolar\": [{\"marker\": {\"line\": {\"color\": \"#E5ECF6\", \"width\": 0.5}}, \"type\": \"barpolar\"}], \"carpet\": [{\"aaxis\": {\"endlinecolor\": \"#2a3f5f\", \"gridcolor\": \"white\", \"linecolor\": \"white\", \"minorgridcolor\": \"white\", \"startlinecolor\": \"#2a3f5f\"}, \"baxis\": {\"endlinecolor\": \"#2a3f5f\", \"gridcolor\": \"white\", \"linecolor\": \"white\", \"minorgridcolor\": \"white\", \"startlinecolor\": \"#2a3f5f\"}, \"type\": \"carpet\"}], \"choropleth\": [{\"colorbar\": {\"outlinewidth\": 0, \"ticks\": \"\"}, \"type\": \"choropleth\"}], \"contour\": [{\"colorbar\": {\"outlinewidth\": 0, \"ticks\": \"\"}, \"colorscale\": [[0.0, \"#0d0887\"], [0.1111111111111111, \"#46039f\"], [0.2222222222222222, \"#7201a8\"], [0.3333333333333333, \"#9c179e\"], [0.4444444444444444, \"#bd3786\"], [0.5555555555555556, \"#d8576b\"], [0.6666666666666666, \"#ed7953\"], [0.7777777777777778, \"#fb9f3a\"], [0.8888888888888888, \"#fdca26\"], [1.0, \"#f0f921\"]], \"type\": \"contour\"}], \"contourcarpet\": [{\"colorbar\": {\"outlinewidth\": 0, \"ticks\": \"\"}, \"type\": \"contourcarpet\"}], \"heatmap\": [{\"colorbar\": {\"outlinewidth\": 0, \"ticks\": \"\"}, \"colorscale\": [[0.0, \"#0d0887\"], [0.1111111111111111, \"#46039f\"], [0.2222222222222222, \"#7201a8\"], [0.3333333333333333, \"#9c179e\"], [0.4444444444444444, \"#bd3786\"], [0.5555555555555556, \"#d8576b\"], [0.6666666666666666, \"#ed7953\"], [0.7777777777777778, \"#fb9f3a\"], [0.8888888888888888, \"#fdca26\"], [1.0, \"#f0f921\"]], \"type\": \"heatmap\"}], \"heatmapgl\": [{\"colorbar\": {\"outlinewidth\": 0, \"ticks\": \"\"}, \"colorscale\": [[0.0, \"#0d0887\"], [0.1111111111111111, \"#46039f\"], [0.2222222222222222, \"#7201a8\"], [0.3333333333333333, \"#9c179e\"], [0.4444444444444444, \"#bd3786\"], [0.5555555555555556, \"#d8576b\"], [0.6666666666666666, \"#ed7953\"], [0.7777777777777778, \"#fb9f3a\"], [0.8888888888888888, \"#fdca26\"], [1.0, \"#f0f921\"]], \"type\": \"heatmapgl\"}], \"histogram\": [{\"marker\": {\"colorbar\": {\"outlinewidth\": 0, \"ticks\": \"\"}}, \"type\": \"histogram\"}], \"histogram2d\": [{\"colorbar\": {\"outlinewidth\": 0, \"ticks\": \"\"}, \"colorscale\": [[0.0, \"#0d0887\"], [0.1111111111111111, \"#46039f\"], [0.2222222222222222, \"#7201a8\"], [0.3333333333333333, \"#9c179e\"], [0.4444444444444444, \"#bd3786\"], [0.5555555555555556, \"#d8576b\"], [0.6666666666666666, \"#ed7953\"], [0.7777777777777778, \"#fb9f3a\"], [0.8888888888888888, \"#fdca26\"], [1.0, \"#f0f921\"]], \"type\": \"histogram2d\"}], \"histogram2dcontour\": [{\"colorbar\": {\"outlinewidth\": 0, \"ticks\": \"\"}, \"colorscale\": [[0.0, \"#0d0887\"], [0.1111111111111111, \"#46039f\"], [0.2222222222222222, \"#7201a8\"], [0.3333333333333333, \"#9c179e\"], [0.4444444444444444, \"#bd3786\"], [0.5555555555555556, \"#d8576b\"], [0.6666666666666666, \"#ed7953\"], [0.7777777777777778, \"#fb9f3a\"], [0.8888888888888888, \"#fdca26\"], [1.0, \"#f0f921\"]], \"type\": \"histogram2dcontour\"}], \"mesh3d\": [{\"colorbar\": {\"outlinewidth\": 0, \"ticks\": \"\"}, \"type\": \"mesh3d\"}], \"parcoords\": [{\"line\": {\"colorbar\": {\"outlinewidth\": 0, \"ticks\": \"\"}}, \"type\": \"parcoords\"}], \"pie\": [{\"automargin\": true, \"type\": \"pie\"}], \"scatter\": [{\"marker\": {\"colorbar\": {\"outlinewidth\": 0, \"ticks\": \"\"}}, \"type\": \"scatter\"}], \"scatter3d\": [{\"line\": {\"colorbar\": {\"outlinewidth\": 0, \"ticks\": \"\"}}, \"marker\": {\"colorbar\": {\"outlinewidth\": 0, \"ticks\": \"\"}}, \"type\": \"scatter3d\"}], \"scattercarpet\": [{\"marker\": {\"colorbar\": {\"outlinewidth\": 0, \"ticks\": \"\"}}, \"type\": \"scattercarpet\"}], \"scattergeo\": [{\"marker\": {\"colorbar\": {\"outlinewidth\": 0, \"ticks\": \"\"}}, \"type\": \"scattergeo\"}], \"scattergl\": [{\"marker\": {\"colorbar\": {\"outlinewidth\": 0, \"ticks\": \"\"}}, \"type\": \"scattergl\"}], \"scattermapbox\": [{\"marker\": {\"colorbar\": {\"outlinewidth\": 0, \"ticks\": \"\"}}, \"type\": \"scattermapbox\"}], \"scatterpolar\": [{\"marker\": {\"colorbar\": {\"outlinewidth\": 0, \"ticks\": \"\"}}, \"type\": \"scatterpolar\"}], \"scatterpolargl\": [{\"marker\": {\"colorbar\": {\"outlinewidth\": 0, \"ticks\": \"\"}}, \"type\": \"scatterpolargl\"}], \"scatterternary\": [{\"marker\": {\"colorbar\": {\"outlinewidth\": 0, \"ticks\": \"\"}}, \"type\": \"scatterternary\"}], \"surface\": [{\"colorbar\": {\"outlinewidth\": 0, \"ticks\": \"\"}, \"colorscale\": [[0.0, \"#0d0887\"], [0.1111111111111111, \"#46039f\"], [0.2222222222222222, \"#7201a8\"], [0.3333333333333333, \"#9c179e\"], [0.4444444444444444, \"#bd3786\"], [0.5555555555555556, \"#d8576b\"], [0.6666666666666666, \"#ed7953\"], [0.7777777777777778, \"#fb9f3a\"], [0.8888888888888888, \"#fdca26\"], [1.0, \"#f0f921\"]], \"type\": \"surface\"}], \"table\": [{\"cells\": {\"fill\": {\"color\": \"#EBF0F8\"}, \"line\": {\"color\": \"white\"}}, \"header\": {\"fill\": {\"color\": \"#C8D4E3\"}, \"line\": {\"color\": \"white\"}}, \"type\": \"table\"}]}, \"layout\": {\"annotationdefaults\": {\"arrowcolor\": \"#2a3f5f\", \"arrowhead\": 0, \"arrowwidth\": 1}, \"coloraxis\": {\"colorbar\": {\"outlinewidth\": 0, \"ticks\": \"\"}}, \"colorscale\": {\"diverging\": [[0, \"#8e0152\"], [0.1, \"#c51b7d\"], [0.2, \"#de77ae\"], [0.3, \"#f1b6da\"], [0.4, \"#fde0ef\"], [0.5, \"#f7f7f7\"], [0.6, \"#e6f5d0\"], [0.7, \"#b8e186\"], [0.8, \"#7fbc41\"], [0.9, \"#4d9221\"], [1, \"#276419\"]], \"sequential\": [[0.0, \"#0d0887\"], [0.1111111111111111, \"#46039f\"], [0.2222222222222222, \"#7201a8\"], [0.3333333333333333, \"#9c179e\"], [0.4444444444444444, \"#bd3786\"], [0.5555555555555556, \"#d8576b\"], [0.6666666666666666, \"#ed7953\"], [0.7777777777777778, \"#fb9f3a\"], [0.8888888888888888, \"#fdca26\"], [1.0, \"#f0f921\"]], \"sequentialminus\": [[0.0, \"#0d0887\"], [0.1111111111111111, \"#46039f\"], [0.2222222222222222, \"#7201a8\"], [0.3333333333333333, \"#9c179e\"], [0.4444444444444444, \"#bd3786\"], [0.5555555555555556, \"#d8576b\"], [0.6666666666666666, \"#ed7953\"], [0.7777777777777778, \"#fb9f3a\"], [0.8888888888888888, \"#fdca26\"], [1.0, \"#f0f921\"]]}, \"colorway\": [\"#636efa\", \"#EF553B\", \"#00cc96\", \"#ab63fa\", \"#FFA15A\", \"#19d3f3\", \"#FF6692\", \"#B6E880\", \"#FF97FF\", \"#FECB52\"], \"font\": {\"color\": \"#2a3f5f\"}, \"geo\": {\"bgcolor\": \"white\", \"lakecolor\": \"white\", \"landcolor\": \"#E5ECF6\", \"showlakes\": true, \"showland\": true, \"subunitcolor\": \"white\"}, \"hoverlabel\": {\"align\": \"left\"}, \"hovermode\": \"closest\", \"mapbox\": {\"style\": \"light\"}, \"paper_bgcolor\": \"white\", \"plot_bgcolor\": \"#E5ECF6\", \"polar\": {\"angularaxis\": {\"gridcolor\": \"white\", \"linecolor\": \"white\", \"ticks\": \"\"}, \"bgcolor\": \"#E5ECF6\", \"radialaxis\": {\"gridcolor\": \"white\", \"linecolor\": \"white\", \"ticks\": \"\"}}, \"scene\": {\"xaxis\": {\"backgroundcolor\": \"#E5ECF6\", \"gridcolor\": \"white\", \"gridwidth\": 2, \"linecolor\": \"white\", \"showbackground\": true, \"ticks\": \"\", \"zerolinecolor\": \"white\"}, \"yaxis\": {\"backgroundcolor\": \"#E5ECF6\", \"gridcolor\": \"white\", \"gridwidth\": 2, \"linecolor\": \"white\", \"showbackground\": true, \"ticks\": \"\", \"zerolinecolor\": \"white\"}, \"zaxis\": {\"backgroundcolor\": \"#E5ECF6\", \"gridcolor\": \"white\", \"gridwidth\": 2, \"linecolor\": \"white\", \"showbackground\": true, \"ticks\": \"\", \"zerolinecolor\": \"white\"}}, \"shapedefaults\": {\"line\": {\"color\": \"#2a3f5f\"}}, \"ternary\": {\"aaxis\": {\"gridcolor\": \"white\", \"linecolor\": \"white\", \"ticks\": \"\"}, \"baxis\": {\"gridcolor\": \"white\", \"linecolor\": \"white\", \"ticks\": \"\"}, \"bgcolor\": \"#E5ECF6\", \"caxis\": {\"gridcolor\": \"white\", \"linecolor\": \"white\", \"ticks\": \"\"}}, \"title\": {\"x\": 0.05}, \"xaxis\": {\"automargin\": true, \"gridcolor\": \"white\", \"linecolor\": \"white\", \"ticks\": \"\", \"title\": {\"standoff\": 15}, \"zerolinecolor\": \"white\", \"zerolinewidth\": 2}, \"yaxis\": {\"automargin\": true, \"gridcolor\": \"white\", \"linecolor\": \"white\", \"ticks\": \"\", \"title\": {\"standoff\": 15}, \"zerolinecolor\": \"white\", \"zerolinewidth\": 2}}}},                        {\"responsive\": true}                    ).then(function(){\n",
       "                            \n",
       "var gd = document.getElementById('bab4529c-1840-4908-b318-d01a1d0b6c7b');\n",
       "var x = new MutationObserver(function (mutations, observer) {{\n",
       "        var display = window.getComputedStyle(gd).display;\n",
       "        if (!display || display === 'none') {{\n",
       "            console.log([gd, 'removed!']);\n",
       "            Plotly.purge(gd);\n",
       "            observer.disconnect();\n",
       "        }}\n",
       "}});\n",
       "\n",
       "// Listen for the removal of the full notebook cells\n",
       "var notebookContainer = gd.closest('#notebook-container');\n",
       "if (notebookContainer) {{\n",
       "    x.observe(notebookContainer, {childList: true});\n",
       "}}\n",
       "\n",
       "// Listen for the clearing of the current output cell\n",
       "var outputEl = gd.closest('.output');\n",
       "if (outputEl) {{\n",
       "    x.observe(outputEl, {childList: true});\n",
       "}}\n",
       "\n",
       "                        })                };                });            </script>        </div>"
      ]
     },
     "metadata": {},
     "output_type": "display_data"
    }
   ],
   "source": [
    "import plotly.graph_objects as go\n",
    "\n",
    "fig = go.Figure(data=[go.Table(header=dict(values=[\"Data\",'Senama Epidemiológica','Acontecimento']),\n",
    "                 cells=dict(values=[dt,semanas, text],align=[\"center\",\"center\",'left']),columnwidth = [7,20,50])\n",
    "                     ])\n",
    "fig.show()"
   ]
  }
 ],
 "metadata": {
  "kernelspec": {
   "display_name": "Python 3",
   "language": "python",
   "name": "python3"
  },
  "language_info": {
   "codemirror_mode": {
    "name": "ipython",
    "version": 3
   },
   "file_extension": ".py",
   "mimetype": "text/x-python",
   "name": "python",
   "nbconvert_exporter": "python",
   "pygments_lexer": "ipython3",
   "version": "3.7.3"
  }
 },
 "nbformat": 4,
 "nbformat_minor": 2
}
