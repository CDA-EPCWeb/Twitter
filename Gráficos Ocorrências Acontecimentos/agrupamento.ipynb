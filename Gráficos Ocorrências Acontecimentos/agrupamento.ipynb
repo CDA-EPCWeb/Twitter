{
 "cells": [
  {
   "cell_type": "code",
   "execution_count": null,
   "metadata": {},
   "outputs": [],
   "source": [
    "import csv ##para ler e escrever csvs"
   ]
  },
  {
   "cell_type": "markdown",
   "metadata": {},
   "source": [
    "## Funções"
   ]
  },
  {
   "cell_type": "code",
   "execution_count": null,
   "metadata": {},
   "outputs": [],
   "source": [
    "# função que retorna o numero de ocorrencia de palavras de cada grupo\n",
    "def agrupar(palavras, lista):\n",
    "    count = 0  \n",
    "    for palavra in palavras:\n",
    "        for item in lista:\n",
    "            if item[0] == palavra:\n",
    "                count += int(item[1])\n",
    "                break\n",
    "    return count"
   ]
  },
  {
   "cell_type": "code",
   "execution_count": null,
   "metadata": {},
   "outputs": [],
   "source": [
    "#função que retorna o nome do arquivo com base na semana e no tipo de arquivo\n",
    "def dinamic_filename(week, artype='word'):\n",
    "    week = str(week)\n",
    "    name = 'tweet_word'\n",
    "    if not artype == 'word':\n",
    "        name = artype\n",
    "    return 'D:\\\\01_databases\\\\CovidDataAnalytics\\\\Tweets\\\\Inweb\\\\Leitura-Pedro\\\\results_weekly\\\\week_' + week + '\\\\'+ name + '_count_' + week + '.csv'\n"
   ]
  },
  {
   "cell_type": "code",
   "execution_count": null,
   "metadata": {},
   "outputs": [],
   "source": [
    "#le o csv e retorna uma lista com os valores presente nele\n",
    "def csv_to_list(filename, delimiter=',', encoding='utf-8'):\n",
    "    with open(filename, 'r', encoding=encoding) as file:\n",
    "        reader = csv.reader(file, delimiter=delimiter)\n",
    "        data = list(reader)\n",
    "    del data[0]\n",
    "    return data"
   ]
  },
  {
   "cell_type": "markdown",
   "metadata": {},
   "source": [
    "## Teste para dataframe"
   ]
  },
  {
   "cell_type": "code",
   "execution_count": null,
   "metadata": {},
   "outputs": [],
   "source": [
    "week36 = 'D:\\\\01_databases\\\\CovidDataAnalytics\\\\Tweets\\\\Inweb\\\\Leitura-Pedro\\\\results_v2\\\\week_36\\\\'\n",
    "\n",
    "tokenfile = week36 + 'token_count_36.csv'\n",
    "wordfile = week36 + 'tweet_word_count_36.csv'"
   ]
  },
  {
   "cell_type": "code",
   "execution_count": null,
   "metadata": {},
   "outputs": [],
   "source": [
    "#confere se ambos arquivos token e word te mo mesmo numero de entradas\n",
    "\n",
    "token = sorted(csv_to_list(tokenfile, delimiter=';'))\n",
    "word = sorted(csv_to_list(wordfile, delimiter=';'))\n",
    "print(len(token))\n",
    "print(len(word))"
   ]
  },
  {
   "cell_type": "code",
   "execution_count": null,
   "metadata": {
    "tags": []
   },
   "outputs": [],
   "source": [
    "# testa se as entradas são sempre as mesmas e se o número de ocorrencia é sempre maior em um que o outro (não é o caso)\n",
    "\n",
    "maior = 0\n",
    "menor = 0\n",
    "\n",
    "for i in range(len(token)):\n",
    "    if not token[i][0] == word[i][0]:\n",
    "        print(\"!\")\n",
    "    if token[i][1] > word[i][1]:\n",
    "       #print(token[i], word[i])\n",
    "        menor += 1    \n",
    "    if token[i][1] < word[i][1]:\n",
    "       #print(token[i], word[i])\n",
    "        maior += 1\n",
    "    if token[i][0] == 'distanciamento social':\n",
    "        print(\"!!\")\n",
    "    if word[i][0] == 'distanciamento social':\n",
    "        print(\"!!\")\n",
    "print(maior,menor)"
   ]
  },
  {
   "cell_type": "code",
   "execution_count": null,
   "metadata": {},
   "outputs": [],
   "source": [
    "#define uma lista com os grupos de palavras e e o futuro numero de palavras por  semana \n",
    "\n",
    "covid_w = ['corona', 'covid', 'coronavirus', 'covid19', 'sars', 'covid-19']\n",
    "covid =[covid_w,[]]\n",
    "\n",
    "quarentena_w = ['quarentena', 'confinamento']\n",
    "quarentena = [quarentena_w,[]]\n",
    "\n",
    "cloroquina_w = ['cloroquina', 'hidroxicloroquina']\n",
    "cloroquina = [cloroquina_w,[]]\n",
    "\n",
    "dist_w2 = ['distanciamento']\n",
    "dist2 = [dist_w2,[]]\n",
    "\n",
    "aglomeracao_w = ['aglomeracao', 'aglomeracoes']\n",
    "aglomeracao = [[aglomeracao_w],]"
   ]
  },
  {
   "cell_type": "code",
   "execution_count": null,
   "metadata": {
    "tags": []
   },
   "outputs": [],
   "source": [
    "#confere o numero de ocorrencia por semanas\n",
    "\n",
    "for i in range(1, 37): \n",
    "    #nome do arquivo de forma dinamica\n",
    "    file = dinamic_filename(i)\n",
    "\n",
    "    #cria a lista com a o numero de ocrrencia de cada palavra\n",
    "    lista = sorted(csv_to_list(file, delimiter = ';'))\n",
    "\n",
    "    #agrupa o numero de ocorrencia por semana\n",
    "    covid[1].append(agrupar(covid[0], lista))\n",
    "    quarentena[1].append(agrupar(quarentena[0], lista))\n",
    "    cloroquina[1].append(agrupar(cloroquina[0], lista))\n",
    "    aglomeracao[1].append(agrupar(aglomeracao[0],lista))\n",
    "    dist2[1].append(agrupar(dist2[0], lista))"
   ]
  },
  {
   "cell_type": "code",
   "execution_count": null,
   "metadata": {},
   "outputs": [],
   "source": [
    "#escreve o csv com a ocorrencia de palavras\n",
    "with open( 'ocorrencia.csv', 'w') as csv_file:\n",
    "    writer = csv.writer(csv_file, delimiter=';')\n",
    "    writer.writerow(['covid', 'quarentena', 'cloroquina', 'distanciamento', 'distanciamento_social'])\n",
    "    for i, week in enumerate(covid[1]):\n",
    "        writer.writerow([covid[1][i], quarentena[1][i], cloroquina[1][i], aglomeracao[1][i], dist2[1][i]])"
   ]
  },
  {
   "cell_type": "code",
   "execution_count": null,
   "metadata": {},
   "outputs": [],
   "source": [
    "#escreve o csv com a frequencia relativa de\n",
    "\n",
    "#le o numero de tweets por semana \n",
    "n_tweets = csv_to_list('D:\\\\01_databases\\\\CovidDataAnalytics\\\\Tweets\\\\Inweb\\\\Leitura-Pedro\\\\results_weekly\\\\tweets_week.csv', delimiter=';')\n",
    "\n",
    "#escreve o arquivo com a frequencia relativa\n",
    "with open('ocorrencia_relativa.csv', 'w', newline='') as csv_file:\n",
    "    writer = csv.writer(csv_file, delimiter=';')\n",
    "    writer.writerow(['covid', 'quarentena', 'cloroquina', 'distanciamento', 'distanciamento_social'])\n",
    "\n",
    "    for i, week in enumerate(covid[1]):\n",
    "\n",
    "        #calcula a frequencia relativa por semana para cada agrupamento\n",
    "        r_covid = int(covid[1][i])/int(n_tweets[i][1]) \n",
    "        r_quarentena = int(quarentena[1][i])/int(n_tweets[i][1])\n",
    "        r_cloroquina = int(cloroquina[1][i])/int(n_tweets[i][1])\n",
    "        r_aglomeracao = int(aglomeracao[1][i])/int(n_tweets[i][1])\n",
    "        r_dist2 = int(dist2[1][i])/int(n_tweets[i][1])\n",
    "       \n",
    "        #escreve a frequencia\n",
    "        writer.writerow([r_covid, r_quarentena, r_cloroquina,r_aglomeracao, r_dist2])"
   ]
  },
  {
   "cell_type": "code",
   "execution_count": null,
   "metadata": {},
   "outputs": [],
   "source": []
  },
  {
   "cell_type": "markdown",
   "metadata": {},
   "source": [
    "# Plot"
   ]
  },
  {
   "cell_type": "code",
   "execution_count": 199,
   "metadata": {},
   "outputs": [],
   "source": [
    "import pandas as pd\n",
    "import plotly\n",
    "import plotly.graph_objs as go\n",
    "import plotly.offline as py\n",
    "import numpy as np\n",
    "\n",
    "import plotly.express as px"
   ]
  },
  {
   "cell_type": "code",
   "execution_count": 200,
   "metadata": {},
   "outputs": [],
   "source": [
    "ocor = pd.read_csv(\"ocorrencias.csv\",sep=';')\n",
    "ocor_rel = ocor[['covid_rel', 'quarentena_rel', 'cloroquina_rel', 'aglomeracao_rel', 'distanciamento_rel']].rename({'covid_rel':\"corona, covid, coronavírus, covid19, sars, covid-19\", 'quarentena_rel':\"quarentena, confinamento\", 'cloroquina_rel':'hidroxicloroquina, cloroquina',\n",
    "       \"aglomeracao_rel\":\"aglomeracao, aglomeracoes\", \"distanciamento_rel\":\"distanciamento social\"},axis=1)\n",
    "ocor_rel.index = [x+19 for x in ocor_rel.index]\n",
    "ocor_rel[\"label\"] = [str(x) for x in ocor_rel.index if x<54]+[str(1)]"
   ]
  },
  {
   "cell_type": "code",
   "execution_count": 201,
   "metadata": {},
   "outputs": [],
   "source": [
    "text = [\n",
    "    \"O ministro da Saúde, Nelson Teich, contrata 267 profissionais para combater a covid-19 no Amazonas\",\n",
    "    \"Bolsonaro livra agentes públicos de responsabilidade por erros durante epidemia\",\n",
    "    \"Covid-19 atinge dezenas de povos indígenas\",\n",
    "    \"Nelson Teich pede demissão do Ministério da Saúde\",\n",
    "    \"Governo anuncia que secretário executivo do Ministério da Saúde, Eduardo Pazuello, assumirá interinamente o comando da pasta\",\n",
    "    \"Sem base científica, governo amplia uso da cloroquina\",\n",
    "    \"Brasil ultrapassa Itália e é terceiro país com mais mortes por covid-19\",\n",
    "    \"Instituto Butantan anuncia que produzirá uma vacina contra o novo coronavírus em parceria com o laboratório chinês Sinovac Biotech\",\n",
    "    \"Brasil amplia orientações de uso da cloroquina contra a covid-19\",\n",
    "    \"Casos de covid-19 passam de 1 milhão no Brasil\",\n",
    "    \"Vacina de Oxford contra covid-19 começa a ser testada no Brasil\",\n",
    "    \"Juiz manda Bolsonaro usar máscara em público\",\n",
    "    \"Ministério da Saúde anuncia acordo entre a Fiocruz e a biofarmacêutica AstraZeneca para a compra e transferência de tecnologia de vacina desenvolvida em Oxford\",\n",
    "    \"UE estende proibição à entrada de viajantes do Brasil\",\n",
    "    \"Bolsonaro diz estar com covid-19\",\n",
    "    \"Casos de covid-19 passam de 2 milhões no Brasil\",\n",
    "    \"Assinada a Medida Provisória que destina R$ 1,9 bilhão para a produção e aquisição da vacina do laboratório AstraZeneca em parceria com Oxford\",\n",
    "    \"Brasil: 100 mil mortos por covid-19\",\n",
    "    \"Mais uma empresa alemã pretende testar vacina contra covid-19 no Brasil\",\n",
    "    \"Brasil autoriza testes de mais uma vacina contra covid-19\",\n",
    "    \"O ministro interino da Saúde, Eduardo Pazuello, afirma que muitas mortes poderiam ter sido evitadas com o protocolo atual de diagnóstico e tratamento precoce da doença\",\n",
    "    \"Saldo do coronavírus após seis meses no Brasil\",\n",
    "    \"Auxílio emergencial é prorrogado por quatro meses, com o valor de R$ 300\",\n",
    "    \"Índia passa Brasil e é segundo país com mais casos de covid-19\",\n",
    "    \"Pazuello é efetivado como ministro da Saúde\",\n",
    "    \"Brasil adere à iniciativa global por vacinas contra covid-19\",\n",
    "    \"Brasil ultrapassa marca de 5 milhões de casos de covid-19\",\n",
    "    \"Testes no Brasil mostram segurança de vacina chinesa, diz Butantan\",\n",
    "    \"Pandemia deve elevar tanto a fome quanto a obesidade entre brasileiros\",\n",
    "    \"Brasil incluirá vacina chinesa em calendário nacional de vacinação\",\n",
    "    \"Anvisa autoriza importar 6 milhões de doses de vacina chinesa\",\n",
    "    \"Alunos das redes públicas e particulares começam a voltar para as salas de aula em vários estados brasileiros\",\n",
    "    \"São Paulo recebe as primeiras 120 mil doses CoronaVac. Vacina aguarda dados de eficácia e liberação pela Anvisa\",\n",
    "    \"Resultados preliminares dos estudos clínicos da Fase 3 da vacina da Universidade de Oxford indicam eficácia de 90%\",\n",
    "    \"Ministério da Saúde divulga a confirmação do primeiro caso, no país, de reinfecção pelo vírus\"\n",
    "]\n",
    "semanas = [19,20,20,20,20,21,23,24,25,25,26,26,26,27,28,29,32,32,33,34,35,35,36,37,38,38,41,43,43,43,43,44,47,48,50]\n",
    "dt = [\"03/05\",\"14/05\",\"15/05\",\"15/05\",\"16/05\",\"20/05\",\"04/06\",\"11/06\",\"15/06\",\"19/06\",\"22/06\",\"22/06\",\"27/06\",\"30/06\",\"07/07\",\"16/07\",\"06/08\",\"08/08\",\"11/08\",\"18/08\",\"24/08\",\"26/08\",\"01/09\",\"07/09\",\"16/09\",\"19/09\",\"07/10\",\"19/10\",\"20/10\",\"20/10\",\"23/10\",\"27/10\",\"19/11\",\"23/11\",\"10/12\"]"
   ]
  },
  {
   "cell_type": "code",
   "execution_count": 202,
   "metadata": {},
   "outputs": [],
   "source": [
    "acont = dict()\n",
    "for i,val in enumerate(semanas):\n",
    "    if val in acont.keys():\n",
    "        acont[val] = acont[val]+\"<br>\"+text[i]\n",
    "    else:\n",
    "        acont[val] = text[i]"
   ]
  },
  {
   "cell_type": "code",
   "execution_count": 203,
   "metadata": {},
   "outputs": [],
   "source": [
    "text2 = [\n",
    "    \"Dia do Trabalho\",\n",
    "    \"Corpus Christi\",\n",
    "    \"Independência do Brasil\",\n",
    "    \"Nossa Sr.a Aparecida - Padroeira do Brasil\",\n",
    "    \"Finados\",\n",
    "    \"Proclamação da República\",\n",
    "    \"Natal\"\n",
    "]\n",
    "semanas2 = [18,24,37,42,45,47,52]\n",
    "dt2 = [\"01/05\",\"11/06\",\"07/09\",\"12/10\",\"02/11\",\"15/11\",\"25/12\"]"
   ]
  },
  {
   "cell_type": "code",
   "execution_count": 204,
   "metadata": {},
   "outputs": [
    {
     "data": {
      "text/html": [
       "<div>\n",
       "<style scoped>\n",
       "    .dataframe tbody tr th:only-of-type {\n",
       "        vertical-align: middle;\n",
       "    }\n",
       "\n",
       "    .dataframe tbody tr th {\n",
       "        vertical-align: top;\n",
       "    }\n",
       "\n",
       "    .dataframe thead th {\n",
       "        text-align: right;\n",
       "    }\n",
       "</style>\n",
       "<table border=\"1\" class=\"dataframe\">\n",
       "  <thead>\n",
       "    <tr style=\"text-align: right;\">\n",
       "      <th></th>\n",
       "      <th>corona, covid, coronavírus, covid19, sars, covid-19</th>\n",
       "      <th>quarentena, confinamento</th>\n",
       "      <th>acontecimentos</th>\n",
       "      <th>feriado</th>\n",
       "      <th>hidroxicloroquina, cloroquina</th>\n",
       "      <th>aglomeracao, aglomeracoes</th>\n",
       "      <th>distanciamento social</th>\n",
       "      <th>label</th>\n",
       "    </tr>\n",
       "  </thead>\n",
       "  <tbody>\n",
       "    <tr>\n",
       "      <th>19</th>\n",
       "      <td>0.320421</td>\n",
       "      <td>0.496602</td>\n",
       "      <td>O ministro da Saúde, Nelson Teich, contrata 26...</td>\n",
       "      <td>False</td>\n",
       "      <td>0.008524</td>\n",
       "      <td>0.017424</td>\n",
       "      <td>0.005238</td>\n",
       "      <td>19</td>\n",
       "    </tr>\n",
       "    <tr>\n",
       "      <th>20</th>\n",
       "      <td>0.316453</td>\n",
       "      <td>0.476518</td>\n",
       "      <td>Bolsonaro livra agentes públicos de responsabi...</td>\n",
       "      <td>False</td>\n",
       "      <td>0.014174</td>\n",
       "      <td>0.018915</td>\n",
       "      <td>0.005090</td>\n",
       "      <td>20</td>\n",
       "    </tr>\n",
       "    <tr>\n",
       "      <th>21</th>\n",
       "      <td>0.307653</td>\n",
       "      <td>0.416893</td>\n",
       "      <td>Sem base científica, governo amplia uso da clo...</td>\n",
       "      <td>False</td>\n",
       "      <td>0.076408</td>\n",
       "      <td>0.016652</td>\n",
       "      <td>0.005165</td>\n",
       "      <td>21</td>\n",
       "    </tr>\n",
       "    <tr>\n",
       "      <th>22</th>\n",
       "      <td>0.304764</td>\n",
       "      <td>0.396715</td>\n",
       "      <td></td>\n",
       "      <td>False</td>\n",
       "      <td>0.102426</td>\n",
       "      <td>0.015558</td>\n",
       "      <td>0.004796</td>\n",
       "      <td>22</td>\n",
       "    </tr>\n",
       "    <tr>\n",
       "      <th>23</th>\n",
       "      <td>0.289805</td>\n",
       "      <td>0.462816</td>\n",
       "      <td>Brasil ultrapassa Itália e é terceiro país com...</td>\n",
       "      <td>False</td>\n",
       "      <td>0.041897</td>\n",
       "      <td>0.017505</td>\n",
       "      <td>0.004699</td>\n",
       "      <td>23</td>\n",
       "    </tr>\n",
       "    <tr>\n",
       "      <th>24</th>\n",
       "      <td>0.373457</td>\n",
       "      <td>0.389693</td>\n",
       "      <td>Instituto Butantan anuncia que produzirá uma v...</td>\n",
       "      <td>True</td>\n",
       "      <td>0.034830</td>\n",
       "      <td>0.026160</td>\n",
       "      <td>0.005705</td>\n",
       "      <td>24</td>\n",
       "    </tr>\n",
       "    <tr>\n",
       "      <th>25</th>\n",
       "      <td>0.358051</td>\n",
       "      <td>0.399797</td>\n",
       "      <td>Brasil amplia orientações de uso da cloroquina...</td>\n",
       "      <td>False</td>\n",
       "      <td>0.030603</td>\n",
       "      <td>0.021675</td>\n",
       "      <td>0.005372</td>\n",
       "      <td>25</td>\n",
       "    </tr>\n",
       "    <tr>\n",
       "      <th>26</th>\n",
       "      <td>0.345907</td>\n",
       "      <td>0.449065</td>\n",
       "      <td>Vacina de Oxford contra covid-19 começa a ser ...</td>\n",
       "      <td>False</td>\n",
       "      <td>0.027900</td>\n",
       "      <td>0.020645</td>\n",
       "      <td>0.004809</td>\n",
       "      <td>26</td>\n",
       "    </tr>\n",
       "    <tr>\n",
       "      <th>27</th>\n",
       "      <td>0.353906</td>\n",
       "      <td>0.431150</td>\n",
       "      <td>UE estende proibição à entrada de viajantes do...</td>\n",
       "      <td>False</td>\n",
       "      <td>0.018948</td>\n",
       "      <td>0.023090</td>\n",
       "      <td>0.005470</td>\n",
       "      <td>27</td>\n",
       "    </tr>\n",
       "    <tr>\n",
       "      <th>28</th>\n",
       "      <td>0.361940</td>\n",
       "      <td>0.403688</td>\n",
       "      <td>Bolsonaro diz estar com covid-19</td>\n",
       "      <td>False</td>\n",
       "      <td>0.022423</td>\n",
       "      <td>0.035761</td>\n",
       "      <td>0.005578</td>\n",
       "      <td>28</td>\n",
       "    </tr>\n",
       "    <tr>\n",
       "      <th>29</th>\n",
       "      <td>0.419102</td>\n",
       "      <td>0.281615</td>\n",
       "      <td>Casos de covid-19 passam de 2 milhões no Brasil</td>\n",
       "      <td>False</td>\n",
       "      <td>0.122866</td>\n",
       "      <td>0.015572</td>\n",
       "      <td>0.004506</td>\n",
       "      <td>29</td>\n",
       "    </tr>\n",
       "    <tr>\n",
       "      <th>30</th>\n",
       "      <td>0.397585</td>\n",
       "      <td>0.371540</td>\n",
       "      <td></td>\n",
       "      <td>False</td>\n",
       "      <td>0.052399</td>\n",
       "      <td>0.021081</td>\n",
       "      <td>0.005834</td>\n",
       "      <td>30</td>\n",
       "    </tr>\n",
       "    <tr>\n",
       "      <th>31</th>\n",
       "      <td>0.351634</td>\n",
       "      <td>0.344263</td>\n",
       "      <td></td>\n",
       "      <td>False</td>\n",
       "      <td>0.082881</td>\n",
       "      <td>0.020733</td>\n",
       "      <td>0.005609</td>\n",
       "      <td>31</td>\n",
       "    </tr>\n",
       "    <tr>\n",
       "      <th>32</th>\n",
       "      <td>0.362153</td>\n",
       "      <td>0.356307</td>\n",
       "      <td>Assinada a Medida Provisória que destina R$ 1,...</td>\n",
       "      <td>False</td>\n",
       "      <td>0.069223</td>\n",
       "      <td>0.022360</td>\n",
       "      <td>0.005844</td>\n",
       "      <td>32</td>\n",
       "    </tr>\n",
       "    <tr>\n",
       "      <th>33</th>\n",
       "      <td>0.386673</td>\n",
       "      <td>0.346163</td>\n",
       "      <td>Mais uma empresa alemã pretende testar vacina ...</td>\n",
       "      <td>False</td>\n",
       "      <td>0.046956</td>\n",
       "      <td>0.023284</td>\n",
       "      <td>0.006481</td>\n",
       "      <td>33</td>\n",
       "    </tr>\n",
       "    <tr>\n",
       "      <th>34</th>\n",
       "      <td>0.408282</td>\n",
       "      <td>0.315862</td>\n",
       "      <td>Brasil autoriza testes de mais uma vacina cont...</td>\n",
       "      <td>False</td>\n",
       "      <td>0.071693</td>\n",
       "      <td>0.023778</td>\n",
       "      <td>0.007095</td>\n",
       "      <td>34</td>\n",
       "    </tr>\n",
       "    <tr>\n",
       "      <th>35</th>\n",
       "      <td>0.393857</td>\n",
       "      <td>0.383414</td>\n",
       "      <td>O ministro interino da Saúde, Eduardo Pazuello...</td>\n",
       "      <td>False</td>\n",
       "      <td>0.054647</td>\n",
       "      <td>0.027642</td>\n",
       "      <td>0.006477</td>\n",
       "      <td>35</td>\n",
       "    </tr>\n",
       "    <tr>\n",
       "      <th>36</th>\n",
       "      <td>0.430380</td>\n",
       "      <td>0.323252</td>\n",
       "      <td>Auxílio emergencial é prorrogado por quatro me...</td>\n",
       "      <td>False</td>\n",
       "      <td>0.047867</td>\n",
       "      <td>0.022588</td>\n",
       "      <td>0.006132</td>\n",
       "      <td>36</td>\n",
       "    </tr>\n",
       "    <tr>\n",
       "      <th>37</th>\n",
       "      <td>0.429553</td>\n",
       "      <td>0.328652</td>\n",
       "      <td>Índia passa Brasil e é segundo país com mais c...</td>\n",
       "      <td>True</td>\n",
       "      <td>0.026814</td>\n",
       "      <td>0.040634</td>\n",
       "      <td>0.008074</td>\n",
       "      <td>37</td>\n",
       "    </tr>\n",
       "    <tr>\n",
       "      <th>38</th>\n",
       "      <td>0.436085</td>\n",
       "      <td>0.323328</td>\n",
       "      <td>Pazuello é efetivado como ministro da Saúde&lt;br...</td>\n",
       "      <td>False</td>\n",
       "      <td>0.024395</td>\n",
       "      <td>0.038159</td>\n",
       "      <td>0.008273</td>\n",
       "      <td>38</td>\n",
       "    </tr>\n",
       "    <tr>\n",
       "      <th>39</th>\n",
       "      <td>0.470253</td>\n",
       "      <td>0.297206</td>\n",
       "      <td></td>\n",
       "      <td>False</td>\n",
       "      <td>0.023158</td>\n",
       "      <td>0.033730</td>\n",
       "      <td>0.009058</td>\n",
       "      <td>39</td>\n",
       "    </tr>\n",
       "    <tr>\n",
       "      <th>40</th>\n",
       "      <td>0.497123</td>\n",
       "      <td>0.229575</td>\n",
       "      <td></td>\n",
       "      <td>False</td>\n",
       "      <td>0.018165</td>\n",
       "      <td>0.028484</td>\n",
       "      <td>0.007555</td>\n",
       "      <td>40</td>\n",
       "    </tr>\n",
       "    <tr>\n",
       "      <th>41</th>\n",
       "      <td>0.506670</td>\n",
       "      <td>0.239656</td>\n",
       "      <td>Brasil ultrapassa marca de 5 milhões de casos ...</td>\n",
       "      <td>False</td>\n",
       "      <td>0.039229</td>\n",
       "      <td>0.025639</td>\n",
       "      <td>0.007316</td>\n",
       "      <td>41</td>\n",
       "    </tr>\n",
       "    <tr>\n",
       "      <th>42</th>\n",
       "      <td>0.517607</td>\n",
       "      <td>0.262426</td>\n",
       "      <td>&gt;&gt; Nossa Sr.a Aparecida - Padroeira do Brasil</td>\n",
       "      <td>True</td>\n",
       "      <td>0.018992</td>\n",
       "      <td>0.032049</td>\n",
       "      <td>0.009207</td>\n",
       "      <td>42</td>\n",
       "    </tr>\n",
       "    <tr>\n",
       "      <th>43</th>\n",
       "      <td>0.510452</td>\n",
       "      <td>0.217701</td>\n",
       "      <td>Testes no Brasil mostram segurança de vacina c...</td>\n",
       "      <td>False</td>\n",
       "      <td>0.025352</td>\n",
       "      <td>0.026918</td>\n",
       "      <td>0.009374</td>\n",
       "      <td>43</td>\n",
       "    </tr>\n",
       "    <tr>\n",
       "      <th>44</th>\n",
       "      <td>0.468858</td>\n",
       "      <td>0.169446</td>\n",
       "      <td>Alunos das redes públicas e particulares começ...</td>\n",
       "      <td>False</td>\n",
       "      <td>0.147265</td>\n",
       "      <td>0.021102</td>\n",
       "      <td>0.007662</td>\n",
       "      <td>44</td>\n",
       "    </tr>\n",
       "    <tr>\n",
       "      <th>45</th>\n",
       "      <td>0.528760</td>\n",
       "      <td>0.186709</td>\n",
       "      <td>&gt;&gt; Finados</td>\n",
       "      <td>True</td>\n",
       "      <td>0.030884</td>\n",
       "      <td>0.032977</td>\n",
       "      <td>0.010586</td>\n",
       "      <td>45</td>\n",
       "    </tr>\n",
       "    <tr>\n",
       "      <th>46</th>\n",
       "      <td>0.555704</td>\n",
       "      <td>0.198923</td>\n",
       "      <td></td>\n",
       "      <td>False</td>\n",
       "      <td>0.021761</td>\n",
       "      <td>0.035295</td>\n",
       "      <td>0.009740</td>\n",
       "      <td>46</td>\n",
       "    </tr>\n",
       "    <tr>\n",
       "      <th>47</th>\n",
       "      <td>0.554418</td>\n",
       "      <td>0.155148</td>\n",
       "      <td>São Paulo recebe as primeiras 120 mil doses Co...</td>\n",
       "      <td>True</td>\n",
       "      <td>0.027135</td>\n",
       "      <td>0.043948</td>\n",
       "      <td>0.008994</td>\n",
       "      <td>47</td>\n",
       "    </tr>\n",
       "    <tr>\n",
       "      <th>48</th>\n",
       "      <td>0.586071</td>\n",
       "      <td>0.147346</td>\n",
       "      <td>Resultados preliminares dos estudos clínicos d...</td>\n",
       "      <td>False</td>\n",
       "      <td>0.017903</td>\n",
       "      <td>0.030519</td>\n",
       "      <td>0.008587</td>\n",
       "      <td>48</td>\n",
       "    </tr>\n",
       "    <tr>\n",
       "      <th>49</th>\n",
       "      <td>0.603199</td>\n",
       "      <td>0.124580</td>\n",
       "      <td></td>\n",
       "      <td>False</td>\n",
       "      <td>0.021857</td>\n",
       "      <td>0.034491</td>\n",
       "      <td>0.007979</td>\n",
       "      <td>49</td>\n",
       "    </tr>\n",
       "    <tr>\n",
       "      <th>50</th>\n",
       "      <td>0.555480</td>\n",
       "      <td>0.129105</td>\n",
       "      <td>Ministério da Saúde divulga a confirmação do p...</td>\n",
       "      <td>False</td>\n",
       "      <td>0.019236</td>\n",
       "      <td>0.032969</td>\n",
       "      <td>0.008488</td>\n",
       "      <td>50</td>\n",
       "    </tr>\n",
       "    <tr>\n",
       "      <th>51</th>\n",
       "      <td>0.523518</td>\n",
       "      <td>0.104298</td>\n",
       "      <td></td>\n",
       "      <td>False</td>\n",
       "      <td>0.061602</td>\n",
       "      <td>0.025937</td>\n",
       "      <td>0.007178</td>\n",
       "      <td>51</td>\n",
       "    </tr>\n",
       "    <tr>\n",
       "      <th>52</th>\n",
       "      <td>0.554448</td>\n",
       "      <td>0.101694</td>\n",
       "      <td>&gt;&gt; Natal</td>\n",
       "      <td>True</td>\n",
       "      <td>0.034962</td>\n",
       "      <td>0.029652</td>\n",
       "      <td>0.008362</td>\n",
       "      <td>52</td>\n",
       "    </tr>\n",
       "    <tr>\n",
       "      <th>53</th>\n",
       "      <td>0.593050</td>\n",
       "      <td>0.102616</td>\n",
       "      <td></td>\n",
       "      <td>False</td>\n",
       "      <td>0.037440</td>\n",
       "      <td>0.039069</td>\n",
       "      <td>0.008726</td>\n",
       "      <td>53</td>\n",
       "    </tr>\n",
       "    <tr>\n",
       "      <th>54</th>\n",
       "      <td>0.641659</td>\n",
       "      <td>0.095650</td>\n",
       "      <td></td>\n",
       "      <td>False</td>\n",
       "      <td>0.025673</td>\n",
       "      <td>0.066258</td>\n",
       "      <td>0.008120</td>\n",
       "      <td>1</td>\n",
       "    </tr>\n",
       "  </tbody>\n",
       "</table>\n",
       "</div>"
      ],
      "text/plain": [
       "    corona, covid, coronavírus, covid19, sars, covid-19  \\\n",
       "19                                           0.320421     \n",
       "20                                           0.316453     \n",
       "21                                           0.307653     \n",
       "22                                           0.304764     \n",
       "23                                           0.289805     \n",
       "24                                           0.373457     \n",
       "25                                           0.358051     \n",
       "26                                           0.345907     \n",
       "27                                           0.353906     \n",
       "28                                           0.361940     \n",
       "29                                           0.419102     \n",
       "30                                           0.397585     \n",
       "31                                           0.351634     \n",
       "32                                           0.362153     \n",
       "33                                           0.386673     \n",
       "34                                           0.408282     \n",
       "35                                           0.393857     \n",
       "36                                           0.430380     \n",
       "37                                           0.429553     \n",
       "38                                           0.436085     \n",
       "39                                           0.470253     \n",
       "40                                           0.497123     \n",
       "41                                           0.506670     \n",
       "42                                           0.517607     \n",
       "43                                           0.510452     \n",
       "44                                           0.468858     \n",
       "45                                           0.528760     \n",
       "46                                           0.555704     \n",
       "47                                           0.554418     \n",
       "48                                           0.586071     \n",
       "49                                           0.603199     \n",
       "50                                           0.555480     \n",
       "51                                           0.523518     \n",
       "52                                           0.554448     \n",
       "53                                           0.593050     \n",
       "54                                           0.641659     \n",
       "\n",
       "    quarentena, confinamento  \\\n",
       "19                  0.496602   \n",
       "20                  0.476518   \n",
       "21                  0.416893   \n",
       "22                  0.396715   \n",
       "23                  0.462816   \n",
       "24                  0.389693   \n",
       "25                  0.399797   \n",
       "26                  0.449065   \n",
       "27                  0.431150   \n",
       "28                  0.403688   \n",
       "29                  0.281615   \n",
       "30                  0.371540   \n",
       "31                  0.344263   \n",
       "32                  0.356307   \n",
       "33                  0.346163   \n",
       "34                  0.315862   \n",
       "35                  0.383414   \n",
       "36                  0.323252   \n",
       "37                  0.328652   \n",
       "38                  0.323328   \n",
       "39                  0.297206   \n",
       "40                  0.229575   \n",
       "41                  0.239656   \n",
       "42                  0.262426   \n",
       "43                  0.217701   \n",
       "44                  0.169446   \n",
       "45                  0.186709   \n",
       "46                  0.198923   \n",
       "47                  0.155148   \n",
       "48                  0.147346   \n",
       "49                  0.124580   \n",
       "50                  0.129105   \n",
       "51                  0.104298   \n",
       "52                  0.101694   \n",
       "53                  0.102616   \n",
       "54                  0.095650   \n",
       "\n",
       "                                       acontecimentos  feriado  \\\n",
       "19  O ministro da Saúde, Nelson Teich, contrata 26...    False   \n",
       "20  Bolsonaro livra agentes públicos de responsabi...    False   \n",
       "21  Sem base científica, governo amplia uso da clo...    False   \n",
       "22                                                       False   \n",
       "23  Brasil ultrapassa Itália e é terceiro país com...    False   \n",
       "24  Instituto Butantan anuncia que produzirá uma v...     True   \n",
       "25  Brasil amplia orientações de uso da cloroquina...    False   \n",
       "26  Vacina de Oxford contra covid-19 começa a ser ...    False   \n",
       "27  UE estende proibição à entrada de viajantes do...    False   \n",
       "28                   Bolsonaro diz estar com covid-19    False   \n",
       "29    Casos de covid-19 passam de 2 milhões no Brasil    False   \n",
       "30                                                       False   \n",
       "31                                                       False   \n",
       "32  Assinada a Medida Provisória que destina R$ 1,...    False   \n",
       "33  Mais uma empresa alemã pretende testar vacina ...    False   \n",
       "34  Brasil autoriza testes de mais uma vacina cont...    False   \n",
       "35  O ministro interino da Saúde, Eduardo Pazuello...    False   \n",
       "36  Auxílio emergencial é prorrogado por quatro me...    False   \n",
       "37  Índia passa Brasil e é segundo país com mais c...     True   \n",
       "38  Pazuello é efetivado como ministro da Saúde<br...    False   \n",
       "39                                                       False   \n",
       "40                                                       False   \n",
       "41  Brasil ultrapassa marca de 5 milhões de casos ...    False   \n",
       "42      >> Nossa Sr.a Aparecida - Padroeira do Brasil     True   \n",
       "43  Testes no Brasil mostram segurança de vacina c...    False   \n",
       "44  Alunos das redes públicas e particulares começ...    False   \n",
       "45                                         >> Finados     True   \n",
       "46                                                       False   \n",
       "47  São Paulo recebe as primeiras 120 mil doses Co...     True   \n",
       "48  Resultados preliminares dos estudos clínicos d...    False   \n",
       "49                                                       False   \n",
       "50  Ministério da Saúde divulga a confirmação do p...    False   \n",
       "51                                                       False   \n",
       "52                                           >> Natal     True   \n",
       "53                                                       False   \n",
       "54                                                       False   \n",
       "\n",
       "    hidroxicloroquina, cloroquina  aglomeracao, aglomeracoes  \\\n",
       "19                       0.008524                   0.017424   \n",
       "20                       0.014174                   0.018915   \n",
       "21                       0.076408                   0.016652   \n",
       "22                       0.102426                   0.015558   \n",
       "23                       0.041897                   0.017505   \n",
       "24                       0.034830                   0.026160   \n",
       "25                       0.030603                   0.021675   \n",
       "26                       0.027900                   0.020645   \n",
       "27                       0.018948                   0.023090   \n",
       "28                       0.022423                   0.035761   \n",
       "29                       0.122866                   0.015572   \n",
       "30                       0.052399                   0.021081   \n",
       "31                       0.082881                   0.020733   \n",
       "32                       0.069223                   0.022360   \n",
       "33                       0.046956                   0.023284   \n",
       "34                       0.071693                   0.023778   \n",
       "35                       0.054647                   0.027642   \n",
       "36                       0.047867                   0.022588   \n",
       "37                       0.026814                   0.040634   \n",
       "38                       0.024395                   0.038159   \n",
       "39                       0.023158                   0.033730   \n",
       "40                       0.018165                   0.028484   \n",
       "41                       0.039229                   0.025639   \n",
       "42                       0.018992                   0.032049   \n",
       "43                       0.025352                   0.026918   \n",
       "44                       0.147265                   0.021102   \n",
       "45                       0.030884                   0.032977   \n",
       "46                       0.021761                   0.035295   \n",
       "47                       0.027135                   0.043948   \n",
       "48                       0.017903                   0.030519   \n",
       "49                       0.021857                   0.034491   \n",
       "50                       0.019236                   0.032969   \n",
       "51                       0.061602                   0.025937   \n",
       "52                       0.034962                   0.029652   \n",
       "53                       0.037440                   0.039069   \n",
       "54                       0.025673                   0.066258   \n",
       "\n",
       "    distanciamento social label  \n",
       "19               0.005238    19  \n",
       "20               0.005090    20  \n",
       "21               0.005165    21  \n",
       "22               0.004796    22  \n",
       "23               0.004699    23  \n",
       "24               0.005705    24  \n",
       "25               0.005372    25  \n",
       "26               0.004809    26  \n",
       "27               0.005470    27  \n",
       "28               0.005578    28  \n",
       "29               0.004506    29  \n",
       "30               0.005834    30  \n",
       "31               0.005609    31  \n",
       "32               0.005844    32  \n",
       "33               0.006481    33  \n",
       "34               0.007095    34  \n",
       "35               0.006477    35  \n",
       "36               0.006132    36  \n",
       "37               0.008074    37  \n",
       "38               0.008273    38  \n",
       "39               0.009058    39  \n",
       "40               0.007555    40  \n",
       "41               0.007316    41  \n",
       "42               0.009207    42  \n",
       "43               0.009374    43  \n",
       "44               0.007662    44  \n",
       "45               0.010586    45  \n",
       "46               0.009740    46  \n",
       "47               0.008994    47  \n",
       "48               0.008587    48  \n",
       "49               0.007979    49  \n",
       "50               0.008488    50  \n",
       "51               0.007178    51  \n",
       "52               0.008362    52  \n",
       "53               0.008726    53  \n",
       "54               0.008120     1  "
      ]
     },
     "execution_count": 204,
     "metadata": {},
     "output_type": "execute_result"
    }
   ],
   "source": [
    "fer = dict()\n",
    "for i,val in enumerate(semanas2):\n",
    "    if val in acont.keys():\n",
    "        acont[val] = acont[val]+\"<br>\"+\">> \"+ text2[i]\n",
    "        fer[val] = True\n",
    "    else:\n",
    "        acont[val] = \">> \"+text2[i]\n",
    "        fer[val] = True\n",
    "df_ac = pd.Series(acont) \n",
    "df_fer = pd.Series(fer) \n",
    "ocor_rel.insert(2,\"acontecimentos\",df_ac)\n",
    "ocor_rel.insert(3,\"feriado\",df_fer)\n",
    "ocor_rel.feriado = ocor_rel.feriado.fillna(False)\n",
    "ocor_rel = ocor_rel.fillna(\"\")\n",
    "ocor_rel.acontecimentos = ocor_rel.acontecimentos.convert_dtypes(str)\n",
    "ocor_rel"
   ]
  },
  {
   "cell_type": "code",
   "execution_count": 205,
   "metadata": {},
   "outputs": [
    {
     "data": {
      "text/plain": [
       "{19: 'O ministro da Saúde, Nelson Teich, contrata 267 profissionais para combater a covid-19 no Amazonas',\n",
       " 20: 'Bolsonaro livra agentes públicos de responsabilidade por erros durante epidemia<br>Covid-19 atinge dezenas de povos indígenas<br>Nelson Teich pede demissão do Ministério da Saúde<br>Governo anuncia que secretário executivo do Ministério da Saúde, Eduardo Pazuello, assumirá interinamente o comando da pasta',\n",
       " 21: 'Sem base científica, governo amplia uso da cloroquina',\n",
       " 23: 'Brasil ultrapassa Itália e é terceiro país com mais mortes por covid-19',\n",
       " 24: 'Instituto Butantan anuncia que produzirá uma vacina contra o novo coronavírus em parceria com o laboratório chinês Sinovac Biotech<br>>> Corpus Christi',\n",
       " 25: 'Brasil amplia orientações de uso da cloroquina contra a covid-19<br>Casos de covid-19 passam de 1 milhão no Brasil',\n",
       " 26: 'Vacina de Oxford contra covid-19 começa a ser testada no Brasil<br>Juiz manda Bolsonaro usar máscara em público<br>Ministério da Saúde anuncia acordo entre a Fiocruz e a biofarmacêutica AstraZeneca para a compra e transferência de tecnologia de vacina desenvolvida em Oxford',\n",
       " 27: 'UE estende proibição à entrada de viajantes do Brasil',\n",
       " 28: 'Bolsonaro diz estar com covid-19',\n",
       " 29: 'Casos de covid-19 passam de 2 milhões no Brasil',\n",
       " 32: 'Assinada a Medida Provisória que destina R$ 1,9 bilhão para a produção e aquisição da vacina do laboratório AstraZeneca em parceria com Oxford<br>Brasil: 100 mil mortos por covid-19',\n",
       " 33: 'Mais uma empresa alemã pretende testar vacina contra covid-19 no Brasil',\n",
       " 34: 'Brasil autoriza testes de mais uma vacina contra covid-19',\n",
       " 35: 'O ministro interino da Saúde, Eduardo Pazuello, afirma que muitas mortes poderiam ter sido evitadas com o protocolo atual de diagnóstico e tratamento precoce da doença<br>Saldo do coronavírus após seis meses no Brasil',\n",
       " 36: 'Auxílio emergencial é prorrogado por quatro meses, com o valor de R$ 300',\n",
       " 37: 'Índia passa Brasil e é segundo país com mais casos de covid-19<br>>> Independência do Brasil',\n",
       " 38: 'Pazuello é efetivado como ministro da Saúde<br>Brasil adere à iniciativa global por vacinas contra covid-19',\n",
       " 41: 'Brasil ultrapassa marca de 5 milhões de casos de covid-19',\n",
       " 43: 'Testes no Brasil mostram segurança de vacina chinesa, diz Butantan<br>Pandemia deve elevar tanto a fome quanto a obesidade entre brasileiros<br>Brasil incluirá vacina chinesa em calendário nacional de vacinação<br>Anvisa autoriza importar 6 milhões de doses de vacina chinesa',\n",
       " 44: 'Alunos das redes públicas e particulares começam a voltar para as salas de aula em vários estados brasileiros',\n",
       " 47: 'São Paulo recebe as primeiras 120 mil doses CoronaVac. Vacina aguarda dados de eficácia e liberação pela Anvisa<br>>> Proclamação da República',\n",
       " 48: 'Resultados preliminares dos estudos clínicos da Fase 3 da vacina da Universidade de Oxford indicam eficácia de 90%',\n",
       " 50: 'Ministério da Saúde divulga a confirmação do primeiro caso, no país, de reinfecção pelo vírus',\n",
       " 18: '>> Dia do Trabalho',\n",
       " 42: '>> Nossa Sr.a Aparecida - Padroeira do Brasil',\n",
       " 45: '>> Finados',\n",
       " 52: '>> Natal'}"
      ]
     },
     "execution_count": 205,
     "metadata": {},
     "output_type": "execute_result"
    }
   ],
   "source": [
    "acont"
   ]
  },
  {
   "cell_type": "code",
   "execution_count": 206,
   "metadata": {},
   "outputs": [],
   "source": [
    "from datetime import date\n",
    "from datetime import datetime\n",
    "from datetime import timedelta\n",
    "from datetime import timezone\n",
    "\n",
    "dia = timedelta(days=7)\n",
    "d1 = datetime.fromisoformat('2020-05-03')\n",
    "d2 = date.fromisoformat('2020-02-01')\n",
    "\n",
    "diferenca = timedelta(hours=-3)\n",
    "fuso_horario = timezone(diferenca)\n",
    "\n",
    "d1.astimezone(fuso_horario)\n",
    "datas = []\n",
    "for i in range(len(ocor_rel[\"label\"])):\n",
    "    datas.append(d1.strftime(\"%b/%y\"))\n",
    "    d1 = d1+dia"
   ]
  },
  {
   "cell_type": "code",
   "execution_count": 299,
   "metadata": {},
   "outputs": [
    {
     "name": "stderr",
     "output_type": "stream",
     "text": [
      "<ipython-input-299-caa6afb34f5d>:9: UserWarning:\n",
      "\n",
      "Boolean Series key will be reindexed to match DataFrame index.\n",
      "\n",
      "<ipython-input-299-caa6afb34f5d>:9: UserWarning:\n",
      "\n",
      "Boolean Series key will be reindexed to match DataFrame index.\n",
      "\n",
      "<ipython-input-299-caa6afb34f5d>:9: UserWarning:\n",
      "\n",
      "Boolean Series key will be reindexed to match DataFrame index.\n",
      "\n",
      "<ipython-input-299-caa6afb34f5d>:10: UserWarning:\n",
      "\n",
      "Boolean Series key will be reindexed to match DataFrame index.\n",
      "\n",
      "<ipython-input-299-caa6afb34f5d>:10: UserWarning:\n",
      "\n",
      "Boolean Series key will be reindexed to match DataFrame index.\n",
      "\n",
      "<ipython-input-299-caa6afb34f5d>:10: UserWarning:\n",
      "\n",
      "Boolean Series key will be reindexed to match DataFrame index.\n",
      "\n",
      "<ipython-input-299-caa6afb34f5d>:11: UserWarning:\n",
      "\n",
      "Boolean Series key will be reindexed to match DataFrame index.\n",
      "\n",
      "<ipython-input-299-caa6afb34f5d>:11: UserWarning:\n",
      "\n",
      "Boolean Series key will be reindexed to match DataFrame index.\n",
      "\n",
      "<ipython-input-299-caa6afb34f5d>:11: UserWarning:\n",
      "\n",
      "Boolean Series key will be reindexed to match DataFrame index.\n",
      "\n",
      "<ipython-input-299-caa6afb34f5d>:12: UserWarning:\n",
      "\n",
      "Boolean Series key will be reindexed to match DataFrame index.\n",
      "\n",
      "<ipython-input-299-caa6afb34f5d>:12: UserWarning:\n",
      "\n",
      "Boolean Series key will be reindexed to match DataFrame index.\n",
      "\n",
      "<ipython-input-299-caa6afb34f5d>:12: UserWarning:\n",
      "\n",
      "Boolean Series key will be reindexed to match DataFrame index.\n",
      "\n",
      "<ipython-input-299-caa6afb34f5d>:13: UserWarning:\n",
      "\n",
      "Boolean Series key will be reindexed to match DataFrame index.\n",
      "\n",
      "<ipython-input-299-caa6afb34f5d>:13: UserWarning:\n",
      "\n",
      "Boolean Series key will be reindexed to match DataFrame index.\n",
      "\n",
      "<ipython-input-299-caa6afb34f5d>:13: UserWarning:\n",
      "\n",
      "Boolean Series key will be reindexed to match DataFrame index.\n",
      "\n"
     ]
    },
    {
     "data": {
      "application/vnd.plotly.v1+json": {
       "config": {
        "plotlyServerURL": "https://plot.ly"
       },
       "data": [
        {
         "hoverinfo": "none",
         "legendgroup": "A",
         "marker": {
          "color": "dodgerblue"
         },
         "name": "corona, covid, coronavírus, covid19, sars, covid-19",
         "type": "scatter",
         "x": [
          19,
          20,
          21,
          22,
          23,
          24,
          25,
          26,
          27,
          28,
          29,
          30,
          31,
          32,
          33,
          34,
          35,
          36,
          37,
          38,
          39,
          40,
          41,
          42,
          43,
          44,
          45,
          46,
          47,
          48,
          49,
          50,
          51,
          52,
          53,
          54
         ],
         "y": [
          0.32042137524686753,
          0.3164530099951878,
          0.3076525070525417,
          0.3047640269683465,
          0.2898047626306609,
          0.3734568942571912,
          0.3580508602265892,
          0.3459071541310043,
          0.3539057959391138,
          0.3619401861754803,
          0.4191023266410971,
          0.3975852836379799,
          0.3516339578419593,
          0.36215305983078017,
          0.38667293143771214,
          0.4082820432490704,
          0.3938566328941152,
          0.4303798516634038,
          0.4295531812629806,
          0.4360853401212446,
          0.4702526131577499,
          0.4971233901121728,
          0.5066701316701316,
          0.5176070029684847,
          0.510451559989213,
          0.4688578616036448,
          0.5287601064846944,
          0.5557041298563352,
          0.5544180113882454,
          0.5860705820282344,
          0.6031988067239922,
          0.5554795070089288,
          0.5235181141692895,
          0.5544475723895876,
          0.593050111593511,
          0.6416591212865951
         ]
        },
        {
         "hoverinfo": "none",
         "legendgroup": "B",
         "marker": {
          "color": "red"
         },
         "name": "quarentena, confinamento",
         "type": "scatter",
         "x": [
          19,
          20,
          21,
          22,
          23,
          24,
          25,
          26,
          27,
          28,
          29,
          30,
          31,
          32,
          33,
          34,
          35,
          36,
          37,
          38,
          39,
          40,
          41,
          42,
          43,
          44,
          45,
          46,
          47,
          48,
          49,
          50,
          51,
          52,
          53,
          54
         ],
         "y": [
          0.4966016274819921,
          0.4765180142157288,
          0.4168933815486868,
          0.3967150420904277,
          0.4628157508013099,
          0.3896930095857185,
          0.3997971328592936,
          0.449065253611712,
          0.4311502650109816,
          0.4036878589819766,
          0.2816151792997529,
          0.3715403264697836,
          0.3442629759838607,
          0.3563069247855998,
          0.3461627397462768,
          0.31586162476868385,
          0.3834138274975064,
          0.3232515461390416,
          0.3286518711885034,
          0.32332786281274073,
          0.2972062415892099,
          0.2295754050685501,
          0.23965617715617715,
          0.2624263806299257,
          0.21770090196104647,
          0.16944615279792438,
          0.18670918032998224,
          0.1989227165013628,
          0.1551479557980315,
          0.14734590004306147,
          0.12457956588677907,
          0.1291047794328343,
          0.10429759670505416,
          0.1016942697669884,
          0.1026160628032734,
          0.09564954943301858
         ]
        },
        {
         "hoverinfo": "none",
         "legendgroup": "C",
         "marker": {
          "color": "seagreen"
         },
         "name": "aglomeracao, aglomeracoes",
         "type": "scatter",
         "x": [
          19,
          20,
          21,
          22,
          23,
          24,
          25,
          26,
          27,
          28,
          29,
          30,
          31,
          32,
          33,
          34,
          35,
          36,
          37,
          38,
          39,
          40,
          41,
          42,
          43,
          44,
          45,
          46,
          47,
          48,
          49,
          50,
          51,
          52,
          53,
          54
         ],
         "y": [
          0.017423727146825753,
          0.01891472929371021,
          0.016652177965634198,
          0.015557841008646631,
          0.017505306429646983,
          0.026159851946821817,
          0.021674720680997142,
          0.020645397452097668,
          0.02308959822349248,
          0.03576074470192117,
          0.015571932980836997,
          0.021081117940064228,
          0.02073338970228294,
          0.022360163612706586,
          0.02328383108347104,
          0.023777648485037176,
          0.027641870964355084,
          0.02258837091436692,
          0.04063391553966162,
          0.03815855578256355,
          0.03373047130793599,
          0.028483589530535938,
          0.025639056889056887,
          0.032048728672907124,
          0.026918422337075348,
          0.021102100169082167,
          0.032976737090664544,
          0.03529478369409031,
          0.04394766016458518,
          0.030519336930841717,
          0.03449128856825339,
          0.03296922817456744,
          0.02593747489721551,
          0.029652005947158038,
          0.03906883265414895,
          0.06625849753517585
         ]
        },
        {
         "hoverinfo": "none",
         "legendgroup": "D",
         "marker": {
          "color": "darkviolet"
         },
         "name": "distanciamento social",
         "type": "scatter",
         "x": [
          19,
          20,
          21,
          22,
          23,
          24,
          25,
          26,
          27,
          28,
          29,
          30,
          31,
          32,
          33,
          34,
          35,
          36,
          37,
          38,
          39,
          40,
          41,
          42,
          43,
          44,
          45,
          46,
          47,
          48,
          49,
          50,
          51,
          52,
          53,
          54
         ],
         "y": [
          0.005238099140368273,
          0.005089893579255449,
          0.005165332881869214,
          0.004796023311621529,
          0.004699441510542677,
          0.005705070771368554,
          0.005372423328154174,
          0.004809312547233714,
          0.005469648899508308,
          0.005578134284016637,
          0.004505956196486606,
          0.00583386665987514,
          0.005609452182813404,
          0.005844337893306688,
          0.006480870451221896,
          0.0070946688797778575,
          0.0064767179379494975,
          0.006131555149214426,
          0.008073868622150886,
          0.008272766855343805,
          0.0090575549536588,
          0.007554632322393021,
          0.007315882315882315,
          0.0092065704991417,
          0.00937397618394924,
          0.00766159181090051,
          0.010586159997765457,
          0.009740303504945638,
          0.00899417077599806,
          0.008587079229238355,
          0.007978556475700662,
          0.008488327730665886,
          0.007178483536224687,
          0.008361667641610608,
          0.008725761260210898,
          0.00812026617226462
         ]
        },
        {
         "hoverinfo": "none",
         "legendgroup": "E",
         "marker": {
          "color": "#ff8000"
         },
         "name": "hidroxicloroquina, cloroquina",
         "type": "scatter",
         "x": [
          19,
          20,
          21,
          22,
          23,
          24,
          25,
          26,
          27,
          28,
          29,
          30,
          31,
          32,
          33,
          34,
          35,
          36,
          37,
          38,
          39,
          40,
          41,
          42,
          43,
          44,
          45,
          46,
          47,
          48,
          49,
          50,
          51,
          52,
          53,
          54
         ],
         "y": [
          0.00852379352449008,
          0.014174312288479898,
          0.07640789275951737,
          0.10242562754732792,
          0.04189702281500621,
          0.0348302349382008,
          0.030603044574117624,
          0.027900226181543614,
          0.01894760816565738,
          0.02242265795206972,
          0.1228655142657133,
          0.052398819260221996,
          0.08288089834304957,
          0.06922269587158271,
          0.04695621875313458,
          0.0716929327679911,
          0.05464722557614573,
          0.04786654343930225,
          0.026814415669743057,
          0.02439461432829822,
          0.02315826236160751,
          0.018165351059410053,
          0.039229351729351734,
          0.0189916635843742,
          0.025351635542658724,
          0.14726465214436713,
          0.030883999149153775,
          0.021761342344843948,
          0.0271354946893266,
          0.017903487979640843,
          0.021857035787204042,
          0.01923627974148588,
          0.06160205057800304,
          0.034962403724285857,
          0.037440270637396966,
          0.025672976041621755
         ]
        },
        {
         "customdata": [
          "O ministro da Saúde, Nelson Teich, contrata 267 profissionais para combater a covid-19 no Amazonas",
          "Bolsonaro livra agentes públicos de responsabilidade por erros durante epidemia<br>Covid-19 atinge dezenas de povos indígenas<br>Nelson Teich pede demissão do Ministério da Saúde<br>Governo anuncia que secretário executivo do Ministério da Saúde, Eduardo Pazuello, assumirá interinamente o comando da pasta",
          "Sem base científica, governo amplia uso da cloroquina",
          "Brasil ultrapassa Itália e é terceiro país com mais mortes por covid-19",
          "Brasil amplia orientações de uso da cloroquina contra a covid-19<br>Casos de covid-19 passam de 1 milhão no Brasil",
          "Vacina de Oxford contra covid-19 começa a ser testada no Brasil<br>Juiz manda Bolsonaro usar máscara em público<br>Ministério da Saúde anuncia acordo entre a Fiocruz e a biofarmacêutica AstraZeneca para a compra e transferência de tecnologia de vacina desenvolvida em Oxford",
          "UE estende proibição à entrada de viajantes do Brasil",
          "Bolsonaro diz estar com covid-19",
          "Casos de covid-19 passam de 2 milhões no Brasil",
          "Assinada a Medida Provisória que destina R$ 1,9 bilhão para a produção e aquisição da vacina do laboratório AstraZeneca em parceria com Oxford<br>Brasil: 100 mil mortos por covid-19",
          "Mais uma empresa alemã pretende testar vacina contra covid-19 no Brasil",
          "Brasil autoriza testes de mais uma vacina contra covid-19",
          "O ministro interino da Saúde, Eduardo Pazuello, afirma que muitas mortes poderiam ter sido evitadas com o protocolo atual de diagnóstico e tratamento precoce da doença<br>Saldo do coronavírus após seis meses no Brasil",
          "Auxílio emergencial é prorrogado por quatro meses, com o valor de R$ 300",
          "Pazuello é efetivado como ministro da Saúde<br>Brasil adere à iniciativa global por vacinas contra covid-19",
          "Brasil ultrapassa marca de 5 milhões de casos de covid-19",
          "Testes no Brasil mostram segurança de vacina chinesa, diz Butantan<br>Pandemia deve elevar tanto a fome quanto a obesidade entre brasileiros<br>Brasil incluirá vacina chinesa em calendário nacional de vacinação<br>Anvisa autoriza importar 6 milhões de doses de vacina chinesa",
          "Alunos das redes públicas e particulares começam a voltar para as salas de aula em vários estados brasileiros",
          "Resultados preliminares dos estudos clínicos da Fase 3 da vacina da Universidade de Oxford indicam eficácia de 90%",
          "Ministério da Saúde divulga a confirmação do primeiro caso, no país, de reinfecção pelo vírus"
         ],
         "hovertemplate": "%{customdata}",
         "legendgroup": "A",
         "marker": {
          "color": "#6d8484",
          "size": 5,
          "symbol": "0"
         },
         "mode": "markers",
         "name": "corona, covid, coronavírus, covid19, sars, covid-19",
         "showlegend": false,
         "type": "scatter",
         "x": [
          19,
          20,
          21,
          23,
          25,
          26,
          27,
          28,
          29,
          32,
          33,
          34,
          35,
          36,
          38,
          41,
          43,
          44,
          48,
          50
         ],
         "y": [
          0.32042137524686753,
          0.3164530099951878,
          0.3076525070525417,
          0.2898047626306609,
          0.3580508602265892,
          0.3459071541310043,
          0.3539057959391138,
          0.3619401861754803,
          0.4191023266410971,
          0.36215305983078017,
          0.38667293143771214,
          0.4082820432490704,
          0.3938566328941152,
          0.4303798516634038,
          0.4360853401212446,
          0.5066701316701316,
          0.510451559989213,
          0.4688578616036448,
          0.5860705820282344,
          0.5554795070089288
         ]
        },
        {
         "customdata": [
          "O ministro da Saúde, Nelson Teich, contrata 267 profissionais para combater a covid-19 no Amazonas",
          "Bolsonaro livra agentes públicos de responsabilidade por erros durante epidemia<br>Covid-19 atinge dezenas de povos indígenas<br>Nelson Teich pede demissão do Ministério da Saúde<br>Governo anuncia que secretário executivo do Ministério da Saúde, Eduardo Pazuello, assumirá interinamente o comando da pasta",
          "Sem base científica, governo amplia uso da cloroquina",
          "Brasil ultrapassa Itália e é terceiro país com mais mortes por covid-19",
          "Brasil amplia orientações de uso da cloroquina contra a covid-19<br>Casos de covid-19 passam de 1 milhão no Brasil",
          "Vacina de Oxford contra covid-19 começa a ser testada no Brasil<br>Juiz manda Bolsonaro usar máscara em público<br>Ministério da Saúde anuncia acordo entre a Fiocruz e a biofarmacêutica AstraZeneca para a compra e transferência de tecnologia de vacina desenvolvida em Oxford",
          "UE estende proibição à entrada de viajantes do Brasil",
          "Bolsonaro diz estar com covid-19",
          "Casos de covid-19 passam de 2 milhões no Brasil",
          "Assinada a Medida Provisória que destina R$ 1,9 bilhão para a produção e aquisição da vacina do laboratório AstraZeneca em parceria com Oxford<br>Brasil: 100 mil mortos por covid-19",
          "Mais uma empresa alemã pretende testar vacina contra covid-19 no Brasil",
          "Brasil autoriza testes de mais uma vacina contra covid-19",
          "O ministro interino da Saúde, Eduardo Pazuello, afirma que muitas mortes poderiam ter sido evitadas com o protocolo atual de diagnóstico e tratamento precoce da doença<br>Saldo do coronavírus após seis meses no Brasil",
          "Auxílio emergencial é prorrogado por quatro meses, com o valor de R$ 300",
          "Pazuello é efetivado como ministro da Saúde<br>Brasil adere à iniciativa global por vacinas contra covid-19",
          "Brasil ultrapassa marca de 5 milhões de casos de covid-19",
          "Testes no Brasil mostram segurança de vacina chinesa, diz Butantan<br>Pandemia deve elevar tanto a fome quanto a obesidade entre brasileiros<br>Brasil incluirá vacina chinesa em calendário nacional de vacinação<br>Anvisa autoriza importar 6 milhões de doses de vacina chinesa",
          "Alunos das redes públicas e particulares começam a voltar para as salas de aula em vários estados brasileiros",
          "Resultados preliminares dos estudos clínicos da Fase 3 da vacina da Universidade de Oxford indicam eficácia de 90%",
          "Ministério da Saúde divulga a confirmação do primeiro caso, no país, de reinfecção pelo vírus"
         ],
         "hovertemplate": "%{customdata}",
         "legendgroup": "B",
         "marker": {
          "color": "#6d8484",
          "size": 5,
          "symbol": "0"
         },
         "mode": "markers",
         "name": "quarentena, confinamento",
         "showlegend": false,
         "type": "scatter",
         "x": [
          19,
          20,
          21,
          23,
          25,
          26,
          27,
          28,
          29,
          32,
          33,
          34,
          35,
          36,
          38,
          41,
          43,
          44,
          48,
          50
         ],
         "y": [
          0.4966016274819921,
          0.4765180142157288,
          0.4168933815486868,
          0.4628157508013099,
          0.3997971328592936,
          0.449065253611712,
          0.4311502650109816,
          0.4036878589819766,
          0.2816151792997529,
          0.3563069247855998,
          0.3461627397462768,
          0.31586162476868385,
          0.3834138274975064,
          0.3232515461390416,
          0.32332786281274073,
          0.23965617715617715,
          0.21770090196104647,
          0.16944615279792438,
          0.14734590004306147,
          0.1291047794328343
         ]
        },
        {
         "customdata": [
          "O ministro da Saúde, Nelson Teich, contrata 267 profissionais para combater a covid-19 no Amazonas",
          "Bolsonaro livra agentes públicos de responsabilidade por erros durante epidemia<br>Covid-19 atinge dezenas de povos indígenas<br>Nelson Teich pede demissão do Ministério da Saúde<br>Governo anuncia que secretário executivo do Ministério da Saúde, Eduardo Pazuello, assumirá interinamente o comando da pasta",
          "Sem base científica, governo amplia uso da cloroquina",
          "Brasil ultrapassa Itália e é terceiro país com mais mortes por covid-19",
          "Brasil amplia orientações de uso da cloroquina contra a covid-19<br>Casos de covid-19 passam de 1 milhão no Brasil",
          "Vacina de Oxford contra covid-19 começa a ser testada no Brasil<br>Juiz manda Bolsonaro usar máscara em público<br>Ministério da Saúde anuncia acordo entre a Fiocruz e a biofarmacêutica AstraZeneca para a compra e transferência de tecnologia de vacina desenvolvida em Oxford",
          "UE estende proibição à entrada de viajantes do Brasil",
          "Bolsonaro diz estar com covid-19",
          "Casos de covid-19 passam de 2 milhões no Brasil",
          "Assinada a Medida Provisória que destina R$ 1,9 bilhão para a produção e aquisição da vacina do laboratório AstraZeneca em parceria com Oxford<br>Brasil: 100 mil mortos por covid-19",
          "Mais uma empresa alemã pretende testar vacina contra covid-19 no Brasil",
          "Brasil autoriza testes de mais uma vacina contra covid-19",
          "O ministro interino da Saúde, Eduardo Pazuello, afirma que muitas mortes poderiam ter sido evitadas com o protocolo atual de diagnóstico e tratamento precoce da doença<br>Saldo do coronavírus após seis meses no Brasil",
          "Auxílio emergencial é prorrogado por quatro meses, com o valor de R$ 300",
          "Pazuello é efetivado como ministro da Saúde<br>Brasil adere à iniciativa global por vacinas contra covid-19",
          "Brasil ultrapassa marca de 5 milhões de casos de covid-19",
          "Testes no Brasil mostram segurança de vacina chinesa, diz Butantan<br>Pandemia deve elevar tanto a fome quanto a obesidade entre brasileiros<br>Brasil incluirá vacina chinesa em calendário nacional de vacinação<br>Anvisa autoriza importar 6 milhões de doses de vacina chinesa",
          "Alunos das redes públicas e particulares começam a voltar para as salas de aula em vários estados brasileiros",
          "Resultados preliminares dos estudos clínicos da Fase 3 da vacina da Universidade de Oxford indicam eficácia de 90%",
          "Ministério da Saúde divulga a confirmação do primeiro caso, no país, de reinfecção pelo vírus"
         ],
         "hovertemplate": "%{customdata}",
         "legendgroup": "C",
         "marker": {
          "color": "#6d8484",
          "size": 5,
          "symbol": "0"
         },
         "mode": "markers",
         "name": "aglomeracao, aglomeracoes",
         "showlegend": false,
         "type": "scatter",
         "x": [
          19,
          20,
          21,
          23,
          25,
          26,
          27,
          28,
          29,
          32,
          33,
          34,
          35,
          36,
          38,
          41,
          43,
          44,
          48,
          50
         ],
         "y": [
          0.017423727146825753,
          0.01891472929371021,
          0.016652177965634198,
          0.017505306429646983,
          0.021674720680997142,
          0.020645397452097668,
          0.02308959822349248,
          0.03576074470192117,
          0.015571932980836997,
          0.022360163612706586,
          0.02328383108347104,
          0.023777648485037176,
          0.027641870964355084,
          0.02258837091436692,
          0.03815855578256355,
          0.025639056889056887,
          0.026918422337075348,
          0.021102100169082167,
          0.030519336930841717,
          0.03296922817456744
         ]
        },
        {
         "customdata": [
          "O ministro da Saúde, Nelson Teich, contrata 267 profissionais para combater a covid-19 no Amazonas",
          "Bolsonaro livra agentes públicos de responsabilidade por erros durante epidemia<br>Covid-19 atinge dezenas de povos indígenas<br>Nelson Teich pede demissão do Ministério da Saúde<br>Governo anuncia que secretário executivo do Ministério da Saúde, Eduardo Pazuello, assumirá interinamente o comando da pasta",
          "Sem base científica, governo amplia uso da cloroquina",
          "Brasil ultrapassa Itália e é terceiro país com mais mortes por covid-19",
          "Brasil amplia orientações de uso da cloroquina contra a covid-19<br>Casos de covid-19 passam de 1 milhão no Brasil",
          "Vacina de Oxford contra covid-19 começa a ser testada no Brasil<br>Juiz manda Bolsonaro usar máscara em público<br>Ministério da Saúde anuncia acordo entre a Fiocruz e a biofarmacêutica AstraZeneca para a compra e transferência de tecnologia de vacina desenvolvida em Oxford",
          "UE estende proibição à entrada de viajantes do Brasil",
          "Bolsonaro diz estar com covid-19",
          "Casos de covid-19 passam de 2 milhões no Brasil",
          "Assinada a Medida Provisória que destina R$ 1,9 bilhão para a produção e aquisição da vacina do laboratório AstraZeneca em parceria com Oxford<br>Brasil: 100 mil mortos por covid-19",
          "Mais uma empresa alemã pretende testar vacina contra covid-19 no Brasil",
          "Brasil autoriza testes de mais uma vacina contra covid-19",
          "O ministro interino da Saúde, Eduardo Pazuello, afirma que muitas mortes poderiam ter sido evitadas com o protocolo atual de diagnóstico e tratamento precoce da doença<br>Saldo do coronavírus após seis meses no Brasil",
          "Auxílio emergencial é prorrogado por quatro meses, com o valor de R$ 300",
          "Pazuello é efetivado como ministro da Saúde<br>Brasil adere à iniciativa global por vacinas contra covid-19",
          "Brasil ultrapassa marca de 5 milhões de casos de covid-19",
          "Testes no Brasil mostram segurança de vacina chinesa, diz Butantan<br>Pandemia deve elevar tanto a fome quanto a obesidade entre brasileiros<br>Brasil incluirá vacina chinesa em calendário nacional de vacinação<br>Anvisa autoriza importar 6 milhões de doses de vacina chinesa",
          "Alunos das redes públicas e particulares começam a voltar para as salas de aula em vários estados brasileiros",
          "Resultados preliminares dos estudos clínicos da Fase 3 da vacina da Universidade de Oxford indicam eficácia de 90%",
          "Ministério da Saúde divulga a confirmação do primeiro caso, no país, de reinfecção pelo vírus"
         ],
         "hovertemplate": "%{customdata}",
         "legendgroup": "D",
         "marker": {
          "color": "#6d8484",
          "size": 5,
          "symbol": "0"
         },
         "mode": "markers",
         "name": "distanciamento social",
         "showlegend": false,
         "type": "scatter",
         "x": [
          19,
          20,
          21,
          23,
          25,
          26,
          27,
          28,
          29,
          32,
          33,
          34,
          35,
          36,
          38,
          41,
          43,
          44,
          48,
          50
         ],
         "y": [
          0.005238099140368273,
          0.005089893579255449,
          0.005165332881869214,
          0.004699441510542677,
          0.005372423328154174,
          0.004809312547233714,
          0.005469648899508308,
          0.005578134284016637,
          0.004505956196486606,
          0.005844337893306688,
          0.006480870451221896,
          0.0070946688797778575,
          0.0064767179379494975,
          0.006131555149214426,
          0.008272766855343805,
          0.007315882315882315,
          0.00937397618394924,
          0.00766159181090051,
          0.008587079229238355,
          0.008488327730665886
         ]
        },
        {
         "customdata": [
          "O ministro da Saúde, Nelson Teich, contrata 267 profissionais para combater a covid-19 no Amazonas",
          "Bolsonaro livra agentes públicos de responsabilidade por erros durante epidemia<br>Covid-19 atinge dezenas de povos indígenas<br>Nelson Teich pede demissão do Ministério da Saúde<br>Governo anuncia que secretário executivo do Ministério da Saúde, Eduardo Pazuello, assumirá interinamente o comando da pasta",
          "Sem base científica, governo amplia uso da cloroquina",
          "Brasil ultrapassa Itália e é terceiro país com mais mortes por covid-19",
          "Brasil amplia orientações de uso da cloroquina contra a covid-19<br>Casos de covid-19 passam de 1 milhão no Brasil",
          "Vacina de Oxford contra covid-19 começa a ser testada no Brasil<br>Juiz manda Bolsonaro usar máscara em público<br>Ministério da Saúde anuncia acordo entre a Fiocruz e a biofarmacêutica AstraZeneca para a compra e transferência de tecnologia de vacina desenvolvida em Oxford",
          "UE estende proibição à entrada de viajantes do Brasil",
          "Bolsonaro diz estar com covid-19",
          "Casos de covid-19 passam de 2 milhões no Brasil",
          "Assinada a Medida Provisória que destina R$ 1,9 bilhão para a produção e aquisição da vacina do laboratório AstraZeneca em parceria com Oxford<br>Brasil: 100 mil mortos por covid-19",
          "Mais uma empresa alemã pretende testar vacina contra covid-19 no Brasil",
          "Brasil autoriza testes de mais uma vacina contra covid-19",
          "O ministro interino da Saúde, Eduardo Pazuello, afirma que muitas mortes poderiam ter sido evitadas com o protocolo atual de diagnóstico e tratamento precoce da doença<br>Saldo do coronavírus após seis meses no Brasil",
          "Auxílio emergencial é prorrogado por quatro meses, com o valor de R$ 300",
          "Pazuello é efetivado como ministro da Saúde<br>Brasil adere à iniciativa global por vacinas contra covid-19",
          "Brasil ultrapassa marca de 5 milhões de casos de covid-19",
          "Testes no Brasil mostram segurança de vacina chinesa, diz Butantan<br>Pandemia deve elevar tanto a fome quanto a obesidade entre brasileiros<br>Brasil incluirá vacina chinesa em calendário nacional de vacinação<br>Anvisa autoriza importar 6 milhões de doses de vacina chinesa",
          "Alunos das redes públicas e particulares começam a voltar para as salas de aula em vários estados brasileiros",
          "Resultados preliminares dos estudos clínicos da Fase 3 da vacina da Universidade de Oxford indicam eficácia de 90%",
          "Ministério da Saúde divulga a confirmação do primeiro caso, no país, de reinfecção pelo vírus"
         ],
         "hovertemplate": "%{customdata}",
         "legendgroup": "E",
         "marker": {
          "color": "#6d8484",
          "size": 5,
          "symbol": "0"
         },
         "mode": "markers",
         "name": "hidroxicloroquina, cloroquina",
         "showlegend": false,
         "type": "scatter",
         "x": [
          19,
          20,
          21,
          23,
          25,
          26,
          27,
          28,
          29,
          32,
          33,
          34,
          35,
          36,
          38,
          41,
          43,
          44,
          48,
          50
         ],
         "y": [
          0.00852379352449008,
          0.014174312288479898,
          0.07640789275951737,
          0.04189702281500621,
          0.030603044574117624,
          0.027900226181543614,
          0.01894760816565738,
          0.02242265795206972,
          0.1228655142657133,
          0.06922269587158271,
          0.04695621875313458,
          0.0716929327679911,
          0.05464722557614573,
          0.04786654343930225,
          0.02439461432829822,
          0.039229351729351734,
          0.025351635542658724,
          0.14726465214436713,
          0.017903487979640843,
          0.01923627974148588
         ]
        },
        {
         "customdata": [
          "Instituto Butantan anuncia que produzirá uma vacina contra o novo coronavírus em parceria com o laboratório chinês Sinovac Biotech<br>>> Corpus Christi",
          "Índia passa Brasil e é segundo país com mais casos de covid-19<br>>> Independência do Brasil",
          ">> Nossa Sr.a Aparecida - Padroeira do Brasil",
          ">> Finados",
          "São Paulo recebe as primeiras 120 mil doses CoronaVac. Vacina aguarda dados de eficácia e liberação pela Anvisa<br>>> Proclamação da República",
          ">> Natal"
         ],
         "hovertemplate": "%{customdata}",
         "legendgroup": "F",
         "marker": {
          "color": "#6d8484",
          "line": {
           "color": "gold",
           "width": 1
          },
          "size": 7,
          "symbol": "18"
         },
         "mode": "markers",
         "name": "Feriado Nacional",
         "showlegend": true,
         "type": "scatter",
         "x": [
          24,
          37,
          42,
          45,
          47,
          52
         ],
         "y": [
          0.3734568942571912,
          0.4295531812629806,
          0.5176070029684847,
          0.5287601064846944,
          0.5544180113882454,
          0.5544475723895876
         ]
        },
        {
         "customdata": [
          "Instituto Butantan anuncia que produzirá uma vacina contra o novo coronavírus em parceria com o laboratório chinês Sinovac Biotech<br>>> Corpus Christi",
          "Índia passa Brasil e é segundo país com mais casos de covid-19<br>>> Independência do Brasil",
          ">> Nossa Sr.a Aparecida - Padroeira do Brasil",
          ">> Finados",
          "São Paulo recebe as primeiras 120 mil doses CoronaVac. Vacina aguarda dados de eficácia e liberação pela Anvisa<br>>> Proclamação da República",
          ">> Natal"
         ],
         "hovertemplate": "%{customdata}",
         "legendgroup": "F",
         "marker": {
          "color": "#6d8484",
          "line": {
           "color": "gold",
           "width": 1
          },
          "size": 7,
          "symbol": "18"
         },
         "mode": "markers",
         "name": "Feriado Nacional",
         "showlegend": false,
         "type": "scatter",
         "x": [
          24,
          37,
          42,
          45,
          47,
          52
         ],
         "y": [
          0.3896930095857185,
          0.3286518711885034,
          0.2624263806299257,
          0.18670918032998224,
          0.1551479557980315,
          0.1016942697669884
         ]
        },
        {
         "customdata": [
          "Instituto Butantan anuncia que produzirá uma vacina contra o novo coronavírus em parceria com o laboratório chinês Sinovac Biotech<br>>> Corpus Christi",
          "Índia passa Brasil e é segundo país com mais casos de covid-19<br>>> Independência do Brasil",
          ">> Nossa Sr.a Aparecida - Padroeira do Brasil",
          ">> Finados",
          "São Paulo recebe as primeiras 120 mil doses CoronaVac. Vacina aguarda dados de eficácia e liberação pela Anvisa<br>>> Proclamação da República",
          ">> Natal"
         ],
         "hovertemplate": "%{customdata}",
         "legendgroup": "F",
         "marker": {
          "color": "#6d8484",
          "line": {
           "color": "gold",
           "width": 1
          },
          "size": 7,
          "symbol": "18"
         },
         "mode": "markers",
         "name": "Feriado Nacional",
         "showlegend": false,
         "type": "scatter",
         "x": [
          24,
          37,
          42,
          45,
          47,
          52
         ],
         "y": [
          0.026159851946821817,
          0.04063391553966162,
          0.032048728672907124,
          0.032976737090664544,
          0.04394766016458518,
          0.029652005947158038
         ]
        },
        {
         "customdata": [
          "Instituto Butantan anuncia que produzirá uma vacina contra o novo coronavírus em parceria com o laboratório chinês Sinovac Biotech<br>>> Corpus Christi",
          "Índia passa Brasil e é segundo país com mais casos de covid-19<br>>> Independência do Brasil",
          ">> Nossa Sr.a Aparecida - Padroeira do Brasil",
          ">> Finados",
          "São Paulo recebe as primeiras 120 mil doses CoronaVac. Vacina aguarda dados de eficácia e liberação pela Anvisa<br>>> Proclamação da República",
          ">> Natal"
         ],
         "hovertemplate": "%{customdata}",
         "legendgroup": "F",
         "marker": {
          "color": "#6d8484",
          "line": {
           "color": "gold",
           "width": 1
          },
          "size": 7,
          "symbol": "18"
         },
         "mode": "markers",
         "name": "Feriado Nacional",
         "showlegend": false,
         "type": "scatter",
         "x": [
          24,
          37,
          42,
          45,
          47,
          52
         ],
         "y": [
          0.005705070771368554,
          0.008073868622150886,
          0.0092065704991417,
          0.010586159997765457,
          0.00899417077599806,
          0.008361667641610608
         ]
        },
        {
         "customdata": [
          "Instituto Butantan anuncia que produzirá uma vacina contra o novo coronavírus em parceria com o laboratório chinês Sinovac Biotech<br>>> Corpus Christi",
          "Índia passa Brasil e é segundo país com mais casos de covid-19<br>>> Independência do Brasil",
          ">> Nossa Sr.a Aparecida - Padroeira do Brasil",
          ">> Finados",
          "São Paulo recebe as primeiras 120 mil doses CoronaVac. Vacina aguarda dados de eficácia e liberação pela Anvisa<br>>> Proclamação da República",
          ">> Natal"
         ],
         "hovertemplate": "%{customdata}",
         "legendgroup": "F",
         "marker": {
          "color": "#6d8484",
          "line": {
           "color": "gold",
           "width": 1
          },
          "size": 7,
          "symbol": "18"
         },
         "mode": "markers",
         "name": "Feriado Nacional",
         "showlegend": false,
         "type": "scatter",
         "x": [
          24,
          37,
          42,
          45,
          47,
          52
         ],
         "y": [
          0.0348302349382008,
          0.026814415669743057,
          0.0189916635843742,
          0.030883999149153775,
          0.0271354946893266,
          0.034962403724285857
         ]
        }
       ],
       "layout": {
        "annotations": [
         {
          "font": {
           "color": "rgb(150,150,150)",
           "family": "Arial",
           "size": 12
          },
          "showarrow": false,
          "text": "Covid Data Analytics",
          "xanchor": "auto",
          "xref": "paper",
          "y": -0.185,
          "yanchor": "bottom",
          "yref": "paper"
         },
         {
          "font": {
           "color": "rgb(150,150,150)",
           "family": "Arial",
           "size": 9
          },
          "showarrow": false,
          "text": "Fonte: https://www.dw.com/pt-br/cronologia-da-covid-19-no-brasil/g-52930927",
          "x": -0.1,
          "xanchor": "left",
          "xref": "paper",
          "y": -0.23,
          "yanchor": "bottom",
          "yref": "paper"
         },
         {
          "font": {
           "color": "rgb(150,150,150)",
           "family": "Arial",
           "size": 9
          },
          "showarrow": false,
          "text": "         https://agenciabrasil.ebc.com.br/saude/noticia/2021-02/primeiro-caso-de-covid-19-no-brasil-completa-um-ano",
          "x": -0.1,
          "xanchor": "left",
          "xref": "paper",
          "y": -0.26,
          "yanchor": "bottom",
          "yref": "paper"
         }
        ],
        "legend": {
         "title": {
          "text": "Grupo de palavras"
         }
        },
        "margin": {
         "b": 150,
         "t": 60
        },
        "template": {
         "data": {
          "bar": [
           {
            "error_x": {
             "color": "#2a3f5f"
            },
            "error_y": {
             "color": "#2a3f5f"
            },
            "marker": {
             "line": {
              "color": "#E5ECF6",
              "width": 0.5
             }
            },
            "type": "bar"
           }
          ],
          "barpolar": [
           {
            "marker": {
             "line": {
              "color": "#E5ECF6",
              "width": 0.5
             }
            },
            "type": "barpolar"
           }
          ],
          "carpet": [
           {
            "aaxis": {
             "endlinecolor": "#2a3f5f",
             "gridcolor": "white",
             "linecolor": "white",
             "minorgridcolor": "white",
             "startlinecolor": "#2a3f5f"
            },
            "baxis": {
             "endlinecolor": "#2a3f5f",
             "gridcolor": "white",
             "linecolor": "white",
             "minorgridcolor": "white",
             "startlinecolor": "#2a3f5f"
            },
            "type": "carpet"
           }
          ],
          "choropleth": [
           {
            "colorbar": {
             "outlinewidth": 0,
             "ticks": ""
            },
            "type": "choropleth"
           }
          ],
          "contour": [
           {
            "colorbar": {
             "outlinewidth": 0,
             "ticks": ""
            },
            "colorscale": [
             [
              0,
              "#0d0887"
             ],
             [
              0.1111111111111111,
              "#46039f"
             ],
             [
              0.2222222222222222,
              "#7201a8"
             ],
             [
              0.3333333333333333,
              "#9c179e"
             ],
             [
              0.4444444444444444,
              "#bd3786"
             ],
             [
              0.5555555555555556,
              "#d8576b"
             ],
             [
              0.6666666666666666,
              "#ed7953"
             ],
             [
              0.7777777777777778,
              "#fb9f3a"
             ],
             [
              0.8888888888888888,
              "#fdca26"
             ],
             [
              1,
              "#f0f921"
             ]
            ],
            "type": "contour"
           }
          ],
          "contourcarpet": [
           {
            "colorbar": {
             "outlinewidth": 0,
             "ticks": ""
            },
            "type": "contourcarpet"
           }
          ],
          "heatmap": [
           {
            "colorbar": {
             "outlinewidth": 0,
             "ticks": ""
            },
            "colorscale": [
             [
              0,
              "#0d0887"
             ],
             [
              0.1111111111111111,
              "#46039f"
             ],
             [
              0.2222222222222222,
              "#7201a8"
             ],
             [
              0.3333333333333333,
              "#9c179e"
             ],
             [
              0.4444444444444444,
              "#bd3786"
             ],
             [
              0.5555555555555556,
              "#d8576b"
             ],
             [
              0.6666666666666666,
              "#ed7953"
             ],
             [
              0.7777777777777778,
              "#fb9f3a"
             ],
             [
              0.8888888888888888,
              "#fdca26"
             ],
             [
              1,
              "#f0f921"
             ]
            ],
            "type": "heatmap"
           }
          ],
          "heatmapgl": [
           {
            "colorbar": {
             "outlinewidth": 0,
             "ticks": ""
            },
            "colorscale": [
             [
              0,
              "#0d0887"
             ],
             [
              0.1111111111111111,
              "#46039f"
             ],
             [
              0.2222222222222222,
              "#7201a8"
             ],
             [
              0.3333333333333333,
              "#9c179e"
             ],
             [
              0.4444444444444444,
              "#bd3786"
             ],
             [
              0.5555555555555556,
              "#d8576b"
             ],
             [
              0.6666666666666666,
              "#ed7953"
             ],
             [
              0.7777777777777778,
              "#fb9f3a"
             ],
             [
              0.8888888888888888,
              "#fdca26"
             ],
             [
              1,
              "#f0f921"
             ]
            ],
            "type": "heatmapgl"
           }
          ],
          "histogram": [
           {
            "marker": {
             "colorbar": {
              "outlinewidth": 0,
              "ticks": ""
             }
            },
            "type": "histogram"
           }
          ],
          "histogram2d": [
           {
            "colorbar": {
             "outlinewidth": 0,
             "ticks": ""
            },
            "colorscale": [
             [
              0,
              "#0d0887"
             ],
             [
              0.1111111111111111,
              "#46039f"
             ],
             [
              0.2222222222222222,
              "#7201a8"
             ],
             [
              0.3333333333333333,
              "#9c179e"
             ],
             [
              0.4444444444444444,
              "#bd3786"
             ],
             [
              0.5555555555555556,
              "#d8576b"
             ],
             [
              0.6666666666666666,
              "#ed7953"
             ],
             [
              0.7777777777777778,
              "#fb9f3a"
             ],
             [
              0.8888888888888888,
              "#fdca26"
             ],
             [
              1,
              "#f0f921"
             ]
            ],
            "type": "histogram2d"
           }
          ],
          "histogram2dcontour": [
           {
            "colorbar": {
             "outlinewidth": 0,
             "ticks": ""
            },
            "colorscale": [
             [
              0,
              "#0d0887"
             ],
             [
              0.1111111111111111,
              "#46039f"
             ],
             [
              0.2222222222222222,
              "#7201a8"
             ],
             [
              0.3333333333333333,
              "#9c179e"
             ],
             [
              0.4444444444444444,
              "#bd3786"
             ],
             [
              0.5555555555555556,
              "#d8576b"
             ],
             [
              0.6666666666666666,
              "#ed7953"
             ],
             [
              0.7777777777777778,
              "#fb9f3a"
             ],
             [
              0.8888888888888888,
              "#fdca26"
             ],
             [
              1,
              "#f0f921"
             ]
            ],
            "type": "histogram2dcontour"
           }
          ],
          "mesh3d": [
           {
            "colorbar": {
             "outlinewidth": 0,
             "ticks": ""
            },
            "type": "mesh3d"
           }
          ],
          "parcoords": [
           {
            "line": {
             "colorbar": {
              "outlinewidth": 0,
              "ticks": ""
             }
            },
            "type": "parcoords"
           }
          ],
          "pie": [
           {
            "automargin": true,
            "type": "pie"
           }
          ],
          "scatter": [
           {
            "marker": {
             "colorbar": {
              "outlinewidth": 0,
              "ticks": ""
             }
            },
            "type": "scatter"
           }
          ],
          "scatter3d": [
           {
            "line": {
             "colorbar": {
              "outlinewidth": 0,
              "ticks": ""
             }
            },
            "marker": {
             "colorbar": {
              "outlinewidth": 0,
              "ticks": ""
             }
            },
            "type": "scatter3d"
           }
          ],
          "scattercarpet": [
           {
            "marker": {
             "colorbar": {
              "outlinewidth": 0,
              "ticks": ""
             }
            },
            "type": "scattercarpet"
           }
          ],
          "scattergeo": [
           {
            "marker": {
             "colorbar": {
              "outlinewidth": 0,
              "ticks": ""
             }
            },
            "type": "scattergeo"
           }
          ],
          "scattergl": [
           {
            "marker": {
             "colorbar": {
              "outlinewidth": 0,
              "ticks": ""
             }
            },
            "type": "scattergl"
           }
          ],
          "scattermapbox": [
           {
            "marker": {
             "colorbar": {
              "outlinewidth": 0,
              "ticks": ""
             }
            },
            "type": "scattermapbox"
           }
          ],
          "scatterpolar": [
           {
            "marker": {
             "colorbar": {
              "outlinewidth": 0,
              "ticks": ""
             }
            },
            "type": "scatterpolar"
           }
          ],
          "scatterpolargl": [
           {
            "marker": {
             "colorbar": {
              "outlinewidth": 0,
              "ticks": ""
             }
            },
            "type": "scatterpolargl"
           }
          ],
          "scatterternary": [
           {
            "marker": {
             "colorbar": {
              "outlinewidth": 0,
              "ticks": ""
             }
            },
            "type": "scatterternary"
           }
          ],
          "surface": [
           {
            "colorbar": {
             "outlinewidth": 0,
             "ticks": ""
            },
            "colorscale": [
             [
              0,
              "#0d0887"
             ],
             [
              0.1111111111111111,
              "#46039f"
             ],
             [
              0.2222222222222222,
              "#7201a8"
             ],
             [
              0.3333333333333333,
              "#9c179e"
             ],
             [
              0.4444444444444444,
              "#bd3786"
             ],
             [
              0.5555555555555556,
              "#d8576b"
             ],
             [
              0.6666666666666666,
              "#ed7953"
             ],
             [
              0.7777777777777778,
              "#fb9f3a"
             ],
             [
              0.8888888888888888,
              "#fdca26"
             ],
             [
              1,
              "#f0f921"
             ]
            ],
            "type": "surface"
           }
          ],
          "table": [
           {
            "cells": {
             "fill": {
              "color": "#EBF0F8"
             },
             "line": {
              "color": "white"
             }
            },
            "header": {
             "fill": {
              "color": "#C8D4E3"
             },
             "line": {
              "color": "white"
             }
            },
            "type": "table"
           }
          ]
         },
         "layout": {
          "annotationdefaults": {
           "arrowcolor": "#2a3f5f",
           "arrowhead": 0,
           "arrowwidth": 1
          },
          "autotypenumbers": "strict",
          "coloraxis": {
           "colorbar": {
            "outlinewidth": 0,
            "ticks": ""
           }
          },
          "colorscale": {
           "diverging": [
            [
             0,
             "#8e0152"
            ],
            [
             0.1,
             "#c51b7d"
            ],
            [
             0.2,
             "#de77ae"
            ],
            [
             0.3,
             "#f1b6da"
            ],
            [
             0.4,
             "#fde0ef"
            ],
            [
             0.5,
             "#f7f7f7"
            ],
            [
             0.6,
             "#e6f5d0"
            ],
            [
             0.7,
             "#b8e186"
            ],
            [
             0.8,
             "#7fbc41"
            ],
            [
             0.9,
             "#4d9221"
            ],
            [
             1,
             "#276419"
            ]
           ],
           "sequential": [
            [
             0,
             "#0d0887"
            ],
            [
             0.1111111111111111,
             "#46039f"
            ],
            [
             0.2222222222222222,
             "#7201a8"
            ],
            [
             0.3333333333333333,
             "#9c179e"
            ],
            [
             0.4444444444444444,
             "#bd3786"
            ],
            [
             0.5555555555555556,
             "#d8576b"
            ],
            [
             0.6666666666666666,
             "#ed7953"
            ],
            [
             0.7777777777777778,
             "#fb9f3a"
            ],
            [
             0.8888888888888888,
             "#fdca26"
            ],
            [
             1,
             "#f0f921"
            ]
           ],
           "sequentialminus": [
            [
             0,
             "#0d0887"
            ],
            [
             0.1111111111111111,
             "#46039f"
            ],
            [
             0.2222222222222222,
             "#7201a8"
            ],
            [
             0.3333333333333333,
             "#9c179e"
            ],
            [
             0.4444444444444444,
             "#bd3786"
            ],
            [
             0.5555555555555556,
             "#d8576b"
            ],
            [
             0.6666666666666666,
             "#ed7953"
            ],
            [
             0.7777777777777778,
             "#fb9f3a"
            ],
            [
             0.8888888888888888,
             "#fdca26"
            ],
            [
             1,
             "#f0f921"
            ]
           ]
          },
          "colorway": [
           "#636efa",
           "#EF553B",
           "#00cc96",
           "#ab63fa",
           "#FFA15A",
           "#19d3f3",
           "#FF6692",
           "#B6E880",
           "#FF97FF",
           "#FECB52"
          ],
          "font": {
           "color": "#2a3f5f"
          },
          "geo": {
           "bgcolor": "white",
           "lakecolor": "white",
           "landcolor": "#E5ECF6",
           "showlakes": true,
           "showland": true,
           "subunitcolor": "white"
          },
          "hoverlabel": {
           "align": "left"
          },
          "hovermode": "closest",
          "mapbox": {
           "style": "light"
          },
          "paper_bgcolor": "white",
          "plot_bgcolor": "#E5ECF6",
          "polar": {
           "angularaxis": {
            "gridcolor": "white",
            "linecolor": "white",
            "ticks": ""
           },
           "bgcolor": "#E5ECF6",
           "radialaxis": {
            "gridcolor": "white",
            "linecolor": "white",
            "ticks": ""
           }
          },
          "scene": {
           "xaxis": {
            "backgroundcolor": "#E5ECF6",
            "gridcolor": "white",
            "gridwidth": 2,
            "linecolor": "white",
            "showbackground": true,
            "ticks": "",
            "zerolinecolor": "white"
           },
           "yaxis": {
            "backgroundcolor": "#E5ECF6",
            "gridcolor": "white",
            "gridwidth": 2,
            "linecolor": "white",
            "showbackground": true,
            "ticks": "",
            "zerolinecolor": "white"
           },
           "zaxis": {
            "backgroundcolor": "#E5ECF6",
            "gridcolor": "white",
            "gridwidth": 2,
            "linecolor": "white",
            "showbackground": true,
            "ticks": "",
            "zerolinecolor": "white"
           }
          },
          "shapedefaults": {
           "line": {
            "color": "#2a3f5f"
           }
          },
          "ternary": {
           "aaxis": {
            "gridcolor": "white",
            "linecolor": "white",
            "ticks": ""
           },
           "baxis": {
            "gridcolor": "white",
            "linecolor": "white",
            "ticks": ""
           },
           "bgcolor": "#E5ECF6",
           "caxis": {
            "gridcolor": "white",
            "linecolor": "white",
            "ticks": ""
           }
          },
          "title": {
           "x": 0.05
          },
          "xaxis": {
           "automargin": true,
           "gridcolor": "white",
           "linecolor": "white",
           "ticks": "",
           "title": {
            "standoff": 15
           },
           "zerolinecolor": "white",
           "zerolinewidth": 2
          },
          "yaxis": {
           "automargin": true,
           "gridcolor": "white",
           "linecolor": "white",
           "ticks": "",
           "title": {
            "standoff": 15
           },
           "zerolinecolor": "white",
           "zerolinewidth": 2
          }
         }
        },
        "title": {
         "text": "Ocorrência das palavras chave em tweets por semana",
         "x": 0.4,
         "xanchor": "center",
         "y": 0.95,
         "yanchor": "top"
        },
        "xaxis": {
         "tickangle": 0,
         "tickmode": "array",
         "ticktext": [
          "May/20",
          "Jun/20",
          "Jul/20",
          "Aug/20",
          "Sep/20",
          "Oct/20",
          "Nov/20",
          "Dec/20",
          "Jan/21"
         ],
         "tickvals": [
          19,
          24,
          28,
          32,
          37,
          41,
          45,
          50,
          54
         ],
         "title": {
          "text": "Semana Epidemiológica"
         }
        },
        "yaxis": {
         "title": {
          "text": "Número de Ocorrências/ Total de tweets"
         }
        }
       }
      },
      "text/html": [
       "<div>                            <div id=\"daafdd29-5286-4de4-9656-ab74d9a091bb\" class=\"plotly-graph-div\" style=\"height:525px; width:100%;\"></div>            <script type=\"text/javascript\">                require([\"plotly\"], function(Plotly) {                    window.PLOTLYENV=window.PLOTLYENV || {};                                    if (document.getElementById(\"daafdd29-5286-4de4-9656-ab74d9a091bb\")) {                    Plotly.newPlot(                        \"daafdd29-5286-4de4-9656-ab74d9a091bb\",                        [{\"hoverinfo\": \"none\", \"legendgroup\": \"A\", \"marker\": {\"color\": \"dodgerblue\"}, \"name\": \"corona, covid, coronav\\u00edrus, covid19, sars, covid-19\", \"type\": \"scatter\", \"x\": [19, 20, 21, 22, 23, 24, 25, 26, 27, 28, 29, 30, 31, 32, 33, 34, 35, 36, 37, 38, 39, 40, 41, 42, 43, 44, 45, 46, 47, 48, 49, 50, 51, 52, 53, 54], \"y\": [0.32042137524686753, 0.3164530099951878, 0.3076525070525417, 0.3047640269683465, 0.2898047626306609, 0.3734568942571912, 0.3580508602265892, 0.3459071541310043, 0.3539057959391138, 0.3619401861754803, 0.4191023266410971, 0.3975852836379799, 0.3516339578419593, 0.36215305983078017, 0.38667293143771214, 0.4082820432490704, 0.3938566328941152, 0.4303798516634038, 0.4295531812629806, 0.4360853401212446, 0.4702526131577499, 0.4971233901121728, 0.5066701316701316, 0.5176070029684847, 0.510451559989213, 0.4688578616036448, 0.5287601064846944, 0.5557041298563352, 0.5544180113882454, 0.5860705820282344, 0.6031988067239922, 0.5554795070089288, 0.5235181141692895, 0.5544475723895876, 0.593050111593511, 0.6416591212865951]}, {\"hoverinfo\": \"none\", \"legendgroup\": \"B\", \"marker\": {\"color\": \"red\"}, \"name\": \"quarentena, confinamento\", \"type\": \"scatter\", \"x\": [19, 20, 21, 22, 23, 24, 25, 26, 27, 28, 29, 30, 31, 32, 33, 34, 35, 36, 37, 38, 39, 40, 41, 42, 43, 44, 45, 46, 47, 48, 49, 50, 51, 52, 53, 54], \"y\": [0.4966016274819921, 0.4765180142157288, 0.4168933815486868, 0.3967150420904277, 0.4628157508013099, 0.3896930095857185, 0.3997971328592936, 0.449065253611712, 0.4311502650109816, 0.4036878589819766, 0.2816151792997529, 0.3715403264697836, 0.3442629759838607, 0.3563069247855998, 0.3461627397462768, 0.31586162476868385, 0.3834138274975064, 0.3232515461390416, 0.3286518711885034, 0.32332786281274073, 0.2972062415892099, 0.2295754050685501, 0.23965617715617715, 0.2624263806299257, 0.21770090196104647, 0.16944615279792438, 0.18670918032998224, 0.1989227165013628, 0.1551479557980315, 0.14734590004306147, 0.12457956588677907, 0.1291047794328343, 0.10429759670505416, 0.1016942697669884, 0.1026160628032734, 0.09564954943301858]}, {\"hoverinfo\": \"none\", \"legendgroup\": \"C\", \"marker\": {\"color\": \"seagreen\"}, \"name\": \"aglomeracao, aglomeracoes\", \"type\": \"scatter\", \"x\": [19, 20, 21, 22, 23, 24, 25, 26, 27, 28, 29, 30, 31, 32, 33, 34, 35, 36, 37, 38, 39, 40, 41, 42, 43, 44, 45, 46, 47, 48, 49, 50, 51, 52, 53, 54], \"y\": [0.017423727146825753, 0.01891472929371021, 0.016652177965634198, 0.015557841008646631, 0.017505306429646983, 0.026159851946821817, 0.021674720680997142, 0.020645397452097668, 0.02308959822349248, 0.03576074470192117, 0.015571932980836997, 0.021081117940064228, 0.02073338970228294, 0.022360163612706586, 0.02328383108347104, 0.023777648485037176, 0.027641870964355084, 0.02258837091436692, 0.04063391553966162, 0.03815855578256355, 0.03373047130793599, 0.028483589530535938, 0.025639056889056887, 0.032048728672907124, 0.026918422337075348, 0.021102100169082167, 0.032976737090664544, 0.03529478369409031, 0.04394766016458518, 0.030519336930841717, 0.03449128856825339, 0.03296922817456744, 0.02593747489721551, 0.029652005947158038, 0.03906883265414895, 0.06625849753517585]}, {\"hoverinfo\": \"none\", \"legendgroup\": \"D\", \"marker\": {\"color\": \"darkviolet\"}, \"name\": \"distanciamento social\", \"type\": \"scatter\", \"x\": [19, 20, 21, 22, 23, 24, 25, 26, 27, 28, 29, 30, 31, 32, 33, 34, 35, 36, 37, 38, 39, 40, 41, 42, 43, 44, 45, 46, 47, 48, 49, 50, 51, 52, 53, 54], \"y\": [0.005238099140368273, 0.005089893579255449, 0.005165332881869214, 0.004796023311621529, 0.004699441510542677, 0.005705070771368554, 0.005372423328154174, 0.004809312547233714, 0.005469648899508308, 0.005578134284016637, 0.004505956196486606, 0.00583386665987514, 0.005609452182813404, 0.005844337893306688, 0.006480870451221896, 0.0070946688797778575, 0.0064767179379494975, 0.006131555149214426, 0.008073868622150886, 0.008272766855343805, 0.0090575549536588, 0.007554632322393021, 0.007315882315882315, 0.0092065704991417, 0.00937397618394924, 0.00766159181090051, 0.010586159997765457, 0.009740303504945638, 0.00899417077599806, 0.008587079229238355, 0.007978556475700662, 0.008488327730665886, 0.007178483536224687, 0.008361667641610608, 0.008725761260210898, 0.00812026617226462]}, {\"hoverinfo\": \"none\", \"legendgroup\": \"E\", \"marker\": {\"color\": \"#ff8000\"}, \"name\": \"hidroxicloroquina, cloroquina\", \"type\": \"scatter\", \"x\": [19, 20, 21, 22, 23, 24, 25, 26, 27, 28, 29, 30, 31, 32, 33, 34, 35, 36, 37, 38, 39, 40, 41, 42, 43, 44, 45, 46, 47, 48, 49, 50, 51, 52, 53, 54], \"y\": [0.00852379352449008, 0.014174312288479898, 0.07640789275951737, 0.10242562754732792, 0.04189702281500621, 0.0348302349382008, 0.030603044574117624, 0.027900226181543614, 0.01894760816565738, 0.02242265795206972, 0.1228655142657133, 0.052398819260221996, 0.08288089834304957, 0.06922269587158271, 0.04695621875313458, 0.0716929327679911, 0.05464722557614573, 0.04786654343930225, 0.026814415669743057, 0.02439461432829822, 0.02315826236160751, 0.018165351059410053, 0.039229351729351734, 0.0189916635843742, 0.025351635542658724, 0.14726465214436713, 0.030883999149153775, 0.021761342344843948, 0.0271354946893266, 0.017903487979640843, 0.021857035787204042, 0.01923627974148588, 0.06160205057800304, 0.034962403724285857, 0.037440270637396966, 0.025672976041621755]}, {\"customdata\": [\"O ministro da Sa\\u00fade, Nelson Teich, contrata 267 profissionais para combater a covid-19 no Amazonas\", \"Bolsonaro livra agentes p\\u00fablicos de responsabilidade por erros durante epidemia<br>Covid-19 atinge dezenas de povos ind\\u00edgenas<br>Nelson Teich pede demiss\\u00e3o do Minist\\u00e9rio da Sa\\u00fade<br>Governo anuncia que secret\\u00e1rio executivo do Minist\\u00e9rio da Sa\\u00fade, Eduardo Pazuello, assumir\\u00e1 interinamente o comando da pasta\", \"Sem base cient\\u00edfica, governo amplia uso da cloroquina\", \"Brasil ultrapassa It\\u00e1lia e \\u00e9 terceiro pa\\u00eds com mais mortes por covid-19\", \"Brasil amplia orienta\\u00e7\\u00f5es de uso da cloroquina contra a covid-19<br>Casos de covid-19 passam de 1 milh\\u00e3o no Brasil\", \"Vacina de Oxford contra covid-19 come\\u00e7a a ser testada no Brasil<br>Juiz manda Bolsonaro usar m\\u00e1scara em p\\u00fablico<br>Minist\\u00e9rio da Sa\\u00fade anuncia acordo entre a Fiocruz e a biofarmac\\u00eautica AstraZeneca para a compra e transfer\\u00eancia de tecnologia de vacina desenvolvida em Oxford\", \"UE estende proibi\\u00e7\\u00e3o \\u00e0 entrada de viajantes do Brasil\", \"Bolsonaro diz estar com covid-19\", \"Casos de covid-19 passam de 2 milh\\u00f5es no Brasil\", \"Assinada a Medida Provis\\u00f3ria que destina R$ 1,9 bilh\\u00e3o para a produ\\u00e7\\u00e3o e aquisi\\u00e7\\u00e3o da vacina do laborat\\u00f3rio AstraZeneca em parceria com Oxford<br>Brasil: 100 mil mortos por covid-19\", \"Mais uma empresa alem\\u00e3 pretende testar vacina contra covid-19 no Brasil\", \"Brasil autoriza testes de mais uma vacina contra covid-19\", \"O ministro interino da Sa\\u00fade, Eduardo Pazuello, afirma que muitas mortes poderiam ter sido evitadas com o protocolo atual de diagn\\u00f3stico e tratamento precoce da doen\\u00e7a<br>Saldo do coronav\\u00edrus ap\\u00f3s seis meses no Brasil\", \"Aux\\u00edlio emergencial \\u00e9 prorrogado por quatro meses, com o valor de R$ 300\", \"Pazuello \\u00e9 efetivado como ministro da Sa\\u00fade<br>Brasil adere \\u00e0 iniciativa global por vacinas contra covid-19\", \"Brasil ultrapassa marca de 5 milh\\u00f5es de casos de covid-19\", \"Testes no Brasil mostram seguran\\u00e7a de vacina chinesa, diz Butantan<br>Pandemia deve elevar tanto a fome quanto a obesidade entre brasileiros<br>Brasil incluir\\u00e1 vacina chinesa em calend\\u00e1rio nacional de vacina\\u00e7\\u00e3o<br>Anvisa autoriza importar 6 milh\\u00f5es de doses de vacina chinesa\", \"Alunos das redes p\\u00fablicas e particulares come\\u00e7am a voltar para as salas de aula em v\\u00e1rios estados brasileiros\", \"Resultados preliminares dos estudos cl\\u00ednicos da Fase 3 da vacina da Universidade de Oxford indicam efic\\u00e1cia de 90%\", \"Minist\\u00e9rio da Sa\\u00fade divulga a confirma\\u00e7\\u00e3o do primeiro caso, no pa\\u00eds, de reinfec\\u00e7\\u00e3o pelo v\\u00edrus\"], \"hovertemplate\": \"%{customdata}\", \"legendgroup\": \"A\", \"marker\": {\"color\": \"#6d8484\", \"size\": 5, \"symbol\": \"0\"}, \"mode\": \"markers\", \"name\": \"corona, covid, coronav\\u00edrus, covid19, sars, covid-19\", \"showlegend\": false, \"type\": \"scatter\", \"x\": [19, 20, 21, 23, 25, 26, 27, 28, 29, 32, 33, 34, 35, 36, 38, 41, 43, 44, 48, 50], \"y\": [0.32042137524686753, 0.3164530099951878, 0.3076525070525417, 0.2898047626306609, 0.3580508602265892, 0.3459071541310043, 0.3539057959391138, 0.3619401861754803, 0.4191023266410971, 0.36215305983078017, 0.38667293143771214, 0.4082820432490704, 0.3938566328941152, 0.4303798516634038, 0.4360853401212446, 0.5066701316701316, 0.510451559989213, 0.4688578616036448, 0.5860705820282344, 0.5554795070089288]}, {\"customdata\": [\"O ministro da Sa\\u00fade, Nelson Teich, contrata 267 profissionais para combater a covid-19 no Amazonas\", \"Bolsonaro livra agentes p\\u00fablicos de responsabilidade por erros durante epidemia<br>Covid-19 atinge dezenas de povos ind\\u00edgenas<br>Nelson Teich pede demiss\\u00e3o do Minist\\u00e9rio da Sa\\u00fade<br>Governo anuncia que secret\\u00e1rio executivo do Minist\\u00e9rio da Sa\\u00fade, Eduardo Pazuello, assumir\\u00e1 interinamente o comando da pasta\", \"Sem base cient\\u00edfica, governo amplia uso da cloroquina\", \"Brasil ultrapassa It\\u00e1lia e \\u00e9 terceiro pa\\u00eds com mais mortes por covid-19\", \"Brasil amplia orienta\\u00e7\\u00f5es de uso da cloroquina contra a covid-19<br>Casos de covid-19 passam de 1 milh\\u00e3o no Brasil\", \"Vacina de Oxford contra covid-19 come\\u00e7a a ser testada no Brasil<br>Juiz manda Bolsonaro usar m\\u00e1scara em p\\u00fablico<br>Minist\\u00e9rio da Sa\\u00fade anuncia acordo entre a Fiocruz e a biofarmac\\u00eautica AstraZeneca para a compra e transfer\\u00eancia de tecnologia de vacina desenvolvida em Oxford\", \"UE estende proibi\\u00e7\\u00e3o \\u00e0 entrada de viajantes do Brasil\", \"Bolsonaro diz estar com covid-19\", \"Casos de covid-19 passam de 2 milh\\u00f5es no Brasil\", \"Assinada a Medida Provis\\u00f3ria que destina R$ 1,9 bilh\\u00e3o para a produ\\u00e7\\u00e3o e aquisi\\u00e7\\u00e3o da vacina do laborat\\u00f3rio AstraZeneca em parceria com Oxford<br>Brasil: 100 mil mortos por covid-19\", \"Mais uma empresa alem\\u00e3 pretende testar vacina contra covid-19 no Brasil\", \"Brasil autoriza testes de mais uma vacina contra covid-19\", \"O ministro interino da Sa\\u00fade, Eduardo Pazuello, afirma que muitas mortes poderiam ter sido evitadas com o protocolo atual de diagn\\u00f3stico e tratamento precoce da doen\\u00e7a<br>Saldo do coronav\\u00edrus ap\\u00f3s seis meses no Brasil\", \"Aux\\u00edlio emergencial \\u00e9 prorrogado por quatro meses, com o valor de R$ 300\", \"Pazuello \\u00e9 efetivado como ministro da Sa\\u00fade<br>Brasil adere \\u00e0 iniciativa global por vacinas contra covid-19\", \"Brasil ultrapassa marca de 5 milh\\u00f5es de casos de covid-19\", \"Testes no Brasil mostram seguran\\u00e7a de vacina chinesa, diz Butantan<br>Pandemia deve elevar tanto a fome quanto a obesidade entre brasileiros<br>Brasil incluir\\u00e1 vacina chinesa em calend\\u00e1rio nacional de vacina\\u00e7\\u00e3o<br>Anvisa autoriza importar 6 milh\\u00f5es de doses de vacina chinesa\", \"Alunos das redes p\\u00fablicas e particulares come\\u00e7am a voltar para as salas de aula em v\\u00e1rios estados brasileiros\", \"Resultados preliminares dos estudos cl\\u00ednicos da Fase 3 da vacina da Universidade de Oxford indicam efic\\u00e1cia de 90%\", \"Minist\\u00e9rio da Sa\\u00fade divulga a confirma\\u00e7\\u00e3o do primeiro caso, no pa\\u00eds, de reinfec\\u00e7\\u00e3o pelo v\\u00edrus\"], \"hovertemplate\": \"%{customdata}\", \"legendgroup\": \"B\", \"marker\": {\"color\": \"#6d8484\", \"size\": 5, \"symbol\": \"0\"}, \"mode\": \"markers\", \"name\": \"quarentena, confinamento\", \"showlegend\": false, \"type\": \"scatter\", \"x\": [19, 20, 21, 23, 25, 26, 27, 28, 29, 32, 33, 34, 35, 36, 38, 41, 43, 44, 48, 50], \"y\": [0.4966016274819921, 0.4765180142157288, 0.4168933815486868, 0.4628157508013099, 0.3997971328592936, 0.449065253611712, 0.4311502650109816, 0.4036878589819766, 0.2816151792997529, 0.3563069247855998, 0.3461627397462768, 0.31586162476868385, 0.3834138274975064, 0.3232515461390416, 0.32332786281274073, 0.23965617715617715, 0.21770090196104647, 0.16944615279792438, 0.14734590004306147, 0.1291047794328343]}, {\"customdata\": [\"O ministro da Sa\\u00fade, Nelson Teich, contrata 267 profissionais para combater a covid-19 no Amazonas\", \"Bolsonaro livra agentes p\\u00fablicos de responsabilidade por erros durante epidemia<br>Covid-19 atinge dezenas de povos ind\\u00edgenas<br>Nelson Teich pede demiss\\u00e3o do Minist\\u00e9rio da Sa\\u00fade<br>Governo anuncia que secret\\u00e1rio executivo do Minist\\u00e9rio da Sa\\u00fade, Eduardo Pazuello, assumir\\u00e1 interinamente o comando da pasta\", \"Sem base cient\\u00edfica, governo amplia uso da cloroquina\", \"Brasil ultrapassa It\\u00e1lia e \\u00e9 terceiro pa\\u00eds com mais mortes por covid-19\", \"Brasil amplia orienta\\u00e7\\u00f5es de uso da cloroquina contra a covid-19<br>Casos de covid-19 passam de 1 milh\\u00e3o no Brasil\", \"Vacina de Oxford contra covid-19 come\\u00e7a a ser testada no Brasil<br>Juiz manda Bolsonaro usar m\\u00e1scara em p\\u00fablico<br>Minist\\u00e9rio da Sa\\u00fade anuncia acordo entre a Fiocruz e a biofarmac\\u00eautica AstraZeneca para a compra e transfer\\u00eancia de tecnologia de vacina desenvolvida em Oxford\", \"UE estende proibi\\u00e7\\u00e3o \\u00e0 entrada de viajantes do Brasil\", \"Bolsonaro diz estar com covid-19\", \"Casos de covid-19 passam de 2 milh\\u00f5es no Brasil\", \"Assinada a Medida Provis\\u00f3ria que destina R$ 1,9 bilh\\u00e3o para a produ\\u00e7\\u00e3o e aquisi\\u00e7\\u00e3o da vacina do laborat\\u00f3rio AstraZeneca em parceria com Oxford<br>Brasil: 100 mil mortos por covid-19\", \"Mais uma empresa alem\\u00e3 pretende testar vacina contra covid-19 no Brasil\", \"Brasil autoriza testes de mais uma vacina contra covid-19\", \"O ministro interino da Sa\\u00fade, Eduardo Pazuello, afirma que muitas mortes poderiam ter sido evitadas com o protocolo atual de diagn\\u00f3stico e tratamento precoce da doen\\u00e7a<br>Saldo do coronav\\u00edrus ap\\u00f3s seis meses no Brasil\", \"Aux\\u00edlio emergencial \\u00e9 prorrogado por quatro meses, com o valor de R$ 300\", \"Pazuello \\u00e9 efetivado como ministro da Sa\\u00fade<br>Brasil adere \\u00e0 iniciativa global por vacinas contra covid-19\", \"Brasil ultrapassa marca de 5 milh\\u00f5es de casos de covid-19\", \"Testes no Brasil mostram seguran\\u00e7a de vacina chinesa, diz Butantan<br>Pandemia deve elevar tanto a fome quanto a obesidade entre brasileiros<br>Brasil incluir\\u00e1 vacina chinesa em calend\\u00e1rio nacional de vacina\\u00e7\\u00e3o<br>Anvisa autoriza importar 6 milh\\u00f5es de doses de vacina chinesa\", \"Alunos das redes p\\u00fablicas e particulares come\\u00e7am a voltar para as salas de aula em v\\u00e1rios estados brasileiros\", \"Resultados preliminares dos estudos cl\\u00ednicos da Fase 3 da vacina da Universidade de Oxford indicam efic\\u00e1cia de 90%\", \"Minist\\u00e9rio da Sa\\u00fade divulga a confirma\\u00e7\\u00e3o do primeiro caso, no pa\\u00eds, de reinfec\\u00e7\\u00e3o pelo v\\u00edrus\"], \"hovertemplate\": \"%{customdata}\", \"legendgroup\": \"C\", \"marker\": {\"color\": \"#6d8484\", \"size\": 5, \"symbol\": \"0\"}, \"mode\": \"markers\", \"name\": \"aglomeracao, aglomeracoes\", \"showlegend\": false, \"type\": \"scatter\", \"x\": [19, 20, 21, 23, 25, 26, 27, 28, 29, 32, 33, 34, 35, 36, 38, 41, 43, 44, 48, 50], \"y\": [0.017423727146825753, 0.01891472929371021, 0.016652177965634198, 0.017505306429646983, 0.021674720680997142, 0.020645397452097668, 0.02308959822349248, 0.03576074470192117, 0.015571932980836997, 0.022360163612706586, 0.02328383108347104, 0.023777648485037176, 0.027641870964355084, 0.02258837091436692, 0.03815855578256355, 0.025639056889056887, 0.026918422337075348, 0.021102100169082167, 0.030519336930841717, 0.03296922817456744]}, {\"customdata\": [\"O ministro da Sa\\u00fade, Nelson Teich, contrata 267 profissionais para combater a covid-19 no Amazonas\", \"Bolsonaro livra agentes p\\u00fablicos de responsabilidade por erros durante epidemia<br>Covid-19 atinge dezenas de povos ind\\u00edgenas<br>Nelson Teich pede demiss\\u00e3o do Minist\\u00e9rio da Sa\\u00fade<br>Governo anuncia que secret\\u00e1rio executivo do Minist\\u00e9rio da Sa\\u00fade, Eduardo Pazuello, assumir\\u00e1 interinamente o comando da pasta\", \"Sem base cient\\u00edfica, governo amplia uso da cloroquina\", \"Brasil ultrapassa It\\u00e1lia e \\u00e9 terceiro pa\\u00eds com mais mortes por covid-19\", \"Brasil amplia orienta\\u00e7\\u00f5es de uso da cloroquina contra a covid-19<br>Casos de covid-19 passam de 1 milh\\u00e3o no Brasil\", \"Vacina de Oxford contra covid-19 come\\u00e7a a ser testada no Brasil<br>Juiz manda Bolsonaro usar m\\u00e1scara em p\\u00fablico<br>Minist\\u00e9rio da Sa\\u00fade anuncia acordo entre a Fiocruz e a biofarmac\\u00eautica AstraZeneca para a compra e transfer\\u00eancia de tecnologia de vacina desenvolvida em Oxford\", \"UE estende proibi\\u00e7\\u00e3o \\u00e0 entrada de viajantes do Brasil\", \"Bolsonaro diz estar com covid-19\", \"Casos de covid-19 passam de 2 milh\\u00f5es no Brasil\", \"Assinada a Medida Provis\\u00f3ria que destina R$ 1,9 bilh\\u00e3o para a produ\\u00e7\\u00e3o e aquisi\\u00e7\\u00e3o da vacina do laborat\\u00f3rio AstraZeneca em parceria com Oxford<br>Brasil: 100 mil mortos por covid-19\", \"Mais uma empresa alem\\u00e3 pretende testar vacina contra covid-19 no Brasil\", \"Brasil autoriza testes de mais uma vacina contra covid-19\", \"O ministro interino da Sa\\u00fade, Eduardo Pazuello, afirma que muitas mortes poderiam ter sido evitadas com o protocolo atual de diagn\\u00f3stico e tratamento precoce da doen\\u00e7a<br>Saldo do coronav\\u00edrus ap\\u00f3s seis meses no Brasil\", \"Aux\\u00edlio emergencial \\u00e9 prorrogado por quatro meses, com o valor de R$ 300\", \"Pazuello \\u00e9 efetivado como ministro da Sa\\u00fade<br>Brasil adere \\u00e0 iniciativa global por vacinas contra covid-19\", \"Brasil ultrapassa marca de 5 milh\\u00f5es de casos de covid-19\", \"Testes no Brasil mostram seguran\\u00e7a de vacina chinesa, diz Butantan<br>Pandemia deve elevar tanto a fome quanto a obesidade entre brasileiros<br>Brasil incluir\\u00e1 vacina chinesa em calend\\u00e1rio nacional de vacina\\u00e7\\u00e3o<br>Anvisa autoriza importar 6 milh\\u00f5es de doses de vacina chinesa\", \"Alunos das redes p\\u00fablicas e particulares come\\u00e7am a voltar para as salas de aula em v\\u00e1rios estados brasileiros\", \"Resultados preliminares dos estudos cl\\u00ednicos da Fase 3 da vacina da Universidade de Oxford indicam efic\\u00e1cia de 90%\", \"Minist\\u00e9rio da Sa\\u00fade divulga a confirma\\u00e7\\u00e3o do primeiro caso, no pa\\u00eds, de reinfec\\u00e7\\u00e3o pelo v\\u00edrus\"], \"hovertemplate\": \"%{customdata}\", \"legendgroup\": \"D\", \"marker\": {\"color\": \"#6d8484\", \"size\": 5, \"symbol\": \"0\"}, \"mode\": \"markers\", \"name\": \"distanciamento social\", \"showlegend\": false, \"type\": \"scatter\", \"x\": [19, 20, 21, 23, 25, 26, 27, 28, 29, 32, 33, 34, 35, 36, 38, 41, 43, 44, 48, 50], \"y\": [0.005238099140368273, 0.005089893579255449, 0.005165332881869214, 0.004699441510542677, 0.005372423328154174, 0.004809312547233714, 0.005469648899508308, 0.005578134284016637, 0.004505956196486606, 0.005844337893306688, 0.006480870451221896, 0.0070946688797778575, 0.0064767179379494975, 0.006131555149214426, 0.008272766855343805, 0.007315882315882315, 0.00937397618394924, 0.00766159181090051, 0.008587079229238355, 0.008488327730665886]}, {\"customdata\": [\"O ministro da Sa\\u00fade, Nelson Teich, contrata 267 profissionais para combater a covid-19 no Amazonas\", \"Bolsonaro livra agentes p\\u00fablicos de responsabilidade por erros durante epidemia<br>Covid-19 atinge dezenas de povos ind\\u00edgenas<br>Nelson Teich pede demiss\\u00e3o do Minist\\u00e9rio da Sa\\u00fade<br>Governo anuncia que secret\\u00e1rio executivo do Minist\\u00e9rio da Sa\\u00fade, Eduardo Pazuello, assumir\\u00e1 interinamente o comando da pasta\", \"Sem base cient\\u00edfica, governo amplia uso da cloroquina\", \"Brasil ultrapassa It\\u00e1lia e \\u00e9 terceiro pa\\u00eds com mais mortes por covid-19\", \"Brasil amplia orienta\\u00e7\\u00f5es de uso da cloroquina contra a covid-19<br>Casos de covid-19 passam de 1 milh\\u00e3o no Brasil\", \"Vacina de Oxford contra covid-19 come\\u00e7a a ser testada no Brasil<br>Juiz manda Bolsonaro usar m\\u00e1scara em p\\u00fablico<br>Minist\\u00e9rio da Sa\\u00fade anuncia acordo entre a Fiocruz e a biofarmac\\u00eautica AstraZeneca para a compra e transfer\\u00eancia de tecnologia de vacina desenvolvida em Oxford\", \"UE estende proibi\\u00e7\\u00e3o \\u00e0 entrada de viajantes do Brasil\", \"Bolsonaro diz estar com covid-19\", \"Casos de covid-19 passam de 2 milh\\u00f5es no Brasil\", \"Assinada a Medida Provis\\u00f3ria que destina R$ 1,9 bilh\\u00e3o para a produ\\u00e7\\u00e3o e aquisi\\u00e7\\u00e3o da vacina do laborat\\u00f3rio AstraZeneca em parceria com Oxford<br>Brasil: 100 mil mortos por covid-19\", \"Mais uma empresa alem\\u00e3 pretende testar vacina contra covid-19 no Brasil\", \"Brasil autoriza testes de mais uma vacina contra covid-19\", \"O ministro interino da Sa\\u00fade, Eduardo Pazuello, afirma que muitas mortes poderiam ter sido evitadas com o protocolo atual de diagn\\u00f3stico e tratamento precoce da doen\\u00e7a<br>Saldo do coronav\\u00edrus ap\\u00f3s seis meses no Brasil\", \"Aux\\u00edlio emergencial \\u00e9 prorrogado por quatro meses, com o valor de R$ 300\", \"Pazuello \\u00e9 efetivado como ministro da Sa\\u00fade<br>Brasil adere \\u00e0 iniciativa global por vacinas contra covid-19\", \"Brasil ultrapassa marca de 5 milh\\u00f5es de casos de covid-19\", \"Testes no Brasil mostram seguran\\u00e7a de vacina chinesa, diz Butantan<br>Pandemia deve elevar tanto a fome quanto a obesidade entre brasileiros<br>Brasil incluir\\u00e1 vacina chinesa em calend\\u00e1rio nacional de vacina\\u00e7\\u00e3o<br>Anvisa autoriza importar 6 milh\\u00f5es de doses de vacina chinesa\", \"Alunos das redes p\\u00fablicas e particulares come\\u00e7am a voltar para as salas de aula em v\\u00e1rios estados brasileiros\", \"Resultados preliminares dos estudos cl\\u00ednicos da Fase 3 da vacina da Universidade de Oxford indicam efic\\u00e1cia de 90%\", \"Minist\\u00e9rio da Sa\\u00fade divulga a confirma\\u00e7\\u00e3o do primeiro caso, no pa\\u00eds, de reinfec\\u00e7\\u00e3o pelo v\\u00edrus\"], \"hovertemplate\": \"%{customdata}\", \"legendgroup\": \"E\", \"marker\": {\"color\": \"#6d8484\", \"size\": 5, \"symbol\": \"0\"}, \"mode\": \"markers\", \"name\": \"hidroxicloroquina, cloroquina\", \"showlegend\": false, \"type\": \"scatter\", \"x\": [19, 20, 21, 23, 25, 26, 27, 28, 29, 32, 33, 34, 35, 36, 38, 41, 43, 44, 48, 50], \"y\": [0.00852379352449008, 0.014174312288479898, 0.07640789275951737, 0.04189702281500621, 0.030603044574117624, 0.027900226181543614, 0.01894760816565738, 0.02242265795206972, 0.1228655142657133, 0.06922269587158271, 0.04695621875313458, 0.0716929327679911, 0.05464722557614573, 0.04786654343930225, 0.02439461432829822, 0.039229351729351734, 0.025351635542658724, 0.14726465214436713, 0.017903487979640843, 0.01923627974148588]}, {\"customdata\": [\"Instituto Butantan anuncia que produzir\\u00e1 uma vacina contra o novo coronav\\u00edrus em parceria com o laborat\\u00f3rio chin\\u00eas Sinovac Biotech<br>>> Corpus Christi\", \"\\u00cdndia passa Brasil e \\u00e9 segundo pa\\u00eds com mais casos de covid-19<br>>> Independ\\u00eancia do Brasil\", \">> Nossa Sr.a Aparecida - Padroeira do Brasil\", \">> Finados\", \"S\\u00e3o Paulo recebe as primeiras 120 mil doses CoronaVac. Vacina aguarda dados de efic\\u00e1cia e libera\\u00e7\\u00e3o pela Anvisa<br>>> Proclama\\u00e7\\u00e3o da Rep\\u00fablica\", \">> Natal\"], \"hovertemplate\": \"%{customdata}\", \"legendgroup\": \"F\", \"marker\": {\"color\": \"#6d8484\", \"line\": {\"color\": \"gold\", \"width\": 1}, \"size\": 7, \"symbol\": \"18\"}, \"mode\": \"markers\", \"name\": \"Feriado Nacional\", \"showlegend\": true, \"type\": \"scatter\", \"x\": [24, 37, 42, 45, 47, 52], \"y\": [0.3734568942571912, 0.4295531812629806, 0.5176070029684847, 0.5287601064846944, 0.5544180113882454, 0.5544475723895876]}, {\"customdata\": [\"Instituto Butantan anuncia que produzir\\u00e1 uma vacina contra o novo coronav\\u00edrus em parceria com o laborat\\u00f3rio chin\\u00eas Sinovac Biotech<br>>> Corpus Christi\", \"\\u00cdndia passa Brasil e \\u00e9 segundo pa\\u00eds com mais casos de covid-19<br>>> Independ\\u00eancia do Brasil\", \">> Nossa Sr.a Aparecida - Padroeira do Brasil\", \">> Finados\", \"S\\u00e3o Paulo recebe as primeiras 120 mil doses CoronaVac. Vacina aguarda dados de efic\\u00e1cia e libera\\u00e7\\u00e3o pela Anvisa<br>>> Proclama\\u00e7\\u00e3o da Rep\\u00fablica\", \">> Natal\"], \"hovertemplate\": \"%{customdata}\", \"legendgroup\": \"F\", \"marker\": {\"color\": \"#6d8484\", \"line\": {\"color\": \"gold\", \"width\": 1}, \"size\": 7, \"symbol\": \"18\"}, \"mode\": \"markers\", \"name\": \"Feriado Nacional\", \"showlegend\": false, \"type\": \"scatter\", \"x\": [24, 37, 42, 45, 47, 52], \"y\": [0.3896930095857185, 0.3286518711885034, 0.2624263806299257, 0.18670918032998224, 0.1551479557980315, 0.1016942697669884]}, {\"customdata\": [\"Instituto Butantan anuncia que produzir\\u00e1 uma vacina contra o novo coronav\\u00edrus em parceria com o laborat\\u00f3rio chin\\u00eas Sinovac Biotech<br>>> Corpus Christi\", \"\\u00cdndia passa Brasil e \\u00e9 segundo pa\\u00eds com mais casos de covid-19<br>>> Independ\\u00eancia do Brasil\", \">> Nossa Sr.a Aparecida - Padroeira do Brasil\", \">> Finados\", \"S\\u00e3o Paulo recebe as primeiras 120 mil doses CoronaVac. Vacina aguarda dados de efic\\u00e1cia e libera\\u00e7\\u00e3o pela Anvisa<br>>> Proclama\\u00e7\\u00e3o da Rep\\u00fablica\", \">> Natal\"], \"hovertemplate\": \"%{customdata}\", \"legendgroup\": \"F\", \"marker\": {\"color\": \"#6d8484\", \"line\": {\"color\": \"gold\", \"width\": 1}, \"size\": 7, \"symbol\": \"18\"}, \"mode\": \"markers\", \"name\": \"Feriado Nacional\", \"showlegend\": false, \"type\": \"scatter\", \"x\": [24, 37, 42, 45, 47, 52], \"y\": [0.026159851946821817, 0.04063391553966162, 0.032048728672907124, 0.032976737090664544, 0.04394766016458518, 0.029652005947158038]}, {\"customdata\": [\"Instituto Butantan anuncia que produzir\\u00e1 uma vacina contra o novo coronav\\u00edrus em parceria com o laborat\\u00f3rio chin\\u00eas Sinovac Biotech<br>>> Corpus Christi\", \"\\u00cdndia passa Brasil e \\u00e9 segundo pa\\u00eds com mais casos de covid-19<br>>> Independ\\u00eancia do Brasil\", \">> Nossa Sr.a Aparecida - Padroeira do Brasil\", \">> Finados\", \"S\\u00e3o Paulo recebe as primeiras 120 mil doses CoronaVac. Vacina aguarda dados de efic\\u00e1cia e libera\\u00e7\\u00e3o pela Anvisa<br>>> Proclama\\u00e7\\u00e3o da Rep\\u00fablica\", \">> Natal\"], \"hovertemplate\": \"%{customdata}\", \"legendgroup\": \"F\", \"marker\": {\"color\": \"#6d8484\", \"line\": {\"color\": \"gold\", \"width\": 1}, \"size\": 7, \"symbol\": \"18\"}, \"mode\": \"markers\", \"name\": \"Feriado Nacional\", \"showlegend\": false, \"type\": \"scatter\", \"x\": [24, 37, 42, 45, 47, 52], \"y\": [0.005705070771368554, 0.008073868622150886, 0.0092065704991417, 0.010586159997765457, 0.00899417077599806, 0.008361667641610608]}, {\"customdata\": [\"Instituto Butantan anuncia que produzir\\u00e1 uma vacina contra o novo coronav\\u00edrus em parceria com o laborat\\u00f3rio chin\\u00eas Sinovac Biotech<br>>> Corpus Christi\", \"\\u00cdndia passa Brasil e \\u00e9 segundo pa\\u00eds com mais casos de covid-19<br>>> Independ\\u00eancia do Brasil\", \">> Nossa Sr.a Aparecida - Padroeira do Brasil\", \">> Finados\", \"S\\u00e3o Paulo recebe as primeiras 120 mil doses CoronaVac. Vacina aguarda dados de efic\\u00e1cia e libera\\u00e7\\u00e3o pela Anvisa<br>>> Proclama\\u00e7\\u00e3o da Rep\\u00fablica\", \">> Natal\"], \"hovertemplate\": \"%{customdata}\", \"legendgroup\": \"F\", \"marker\": {\"color\": \"#6d8484\", \"line\": {\"color\": \"gold\", \"width\": 1}, \"size\": 7, \"symbol\": \"18\"}, \"mode\": \"markers\", \"name\": \"Feriado Nacional\", \"showlegend\": false, \"type\": \"scatter\", \"x\": [24, 37, 42, 45, 47, 52], \"y\": [0.0348302349382008, 0.026814415669743057, 0.0189916635843742, 0.030883999149153775, 0.0271354946893266, 0.034962403724285857]}],                        {\"annotations\": [{\"font\": {\"color\": \"rgb(150,150,150)\", \"family\": \"Arial\", \"size\": 12}, \"showarrow\": false, \"text\": \"Covid Data Analytics\", \"xanchor\": \"auto\", \"xref\": \"paper\", \"y\": -0.185, \"yanchor\": \"bottom\", \"yref\": \"paper\"}, {\"font\": {\"color\": \"rgb(150,150,150)\", \"family\": \"Arial\", \"size\": 9}, \"showarrow\": false, \"text\": \"Fonte: https://www.dw.com/pt-br/cronologia-da-covid-19-no-brasil/g-52930927\", \"x\": -0.1, \"xanchor\": \"left\", \"xref\": \"paper\", \"y\": -0.23, \"yanchor\": \"bottom\", \"yref\": \"paper\"}, {\"font\": {\"color\": \"rgb(150,150,150)\", \"family\": \"Arial\", \"size\": 9}, \"showarrow\": false, \"text\": \"         https://agenciabrasil.ebc.com.br/saude/noticia/2021-02/primeiro-caso-de-covid-19-no-brasil-completa-um-ano\", \"x\": -0.1, \"xanchor\": \"left\", \"xref\": \"paper\", \"y\": -0.26, \"yanchor\": \"bottom\", \"yref\": \"paper\"}], \"legend\": {\"title\": {\"text\": \"Grupo de palavras\"}}, \"margin\": {\"b\": 150, \"t\": 60}, \"template\": {\"data\": {\"bar\": [{\"error_x\": {\"color\": \"#2a3f5f\"}, \"error_y\": {\"color\": \"#2a3f5f\"}, \"marker\": {\"line\": {\"color\": \"#E5ECF6\", \"width\": 0.5}}, \"type\": \"bar\"}], \"barpolar\": [{\"marker\": {\"line\": {\"color\": \"#E5ECF6\", \"width\": 0.5}}, \"type\": \"barpolar\"}], \"carpet\": [{\"aaxis\": {\"endlinecolor\": \"#2a3f5f\", \"gridcolor\": \"white\", \"linecolor\": \"white\", \"minorgridcolor\": \"white\", \"startlinecolor\": \"#2a3f5f\"}, \"baxis\": {\"endlinecolor\": \"#2a3f5f\", \"gridcolor\": \"white\", \"linecolor\": \"white\", \"minorgridcolor\": \"white\", \"startlinecolor\": \"#2a3f5f\"}, \"type\": \"carpet\"}], \"choropleth\": [{\"colorbar\": {\"outlinewidth\": 0, \"ticks\": \"\"}, \"type\": \"choropleth\"}], \"contour\": [{\"colorbar\": {\"outlinewidth\": 0, \"ticks\": \"\"}, \"colorscale\": [[0.0, \"#0d0887\"], [0.1111111111111111, \"#46039f\"], [0.2222222222222222, \"#7201a8\"], [0.3333333333333333, \"#9c179e\"], [0.4444444444444444, \"#bd3786\"], [0.5555555555555556, \"#d8576b\"], [0.6666666666666666, \"#ed7953\"], [0.7777777777777778, \"#fb9f3a\"], [0.8888888888888888, \"#fdca26\"], [1.0, \"#f0f921\"]], \"type\": \"contour\"}], \"contourcarpet\": [{\"colorbar\": {\"outlinewidth\": 0, \"ticks\": \"\"}, \"type\": \"contourcarpet\"}], \"heatmap\": [{\"colorbar\": {\"outlinewidth\": 0, \"ticks\": \"\"}, \"colorscale\": [[0.0, \"#0d0887\"], [0.1111111111111111, \"#46039f\"], [0.2222222222222222, \"#7201a8\"], [0.3333333333333333, \"#9c179e\"], [0.4444444444444444, \"#bd3786\"], [0.5555555555555556, \"#d8576b\"], [0.6666666666666666, \"#ed7953\"], [0.7777777777777778, \"#fb9f3a\"], [0.8888888888888888, \"#fdca26\"], [1.0, \"#f0f921\"]], \"type\": \"heatmap\"}], \"heatmapgl\": [{\"colorbar\": {\"outlinewidth\": 0, \"ticks\": \"\"}, \"colorscale\": [[0.0, \"#0d0887\"], [0.1111111111111111, \"#46039f\"], [0.2222222222222222, \"#7201a8\"], [0.3333333333333333, \"#9c179e\"], [0.4444444444444444, \"#bd3786\"], [0.5555555555555556, \"#d8576b\"], [0.6666666666666666, \"#ed7953\"], [0.7777777777777778, \"#fb9f3a\"], [0.8888888888888888, \"#fdca26\"], [1.0, \"#f0f921\"]], \"type\": \"heatmapgl\"}], \"histogram\": [{\"marker\": {\"colorbar\": {\"outlinewidth\": 0, \"ticks\": \"\"}}, \"type\": \"histogram\"}], \"histogram2d\": [{\"colorbar\": {\"outlinewidth\": 0, \"ticks\": \"\"}, \"colorscale\": [[0.0, \"#0d0887\"], [0.1111111111111111, \"#46039f\"], [0.2222222222222222, \"#7201a8\"], [0.3333333333333333, \"#9c179e\"], [0.4444444444444444, \"#bd3786\"], [0.5555555555555556, \"#d8576b\"], [0.6666666666666666, \"#ed7953\"], [0.7777777777777778, \"#fb9f3a\"], [0.8888888888888888, \"#fdca26\"], [1.0, \"#f0f921\"]], \"type\": \"histogram2d\"}], \"histogram2dcontour\": [{\"colorbar\": {\"outlinewidth\": 0, \"ticks\": \"\"}, \"colorscale\": [[0.0, \"#0d0887\"], [0.1111111111111111, \"#46039f\"], [0.2222222222222222, \"#7201a8\"], [0.3333333333333333, \"#9c179e\"], [0.4444444444444444, \"#bd3786\"], [0.5555555555555556, \"#d8576b\"], [0.6666666666666666, \"#ed7953\"], [0.7777777777777778, \"#fb9f3a\"], [0.8888888888888888, \"#fdca26\"], [1.0, \"#f0f921\"]], \"type\": \"histogram2dcontour\"}], \"mesh3d\": [{\"colorbar\": {\"outlinewidth\": 0, \"ticks\": \"\"}, \"type\": \"mesh3d\"}], \"parcoords\": [{\"line\": {\"colorbar\": {\"outlinewidth\": 0, \"ticks\": \"\"}}, \"type\": \"parcoords\"}], \"pie\": [{\"automargin\": true, \"type\": \"pie\"}], \"scatter\": [{\"marker\": {\"colorbar\": {\"outlinewidth\": 0, \"ticks\": \"\"}}, \"type\": \"scatter\"}], \"scatter3d\": [{\"line\": {\"colorbar\": {\"outlinewidth\": 0, \"ticks\": \"\"}}, \"marker\": {\"colorbar\": {\"outlinewidth\": 0, \"ticks\": \"\"}}, \"type\": \"scatter3d\"}], \"scattercarpet\": [{\"marker\": {\"colorbar\": {\"outlinewidth\": 0, \"ticks\": \"\"}}, \"type\": \"scattercarpet\"}], \"scattergeo\": [{\"marker\": {\"colorbar\": {\"outlinewidth\": 0, \"ticks\": \"\"}}, \"type\": \"scattergeo\"}], \"scattergl\": [{\"marker\": {\"colorbar\": {\"outlinewidth\": 0, \"ticks\": \"\"}}, \"type\": \"scattergl\"}], \"scattermapbox\": [{\"marker\": {\"colorbar\": {\"outlinewidth\": 0, \"ticks\": \"\"}}, \"type\": \"scattermapbox\"}], \"scatterpolar\": [{\"marker\": {\"colorbar\": {\"outlinewidth\": 0, \"ticks\": \"\"}}, \"type\": \"scatterpolar\"}], \"scatterpolargl\": [{\"marker\": {\"colorbar\": {\"outlinewidth\": 0, \"ticks\": \"\"}}, \"type\": \"scatterpolargl\"}], \"scatterternary\": [{\"marker\": {\"colorbar\": {\"outlinewidth\": 0, \"ticks\": \"\"}}, \"type\": \"scatterternary\"}], \"surface\": [{\"colorbar\": {\"outlinewidth\": 0, \"ticks\": \"\"}, \"colorscale\": [[0.0, \"#0d0887\"], [0.1111111111111111, \"#46039f\"], [0.2222222222222222, \"#7201a8\"], [0.3333333333333333, \"#9c179e\"], [0.4444444444444444, \"#bd3786\"], [0.5555555555555556, \"#d8576b\"], [0.6666666666666666, \"#ed7953\"], [0.7777777777777778, \"#fb9f3a\"], [0.8888888888888888, \"#fdca26\"], [1.0, \"#f0f921\"]], \"type\": \"surface\"}], \"table\": [{\"cells\": {\"fill\": {\"color\": \"#EBF0F8\"}, \"line\": {\"color\": \"white\"}}, \"header\": {\"fill\": {\"color\": \"#C8D4E3\"}, \"line\": {\"color\": \"white\"}}, \"type\": \"table\"}]}, \"layout\": {\"annotationdefaults\": {\"arrowcolor\": \"#2a3f5f\", \"arrowhead\": 0, \"arrowwidth\": 1}, \"autotypenumbers\": \"strict\", \"coloraxis\": {\"colorbar\": {\"outlinewidth\": 0, \"ticks\": \"\"}}, \"colorscale\": {\"diverging\": [[0, \"#8e0152\"], [0.1, \"#c51b7d\"], [0.2, \"#de77ae\"], [0.3, \"#f1b6da\"], [0.4, \"#fde0ef\"], [0.5, \"#f7f7f7\"], [0.6, \"#e6f5d0\"], [0.7, \"#b8e186\"], [0.8, \"#7fbc41\"], [0.9, \"#4d9221\"], [1, \"#276419\"]], \"sequential\": [[0.0, \"#0d0887\"], [0.1111111111111111, \"#46039f\"], [0.2222222222222222, \"#7201a8\"], [0.3333333333333333, \"#9c179e\"], [0.4444444444444444, \"#bd3786\"], [0.5555555555555556, \"#d8576b\"], [0.6666666666666666, \"#ed7953\"], [0.7777777777777778, \"#fb9f3a\"], [0.8888888888888888, \"#fdca26\"], [1.0, \"#f0f921\"]], \"sequentialminus\": [[0.0, \"#0d0887\"], [0.1111111111111111, \"#46039f\"], [0.2222222222222222, \"#7201a8\"], [0.3333333333333333, \"#9c179e\"], [0.4444444444444444, \"#bd3786\"], [0.5555555555555556, \"#d8576b\"], [0.6666666666666666, \"#ed7953\"], [0.7777777777777778, \"#fb9f3a\"], [0.8888888888888888, \"#fdca26\"], [1.0, \"#f0f921\"]]}, \"colorway\": [\"#636efa\", \"#EF553B\", \"#00cc96\", \"#ab63fa\", \"#FFA15A\", \"#19d3f3\", \"#FF6692\", \"#B6E880\", \"#FF97FF\", \"#FECB52\"], \"font\": {\"color\": \"#2a3f5f\"}, \"geo\": {\"bgcolor\": \"white\", \"lakecolor\": \"white\", \"landcolor\": \"#E5ECF6\", \"showlakes\": true, \"showland\": true, \"subunitcolor\": \"white\"}, \"hoverlabel\": {\"align\": \"left\"}, \"hovermode\": \"closest\", \"mapbox\": {\"style\": \"light\"}, \"paper_bgcolor\": \"white\", \"plot_bgcolor\": \"#E5ECF6\", \"polar\": {\"angularaxis\": {\"gridcolor\": \"white\", \"linecolor\": \"white\", \"ticks\": \"\"}, \"bgcolor\": \"#E5ECF6\", \"radialaxis\": {\"gridcolor\": \"white\", \"linecolor\": \"white\", \"ticks\": \"\"}}, \"scene\": {\"xaxis\": {\"backgroundcolor\": \"#E5ECF6\", \"gridcolor\": \"white\", \"gridwidth\": 2, \"linecolor\": \"white\", \"showbackground\": true, \"ticks\": \"\", \"zerolinecolor\": \"white\"}, \"yaxis\": {\"backgroundcolor\": \"#E5ECF6\", \"gridcolor\": \"white\", \"gridwidth\": 2, \"linecolor\": \"white\", \"showbackground\": true, \"ticks\": \"\", \"zerolinecolor\": \"white\"}, \"zaxis\": {\"backgroundcolor\": \"#E5ECF6\", \"gridcolor\": \"white\", \"gridwidth\": 2, \"linecolor\": \"white\", \"showbackground\": true, \"ticks\": \"\", \"zerolinecolor\": \"white\"}}, \"shapedefaults\": {\"line\": {\"color\": \"#2a3f5f\"}}, \"ternary\": {\"aaxis\": {\"gridcolor\": \"white\", \"linecolor\": \"white\", \"ticks\": \"\"}, \"baxis\": {\"gridcolor\": \"white\", \"linecolor\": \"white\", \"ticks\": \"\"}, \"bgcolor\": \"#E5ECF6\", \"caxis\": {\"gridcolor\": \"white\", \"linecolor\": \"white\", \"ticks\": \"\"}}, \"title\": {\"x\": 0.05}, \"xaxis\": {\"automargin\": true, \"gridcolor\": \"white\", \"linecolor\": \"white\", \"ticks\": \"\", \"title\": {\"standoff\": 15}, \"zerolinecolor\": \"white\", \"zerolinewidth\": 2}, \"yaxis\": {\"automargin\": true, \"gridcolor\": \"white\", \"linecolor\": \"white\", \"ticks\": \"\", \"title\": {\"standoff\": 15}, \"zerolinecolor\": \"white\", \"zerolinewidth\": 2}}}, \"title\": {\"text\": \"Ocorr\\u00eancia das palavras chave em tweets por semana\", \"x\": 0.4, \"xanchor\": \"center\", \"y\": 0.95, \"yanchor\": \"top\"}, \"xaxis\": {\"tickangle\": 0, \"tickmode\": \"array\", \"ticktext\": [\"May/20\", \"Jun/20\", \"Jul/20\", \"Aug/20\", \"Sep/20\", \"Oct/20\", \"Nov/20\", \"Dec/20\", \"Jan/21\"], \"tickvals\": [19, 24, 28, 32, 37, 41, 45, 50, 54], \"title\": {\"text\": \"Semana Epidemiol\\u00f3gica\"}}, \"yaxis\": {\"title\": {\"text\": \"N\\u00famero de Ocorr\\u00eancias/ Total de tweets\"}}},                        {\"responsive\": true}                    ).then(function(){\n",
       "                            \n",
       "var gd = document.getElementById('daafdd29-5286-4de4-9656-ab74d9a091bb');\n",
       "var x = new MutationObserver(function (mutations, observer) {{\n",
       "        var display = window.getComputedStyle(gd).display;\n",
       "        if (!display || display === 'none') {{\n",
       "            console.log([gd, 'removed!']);\n",
       "            Plotly.purge(gd);\n",
       "            observer.disconnect();\n",
       "        }}\n",
       "}});\n",
       "\n",
       "// Listen for the removal of the full notebook cells\n",
       "var notebookContainer = gd.closest('#notebook-container');\n",
       "if (notebookContainer) {{\n",
       "    x.observe(notebookContainer, {childList: true});\n",
       "}}\n",
       "\n",
       "// Listen for the clearing of the current output cell\n",
       "var outputEl = gd.closest('.output');\n",
       "if (outputEl) {{\n",
       "    x.observe(outputEl, {childList: true});\n",
       "}}\n",
       "\n",
       "                        })                };                });            </script>        </div>"
      ]
     },
     "metadata": {},
     "output_type": "display_data"
    }
   ],
   "source": [
    "fig = go.Figure(layout=dict(annotations=update))\n",
    "fig.add_trace(go.Scatter(x = ocor_rel.index,y = ocor_rel[\"corona, covid, coronavírus, covid19, sars, covid-19\"],legendgroup=\"A\", marker = dict(color = \"dodgerblue\"),name = \"corona, covid, coronavírus, covid19, sars, covid-19\",hoverinfo=\"none\"))\n",
    "fig.add_trace(go.Scatter(x = ocor_rel.index,y = ocor_rel[\"quarentena, confinamento\"], marker = dict(color = \"red\"),legendgroup=\"B\",name = \"quarentena, confinamento\",hoverinfo=\"none\"))\n",
    "fig.add_trace(go.Scatter(x = ocor_rel.index,y = ocor_rel[\"aglomeracao, aglomeracoes\"], marker = dict(color = \"seagreen\"),legendgroup=\"C\",name = \"aglomeracao, aglomeracoes\",hoverinfo=\"none\"))\n",
    "fig.add_trace(go.Scatter(x = ocor_rel.index,y = ocor_rel[\"distanciamento social\"], marker = dict(color = \"darkviolet\"),legendgroup=\"D\",name = \"distanciamento social\",hoverinfo=\"none\"))\n",
    "fig.add_trace(go.Scatter(x = ocor_rel.index,y = ocor_rel[\"hidroxicloroquina, cloroquina\"], marker = dict(color = \"#ff8000\"),legendgroup=\"E\", name = \"hidroxicloroquina, cloroquina\",hoverinfo=\"none\"))\n",
    "\n",
    "\n",
    "fig.add_trace(go.Scatter(x = ocor_rel[ocor_rel.acontecimentos!=\"\"][ocor_rel.feriado==False].index,y = ocor_rel[ocor_rel.acontecimentos!=\"\"][ocor_rel.feriado==False][\"corona, covid, coronavírus, covid19, sars, covid-19\"],legendgroup=\"A\",name = \"corona, covid, coronavírus, covid19, sars, covid-19\", mode=\"markers\",marker = dict(symbol = \"0\",size=5,color = \"#6d8484\"),showlegend=False,customdata=ocor_rel[ocor_rel.acontecimentos!=\"\"][ocor_rel.feriado==False][\"acontecimentos\"],hovertemplate='%{customdata}'))\n",
    "fig.add_trace(go.Scatter(x = ocor_rel[ocor_rel.acontecimentos!=\"\"][ocor_rel.feriado==False].index,y = ocor_rel[ocor_rel.acontecimentos!=\"\"][ocor_rel.feriado==False][\"quarentena, confinamento\"],legendgroup=\"B\",name = \"quarentena, confinamento\", mode=\"markers\",marker = dict(symbol = \"0\",size=5,color = \"#6d8484\"),showlegend=False, customdata=ocor_rel[ocor_rel.acontecimentos!=\"\"][ocor_rel.feriado==False][\"acontecimentos\"],hovertemplate='%{customdata}'))\n",
    "fig.add_trace(go.Scatter(x = ocor_rel[ocor_rel.acontecimentos!=\"\"][ocor_rel.feriado==False].index,y = ocor_rel[ocor_rel.acontecimentos!=\"\"][ocor_rel.feriado==False][\"aglomeracao, aglomeracoes\"],legendgroup=\"C\",name = \"aglomeracao, aglomeracoes\", mode=\"markers\",marker = dict(symbol = \"0\",size=5,color = \"#6d8484\"),showlegend=False, customdata=ocor_rel[ocor_rel.acontecimentos!=\"\"][ocor_rel.feriado==False][\"acontecimentos\"],hovertemplate='%{customdata}'))\n",
    "fig.add_trace(go.Scatter(x = ocor_rel[ocor_rel.acontecimentos!=\"\"][ocor_rel.feriado==False].index,y = ocor_rel[ocor_rel.acontecimentos!=\"\"][ocor_rel.feriado==False][\"distanciamento social\"],legendgroup=\"D\",name = \"distanciamento social\", mode=\"markers\",marker = dict(symbol = \"0\",size=5,color = \"#6d8484\"),showlegend=False, customdata=ocor_rel[ocor_rel.acontecimentos!=\"\"][ocor_rel.feriado==False][\"acontecimentos\"],hovertemplate='%{customdata}'))\n",
    "fig.add_trace(go.Scatter(x = ocor_rel[ocor_rel.acontecimentos!=\"\"][ocor_rel.feriado==False].index,y = ocor_rel[ocor_rel.acontecimentos!=\"\"][ocor_rel.feriado==False][\"hidroxicloroquina, cloroquina\"],legendgroup=\"E\", name = \"hidroxicloroquina, cloroquina\", mode=\"markers\",marker = dict(symbol = \"0\",size=5,color = \"#6d8484\"),showlegend=False,customdata=ocor_rel[ocor_rel.acontecimentos!=\"\"][ocor_rel.feriado==False][\"acontecimentos\"],hovertemplate='%{customdata}'))\n",
    "\n",
    "color = \"#6d8484\"\n",
    "sz = 7\n",
    "line=dict(\n",
    "    color='gold',\n",
    "    width=1\n",
    ")\n",
    "fig.add_trace(go.Scatter(x = ocor_rel[ocor_rel.feriado!=False].index,y = ocor_rel[ocor_rel.feriado!=False][\"corona, covid, coronavírus, covid19, sars, covid-19\"],legendgroup=\"F\",name = \"Feriado Nacional\", mode=\"markers\",marker = dict(symbol = \"18\",size=sz,color = color, line = line),showlegend=True,customdata=ocor_rel[ocor_rel.feriado!=False][\"acontecimentos\"],hovertemplate='%{customdata}'))\n",
    "fig.add_trace(go.Scatter(x = ocor_rel[ocor_rel.feriado!=False].index,y = ocor_rel[ocor_rel.feriado!=False][\"quarentena, confinamento\"],legendgroup=\"F\",name = \"Feriado Nacional\", mode=\"markers\",marker = dict(symbol = \"18\",size=sz,color = color, line = line),showlegend=False,customdata=ocor_rel[ocor_rel.feriado!=False][\"acontecimentos\"],hovertemplate='%{customdata}'))\n",
    "fig.add_trace(go.Scatter(x = ocor_rel[ocor_rel.feriado!=False].index,y = ocor_rel[ocor_rel.feriado!=False][\"aglomeracao, aglomeracoes\"],legendgroup=\"F\",name = \"Feriado Nacional\", mode=\"markers\",marker = dict(symbol = \"18\",size=sz,color = color, line = line),showlegend=False,customdata=ocor_rel[ocor_rel.feriado!=False][\"acontecimentos\"],hovertemplate='%{customdata}'))\n",
    "fig.add_trace(go.Scatter(x = ocor_rel[ocor_rel.feriado!=False].index,y = ocor_rel[ocor_rel.feriado!=False][\"distanciamento social\"],legendgroup=\"F\",name = \"Feriado Nacional\", mode=\"markers\",marker = dict(symbol = \"18\",size=sz,color = color, line = line),showlegend=False,customdata=ocor_rel[ocor_rel.feriado!=False][\"acontecimentos\"],hovertemplate='%{customdata}'))\n",
    "fig.add_trace(go.Scatter(x = ocor_rel[ocor_rel.feriado!=False].index,y = ocor_rel[ocor_rel.feriado!=False][\"hidroxicloroquina, cloroquina\"],legendgroup=\"F\", name = \"Feriado Nacional\", mode=\"markers\",marker = dict(symbol = \"18\",size=sz,color = color, line = line),showlegend=False,customdata=ocor_rel[ocor_rel.feriado!=False][\"acontecimentos\"],hovertemplate='%{customdata}'))\n",
    "\n",
    "#fig = px.line(ocor_rel,template=\"seaborn\")\n",
    "\n",
    "fig.update_layout(\n",
    "#    height=500,\n",
    "#    width = 1000,\n",
    "    margin=dict(t=60, b=150),\n",
    "    title={\n",
    "        \"text\":\"Ocorrência das palavras chave em tweets por semana\",\n",
    "        \"y\" : 0.95,\n",
    "        \"x\" : 0.4,\n",
    "        'xanchor': 'center',\n",
    "        'yanchor': 'top'},\n",
    "    xaxis_title=\"Semana Epidemiológica\",\n",
    "    yaxis_title=\"Número de Ocorrências/ Total de tweets\",\n",
    ")\n",
    "fig.update_layout(    \n",
    "    { \"xaxis\" : {\n",
    "        \"tickmode\" : \"array\",\n",
    "        \"tickvals\" :pd.DataFrame(np.unique(datas,return_index=True)).T.sort_values(1)[1].values+19,# [x for n,x in enumerate(ocor_rel.index) if n%4==0],\n",
    "        #\"ticktext\" : [y for n,y in enumerate(ocor_rel[\"label\"]) if n%2==0],\n",
    "        \"ticktext\" : pd.DataFrame(np.unique(datas,return_index=True)).T.sort_values(1)[0].values,\n",
    "        \"tickangle\" : 0,\n",
    "    }})\n",
    "\n",
    "update = []\n",
    "fonte = \"Covid Data Analytics\"\n",
    "tipografia2 = dict(family='Arial', size=12, color='rgb(150,150,150)')\n",
    "update.append(\n",
    "    dict(xref='paper', yref='paper',y = -0.185, xanchor='auto', yanchor=\"bottom\",text=fonte, font=tipografia2,showarrow=False)\n",
    ")\n",
    "fonte = \"Fonte: https://www.dw.com/pt-br/cronologia-da-covid-19-no-brasil/g-52930927\"\n",
    "tipografia2 = dict(family='Arial', size=9, color='rgb(150,150,150)')\n",
    "update.append(\n",
    "    dict(xref='paper', yref='paper', x=-0.10, y=-0.23, xanchor='left', yanchor='bottom',text=fonte, font=tipografia2,showarrow=False)\n",
    ")\n",
    "fonte = \"         https://agenciabrasil.ebc.com.br/saude/noticia/2021-02/primeiro-caso-de-covid-19-no-brasil-completa-um-ano\"\n",
    "update.append(\n",
    "    dict(xref='paper', yref='paper', x=-0.10, y=-0.26, xanchor='left', yanchor='bottom',text=fonte, font=tipografia2,showarrow=False)\n",
    ")\n",
    "fig.update_layout(annotations=update)\n",
    "\n",
    "#fig.update_traces(hovertemplate='%{customdata}')\n",
    "fig.update_layout(legend_title_text='Grupo de palavras')\n",
    "#plot_box(\"quarentena, confinamento\",[22,26,27,27],[1,2,3,4],[0,0,0,0],ayi=[90,-60,-105,-130],axi=[75,-7,60,100])\n",
    "fig.show()\n",
    "fig.write_html(\"ocorrencias_palavras_chave.html\")\n",
    "#py.plot(fig,filename=\"ocorrencias_palavras_chave.html\", auto_open=False)"
   ]
  },
  {
   "cell_type": "code",
   "execution_count": 301,
   "metadata": {
    "scrolled": false
   },
   "outputs": [
    {
     "data": {
      "application/vnd.plotly.v1+json": {
       "config": {
        "plotlyServerURL": "https://plot.ly"
       },
       "data": [
        {
         "cells": {
          "align": [
           "center",
           "center",
           "left"
          ],
          "values": [
           [
            "03/05",
            "14/05",
            "15/05",
            "15/05",
            "16/05",
            "20/05",
            "04/06",
            "11/06",
            "15/06",
            "19/06",
            "22/06",
            "22/06",
            "27/06",
            "30/06",
            "07/07",
            "16/07",
            "06/08",
            "08/08",
            "11/08",
            "18/08",
            "24/08",
            "26/08",
            "01/09",
            "07/09",
            "16/09",
            "19/09",
            "07/10",
            "19/10",
            "20/10",
            "20/10",
            "23/10",
            "27/10",
            "19/11",
            "23/11",
            "10/12"
           ],
           [
            19,
            20,
            20,
            20,
            20,
            21,
            23,
            24,
            25,
            25,
            26,
            26,
            26,
            27,
            28,
            29,
            32,
            32,
            33,
            34,
            35,
            35,
            36,
            37,
            38,
            38,
            41,
            43,
            43,
            43,
            43,
            44,
            47,
            48,
            50
           ],
           [
            "O ministro da Saúde, Nelson Teich, contrata 267 profissionais para combater a covid-19 no Amazonas",
            "Bolsonaro livra agentes públicos de responsabilidade por erros durante epidemia",
            "Covid-19 atinge dezenas de povos indígenas",
            "Nelson Teich pede demissão do Ministério da Saúde",
            "Governo anuncia que secretário executivo do Ministério da Saúde, Eduardo Pazuello, assumirá interinamente o comando da pasta",
            "Sem base científica, governo amplia uso da cloroquina",
            "Brasil ultrapassa Itália e é terceiro país com mais mortes por covid-19",
            "Instituto Butantan anuncia que produzirá uma vacina contra o novo coronavírus em parceria com o laboratório chinês Sinovac Biotech",
            "Brasil amplia orientações de uso da cloroquina contra a covid-19",
            "Casos de covid-19 passam de 1 milhão no Brasil",
            "Vacina de Oxford contra covid-19 começa a ser testada no Brasil",
            "Juiz manda Bolsonaro usar máscara em público",
            "Ministério da Saúde anuncia acordo entre a Fiocruz e a biofarmacêutica AstraZeneca para a compra e transferência de tecnologia de vacina desenvolvida em Oxford",
            "UE estende proibição à entrada de viajantes do Brasil",
            "Bolsonaro diz estar com covid-19",
            "Casos de covid-19 passam de 2 milhões no Brasil",
            "Assinada a Medida Provisória que destina R$ 1,9 bilhão para a produção e aquisição da vacina do laboratório AstraZeneca em parceria com Oxford",
            "Brasil: 100 mil mortos por covid-19",
            "Mais uma empresa alemã pretende testar vacina contra covid-19 no Brasil",
            "Brasil autoriza testes de mais uma vacina contra covid-19",
            "O ministro interino da Saúde, Eduardo Pazuello, afirma que muitas mortes poderiam ter sido evitadas com o protocolo atual de diagnóstico e tratamento precoce da doença",
            "Saldo do coronavírus após seis meses no Brasil",
            "Auxílio emergencial é prorrogado por quatro meses, com o valor de R$ 300",
            "Índia passa Brasil e é segundo país com mais casos de covid-19",
            "Pazuello é efetivado como ministro da Saúde",
            "Brasil adere à iniciativa global por vacinas contra covid-19",
            "Brasil ultrapassa marca de 5 milhões de casos de covid-19",
            "Testes no Brasil mostram segurança de vacina chinesa, diz Butantan",
            "Pandemia deve elevar tanto a fome quanto a obesidade entre brasileiros",
            "Brasil incluirá vacina chinesa em calendário nacional de vacinação",
            "Anvisa autoriza importar 6 milhões de doses de vacina chinesa",
            "Alunos das redes públicas e particulares começam a voltar para as salas de aula em vários estados brasileiros",
            "São Paulo recebe as primeiras 120 mil doses CoronaVac. Vacina aguarda dados de eficácia e liberação pela Anvisa",
            "Resultados preliminares dos estudos clínicos da Fase 3 da vacina da Universidade de Oxford indicam eficácia de 90%",
            "Ministério da Saúde divulga a confirmação do primeiro caso, no país, de reinfecção pelo vírus"
           ]
          ]
         },
         "columnwidth": [
          7,
          20,
          50
         ],
         "header": {
          "values": [
           "Data",
           "Senama Epidemiológica",
           "Acontecimento"
          ]
         },
         "type": "table"
        }
       ],
       "layout": {
        "template": {
         "data": {
          "bar": [
           {
            "error_x": {
             "color": "#2a3f5f"
            },
            "error_y": {
             "color": "#2a3f5f"
            },
            "marker": {
             "line": {
              "color": "#E5ECF6",
              "width": 0.5
             }
            },
            "type": "bar"
           }
          ],
          "barpolar": [
           {
            "marker": {
             "line": {
              "color": "#E5ECF6",
              "width": 0.5
             }
            },
            "type": "barpolar"
           }
          ],
          "carpet": [
           {
            "aaxis": {
             "endlinecolor": "#2a3f5f",
             "gridcolor": "white",
             "linecolor": "white",
             "minorgridcolor": "white",
             "startlinecolor": "#2a3f5f"
            },
            "baxis": {
             "endlinecolor": "#2a3f5f",
             "gridcolor": "white",
             "linecolor": "white",
             "minorgridcolor": "white",
             "startlinecolor": "#2a3f5f"
            },
            "type": "carpet"
           }
          ],
          "choropleth": [
           {
            "colorbar": {
             "outlinewidth": 0,
             "ticks": ""
            },
            "type": "choropleth"
           }
          ],
          "contour": [
           {
            "colorbar": {
             "outlinewidth": 0,
             "ticks": ""
            },
            "colorscale": [
             [
              0,
              "#0d0887"
             ],
             [
              0.1111111111111111,
              "#46039f"
             ],
             [
              0.2222222222222222,
              "#7201a8"
             ],
             [
              0.3333333333333333,
              "#9c179e"
             ],
             [
              0.4444444444444444,
              "#bd3786"
             ],
             [
              0.5555555555555556,
              "#d8576b"
             ],
             [
              0.6666666666666666,
              "#ed7953"
             ],
             [
              0.7777777777777778,
              "#fb9f3a"
             ],
             [
              0.8888888888888888,
              "#fdca26"
             ],
             [
              1,
              "#f0f921"
             ]
            ],
            "type": "contour"
           }
          ],
          "contourcarpet": [
           {
            "colorbar": {
             "outlinewidth": 0,
             "ticks": ""
            },
            "type": "contourcarpet"
           }
          ],
          "heatmap": [
           {
            "colorbar": {
             "outlinewidth": 0,
             "ticks": ""
            },
            "colorscale": [
             [
              0,
              "#0d0887"
             ],
             [
              0.1111111111111111,
              "#46039f"
             ],
             [
              0.2222222222222222,
              "#7201a8"
             ],
             [
              0.3333333333333333,
              "#9c179e"
             ],
             [
              0.4444444444444444,
              "#bd3786"
             ],
             [
              0.5555555555555556,
              "#d8576b"
             ],
             [
              0.6666666666666666,
              "#ed7953"
             ],
             [
              0.7777777777777778,
              "#fb9f3a"
             ],
             [
              0.8888888888888888,
              "#fdca26"
             ],
             [
              1,
              "#f0f921"
             ]
            ],
            "type": "heatmap"
           }
          ],
          "heatmapgl": [
           {
            "colorbar": {
             "outlinewidth": 0,
             "ticks": ""
            },
            "colorscale": [
             [
              0,
              "#0d0887"
             ],
             [
              0.1111111111111111,
              "#46039f"
             ],
             [
              0.2222222222222222,
              "#7201a8"
             ],
             [
              0.3333333333333333,
              "#9c179e"
             ],
             [
              0.4444444444444444,
              "#bd3786"
             ],
             [
              0.5555555555555556,
              "#d8576b"
             ],
             [
              0.6666666666666666,
              "#ed7953"
             ],
             [
              0.7777777777777778,
              "#fb9f3a"
             ],
             [
              0.8888888888888888,
              "#fdca26"
             ],
             [
              1,
              "#f0f921"
             ]
            ],
            "type": "heatmapgl"
           }
          ],
          "histogram": [
           {
            "marker": {
             "colorbar": {
              "outlinewidth": 0,
              "ticks": ""
             }
            },
            "type": "histogram"
           }
          ],
          "histogram2d": [
           {
            "colorbar": {
             "outlinewidth": 0,
             "ticks": ""
            },
            "colorscale": [
             [
              0,
              "#0d0887"
             ],
             [
              0.1111111111111111,
              "#46039f"
             ],
             [
              0.2222222222222222,
              "#7201a8"
             ],
             [
              0.3333333333333333,
              "#9c179e"
             ],
             [
              0.4444444444444444,
              "#bd3786"
             ],
             [
              0.5555555555555556,
              "#d8576b"
             ],
             [
              0.6666666666666666,
              "#ed7953"
             ],
             [
              0.7777777777777778,
              "#fb9f3a"
             ],
             [
              0.8888888888888888,
              "#fdca26"
             ],
             [
              1,
              "#f0f921"
             ]
            ],
            "type": "histogram2d"
           }
          ],
          "histogram2dcontour": [
           {
            "colorbar": {
             "outlinewidth": 0,
             "ticks": ""
            },
            "colorscale": [
             [
              0,
              "#0d0887"
             ],
             [
              0.1111111111111111,
              "#46039f"
             ],
             [
              0.2222222222222222,
              "#7201a8"
             ],
             [
              0.3333333333333333,
              "#9c179e"
             ],
             [
              0.4444444444444444,
              "#bd3786"
             ],
             [
              0.5555555555555556,
              "#d8576b"
             ],
             [
              0.6666666666666666,
              "#ed7953"
             ],
             [
              0.7777777777777778,
              "#fb9f3a"
             ],
             [
              0.8888888888888888,
              "#fdca26"
             ],
             [
              1,
              "#f0f921"
             ]
            ],
            "type": "histogram2dcontour"
           }
          ],
          "mesh3d": [
           {
            "colorbar": {
             "outlinewidth": 0,
             "ticks": ""
            },
            "type": "mesh3d"
           }
          ],
          "parcoords": [
           {
            "line": {
             "colorbar": {
              "outlinewidth": 0,
              "ticks": ""
             }
            },
            "type": "parcoords"
           }
          ],
          "pie": [
           {
            "automargin": true,
            "type": "pie"
           }
          ],
          "scatter": [
           {
            "marker": {
             "colorbar": {
              "outlinewidth": 0,
              "ticks": ""
             }
            },
            "type": "scatter"
           }
          ],
          "scatter3d": [
           {
            "line": {
             "colorbar": {
              "outlinewidth": 0,
              "ticks": ""
             }
            },
            "marker": {
             "colorbar": {
              "outlinewidth": 0,
              "ticks": ""
             }
            },
            "type": "scatter3d"
           }
          ],
          "scattercarpet": [
           {
            "marker": {
             "colorbar": {
              "outlinewidth": 0,
              "ticks": ""
             }
            },
            "type": "scattercarpet"
           }
          ],
          "scattergeo": [
           {
            "marker": {
             "colorbar": {
              "outlinewidth": 0,
              "ticks": ""
             }
            },
            "type": "scattergeo"
           }
          ],
          "scattergl": [
           {
            "marker": {
             "colorbar": {
              "outlinewidth": 0,
              "ticks": ""
             }
            },
            "type": "scattergl"
           }
          ],
          "scattermapbox": [
           {
            "marker": {
             "colorbar": {
              "outlinewidth": 0,
              "ticks": ""
             }
            },
            "type": "scattermapbox"
           }
          ],
          "scatterpolar": [
           {
            "marker": {
             "colorbar": {
              "outlinewidth": 0,
              "ticks": ""
             }
            },
            "type": "scatterpolar"
           }
          ],
          "scatterpolargl": [
           {
            "marker": {
             "colorbar": {
              "outlinewidth": 0,
              "ticks": ""
             }
            },
            "type": "scatterpolargl"
           }
          ],
          "scatterternary": [
           {
            "marker": {
             "colorbar": {
              "outlinewidth": 0,
              "ticks": ""
             }
            },
            "type": "scatterternary"
           }
          ],
          "surface": [
           {
            "colorbar": {
             "outlinewidth": 0,
             "ticks": ""
            },
            "colorscale": [
             [
              0,
              "#0d0887"
             ],
             [
              0.1111111111111111,
              "#46039f"
             ],
             [
              0.2222222222222222,
              "#7201a8"
             ],
             [
              0.3333333333333333,
              "#9c179e"
             ],
             [
              0.4444444444444444,
              "#bd3786"
             ],
             [
              0.5555555555555556,
              "#d8576b"
             ],
             [
              0.6666666666666666,
              "#ed7953"
             ],
             [
              0.7777777777777778,
              "#fb9f3a"
             ],
             [
              0.8888888888888888,
              "#fdca26"
             ],
             [
              1,
              "#f0f921"
             ]
            ],
            "type": "surface"
           }
          ],
          "table": [
           {
            "cells": {
             "fill": {
              "color": "#EBF0F8"
             },
             "line": {
              "color": "white"
             }
            },
            "header": {
             "fill": {
              "color": "#C8D4E3"
             },
             "line": {
              "color": "white"
             }
            },
            "type": "table"
           }
          ]
         },
         "layout": {
          "annotationdefaults": {
           "arrowcolor": "#2a3f5f",
           "arrowhead": 0,
           "arrowwidth": 1
          },
          "autotypenumbers": "strict",
          "coloraxis": {
           "colorbar": {
            "outlinewidth": 0,
            "ticks": ""
           }
          },
          "colorscale": {
           "diverging": [
            [
             0,
             "#8e0152"
            ],
            [
             0.1,
             "#c51b7d"
            ],
            [
             0.2,
             "#de77ae"
            ],
            [
             0.3,
             "#f1b6da"
            ],
            [
             0.4,
             "#fde0ef"
            ],
            [
             0.5,
             "#f7f7f7"
            ],
            [
             0.6,
             "#e6f5d0"
            ],
            [
             0.7,
             "#b8e186"
            ],
            [
             0.8,
             "#7fbc41"
            ],
            [
             0.9,
             "#4d9221"
            ],
            [
             1,
             "#276419"
            ]
           ],
           "sequential": [
            [
             0,
             "#0d0887"
            ],
            [
             0.1111111111111111,
             "#46039f"
            ],
            [
             0.2222222222222222,
             "#7201a8"
            ],
            [
             0.3333333333333333,
             "#9c179e"
            ],
            [
             0.4444444444444444,
             "#bd3786"
            ],
            [
             0.5555555555555556,
             "#d8576b"
            ],
            [
             0.6666666666666666,
             "#ed7953"
            ],
            [
             0.7777777777777778,
             "#fb9f3a"
            ],
            [
             0.8888888888888888,
             "#fdca26"
            ],
            [
             1,
             "#f0f921"
            ]
           ],
           "sequentialminus": [
            [
             0,
             "#0d0887"
            ],
            [
             0.1111111111111111,
             "#46039f"
            ],
            [
             0.2222222222222222,
             "#7201a8"
            ],
            [
             0.3333333333333333,
             "#9c179e"
            ],
            [
             0.4444444444444444,
             "#bd3786"
            ],
            [
             0.5555555555555556,
             "#d8576b"
            ],
            [
             0.6666666666666666,
             "#ed7953"
            ],
            [
             0.7777777777777778,
             "#fb9f3a"
            ],
            [
             0.8888888888888888,
             "#fdca26"
            ],
            [
             1,
             "#f0f921"
            ]
           ]
          },
          "colorway": [
           "#636efa",
           "#EF553B",
           "#00cc96",
           "#ab63fa",
           "#FFA15A",
           "#19d3f3",
           "#FF6692",
           "#B6E880",
           "#FF97FF",
           "#FECB52"
          ],
          "font": {
           "color": "#2a3f5f"
          },
          "geo": {
           "bgcolor": "white",
           "lakecolor": "white",
           "landcolor": "#E5ECF6",
           "showlakes": true,
           "showland": true,
           "subunitcolor": "white"
          },
          "hoverlabel": {
           "align": "left"
          },
          "hovermode": "closest",
          "mapbox": {
           "style": "light"
          },
          "paper_bgcolor": "white",
          "plot_bgcolor": "#E5ECF6",
          "polar": {
           "angularaxis": {
            "gridcolor": "white",
            "linecolor": "white",
            "ticks": ""
           },
           "bgcolor": "#E5ECF6",
           "radialaxis": {
            "gridcolor": "white",
            "linecolor": "white",
            "ticks": ""
           }
          },
          "scene": {
           "xaxis": {
            "backgroundcolor": "#E5ECF6",
            "gridcolor": "white",
            "gridwidth": 2,
            "linecolor": "white",
            "showbackground": true,
            "ticks": "",
            "zerolinecolor": "white"
           },
           "yaxis": {
            "backgroundcolor": "#E5ECF6",
            "gridcolor": "white",
            "gridwidth": 2,
            "linecolor": "white",
            "showbackground": true,
            "ticks": "",
            "zerolinecolor": "white"
           },
           "zaxis": {
            "backgroundcolor": "#E5ECF6",
            "gridcolor": "white",
            "gridwidth": 2,
            "linecolor": "white",
            "showbackground": true,
            "ticks": "",
            "zerolinecolor": "white"
           }
          },
          "shapedefaults": {
           "line": {
            "color": "#2a3f5f"
           }
          },
          "ternary": {
           "aaxis": {
            "gridcolor": "white",
            "linecolor": "white",
            "ticks": ""
           },
           "baxis": {
            "gridcolor": "white",
            "linecolor": "white",
            "ticks": ""
           },
           "bgcolor": "#E5ECF6",
           "caxis": {
            "gridcolor": "white",
            "linecolor": "white",
            "ticks": ""
           }
          },
          "title": {
           "x": 0.05
          },
          "xaxis": {
           "automargin": true,
           "gridcolor": "white",
           "linecolor": "white",
           "ticks": "",
           "title": {
            "standoff": 15
           },
           "zerolinecolor": "white",
           "zerolinewidth": 2
          },
          "yaxis": {
           "automargin": true,
           "gridcolor": "white",
           "linecolor": "white",
           "ticks": "",
           "title": {
            "standoff": 15
           },
           "zerolinecolor": "white",
           "zerolinewidth": 2
          }
         }
        }
       }
      },
      "text/html": [
       "<div>                            <div id=\"37defc9a-c15c-47da-b2b1-848cff5c4614\" class=\"plotly-graph-div\" style=\"height:525px; width:100%;\"></div>            <script type=\"text/javascript\">                require([\"plotly\"], function(Plotly) {                    window.PLOTLYENV=window.PLOTLYENV || {};                                    if (document.getElementById(\"37defc9a-c15c-47da-b2b1-848cff5c4614\")) {                    Plotly.newPlot(                        \"37defc9a-c15c-47da-b2b1-848cff5c4614\",                        [{\"cells\": {\"align\": [\"center\", \"center\", \"left\"], \"values\": [[\"03/05\", \"14/05\", \"15/05\", \"15/05\", \"16/05\", \"20/05\", \"04/06\", \"11/06\", \"15/06\", \"19/06\", \"22/06\", \"22/06\", \"27/06\", \"30/06\", \"07/07\", \"16/07\", \"06/08\", \"08/08\", \"11/08\", \"18/08\", \"24/08\", \"26/08\", \"01/09\", \"07/09\", \"16/09\", \"19/09\", \"07/10\", \"19/10\", \"20/10\", \"20/10\", \"23/10\", \"27/10\", \"19/11\", \"23/11\", \"10/12\"], [19, 20, 20, 20, 20, 21, 23, 24, 25, 25, 26, 26, 26, 27, 28, 29, 32, 32, 33, 34, 35, 35, 36, 37, 38, 38, 41, 43, 43, 43, 43, 44, 47, 48, 50], [\"O ministro da Sa\\u00fade, Nelson Teich, contrata 267 profissionais para combater a covid-19 no Amazonas\", \"Bolsonaro livra agentes p\\u00fablicos de responsabilidade por erros durante epidemia\", \"Covid-19 atinge dezenas de povos ind\\u00edgenas\", \"Nelson Teich pede demiss\\u00e3o do Minist\\u00e9rio da Sa\\u00fade\", \"Governo anuncia que secret\\u00e1rio executivo do Minist\\u00e9rio da Sa\\u00fade, Eduardo Pazuello, assumir\\u00e1 interinamente o comando da pasta\", \"Sem base cient\\u00edfica, governo amplia uso da cloroquina\", \"Brasil ultrapassa It\\u00e1lia e \\u00e9 terceiro pa\\u00eds com mais mortes por covid-19\", \"Instituto Butantan anuncia que produzir\\u00e1 uma vacina contra o novo coronav\\u00edrus em parceria com o laborat\\u00f3rio chin\\u00eas Sinovac Biotech\", \"Brasil amplia orienta\\u00e7\\u00f5es de uso da cloroquina contra a covid-19\", \"Casos de covid-19 passam de 1 milh\\u00e3o no Brasil\", \"Vacina de Oxford contra covid-19 come\\u00e7a a ser testada no Brasil\", \"Juiz manda Bolsonaro usar m\\u00e1scara em p\\u00fablico\", \"Minist\\u00e9rio da Sa\\u00fade anuncia acordo entre a Fiocruz e a biofarmac\\u00eautica AstraZeneca para a compra e transfer\\u00eancia de tecnologia de vacina desenvolvida em Oxford\", \"UE estende proibi\\u00e7\\u00e3o \\u00e0 entrada de viajantes do Brasil\", \"Bolsonaro diz estar com covid-19\", \"Casos de covid-19 passam de 2 milh\\u00f5es no Brasil\", \"Assinada a Medida Provis\\u00f3ria que destina R$ 1,9 bilh\\u00e3o para a produ\\u00e7\\u00e3o e aquisi\\u00e7\\u00e3o da vacina do laborat\\u00f3rio AstraZeneca em parceria com Oxford\", \"Brasil: 100 mil mortos por covid-19\", \"Mais uma empresa alem\\u00e3 pretende testar vacina contra covid-19 no Brasil\", \"Brasil autoriza testes de mais uma vacina contra covid-19\", \"O ministro interino da Sa\\u00fade, Eduardo Pazuello, afirma que muitas mortes poderiam ter sido evitadas com o protocolo atual de diagn\\u00f3stico e tratamento precoce da doen\\u00e7a\", \"Saldo do coronav\\u00edrus ap\\u00f3s seis meses no Brasil\", \"Aux\\u00edlio emergencial \\u00e9 prorrogado por quatro meses, com o valor de R$ 300\", \"\\u00cdndia passa Brasil e \\u00e9 segundo pa\\u00eds com mais casos de covid-19\", \"Pazuello \\u00e9 efetivado como ministro da Sa\\u00fade\", \"Brasil adere \\u00e0 iniciativa global por vacinas contra covid-19\", \"Brasil ultrapassa marca de 5 milh\\u00f5es de casos de covid-19\", \"Testes no Brasil mostram seguran\\u00e7a de vacina chinesa, diz Butantan\", \"Pandemia deve elevar tanto a fome quanto a obesidade entre brasileiros\", \"Brasil incluir\\u00e1 vacina chinesa em calend\\u00e1rio nacional de vacina\\u00e7\\u00e3o\", \"Anvisa autoriza importar 6 milh\\u00f5es de doses de vacina chinesa\", \"Alunos das redes p\\u00fablicas e particulares come\\u00e7am a voltar para as salas de aula em v\\u00e1rios estados brasileiros\", \"S\\u00e3o Paulo recebe as primeiras 120 mil doses CoronaVac. Vacina aguarda dados de efic\\u00e1cia e libera\\u00e7\\u00e3o pela Anvisa\", \"Resultados preliminares dos estudos cl\\u00ednicos da Fase 3 da vacina da Universidade de Oxford indicam efic\\u00e1cia de 90%\", \"Minist\\u00e9rio da Sa\\u00fade divulga a confirma\\u00e7\\u00e3o do primeiro caso, no pa\\u00eds, de reinfec\\u00e7\\u00e3o pelo v\\u00edrus\"]]}, \"columnwidth\": [7, 20, 50], \"header\": {\"values\": [\"Data\", \"Senama Epidemiol\\u00f3gica\", \"Acontecimento\"]}, \"type\": \"table\"}],                        {\"template\": {\"data\": {\"bar\": [{\"error_x\": {\"color\": \"#2a3f5f\"}, \"error_y\": {\"color\": \"#2a3f5f\"}, \"marker\": {\"line\": {\"color\": \"#E5ECF6\", \"width\": 0.5}}, \"type\": \"bar\"}], \"barpolar\": [{\"marker\": {\"line\": {\"color\": \"#E5ECF6\", \"width\": 0.5}}, \"type\": \"barpolar\"}], \"carpet\": [{\"aaxis\": {\"endlinecolor\": \"#2a3f5f\", \"gridcolor\": \"white\", \"linecolor\": \"white\", \"minorgridcolor\": \"white\", \"startlinecolor\": \"#2a3f5f\"}, \"baxis\": {\"endlinecolor\": \"#2a3f5f\", \"gridcolor\": \"white\", \"linecolor\": \"white\", \"minorgridcolor\": \"white\", \"startlinecolor\": \"#2a3f5f\"}, \"type\": \"carpet\"}], \"choropleth\": [{\"colorbar\": {\"outlinewidth\": 0, \"ticks\": \"\"}, \"type\": \"choropleth\"}], \"contour\": [{\"colorbar\": {\"outlinewidth\": 0, \"ticks\": \"\"}, \"colorscale\": [[0.0, \"#0d0887\"], [0.1111111111111111, \"#46039f\"], [0.2222222222222222, \"#7201a8\"], [0.3333333333333333, \"#9c179e\"], [0.4444444444444444, \"#bd3786\"], [0.5555555555555556, \"#d8576b\"], [0.6666666666666666, \"#ed7953\"], [0.7777777777777778, \"#fb9f3a\"], [0.8888888888888888, \"#fdca26\"], [1.0, \"#f0f921\"]], \"type\": \"contour\"}], \"contourcarpet\": [{\"colorbar\": {\"outlinewidth\": 0, \"ticks\": \"\"}, \"type\": \"contourcarpet\"}], \"heatmap\": [{\"colorbar\": {\"outlinewidth\": 0, \"ticks\": \"\"}, \"colorscale\": [[0.0, \"#0d0887\"], [0.1111111111111111, \"#46039f\"], [0.2222222222222222, \"#7201a8\"], [0.3333333333333333, \"#9c179e\"], [0.4444444444444444, \"#bd3786\"], [0.5555555555555556, \"#d8576b\"], [0.6666666666666666, \"#ed7953\"], [0.7777777777777778, \"#fb9f3a\"], [0.8888888888888888, \"#fdca26\"], [1.0, \"#f0f921\"]], \"type\": \"heatmap\"}], \"heatmapgl\": [{\"colorbar\": {\"outlinewidth\": 0, \"ticks\": \"\"}, \"colorscale\": [[0.0, \"#0d0887\"], [0.1111111111111111, \"#46039f\"], [0.2222222222222222, \"#7201a8\"], [0.3333333333333333, \"#9c179e\"], [0.4444444444444444, \"#bd3786\"], [0.5555555555555556, \"#d8576b\"], [0.6666666666666666, \"#ed7953\"], [0.7777777777777778, \"#fb9f3a\"], [0.8888888888888888, \"#fdca26\"], [1.0, \"#f0f921\"]], \"type\": \"heatmapgl\"}], \"histogram\": [{\"marker\": {\"colorbar\": {\"outlinewidth\": 0, \"ticks\": \"\"}}, \"type\": \"histogram\"}], \"histogram2d\": [{\"colorbar\": {\"outlinewidth\": 0, \"ticks\": \"\"}, \"colorscale\": [[0.0, \"#0d0887\"], [0.1111111111111111, \"#46039f\"], [0.2222222222222222, \"#7201a8\"], [0.3333333333333333, \"#9c179e\"], [0.4444444444444444, \"#bd3786\"], [0.5555555555555556, \"#d8576b\"], [0.6666666666666666, \"#ed7953\"], [0.7777777777777778, \"#fb9f3a\"], [0.8888888888888888, \"#fdca26\"], [1.0, \"#f0f921\"]], \"type\": \"histogram2d\"}], \"histogram2dcontour\": [{\"colorbar\": {\"outlinewidth\": 0, \"ticks\": \"\"}, \"colorscale\": [[0.0, \"#0d0887\"], [0.1111111111111111, \"#46039f\"], [0.2222222222222222, \"#7201a8\"], [0.3333333333333333, \"#9c179e\"], [0.4444444444444444, \"#bd3786\"], [0.5555555555555556, \"#d8576b\"], [0.6666666666666666, \"#ed7953\"], [0.7777777777777778, \"#fb9f3a\"], [0.8888888888888888, \"#fdca26\"], [1.0, \"#f0f921\"]], \"type\": \"histogram2dcontour\"}], \"mesh3d\": [{\"colorbar\": {\"outlinewidth\": 0, \"ticks\": \"\"}, \"type\": \"mesh3d\"}], \"parcoords\": [{\"line\": {\"colorbar\": {\"outlinewidth\": 0, \"ticks\": \"\"}}, \"type\": \"parcoords\"}], \"pie\": [{\"automargin\": true, \"type\": \"pie\"}], \"scatter\": [{\"marker\": {\"colorbar\": {\"outlinewidth\": 0, \"ticks\": \"\"}}, \"type\": \"scatter\"}], \"scatter3d\": [{\"line\": {\"colorbar\": {\"outlinewidth\": 0, \"ticks\": \"\"}}, \"marker\": {\"colorbar\": {\"outlinewidth\": 0, \"ticks\": \"\"}}, \"type\": \"scatter3d\"}], \"scattercarpet\": [{\"marker\": {\"colorbar\": {\"outlinewidth\": 0, \"ticks\": \"\"}}, \"type\": \"scattercarpet\"}], \"scattergeo\": [{\"marker\": {\"colorbar\": {\"outlinewidth\": 0, \"ticks\": \"\"}}, \"type\": \"scattergeo\"}], \"scattergl\": [{\"marker\": {\"colorbar\": {\"outlinewidth\": 0, \"ticks\": \"\"}}, \"type\": \"scattergl\"}], \"scattermapbox\": [{\"marker\": {\"colorbar\": {\"outlinewidth\": 0, \"ticks\": \"\"}}, \"type\": \"scattermapbox\"}], \"scatterpolar\": [{\"marker\": {\"colorbar\": {\"outlinewidth\": 0, \"ticks\": \"\"}}, \"type\": \"scatterpolar\"}], \"scatterpolargl\": [{\"marker\": {\"colorbar\": {\"outlinewidth\": 0, \"ticks\": \"\"}}, \"type\": \"scatterpolargl\"}], \"scatterternary\": [{\"marker\": {\"colorbar\": {\"outlinewidth\": 0, \"ticks\": \"\"}}, \"type\": \"scatterternary\"}], \"surface\": [{\"colorbar\": {\"outlinewidth\": 0, \"ticks\": \"\"}, \"colorscale\": [[0.0, \"#0d0887\"], [0.1111111111111111, \"#46039f\"], [0.2222222222222222, \"#7201a8\"], [0.3333333333333333, \"#9c179e\"], [0.4444444444444444, \"#bd3786\"], [0.5555555555555556, \"#d8576b\"], [0.6666666666666666, \"#ed7953\"], [0.7777777777777778, \"#fb9f3a\"], [0.8888888888888888, \"#fdca26\"], [1.0, \"#f0f921\"]], \"type\": \"surface\"}], \"table\": [{\"cells\": {\"fill\": {\"color\": \"#EBF0F8\"}, \"line\": {\"color\": \"white\"}}, \"header\": {\"fill\": {\"color\": \"#C8D4E3\"}, \"line\": {\"color\": \"white\"}}, \"type\": \"table\"}]}, \"layout\": {\"annotationdefaults\": {\"arrowcolor\": \"#2a3f5f\", \"arrowhead\": 0, \"arrowwidth\": 1}, \"autotypenumbers\": \"strict\", \"coloraxis\": {\"colorbar\": {\"outlinewidth\": 0, \"ticks\": \"\"}}, \"colorscale\": {\"diverging\": [[0, \"#8e0152\"], [0.1, \"#c51b7d\"], [0.2, \"#de77ae\"], [0.3, \"#f1b6da\"], [0.4, \"#fde0ef\"], [0.5, \"#f7f7f7\"], [0.6, \"#e6f5d0\"], [0.7, \"#b8e186\"], [0.8, \"#7fbc41\"], [0.9, \"#4d9221\"], [1, \"#276419\"]], \"sequential\": [[0.0, \"#0d0887\"], [0.1111111111111111, \"#46039f\"], [0.2222222222222222, \"#7201a8\"], [0.3333333333333333, \"#9c179e\"], [0.4444444444444444, \"#bd3786\"], [0.5555555555555556, \"#d8576b\"], [0.6666666666666666, \"#ed7953\"], [0.7777777777777778, \"#fb9f3a\"], [0.8888888888888888, \"#fdca26\"], [1.0, \"#f0f921\"]], \"sequentialminus\": [[0.0, \"#0d0887\"], [0.1111111111111111, \"#46039f\"], [0.2222222222222222, \"#7201a8\"], [0.3333333333333333, \"#9c179e\"], [0.4444444444444444, \"#bd3786\"], [0.5555555555555556, \"#d8576b\"], [0.6666666666666666, \"#ed7953\"], [0.7777777777777778, \"#fb9f3a\"], [0.8888888888888888, \"#fdca26\"], [1.0, \"#f0f921\"]]}, \"colorway\": [\"#636efa\", \"#EF553B\", \"#00cc96\", \"#ab63fa\", \"#FFA15A\", \"#19d3f3\", \"#FF6692\", \"#B6E880\", \"#FF97FF\", \"#FECB52\"], \"font\": {\"color\": \"#2a3f5f\"}, \"geo\": {\"bgcolor\": \"white\", \"lakecolor\": \"white\", \"landcolor\": \"#E5ECF6\", \"showlakes\": true, \"showland\": true, \"subunitcolor\": \"white\"}, \"hoverlabel\": {\"align\": \"left\"}, \"hovermode\": \"closest\", \"mapbox\": {\"style\": \"light\"}, \"paper_bgcolor\": \"white\", \"plot_bgcolor\": \"#E5ECF6\", \"polar\": {\"angularaxis\": {\"gridcolor\": \"white\", \"linecolor\": \"white\", \"ticks\": \"\"}, \"bgcolor\": \"#E5ECF6\", \"radialaxis\": {\"gridcolor\": \"white\", \"linecolor\": \"white\", \"ticks\": \"\"}}, \"scene\": {\"xaxis\": {\"backgroundcolor\": \"#E5ECF6\", \"gridcolor\": \"white\", \"gridwidth\": 2, \"linecolor\": \"white\", \"showbackground\": true, \"ticks\": \"\", \"zerolinecolor\": \"white\"}, \"yaxis\": {\"backgroundcolor\": \"#E5ECF6\", \"gridcolor\": \"white\", \"gridwidth\": 2, \"linecolor\": \"white\", \"showbackground\": true, \"ticks\": \"\", \"zerolinecolor\": \"white\"}, \"zaxis\": {\"backgroundcolor\": \"#E5ECF6\", \"gridcolor\": \"white\", \"gridwidth\": 2, \"linecolor\": \"white\", \"showbackground\": true, \"ticks\": \"\", \"zerolinecolor\": \"white\"}}, \"shapedefaults\": {\"line\": {\"color\": \"#2a3f5f\"}}, \"ternary\": {\"aaxis\": {\"gridcolor\": \"white\", \"linecolor\": \"white\", \"ticks\": \"\"}, \"baxis\": {\"gridcolor\": \"white\", \"linecolor\": \"white\", \"ticks\": \"\"}, \"bgcolor\": \"#E5ECF6\", \"caxis\": {\"gridcolor\": \"white\", \"linecolor\": \"white\", \"ticks\": \"\"}}, \"title\": {\"x\": 0.05}, \"xaxis\": {\"automargin\": true, \"gridcolor\": \"white\", \"linecolor\": \"white\", \"ticks\": \"\", \"title\": {\"standoff\": 15}, \"zerolinecolor\": \"white\", \"zerolinewidth\": 2}, \"yaxis\": {\"automargin\": true, \"gridcolor\": \"white\", \"linecolor\": \"white\", \"ticks\": \"\", \"title\": {\"standoff\": 15}, \"zerolinecolor\": \"white\", \"zerolinewidth\": 2}}}},                        {\"responsive\": true}                    ).then(function(){\n",
       "                            \n",
       "var gd = document.getElementById('37defc9a-c15c-47da-b2b1-848cff5c4614');\n",
       "var x = new MutationObserver(function (mutations, observer) {{\n",
       "        var display = window.getComputedStyle(gd).display;\n",
       "        if (!display || display === 'none') {{\n",
       "            console.log([gd, 'removed!']);\n",
       "            Plotly.purge(gd);\n",
       "            observer.disconnect();\n",
       "        }}\n",
       "}});\n",
       "\n",
       "// Listen for the removal of the full notebook cells\n",
       "var notebookContainer = gd.closest('#notebook-container');\n",
       "if (notebookContainer) {{\n",
       "    x.observe(notebookContainer, {childList: true});\n",
       "}}\n",
       "\n",
       "// Listen for the clearing of the current output cell\n",
       "var outputEl = gd.closest('.output');\n",
       "if (outputEl) {{\n",
       "    x.observe(outputEl, {childList: true});\n",
       "}}\n",
       "\n",
       "                        })                };                });            </script>        </div>"
      ]
     },
     "metadata": {},
     "output_type": "display_data"
    },
    {
     "data": {
      "text/plain": [
       "'tabela_acontecimentos.html'"
      ]
     },
     "execution_count": 301,
     "metadata": {},
     "output_type": "execute_result"
    }
   ],
   "source": [
    "import plotly.graph_objects as go\n",
    "\n",
    "fig = go.Figure(data=[go.Table(header=dict(values=[\"Data\",'Senama Epidemiológica','Acontecimento']),\n",
    "                 cells=dict(values=[dt,semanas, text],align=[\"center\",\"center\",'left']),columnwidth = [7,20,50])\n",
    "                     ])\n",
    "fig.show()\n",
    "py.plot(fig,filename=\"tabela_acontecimentos.html\", auto_open=False)"
   ]
  },
  {
   "cell_type": "code",
   "execution_count": null,
   "metadata": {},
   "outputs": [],
   "source": []
  },
  {
   "cell_type": "code",
   "execution_count": null,
   "metadata": {},
   "outputs": [],
   "source": []
  }
 ],
 "metadata": {
  "kernelspec": {
   "display_name": "Python 3",
   "language": "python",
   "name": "python3"
  },
  "language_info": {
   "codemirror_mode": {
    "name": "ipython",
    "version": 3
   },
   "file_extension": ".py",
   "mimetype": "text/x-python",
   "name": "python",
   "nbconvert_exporter": "python",
   "pygments_lexer": "ipython3",
   "version": "3.8.5"
  }
 },
 "nbformat": 4,
 "nbformat_minor": 2
}
